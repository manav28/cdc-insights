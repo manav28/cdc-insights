{
 "cells": [
  {
   "cell_type": "code",
   "execution_count": 1,
   "metadata": {},
   "outputs": [
    {
     "data": {
      "text/html": [
       "\n",
       "            <div>\n",
       "                <p><b>SparkSession - in-memory</b></p>\n",
       "                \n",
       "        <div>\n",
       "            <p><b>SparkContext</b></p>\n",
       "\n",
       "            <p><a href=\"http://172.16.112.213:4040\">Spark UI</a></p>\n",
       "\n",
       "            <dl>\n",
       "              <dt>Version</dt>\n",
       "                <dd><code>v2.2.1</code></dd>\n",
       "              <dt>Master</dt>\n",
       "                <dd><code>local[*]</code></dd>\n",
       "              <dt>AppName</dt>\n",
       "                <dd><code>pyspark-shell</code></dd>\n",
       "            </dl>\n",
       "        </div>\n",
       "        \n",
       "            </div>\n",
       "        "
      ],
      "text/plain": [
       "<pyspark.sql.session.SparkSession at 0x7ff761017f60>"
      ]
     },
     "execution_count": 1,
     "metadata": {},
     "output_type": "execute_result"
    }
   ],
   "source": [
    "import os\n",
    "import boto3\n",
    "\n",
    "from pyspark import SparkContext, SparkConf\n",
    "from pyspark.sql import SparkSession\n",
    "\n",
    "import sagemaker\n",
    "from sagemaker import get_execution_role\n",
    "import sagemaker_pyspark\n",
    "from pyspark.sql.functions import *\n",
    "\n",
    "role = get_execution_role()\n",
    "\n",
    "# Configure Spark to use the SageMaker Spark dependency jars\n",
    "jars = sagemaker_pyspark.classpath_jars()\n",
    "\n",
    "classpath = \":\".join(sagemaker_pyspark.classpath_jars())\n",
    "\n",
    "# See the SageMaker Spark Github to learn how to connect to EMR from a notebook instance\n",
    "spark = SparkSession.builder.config(\"spark.driver.extraClassPath\", classpath)\\\n",
    "    .master(\"local[*]\").getOrCreate()\n",
    "    \n",
    "spark"
   ]
  },
  {
   "cell_type": "code",
   "execution_count": 110,
   "metadata": {},
   "outputs": [],
   "source": [
    "bucket = 'mrinal-ml-sagemaker'\n",
    "import os\n",
    "import pandas as pd\n",
    "import numpy as np\n",
    "from pyspark import SparkConf, SparkContext\n",
    "from pyspark.sql import SparkSession, SQLContext\n",
    "from pyspark.sql.types import *\n",
    "import pyspark.sql.functions as fn\n",
    "from pyspark.sql.functions import col, udf\n",
    "from pyspark.sql.types import DoubleType\n",
    "from pyspark.ml.feature import StringIndexer, OneHotEncoder\n",
    "from pyspark.mllib.util import MLUtils"
   ]
  },
  {
   "cell_type": "code",
   "execution_count": 3,
   "metadata": {},
   "outputs": [],
   "source": [
    "cdc = spark.read.csv('output.csv', header = True)"
   ]
  },
  {
   "cell_type": "code",
   "execution_count": 4,
   "metadata": {},
   "outputs": [],
   "source": [
    "cdc = cdc.drop('detail_age_type','detail_age', 'age_substitution_flag','age_recode_27', 'age_recode_12', 'infant_age_recode_22', 'icd_code_10th_revision')"
   ]
  },
  {
   "cell_type": "code",
   "execution_count": 5,
   "metadata": {},
   "outputs": [],
   "source": [
    "cdc = cdc.drop('record_condition_20' , 'entity_condition_20', 'entity_condition_19', 'entity_condition_18', 'entity_condition_17', 'record_condition_19', 'record_condition_18', 'record_condition_16', 'record_condition_17','record_condition_15','record_condition_14','record_condition_13','record_condition_12','record_condition_11','record_condition_10','record_condition_9','record_condition_8','record_condition_7' , 'record_condition_6', 'record_condition_5', 'entity_condition_16', 'entity_condition_15','entity_condition_14', 'entity_condition_13', 'entity_condition_12', 'entity_condition_11', 'entity_condition_10', 'entity_condition_9','entity_condition_8', 'entity_condition_7', 'entity_condition_6', 'entity_condition_5')"
   ]
  },
  {
   "cell_type": "code",
   "execution_count": 6,
   "metadata": {},
   "outputs": [
    {
     "name": "stdout",
     "output_type": "stream",
     "text": [
      "root\n",
      " |-- resident_status: string (nullable = true)\n",
      " |-- education_1989_revision: string (nullable = true)\n",
      " |-- education_2003_revision: string (nullable = true)\n",
      " |-- education_reporting_flag: string (nullable = true)\n",
      " |-- month_of_death: string (nullable = true)\n",
      " |-- sex: string (nullable = true)\n",
      " |-- age_recode_52: string (nullable = true)\n",
      " |-- place_of_death_and_decedents_status: string (nullable = true)\n",
      " |-- marital_status: string (nullable = true)\n",
      " |-- day_of_week_of_death: string (nullable = true)\n",
      " |-- current_data_year: string (nullable = true)\n",
      " |-- injury_at_work: string (nullable = true)\n",
      " |-- manner_of_death: string (nullable = true)\n",
      " |-- method_of_disposition: string (nullable = true)\n",
      " |-- autopsy: string (nullable = true)\n",
      " |-- activity_code: string (nullable = true)\n",
      " |-- place_of_injury_for_causes_w00_y34_except_y06_and_y07_: string (nullable = true)\n",
      " |-- 358_cause_recode: string (nullable = true)\n",
      " |-- 113_cause_recode: string (nullable = true)\n",
      " |-- 130_infant_cause_recode: string (nullable = true)\n",
      " |-- 39_cause_recode: string (nullable = true)\n",
      " |-- number_of_entity_axis_conditions: string (nullable = true)\n",
      " |-- entity_condition_1: string (nullable = true)\n",
      " |-- entity_condition_2: string (nullable = true)\n",
      " |-- entity_condition_3: string (nullable = true)\n",
      " |-- entity_condition_4: string (nullable = true)\n",
      " |-- number_of_record_axis_conditions: string (nullable = true)\n",
      " |-- record_condition_1: string (nullable = true)\n",
      " |-- record_condition_2: string (nullable = true)\n",
      " |-- record_condition_3: string (nullable = true)\n",
      " |-- record_condition_4: string (nullable = true)\n",
      " |-- race: string (nullable = true)\n",
      " |-- bridged_race_flag: string (nullable = true)\n",
      " |-- race_imputation_flag: string (nullable = true)\n",
      " |-- race_recode_3: string (nullable = true)\n",
      " |-- race_recode_5: string (nullable = true)\n",
      " |-- hispanic_origin: string (nullable = true)\n",
      " |-- hispanic_originrace_recode: string (nullable = true)\n",
      "\n"
     ]
    }
   ],
   "source": [
    "cdc.printSchema()"
   ]
  },
  {
   "cell_type": "code",
   "execution_count": 7,
   "metadata": {},
   "outputs": [],
   "source": [
    "cdc = cdc.fillna({'place_of_injury_for_causes_w00_y34_except_y06_and_y07_' : '10'})\n",
    "cdc = cdc.fillna({'130_infant_cause_recode' : '000'})\n",
    "cdc = cdc.fillna({'activity_code' : '10'})\n",
    "cdc = cdc.fillna({'manner_of_death' : '8'})\n",
    "cdc = cdc.fillna({'Place_of_death_and_decedents_status': '7'})"
   ]
  },
  {
   "cell_type": "code",
   "execution_count": 8,
   "metadata": {},
   "outputs": [],
   "source": [
    "cdc = cdc.withColumn('method_of_disposition', regexp_replace('method_of_disposition', 'R' , 'O'))\n",
    "cdc = cdc.withColumn('method_of_disposition', regexp_replace('method_of_disposition', 'E' , 'O'))\n",
    "cdc = cdc.withColumn('method_of_disposition', regexp_replace('method_of_disposition', 'D' , 'O'))\n",
    "cdc = cdc.withColumn('method_of_disposition', regexp_replace('method_of_disposition', 'U' , 'O'))\n",
    "cdc = cdc.withColumn('Place_of_death_and_decedents_status', regexp_replace('Place_of_death_and_decedents_status', '9' , '7'))"
   ]
  },
  {
   "cell_type": "code",
   "execution_count": 9,
   "metadata": {},
   "outputs": [],
   "source": [
    "#cdc = cdc.withColumn('Place_of_death_and_decedents_status', \n",
    " #                    when(cdc['Place_of_death_and_decedents_status']== 9 , 7).otherwise(cdc['Place_of_death_and_decedents_status']))"
   ]
  },
  {
   "cell_type": "code",
   "execution_count": 10,
   "metadata": {},
   "outputs": [],
   "source": [
    "#cdc.select('Place_of_death_and_decedents_status').distinct().show()"
   ]
  },
  {
   "cell_type": "code",
   "execution_count": 11,
   "metadata": {},
   "outputs": [],
   "source": [
    "#cdc.select('place_of_injury_for_causes_w00_y34_except_y06_and_y07_').distinct().show()\n"
   ]
  },
  {
   "cell_type": "code",
   "execution_count": 12,
   "metadata": {},
   "outputs": [],
   "source": [
    "#cdc.select(\"education_1989_revision\").distinct().show()"
   ]
  },
  {
   "cell_type": "code",
   "execution_count": 13,
   "metadata": {},
   "outputs": [],
   "source": [
    "cdc = cdc.withColumn('education_1989_revision', regexp_replace('education_1989_revision', '00' , '1'))\n",
    "cdc = cdc.withColumn('education_1989_revision', regexp_replace('education_1989_revision', '01' , '1'))\n",
    "cdc = cdc.withColumn('education_1989_revision', regexp_replace('education_1989_revision', '02' , '1'))\n",
    "cdc = cdc.withColumn('education_1989_revision', regexp_replace('education_1989_revision', '03' , '1'))\n",
    "cdc = cdc.withColumn('education_1989_revision', regexp_replace('education_1989_revision', '04' , '1'))\n",
    "cdc = cdc.withColumn('education_1989_revision', regexp_replace('education_1989_revision', '05' , '1'))\n",
    "cdc = cdc.withColumn('education_1989_revision', regexp_replace('education_1989_revision', '06' , '1'))\n",
    "cdc = cdc.withColumn('education_1989_revision', regexp_replace('education_1989_revision', '07' , '1'))\n",
    "cdc = cdc.withColumn('education_1989_revision', regexp_replace('education_1989_revision', '08' , '1'))\n",
    "\n",
    "cdc = cdc.withColumn('education_1989_revision', regexp_replace('education_1989_revision', '09' , '2'))\n",
    "cdc = cdc.withColumn('education_1989_revision', regexp_replace('education_1989_revision', '10' , '2'))\n",
    "cdc = cdc.withColumn('education_1989_revision', regexp_replace('education_1989_revision', '11' , '2'))\n",
    "cdc = cdc.withColumn('education_1989_revision', regexp_replace('education_1989_revision', '12' , '3'))\n",
    "cdc = cdc.withColumn('education_1989_revision', regexp_replace('education_1989_revision', '13' , '4'))\n",
    "cdc = cdc.withColumn('education_1989_revision', regexp_replace('education_1989_revision', '14' , '4'))\n",
    "cdc = cdc.withColumn('education_1989_revision', regexp_replace('education_1989_revision', '15' , '5'))\n",
    "cdc = cdc.withColumn('education_1989_revision', regexp_replace('education_1989_revision', '16' , '6'))\n",
    "cdc = cdc.withColumn('education_1989_revision', regexp_replace('education_1989_revision', '17' , '7'))\n",
    "cdc = cdc.withColumn('education_1989_revision', regexp_replace('education_1989_revision', '99' , '9'))\n",
    "\n"
   ]
  },
  {
   "cell_type": "code",
   "execution_count": 14,
   "metadata": {},
   "outputs": [],
   "source": [
    "cdc = cdc.withColumn(\"education_2003_revision\", coalesce(cdc.education_2003_revision,cdc.education_1989_revision))"
   ]
  },
  {
   "cell_type": "code",
   "execution_count": 15,
   "metadata": {},
   "outputs": [],
   "source": [
    "cdc = cdc.filter(cdc.education_2003_revision.isNotNull())"
   ]
  },
  {
   "cell_type": "code",
   "execution_count": 16,
   "metadata": {},
   "outputs": [
    {
     "name": "stdout",
     "output_type": "stream",
     "text": [
      "+-----------------------+--------+\n",
      "|education_2003_revision|   count|\n",
      "+-----------------------+--------+\n",
      "|                      3|11329932|\n",
      "|                      1| 3805467|\n",
      "|                      4| 3293354|\n",
      "|                      2| 3226815|\n",
      "|                      6| 2480719|\n",
      "|                      5| 1144604|\n",
      "|                      7| 1106055|\n",
      "|                      9| 1024952|\n",
      "|                      8|  308775|\n",
      "+-----------------------+--------+\n",
      "\n"
     ]
    }
   ],
   "source": [
    "cdc.groupBy('education_2003_revision').count().orderBy('count', ascending=False).show()"
   ]
  },
  {
   "cell_type": "code",
   "execution_count": 17,
   "metadata": {},
   "outputs": [
    {
     "name": "stdout",
     "output_type": "stream",
     "text": [
      "root\n",
      " |-- resident_status: string (nullable = true)\n",
      " |-- education_1989_revision: string (nullable = true)\n",
      " |-- education_2003_revision: string (nullable = true)\n",
      " |-- education_reporting_flag: string (nullable = true)\n",
      " |-- month_of_death: string (nullable = true)\n",
      " |-- sex: string (nullable = true)\n",
      " |-- age_recode_52: string (nullable = true)\n",
      " |-- Place_of_death_and_decedents_status: string (nullable = false)\n",
      " |-- marital_status: string (nullable = true)\n",
      " |-- day_of_week_of_death: string (nullable = true)\n",
      " |-- current_data_year: string (nullable = true)\n",
      " |-- injury_at_work: string (nullable = true)\n",
      " |-- manner_of_death: string (nullable = false)\n",
      " |-- method_of_disposition: string (nullable = true)\n",
      " |-- autopsy: string (nullable = true)\n",
      " |-- activity_code: string (nullable = false)\n",
      " |-- place_of_injury_for_causes_w00_y34_except_y06_and_y07_: string (nullable = false)\n",
      " |-- 358_cause_recode: string (nullable = true)\n",
      " |-- 113_cause_recode: string (nullable = true)\n",
      " |-- 130_infant_cause_recode: string (nullable = false)\n",
      " |-- 39_cause_recode: string (nullable = true)\n",
      " |-- number_of_entity_axis_conditions: string (nullable = true)\n",
      " |-- entity_condition_1: string (nullable = true)\n",
      " |-- entity_condition_2: string (nullable = true)\n",
      " |-- entity_condition_3: string (nullable = true)\n",
      " |-- entity_condition_4: string (nullable = true)\n",
      " |-- number_of_record_axis_conditions: string (nullable = true)\n",
      " |-- record_condition_1: string (nullable = true)\n",
      " |-- record_condition_2: string (nullable = true)\n",
      " |-- record_condition_3: string (nullable = true)\n",
      " |-- record_condition_4: string (nullable = true)\n",
      " |-- race: string (nullable = true)\n",
      " |-- bridged_race_flag: string (nullable = true)\n",
      " |-- race_imputation_flag: string (nullable = true)\n",
      " |-- race_recode_3: string (nullable = true)\n",
      " |-- race_recode_5: string (nullable = true)\n",
      " |-- hispanic_origin: string (nullable = true)\n",
      " |-- hispanic_originrace_recode: string (nullable = true)\n",
      "\n"
     ]
    }
   ],
   "source": [
    "cdc.printSchema()"
   ]
  },
  {
   "cell_type": "code",
   "execution_count": 18,
   "metadata": {},
   "outputs": [],
   "source": [
    "cdc = cdc.drop('education_1989_revision', 'education_reporting_flag','bridged_race_flag', 'race_imputation_flag', \n",
    "               'hispanic_origin','entity_condition_1','entity_condition_2','entity_condition_3','entity_condition_4',\n",
    "              'record_condition_1','record_condition_2','record_condition_3','record_condition_4')"
   ]
  },
  {
   "cell_type": "code",
   "execution_count": 114,
   "metadata": {},
   "outputs": [],
   "source": [
    "from pyspark.ml.classification import LogisticRegression\n",
    "from pyspark.ml.feature import VectorAssembler\n",
    "from pyspark.mllib.regression import LabeledPoint\n",
    "from pyspark.ml import Pipeline\n",
    "from pyspark.ml.feature import StringIndexer, OneHotEncoder\n",
    "from pyspark.ml import Pipeline\n",
    "from pyspark.mllib.classification import LogisticRegressionWithLBFGS, LogisticRegressionModel"
   ]
  },
  {
   "cell_type": "code",
   "execution_count": 21,
   "metadata": {},
   "outputs": [],
   "source": [
    "from pyspark.sql.types import DoubleType\n",
    "cdc = cdc.withColumn(\"number_of_entity_axis_conditions\", cdc[\"number_of_entity_axis_conditions\"].cast(DoubleType()))\n",
    "cdc = cdc.withColumn(\"number_of_record_axis_conditions\", cdc[\"number_of_record_axis_conditions\"].cast(DoubleType()))"
   ]
  },
  {
   "cell_type": "code",
   "execution_count": 42,
   "metadata": {},
   "outputs": [],
   "source": [
    "indexer = StringIndexer(inputCol=\"resident_status\", outputCol=\"resident_statusIndex\").fit(cdc)\n",
    "new_df = indexer.transform(cdc)\n",
    "indexer = StringIndexer(inputCol=\"education_2003_revision\", outputCol=\"education_2003_revisionIndex\").fit(new_df)\n",
    "new_df = indexer.transform(new_df)\n",
    "indexer = StringIndexer(inputCol=\"month_of_death\", outputCol=\"month_of_deathIndex\").fit(new_df)\n",
    "new_df = indexer.transform(new_df)\n",
    "indexer = StringIndexer(inputCol=\"sex\", outputCol=\"sexIndex\").fit(new_df)\n",
    "new_df = indexer.transform(new_df)\n",
    "indexer = StringIndexer(inputCol=\"age_recode_52\", outputCol=\"age_recode_52Index\").fit(new_df)\n",
    "new_df = indexer.transform(new_df)\n",
    "indexer = StringIndexer(inputCol=\"Place_of_death_and_decedents_status\", outputCol=\"Place_of_death_and_decedents_statusIndex\").fit(new_df)\n",
    "new_df = indexer.transform(new_df)\n",
    "indexer = StringIndexer(inputCol=\"marital_status\", outputCol=\"marital_statusIndex\").fit(new_df)\n",
    "new_df = indexer.transform(new_df)\n",
    "indexer = StringIndexer(inputCol=\"day_of_week_of_death\", outputCol=\"day_of_week_of_deathIndex\").fit(new_df)\n",
    "new_df = indexer.transform(new_df)\n",
    "indexer = StringIndexer(inputCol=\"current_data_year\", outputCol=\"current_data_yearIndex\").fit(new_df)\n",
    "new_df = indexer.transform(new_df)\n",
    "indexer = StringIndexer(inputCol=\"injury_at_work\", outputCol=\"injury_at_workIndex\").fit(new_df)\n",
    "new_df = indexer.transform(new_df)\n",
    "indexer = StringIndexer(inputCol=\"manner_of_death\", outputCol=\"manner_of_deathIndex\").fit(new_df)\n",
    "new_df = indexer.transform(new_df)\n",
    "indexer = StringIndexer(inputCol=\"autopsy\", outputCol=\"autopsyIndex\").fit(new_df)\n",
    "new_df = indexer.transform(new_df)"
   ]
  },
  {
   "cell_type": "code",
   "execution_count": 47,
   "metadata": {},
   "outputs": [],
   "source": [
    "indexer = StringIndexer(inputCol=\"activity_code\", outputCol=\"activity_codeIndex\").fit(new_df)\n",
    "new_df = indexer.transform(new_df)\n",
    "indexer = StringIndexer(inputCol=\"place_of_injury_for_causes_w00_y34_except_y06_and_y07_\", outputCol=\"place_of_injury_for_causes_w00_y34_except_y06_and_y07_Index\").fit(new_df)\n",
    "new_df = indexer.transform(new_df)\n",
    "indexer = StringIndexer(inputCol=\"358_cause_recode\", outputCol=\"358_cause_recodeIndex\").fit(new_df)\n",
    "new_df = indexer.transform(new_df)\n",
    "indexer = StringIndexer(inputCol=\"113_cause_recode\", outputCol=\"113_cause_recodeIndex\").fit(new_df)\n",
    "new_df = indexer.transform(new_df)\n",
    "indexer = StringIndexer(inputCol=\"130_infant_cause_recode\", outputCol=\"130_infant_cause_recodeIndex\").fit(new_df)\n",
    "new_df = indexer.transform(new_df)\n",
    "indexer = StringIndexer(inputCol=\"39_cause_recode\", outputCol=\"39_cause_recodeIndex\").fit(new_df)\n",
    "new_df = indexer.transform(new_df)\n",
    "indexer = StringIndexer(inputCol=\"race\", outputCol=\"raceIndex\").fit(new_df)\n",
    "new_df =indexer.transform(new_df)\n",
    "indexer = StringIndexer(inputCol=\"race_recode_3\", outputCol=\"race_recode_3Index\").fit(new_df)\n",
    "new_df =indexer.transform(new_df)"
   ]
  },
  {
   "cell_type": "code",
   "execution_count": 48,
   "metadata": {},
   "outputs": [
    {
     "name": "stdout",
     "output_type": "stream",
     "text": [
      "root\n",
      " |-- resident_status: string (nullable = true)\n",
      " |-- education_2003_revision: string (nullable = true)\n",
      " |-- month_of_death: string (nullable = true)\n",
      " |-- sex: string (nullable = true)\n",
      " |-- age_recode_52: string (nullable = true)\n",
      " |-- Place_of_death_and_decedents_status: string (nullable = false)\n",
      " |-- marital_status: string (nullable = true)\n",
      " |-- day_of_week_of_death: string (nullable = true)\n",
      " |-- current_data_year: string (nullable = true)\n",
      " |-- injury_at_work: string (nullable = true)\n",
      " |-- manner_of_death: string (nullable = false)\n",
      " |-- method_of_disposition: string (nullable = true)\n",
      " |-- autopsy: string (nullable = true)\n",
      " |-- activity_code: string (nullable = false)\n",
      " |-- place_of_injury_for_causes_w00_y34_except_y06_and_y07_: string (nullable = false)\n",
      " |-- 358_cause_recode: string (nullable = true)\n",
      " |-- 113_cause_recode: string (nullable = true)\n",
      " |-- 130_infant_cause_recode: string (nullable = false)\n",
      " |-- 39_cause_recode: string (nullable = true)\n",
      " |-- number_of_entity_axis_conditions: double (nullable = true)\n",
      " |-- number_of_record_axis_conditions: double (nullable = true)\n",
      " |-- race: string (nullable = true)\n",
      " |-- race_recode_3: string (nullable = true)\n",
      " |-- race_recode_5: string (nullable = true)\n",
      " |-- hispanic_originrace_recode: string (nullable = true)\n",
      " |-- resident_statusIndex: double (nullable = true)\n",
      " |-- education_2003_revisionIndex: double (nullable = true)\n",
      " |-- month_of_deathIndex: double (nullable = true)\n",
      " |-- sexIndex: double (nullable = true)\n",
      " |-- age_recode_52Index: double (nullable = true)\n",
      " |-- Place_of_death_and_decedents_statusIndex: double (nullable = true)\n",
      " |-- marital_statusIndex: double (nullable = true)\n",
      " |-- day_of_week_of_deathIndex: double (nullable = true)\n",
      " |-- current_data_yearIndex: double (nullable = true)\n",
      " |-- injury_at_workIndex: double (nullable = true)\n",
      " |-- manner_of_deathIndex: double (nullable = true)\n",
      " |-- autopsyIndex: double (nullable = true)\n",
      " |-- method_of_dispositionIndex: double (nullable = true)\n",
      " |-- activity_codeIndex: double (nullable = true)\n",
      " |-- place_of_injury_for_causes_w00_y34_except_y06_and_y07_Index: double (nullable = true)\n",
      " |-- 358_cause_recodeIndex: double (nullable = true)\n",
      " |-- 113_cause_recodeIndex: double (nullable = true)\n",
      " |-- 130_infant_cause_recodeIndex: double (nullable = true)\n",
      " |-- 39_cause_recodeIndex: double (nullable = true)\n",
      " |-- raceIndex: double (nullable = true)\n",
      " |-- race_recode_3Index: double (nullable = true)\n",
      "\n"
     ]
    }
   ],
   "source": [
    "new_df.printSchema()"
   ]
  },
  {
   "cell_type": "code",
   "execution_count": 51,
   "metadata": {
    "scrolled": false
   },
   "outputs": [],
   "source": [
    "new_df1 = new_df.drop('resident_status','education_2003_revision','month_of_death','sex','age_recode_52','Place_of_death_and_decedents_status',\n",
    "                     'marital_status','day_of_week_of_death','current_data_year','injury_at_work','manner_of_death','method_of_disposition',\n",
    "                     'autopsy','activity_code','activity_code','place_of_injury_for_causes_w00_y34_except_y06_and_y07_','358_cause_recode',\n",
    "                     '113_cause_recode','130_infant_cause_recode','39_cause_recode','race','race_recode_3','race_recode_5','hispanic_originrace_recode')"
   ]
  },
  {
   "cell_type": "code",
   "execution_count": 52,
   "metadata": {},
   "outputs": [
    {
     "name": "stdout",
     "output_type": "stream",
     "text": [
      "root\n",
      " |-- number_of_entity_axis_conditions: double (nullable = true)\n",
      " |-- number_of_record_axis_conditions: double (nullable = true)\n",
      " |-- resident_statusIndex: double (nullable = true)\n",
      " |-- education_2003_revisionIndex: double (nullable = true)\n",
      " |-- month_of_deathIndex: double (nullable = true)\n",
      " |-- sexIndex: double (nullable = true)\n",
      " |-- age_recode_52Index: double (nullable = true)\n",
      " |-- Place_of_death_and_decedents_statusIndex: double (nullable = true)\n",
      " |-- marital_statusIndex: double (nullable = true)\n",
      " |-- day_of_week_of_deathIndex: double (nullable = true)\n",
      " |-- current_data_yearIndex: double (nullable = true)\n",
      " |-- injury_at_workIndex: double (nullable = true)\n",
      " |-- manner_of_deathIndex: double (nullable = true)\n",
      " |-- autopsyIndex: double (nullable = true)\n",
      " |-- method_of_dispositionIndex: double (nullable = true)\n",
      " |-- activity_codeIndex: double (nullable = true)\n",
      " |-- place_of_injury_for_causes_w00_y34_except_y06_and_y07_Index: double (nullable = true)\n",
      " |-- 358_cause_recodeIndex: double (nullable = true)\n",
      " |-- 113_cause_recodeIndex: double (nullable = true)\n",
      " |-- 130_infant_cause_recodeIndex: double (nullable = true)\n",
      " |-- 39_cause_recodeIndex: double (nullable = true)\n",
      " |-- raceIndex: double (nullable = true)\n",
      " |-- race_recode_3Index: double (nullable = true)\n",
      "\n"
     ]
    }
   ],
   "source": [
    "new_df1.printSchema()."
   ]
  },
  {
   "cell_type": "code",
   "execution_count": 56,
   "metadata": {},
   "outputs": [],
   "source": [
    "new_df1 = new_df1.rdd"
   ]
  },
  {
   "cell_type": "code",
   "execution_count": 90,
   "metadata": {},
   "outputs": [],
   "source": [
    "d = new_df1.map(lambda line: LabeledPoint(line[14],[line[0:13]+line[15:66]]))"
   ]
  },
  {
   "cell_type": "code",
   "execution_count": 91,
   "metadata": {},
   "outputs": [
    {
     "data": {
      "text/plain": [
       "[LabeledPoint(1.0, [1.0,1.0,0.0,3.0,0.0,0.0,10.0,0.0,0.0,2.0,7.0,0.0,0.0,0.0,0.0,62.0,52.0,0.0,4.0,0.0,0.0]),\n",
       " LabeledPoint(1.0, [1.0,1.0,0.0,2.0,0.0,1.0,6.0,0.0,2.0,0.0,7.0,0.0,0.0,0.0,0.0,57.0,47.0,0.0,5.0,0.0,0.0]),\n",
       " LabeledPoint(1.0, [5.0,5.0,0.0,0.0,0.0,0.0,2.0,2.0,2.0,5.0,7.0,0.0,0.0,0.0,0.0,24.0,3.0,0.0,6.0,0.0,0.0]),\n",
       " LabeledPoint(1.0, [4.0,4.0,0.0,0.0,0.0,1.0,8.0,0.0,3.0,4.0,7.0,0.0,0.0,0.0,0.0,6.0,8.0,0.0,9.0,0.0,0.0])]"
      ]
     },
     "execution_count": 91,
     "metadata": {},
     "output_type": "execute_result"
    }
   ],
   "source": [
    "d.take(4)"
   ]
  },
  {
   "cell_type": "code",
   "execution_count": 66,
   "metadata": {},
   "outputs": [
    {
     "data": {
      "text/plain": [
       "[Row(number_of_entity_axis_conditions=1.0, number_of_record_axis_conditions=1.0, resident_statusIndex=0.0, education_2003_revisionIndex=3.0, month_of_deathIndex=0.0, sexIndex=0.0, age_recode_52Index=10.0, Place_of_death_and_decedents_statusIndex=0.0, marital_statusIndex=0.0, day_of_week_of_deathIndex=2.0, current_data_yearIndex=7.0, injury_at_workIndex=0.0, manner_of_deathIndex=0.0, autopsyIndex=0.0, method_of_dispositionIndex=1.0, activity_codeIndex=0.0, place_of_injury_for_causes_w00_y34_except_y06_and_y07_Index=0.0, 358_cause_recodeIndex=62.0, 113_cause_recodeIndex=52.0, 130_infant_cause_recodeIndex=0.0, 39_cause_recodeIndex=4.0, raceIndex=0.0, race_recode_3Index=0.0),\n",
       " Row(number_of_entity_axis_conditions=1.0, number_of_record_axis_conditions=1.0, resident_statusIndex=0.0, education_2003_revisionIndex=2.0, month_of_deathIndex=0.0, sexIndex=1.0, age_recode_52Index=6.0, Place_of_death_and_decedents_statusIndex=0.0, marital_statusIndex=2.0, day_of_week_of_deathIndex=0.0, current_data_yearIndex=7.0, injury_at_workIndex=0.0, manner_of_deathIndex=0.0, autopsyIndex=0.0, method_of_dispositionIndex=1.0, activity_codeIndex=0.0, place_of_injury_for_causes_w00_y34_except_y06_and_y07_Index=0.0, 358_cause_recodeIndex=57.0, 113_cause_recodeIndex=47.0, 130_infant_cause_recodeIndex=0.0, 39_cause_recodeIndex=5.0, raceIndex=0.0, race_recode_3Index=0.0),\n",
       " Row(number_of_entity_axis_conditions=5.0, number_of_record_axis_conditions=5.0, resident_statusIndex=0.0, education_2003_revisionIndex=0.0, month_of_deathIndex=0.0, sexIndex=0.0, age_recode_52Index=2.0, Place_of_death_and_decedents_statusIndex=2.0, marital_statusIndex=2.0, day_of_week_of_deathIndex=5.0, current_data_yearIndex=7.0, injury_at_workIndex=0.0, manner_of_deathIndex=0.0, autopsyIndex=0.0, method_of_dispositionIndex=1.0, activity_codeIndex=0.0, place_of_injury_for_causes_w00_y34_except_y06_and_y07_Index=0.0, 358_cause_recodeIndex=24.0, 113_cause_recodeIndex=3.0, 130_infant_cause_recodeIndex=0.0, 39_cause_recodeIndex=6.0, raceIndex=0.0, race_recode_3Index=0.0),\n",
       " Row(number_of_entity_axis_conditions=4.0, number_of_record_axis_conditions=4.0, resident_statusIndex=0.0, education_2003_revisionIndex=0.0, month_of_deathIndex=0.0, sexIndex=1.0, age_recode_52Index=8.0, Place_of_death_and_decedents_statusIndex=0.0, marital_statusIndex=3.0, day_of_week_of_deathIndex=4.0, current_data_yearIndex=7.0, injury_at_workIndex=0.0, manner_of_deathIndex=0.0, autopsyIndex=0.0, method_of_dispositionIndex=1.0, activity_codeIndex=0.0, place_of_injury_for_causes_w00_y34_except_y06_and_y07_Index=0.0, 358_cause_recodeIndex=6.0, 113_cause_recodeIndex=8.0, 130_infant_cause_recodeIndex=0.0, 39_cause_recodeIndex=9.0, raceIndex=0.0, race_recode_3Index=0.0)]"
      ]
     },
     "execution_count": 66,
     "metadata": {},
     "output_type": "execute_result"
    }
   ],
   "source": [
    "new_df1.take(4)"
   ]
  },
  {
   "cell_type": "code",
   "execution_count": 122,
   "metadata": {},
   "outputs": [],
   "source": [
    "training, test = d.randomSplit([0.7, 0.3], seed=11)\n",
    "\n",
    "# Run training algorithm to build the model\n",
    "model = LogisticRegressionWithLBFGS.train(training, numClasses =3, iterations = 2)"
   ]
  },
  {
   "cell_type": "code",
   "execution_count": 123,
   "metadata": {},
   "outputs": [],
   "source": [
    "# Compute raw scores on the test set\n",
    "predictionAndLabels = test.map(lambda lp: (float(model.predict(lp.features)), lp.label))"
   ]
  },
  {
   "cell_type": "code",
   "execution_count": 125,
   "metadata": {},
   "outputs": [
    {
     "name": "stderr",
     "output_type": "stream",
     "text": [
      "/home/ec2-user/anaconda3/envs/python3/lib/python3.6/site-packages/pyspark/mllib/evaluation.py:237: UserWarning: Deprecated in 2.0.0. Use accuracy.\n",
      "  warnings.warn(\"Deprecated in 2.0.0. Use accuracy.\")\n"
     ]
    },
    {
     "name": "stdout",
     "output_type": "stream",
     "text": [
      "Summary Stats\n",
      "Precision = 0.4487840844840647\n",
      "Recall = 0.4487840844840647\n",
      "F1 Score = 0.4487840844840647\n"
     ]
    },
    {
     "name": "stderr",
     "output_type": "stream",
     "text": [
      "/home/ec2-user/anaconda3/envs/python3/lib/python3.6/site-packages/pyspark/mllib/evaluation.py:249: UserWarning: Deprecated in 2.0.0. Use accuracy.\n",
      "  warnings.warn(\"Deprecated in 2.0.0. Use accuracy.\")\n",
      "/home/ec2-user/anaconda3/envs/python3/lib/python3.6/site-packages/pyspark/mllib/evaluation.py:262: UserWarning: Deprecated in 2.0.0. Use accuracy.\n",
      "  warnings.warn(\"Deprecated in 2.0.0. Use accuracy.\")\n"
     ]
    }
   ],
   "source": [
    "# Instantiate metrics object\n",
    "from pyspark.mllib.evaluation import MulticlassMetrics\n",
    "metrics = MulticlassMetrics(predictionAndLabels)\n",
    "\n",
    "# Overall statistics\n",
    "precision = metrics.precision()\n",
    "recall = metrics.recall()\n",
    "f1Score = metrics.fMeasure()\n",
    "print(\"Summary Stats\")\n",
    "print(\"Precision = %s\" % precision)\n",
    "print(\"Recall = %s\" % recall)\n",
    "print(\"F1 Score = %s\" % f1Score)\n"
   ]
  }
 ],
 "metadata": {
  "kernelspec": {
   "display_name": "conda_python3",
   "language": "python",
   "name": "conda_python3"
  },
  "language_info": {
   "codemirror_mode": {
    "name": "ipython",
    "version": 3
   },
   "file_extension": ".py",
   "mimetype": "text/x-python",
   "name": "python",
   "nbconvert_exporter": "python",
   "pygments_lexer": "ipython3",
   "version": "3.6.5"
  }
 },
 "nbformat": 4,
 "nbformat_minor": 2
}
