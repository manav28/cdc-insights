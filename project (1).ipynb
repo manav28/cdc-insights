{
 "cells": [
  {
   "cell_type": "code",
   "execution_count": 26,
   "metadata": {},
   "outputs": [
    {
     "data": {
      "text/html": [
       "\n",
       "            <div>\n",
       "                <p><b>SparkSession - in-memory</b></p>\n",
       "                \n",
       "        <div>\n",
       "            <p><b>SparkContext</b></p>\n",
       "\n",
       "            <p><a href=\"http://172.16.112.143:4040\">Spark UI</a></p>\n",
       "\n",
       "            <dl>\n",
       "              <dt>Version</dt>\n",
       "                <dd><code>v2.2.1</code></dd>\n",
       "              <dt>Master</dt>\n",
       "                <dd><code>local[*]</code></dd>\n",
       "              <dt>AppName</dt>\n",
       "                <dd><code>pyspark-shell</code></dd>\n",
       "            </dl>\n",
       "        </div>\n",
       "        \n",
       "            </div>\n",
       "        "
      ],
      "text/plain": [
       "<pyspark.sql.session.SparkSession at 0x7f21bafcaf60>"
      ]
     },
     "execution_count": 26,
     "metadata": {},
     "output_type": "execute_result"
    }
   ],
   "source": [
    "import os\n",
    "import boto3\n",
    "\n",
    "from pyspark import SparkContext, SparkConf\n",
    "from pyspark.sql import SparkSession\n",
    "\n",
    "import sagemaker\n",
    "from sagemaker import get_execution_role\n",
    "import sagemaker_pyspark\n",
    "from pyspark.sql.functions import *\n",
    "\n",
    "role = get_execution_role()\n",
    "\n",
    "# Configure Spark to use the SageMaker Spark dependency jars\n",
    "jars = sagemaker_pyspark.classpath_jars()\n",
    "\n",
    "classpath = \":\".join(sagemaker_pyspark.classpath_jars())\n",
    "\n",
    "# See the SageMaker Spark Github to learn how to connect to EMR from a notebook instance\n",
    "spark = SparkSession.builder.config(\"spark.driver.extraClassPath\", classpath)\\\n",
    "    .master(\"local[*]\").getOrCreate()\n",
    "    \n",
    "spark"
   ]
  },
  {
   "cell_type": "code",
   "execution_count": 27,
   "metadata": {},
   "outputs": [],
   "source": [
    "import os\n",
    "import pandas as pd\n",
    "import numpy as np\n",
    "from pyspark import SparkConf, SparkContext\n",
    "from pyspark.sql import SparkSession, SQLContext\n",
    "from pyspark.sql.types import *\n",
    "import pyspark.sql.functions as fn\n",
    "from pyspark.sql.functions import col, udf\n",
    "from pyspark.ml import Pipeline\n",
    "from pyspark.ml.feature import OneHotEncoder, StringIndexer, VectorAssembler\n",
    "from pyspark.ml.classification import LogisticRegression\n",
    "from pyspark.ml.evaluation import BinaryClassificationEvaluator"
   ]
  },
  {
   "cell_type": "code",
   "execution_count": 31,
   "metadata": {},
   "outputs": [
    {
     "name": "stdout",
     "output_type": "stream",
     "text": [
      "+--------------------+-----------------------+-----------------------+------------------------+--------------+----+---------------+----------+---------------------+-------------+-------------+-------------+--------------------+-----------------------------------+--------------+--------------------+-----------------+--------------+---------------+---------------------+-------+-------------+------------------------------------------------------+----------------------+----------------+----------------+-----------------------+---------------+--------------------------------+------------------+------------------+------------------+------------------+------------------+------------------+------------------+------------------+------------------+-------------------+-------------------+-------------------+-------------------+-------------------+-------------------+-------------------+-------------------+-------------------+-------------------+-------------------+--------------------------------+------------------+------------------+------------------+------------------+------------------+------------------+------------------+------------------+------------------+-------------------+-------------------+-------------------+-------------------+-------------------+-------------------+-------------------+-------------------+-------------------+-------------------+-------------------+----+-----------------+--------------------+-------------+-------------+---------------+--------------------------+\n",
      "|     resident_status|education_1989_revision|education_2003_revision|education_reporting_flag|month_of_death| sex|detail_age_type|detail_age|age_substitution_flag|age_recode_52|age_recode_27|age_recode_12|infant_age_recode_22|place_of_death_and_decedents_status|marital_status|day_of_week_of_death|current_data_year|injury_at_work|manner_of_death|method_of_disposition|autopsy|activity_code|place_of_injury_for_causes_w00_y34_except_y06_and_y07_|icd_code_10th_revision|358_cause_recode|113_cause_recode|130_infant_cause_recode|39_cause_recode|number_of_entity_axis_conditions|entity_condition_1|entity_condition_2|entity_condition_3|entity_condition_4|entity_condition_5|entity_condition_6|entity_condition_7|entity_condition_8|entity_condition_9|entity_condition_10|entity_condition_11|entity_condition_12|entity_condition_13|entity_condition_14|entity_condition_15|entity_condition_16|entity_condition_17|entity_condition_18|entity_condition_19|entity_condition_20|number_of_record_axis_conditions|record_condition_1|record_condition_2|record_condition_3|record_condition_4|record_condition_5|record_condition_6|record_condition_7|record_condition_8|record_condition_9|record_condition_10|record_condition_11|record_condition_12|record_condition_13|record_condition_14|record_condition_15|record_condition_16|record_condition_17|record_condition_18|record_condition_19|record_condition_20|race|bridged_race_flag|race_imputation_flag|race_recode_3|race_recode_5|hispanic_origin|hispanic_originrace_recode|\n",
      "+--------------------+-----------------------+-----------------------+------------------------+--------------+----+---------------+----------+---------------------+-------------+-------------+-------------+--------------------+-----------------------------------+--------------+--------------------+-----------------+--------------+---------------+---------------------+-------+-------------+------------------------------------------------------+----------------------+----------------+----------------+-----------------------+---------------+--------------------------------+------------------+------------------+------------------+------------------+------------------+------------------+------------------+------------------+------------------+-------------------+-------------------+-------------------+-------------------+-------------------+-------------------+-------------------+-------------------+-------------------+-------------------+-------------------+--------------------------------+------------------+------------------+------------------+------------------+------------------+------------------+------------------+------------------+------------------+-------------------+-------------------+-------------------+-------------------+-------------------+-------------------+-------------------+-------------------+-------------------+-------------------+-------------------+----+-----------------+--------------------+-------------+-------------+---------------+--------------------------+\n",
      "|==> 2005_data.csv...|                   null|                   null|                    null|          null|null|           null|      null|                 null|         null|         null|         null|                null|                               null|          null|                null|             null|          null|           null|                 null|   null|         null|                                                  null|                  null|            null|            null|                   null|           null|                            null|              null|              null|              null|              null|              null|              null|              null|              null|              null|               null|               null|               null|               null|               null|               null|               null|               null|               null|               null|               null|                            null|              null|              null|              null|              null|              null|              null|              null|              null|              null|               null|               null|               null|               null|               null|               null|               null|               null|               null|               null|               null|null|             null|                null|         null|         null|           null|                      null|\n",
      "|                   1|                     11|                   null|                       0|            01|   F|              1|       045|                 null|           35|           15|           07|                null|                                  1|             M|                   2|             2005|             U|              7|                    U|      N|         null|                                                  null|                  C439|             098|             028|                   null|             15|                              01|            11C439|              null|              null|              null|              null|              null|              null|              null|              null|               null|               null|               null|               null|               null|               null|               null|               null|               null|               null|               null|                              01|              C439|              null|              null|              null|              null|              null|              null|              null|              null|               null|               null|               null|               null|               null|               null|               null|               null|               null|               null|               null|  01|             null|                null|            1|            1|            100|                         6|\n",
      "|                   1|                     13|                   null|                       0|            01|   M|              1|       061|                 null|           38|           18|           08|                null|                                  1|             D|                   7|             2005|             U|              7|                    U|      N|         null|                                                  null|                  J439|             266|             084|                   null|             28|                              01|            11J439|              null|              null|              null|              null|              null|              null|              null|              null|               null|               null|               null|               null|               null|               null|               null|               null|               null|               null|               null|                              01|              J439|              null|              null|              null|              null|              null|              null|              null|              null|               null|               null|               null|               null|               null|               null|               null|               null|               null|               null|               null|  01|             null|                null|            1|            1|            100|                         6|\n",
      "|                   1|                     12|                   null|                       0|            01|   F|              1|       079|                 null|           41|           21|           10|                null|                                  6|             D|                   1|             2005|             U|              7|                    U|      N|         null|                                                  null|                  I698|             239|             070|                   null|             24|                              05|            11R628|            21I698|            61J449|            62M199|            63R568|              null|              null|              null|              null|               null|               null|               null|               null|               null|               null|               null|               null|               null|               null|               null|                              05|              I698|              J449|              M199|              R568|              R628|              null|              null|              null|              null|               null|               null|               null|               null|               null|               null|               null|               null|               null|               null|               null|  01|             null|                null|            1|            1|            100|                         6|\n",
      "|                   1|                     12|                   null|                       0|            01|   M|              1|       050|                 null|           36|           16|           07|                null|                                  1|             S|                   4|             2005|             U|              7|                    U|      N|         null|                                                  null|                  E119|             159|             046|                   null|             16|                              04|            11I469|            61E119|            62I500|            63K862|              null|              null|              null|              null|              null|               null|               null|               null|               null|               null|               null|               null|               null|               null|               null|               null|                              04|              E119|              I469|              I500|              K862|              null|              null|              null|              null|              null|               null|               null|               null|               null|               null|               null|               null|               null|               null|               null|               null|  01|             null|                null|            1|            1|            100|                         6|\n",
      "|                   1|                     14|                   null|                       0|            01|   F|              1|       068|                 null|           39|           19|           09|                null|                                  1|             M|                   2|             2005|             U|              7|                    U|      N|         null|                                                  null|                  C349|             093|             027|                   null|             08|                              03|            11C349|            61F179|            62J449|              null|              null|              null|              null|              null|              null|               null|               null|               null|               null|               null|               null|               null|               null|               null|               null|               null|                              03|              C349|              F179|              J449|              null|              null|              null|              null|              null|              null|               null|               null|               null|               null|               null|               null|               null|               null|               null|               null|               null|  01|             null|                null|            1|            1|            100|                         6|\n",
      "|                   1|                     03|                   null|                       0|            01|   F|              1|       089|                 null|           43|           23|           11|                null|                                  6|             W|                   7|             2005|             U|              7|                    U|      N|         null|                                                  null|                  I679|             239|             070|                   null|             24|                              03|             11N19|            21I679|             61F03|              null|              null|              null|              null|              null|              null|               null|               null|               null|               null|               null|               null|               null|               null|               null|               null|               null|                              03|               F03|              I679|               N19|              null|              null|              null|              null|              null|              null|               null|               null|               null|               null|               null|               null|               null|               null|               null|               null|               null|  03|             null|                null|            2|            3|            100|                         8|\n",
      "|                   1|                     12|                   null|                       0|            01|   F|              1|       068|                 null|           39|           19|           09|                null|                                  1|             D|                   7|             2005|             U|              7|                    U|      N|         null|                                                  null|                  J439|             266|             084|                   null|             28|                              01|            11J439|              null|              null|              null|              null|              null|              null|              null|              null|               null|               null|               null|               null|               null|               null|               null|               null|               null|               null|               null|                              01|              J439|              null|              null|              null|              null|              null|              null|              null|              null|               null|               null|               null|               null|               null|               null|               null|               null|               null|               null|               null|  01|             null|                null|            1|            1|            100|                         6|\n",
      "|                   1|                     12|                   null|                       0|            01|   M|              1|       061|                 null|           38|           18|           08|                null|                                  1|             S|                   6|             2005|             U|              7|                    U|      N|         null|                                                  null|                  J449|             267|             086|                   null|             28|                              03|            11I279|            21J449|            61F102|              null|              null|              null|              null|              null|              null|               null|               null|               null|               null|               null|               null|               null|               null|               null|               null|               null|                              03|              F102|              I279|              J449|              null|              null|              null|              null|              null|              null|               null|               null|               null|               null|               null|               null|               null|               null|               null|               null|               null|  03|             null|                null|            2|            3|            100|                         8|\n",
      "|                   1|                     14|                   null|                       0|            01|   F|              1|       073|                 null|           40|           20|           09|                null|                                  1|             D|                   6|             2005|             U|              7|                    U|      N|         null|                                                  null|                  J439|             266|             084|                   null|             28|                              01|            11J439|              null|              null|              null|              null|              null|              null|              null|              null|               null|               null|               null|               null|               null|               null|               null|               null|               null|               null|               null|                              01|              J439|              null|              null|              null|              null|              null|              null|              null|              null|               null|               null|               null|               null|               null|               null|               null|               null|               null|               null|               null|  01|             null|                null|            1|            1|            100|                         6|\n",
      "|                   3|                     08|                   null|                       0|            01|   F|              1|       085|                 null|           43|           23|           11|                null|                                  7|             W|                   6|             2005|             U|              7|                    U|      N|         null|                                                  null|                   C80|             125|             043|                   null|             15|                              01|             11C80|              null|              null|              null|              null|              null|              null|              null|              null|               null|               null|               null|               null|               null|               null|               null|               null|               null|               null|               null|                              01|               C80|              null|              null|              null|              null|              null|              null|              null|              null|               null|               null|               null|               null|               null|               null|               null|               null|               null|               null|               null|  01|             null|                null|            1|            1|            100|                         6|\n",
      "|                   1|                     03|                   null|                       0|            01|   F|              1|       093|                 null|           44|           24|           11|                null|                                  6|             W|                   7|             2005|             U|              7|                    U|      N|         null|                                                  null|                   R99|             379|             110|                   null|             36|                              01|             11R99|              null|              null|              null|              null|              null|              null|              null|              null|               null|               null|               null|               null|               null|               null|               null|               null|               null|               null|               null|                              01|               R99|              null|              null|              null|              null|              null|              null|              null|              null|               null|               null|               null|               null|               null|               null|               null|               null|               null|               null|               null|  03|             null|                null|            2|            3|            100|                         8|\n",
      "|                   1|                     11|                   null|                       0|            01|   M|              1|       077|                 null|           41|           21|           10|                null|                                  1|             M|                   4|             2005|             U|              7|                    U|      N|         null|                                                  null|                  C189|             081|             023|                   null|             06|                              03|            11C189|            21C189|             61F03|              null|              null|              null|              null|              null|              null|               null|               null|               null|               null|               null|               null|               null|               null|               null|               null|               null|                              02|              C189|               F03|              null|              null|              null|              null|              null|              null|              null|               null|               null|               null|               null|               null|               null|               null|               null|               null|               null|               null|  02|             null|                null|            3|            2|            100|                         7|\n",
      "|                   1|                     06|                   null|                       0|            01|   M|              1|       078|                 null|           41|           21|           10|                null|                                  1|             D|                   2|             2005|             U|              7|                    U|      N|         null|                                                  null|                  J449|             267|             086|                   null|             28|                              02|            11J969|            21J449|              null|              null|              null|              null|              null|              null|              null|               null|               null|               null|               null|               null|               null|               null|               null|               null|               null|               null|                              02|              J449|              J969|              null|              null|              null|              null|              null|              null|              null|               null|               null|               null|               null|               null|               null|               null|               null|               null|               null|               null|  01|             null|                null|            1|            1|            100|                         6|\n",
      "|                   1|                     14|                   null|                       0|            01|   M|              1|       048|                 null|           35|           15|           07|                null|                                  1|             M|                   3|             2005|             U|              7|                    U|      N|         null|                                                  null|                  C439|             098|             028|                   null|             15|                              01|            11C439|              null|              null|              null|              null|              null|              null|              null|              null|               null|               null|               null|               null|               null|               null|               null|               null|               null|               null|               null|                              01|              C439|              null|              null|              null|              null|              null|              null|              null|              null|               null|               null|               null|               null|               null|               null|               null|               null|               null|               null|               null|  01|             null|                null|            1|            1|            100|                         6|\n",
      "|                   1|                     12|                   null|                       0|            01|   M|              1|       078|                 null|           41|           21|           10|                null|                                  1|             W|                   2|             2005|             U|              7|                    U|      N|         null|                                                  null|                  J849|             278|             089|                   null|             37|                              08|            11J969|            21J849|            61J189|            62M819|            63M844|             64I64|            65I251|             66C61|              null|               null|               null|               null|               null|               null|               null|               null|               null|               null|               null|               null|                              07|               C61|              I251|               I64|              J189|              J849|              J969|              M809|              null|              null|               null|               null|               null|               null|               null|               null|               null|               null|               null|               null|               null|  01|             null|                null|            1|            1|            100|                         6|\n",
      "|                   1|                     12|                   null|                       0|            01|   F|              1|       059|                 null|           37|           17|           08|                null|                                  1|             M|                   4|             2005|             U|              7|                    U|      N|         null|                                                  null|                  C349|             093|             027|                   null|             08|                              03|            11C349|            61J459|             62N19|              null|              null|              null|              null|              null|              null|               null|               null|               null|               null|               null|               null|               null|               null|               null|               null|               null|                              03|              C349|              J459|               N19|              null|              null|              null|              null|              null|              null|               null|               null|               null|               null|               null|               null|               null|               null|               null|               null|               null|  01|             null|                null|            1|            1|            100|                         6|\n",
      "|                   1|                     08|                   null|                       0|            01|   M|              1|       077|                 null|           41|           21|           10|                null|                                  6|             M|                   6|             2005|             U|              7|                    U|      N|            9|                                                     9|                   X59|             423|             123|                   null|             39|                              03|            11S720|             31F03|             61X59|              null|              null|              null|              null|              null|              null|               null|               null|               null|               null|               null|               null|               null|               null|               null|               null|               null|                              03|               F03|              S720|               X59|              null|              null|              null|              null|              null|              null|               null|               null|               null|               null|               null|               null|               null|               null|               null|               null|               null|  03|             null|                null|            2|            3|            100|                         8|\n",
      "|                   1|                     17|                   null|                       0|            01|   M|              1|       039|                 null|           33|           13|           06|                null|                                  1|             M|                   3|             2005|             N|              5|                    U|      Y|            9|                                                     0|                   Y20|             448|             133|                   null|             42|                              04|             11T71|             12Y20|            21S199|            61S199|              null|              null|              null|              null|              null|               null|               null|               null|               null|               null|               null|               null|               null|               null|               null|               null|                              03|              S199|               T71|               Y20|              null|              null|              null|              null|              null|              null|               null|               null|               null|               null|               null|               null|               null|               null|               null|               null|               null|  01|             null|                null|            1|            1|            211|                         1|\n",
      "|                   1|                     12|                   null|                       0|            01|   M|              1|       064|                 null|           38|           18|           08|                null|                                  7|             D|                   1|             2005|             U|              7|                    U|      N|         null|                                                  null|                  I250|             214|             062|                   null|             21|                              01|            11I250|              null|              null|              null|              null|              null|              null|              null|              null|               null|               null|               null|               null|               null|               null|               null|               null|               null|               null|               null|                              01|              I250|              null|              null|              null|              null|              null|              null|              null|              null|               null|               null|               null|               null|               null|               null|               null|               null|               null|               null|               null|  01|             null|                null|            1|            1|            100|                         6|\n",
      "+--------------------+-----------------------+-----------------------+------------------------+--------------+----+---------------+----------+---------------------+-------------+-------------+-------------+--------------------+-----------------------------------+--------------+--------------------+-----------------+--------------+---------------+---------------------+-------+-------------+------------------------------------------------------+----------------------+----------------+----------------+-----------------------+---------------+--------------------------------+------------------+------------------+------------------+------------------+------------------+------------------+------------------+------------------+------------------+-------------------+-------------------+-------------------+-------------------+-------------------+-------------------+-------------------+-------------------+-------------------+-------------------+-------------------+--------------------------------+------------------+------------------+------------------+------------------+------------------+------------------+------------------+------------------+------------------+-------------------+-------------------+-------------------+-------------------+-------------------+-------------------+-------------------+-------------------+-------------------+-------------------+-------------------+----+-----------------+--------------------+-------------+-------------+---------------+--------------------------+\n",
      "only showing top 20 rows\n",
      "\n"
     ]
    }
   ],
   "source": [
    "import boto3\n",
    "\n",
    "region = boto3.Session().region_name\n",
    "spark._jsc.hadoopConfiguration().set('fs.s3a.endpoint', 's3.us-east-1.amazonaws.com'.format(region))\n",
    "\n",
    "cdc = spark.read.csv('s3a://sagemaker-varunml-project/output.csv'.format(region), header = True)\n",
    "\n",
    "cdc.show()"
   ]
  },
  {
   "cell_type": "code",
   "execution_count": 32,
   "metadata": {},
   "outputs": [],
   "source": [
    "cdc = cdc.drop('detail_age_type','detail_age', 'age_substitution_flag','age_recode_27', 'age_recode_12', 'infant_age_recode_22', 'icd_code_10th_revision')"
   ]
  },
  {
   "cell_type": "code",
   "execution_count": 33,
   "metadata": {},
   "outputs": [],
   "source": [
    "cdc = cdc.drop('record_condition_20' , 'entity_condition_20', 'entity_condition_19', 'entity_condition_18', 'entity_condition_17', 'record_condition_19', 'record_condition_18', 'record_condition_16', 'record_condition_17','record_condition_15','record_condition_14','record_condition_13','record_condition_12','record_condition_11','record_condition_10','record_condition_9','record_condition_8','record_condition_7' , 'record_condition_6', 'record_condition_5', 'entity_condition_16', 'entity_condition_15','entity_condition_14', 'entity_condition_13', 'entity_condition_12', 'entity_condition_11', 'entity_condition_10', 'entity_condition_9','entity_condition_8', 'entity_condition_7', 'entity_condition_6', 'entity_condition_5')"
   ]
  },
  {
   "cell_type": "code",
   "execution_count": 34,
   "metadata": {},
   "outputs": [
    {
     "name": "stdout",
     "output_type": "stream",
     "text": [
      "root\n",
      " |-- resident_status: string (nullable = true)\n",
      " |-- education_1989_revision: string (nullable = true)\n",
      " |-- education_2003_revision: string (nullable = true)\n",
      " |-- education_reporting_flag: string (nullable = true)\n",
      " |-- month_of_death: string (nullable = true)\n",
      " |-- sex: string (nullable = true)\n",
      " |-- age_recode_52: string (nullable = true)\n",
      " |-- place_of_death_and_decedents_status: string (nullable = true)\n",
      " |-- marital_status: string (nullable = true)\n",
      " |-- day_of_week_of_death: string (nullable = true)\n",
      " |-- current_data_year: string (nullable = true)\n",
      " |-- injury_at_work: string (nullable = true)\n",
      " |-- manner_of_death: string (nullable = true)\n",
      " |-- method_of_disposition: string (nullable = true)\n",
      " |-- autopsy: string (nullable = true)\n",
      " |-- activity_code: string (nullable = true)\n",
      " |-- place_of_injury_for_causes_w00_y34_except_y06_and_y07_: string (nullable = true)\n",
      " |-- 358_cause_recode: string (nullable = true)\n",
      " |-- 113_cause_recode: string (nullable = true)\n",
      " |-- 130_infant_cause_recode: string (nullable = true)\n",
      " |-- 39_cause_recode: string (nullable = true)\n",
      " |-- number_of_entity_axis_conditions: string (nullable = true)\n",
      " |-- entity_condition_1: string (nullable = true)\n",
      " |-- entity_condition_2: string (nullable = true)\n",
      " |-- entity_condition_3: string (nullable = true)\n",
      " |-- entity_condition_4: string (nullable = true)\n",
      " |-- number_of_record_axis_conditions: string (nullable = true)\n",
      " |-- record_condition_1: string (nullable = true)\n",
      " |-- record_condition_2: string (nullable = true)\n",
      " |-- record_condition_3: string (nullable = true)\n",
      " |-- record_condition_4: string (nullable = true)\n",
      " |-- race: string (nullable = true)\n",
      " |-- bridged_race_flag: string (nullable = true)\n",
      " |-- race_imputation_flag: string (nullable = true)\n",
      " |-- race_recode_3: string (nullable = true)\n",
      " |-- race_recode_5: string (nullable = true)\n",
      " |-- hispanic_origin: string (nullable = true)\n",
      " |-- hispanic_originrace_recode: string (nullable = true)\n",
      "\n"
     ]
    }
   ],
   "source": [
    "cdc.printSchema()"
   ]
  },
  {
   "cell_type": "code",
   "execution_count": null,
   "metadata": {},
   "outputs": [],
   "source": []
  },
  {
   "cell_type": "code",
   "execution_count": null,
   "metadata": {},
   "outputs": [],
   "source": []
  }
 ],
 "metadata": {
  "kernelspec": {
   "display_name": "conda_python3",
   "language": "python",
   "name": "conda_python3"
  },
  "language_info": {
   "codemirror_mode": {
    "name": "ipython",
    "version": 3
   },
   "file_extension": ".py",
   "mimetype": "text/x-python",
   "name": "python",
   "nbconvert_exporter": "python",
   "pygments_lexer": "ipython3",
   "version": "3.6.5"
  }
 },
 "nbformat": 4,
 "nbformat_minor": 2
}
