{
 "cells": [
  {
   "cell_type": "markdown",
   "metadata": {},
   "source": [
    "### Import libraries"
   ]
  },
  {
   "cell_type": "code",
   "execution_count": null,
   "metadata": {},
   "outputs": [],
   "source": [
    "import os\n",
    "import re\n",
    "import boto3\n",
    "import pandas as pd\n",
    "import json\n",
    "import sagemaker\n",
    "import pyspark\n",
    "import gzip\n",
    "import s3fs\n",
    "from io import StringIO, BytesIO\n",
    "from pyspark.sql.functions import *"
   ]
  },
  {
   "cell_type": "markdown",
   "metadata": {},
   "source": [
    "### Read files and convert to spark data frame"
   ]
  },
  {
   "cell_type": "code",
   "execution_count": null,
   "metadata": {},
   "outputs": [],
   "source": [
    "data_2005 = pd.read_csv('https://s3.amazonaws.com/mrinal-ml-sagemaker/Project/2005_data.csv', dtype=object, nrows=100)\n",
    "col_names = data_2005.columns.values\n",
    "data_2005[col_names] = data_2005[col_names].astype(str) # This makes it compatible with spark dataframes"
   ]
  },
  {
   "cell_type": "code",
   "execution_count": null,
   "metadata": {},
   "outputs": [],
   "source": [
    "sc = pyspark.SparkContext()\n",
    "sql = pyspark.SQLContext(sc)"
   ]
  },
  {
   "cell_type": "code",
   "execution_count": null,
   "metadata": {},
   "outputs": [],
   "source": [
    "spark_df_previous = sql.createDataFrame(data_2005)"
   ]
  },
  {
   "cell_type": "code",
   "execution_count": null,
   "metadata": {},
   "outputs": [],
   "source": [
    "for i in range(6, 10):\n",
    "    data = pd.read_csv('https://s3.amazonaws.com/mrinal-ml-sagemaker/Project/200' + str(i) + '_data.csv', dtype=object, nrows=100)\n",
    "    col_names = data.columns.values\n",
    "    data[col_names] = data[col_names].astype(str)\n",
    "    spark_data = sql.createDataFrame(data)\n",
    "    spark_df_union = spark_df_previous.union(spark_data)\n",
    "    spark_df_previous = spark_df_union\n",
    "\n",
    "for i in range(10, 16):\n",
    "    data = pd.read_csv('https://s3.amazonaws.com/mrinal-ml-sagemaker/Project/20' + str(i) + '_data.csv', dtype=object, nrows=100)\n",
    "    col_names = data.columns.values\n",
    "    data[col_names] = data[col_names].astype(str)\n",
    "    spark_data = sql.createDataFrame(data)\n",
    "    spark_df_union = spark_df_previous.union(spark_data)"
   ]
  },
  {
   "cell_type": "markdown",
   "metadata": {},
   "source": [
    "### Clean spark data frames"
   ]
  },
  {
   "cell_type": "code",
   "execution_count": null,
   "metadata": {},
   "outputs": [],
   "source": [
    "spark_df_union = spark_df_union.drop('record_condition_20' , 'entity_condition_20', 'entity_condition_19', \n",
    "                                     'entity_condition_18', 'entity_condition_17', 'record_condition_19', \n",
    "                                     'record_condition_18', 'record_condition_16', 'record_condition_17',\n",
    "                                     'record_condition_15','record_condition_14','record_condition_13',\n",
    "                                     'record_condition_12','record_condition_11','record_condition_10',\n",
    "                                     'record_condition_9','record_condition_8','record_condition_7' , 'record_condition_6', \n",
    "                                     'record_condition_5', 'entity_condition_16', 'entity_condition_15','entity_condition_14', \n",
    "                                     'entity_condition_13', 'entity_condition_12', 'entity_condition_11', 'entity_condition_10', \n",
    "                                     'entity_condition_9','entity_condition_8', 'entity_condition_7', 'entity_condition_6', \n",
    "                                     'entity_condition_5')"
   ]
  },
  {
   "cell_type": "code",
   "execution_count": null,
   "metadata": {},
   "outputs": [],
   "source": [
    "spark_df_union = spark_df_union.fillna({'place_of_injury_for_causes_w00_y34_except_y06_and_y07_' : \"10\"})\n",
    "spark_df_union = spark_df_union.fillna({'130_infant_cause_recode' : \"000\"})\n",
    "spark_df_union = spark_df_union.fillna({'activity_code' : \"10\"})"
   ]
  },
  {
   "cell_type": "code",
   "execution_count": null,
   "metadata": {},
   "outputs": [],
   "source": [
    "spark_df_union = spark_df_union.withColumn('method_of_disposition', regexp_replace('method_of_disposition', 'R' , 'O'))\n",
    "spark_df_union = spark_df_union.withColumn('method_of_disposition', regexp_replace('method_of_disposition', 'E' , 'O'))\n",
    "spark_df_union = spark_df_union.withColumn('method_of_disposition', regexp_replace('method_of_disposition', 'D' , 'O'))"
   ]
  },
  {
   "cell_type": "code",
   "execution_count": null,
   "metadata": {},
   "outputs": [],
   "source": [
    "spark_df_union = spark_df_union.fillna({'manner_of_death' : \"8\"})"
   ]
  },
  {
   "cell_type": "code",
   "execution_count": null,
   "metadata": {},
   "outputs": [],
   "source": [
    "# Needs explanation\n",
    "spark_df_union = spark_df_union.withColumn('Place_of_death_and_decedents_status', \n",
    "                         when(spark_df_union['Place_of_death_and_decedents_status']== 9 , 7).otherwise(spark_df_union['Place_of_death_and_decedents_status']))"
   ]
  },
  {
   "cell_type": "code",
   "execution_count": null,
   "metadata": {},
   "outputs": [],
   "source": [
    "cleaned_df = spark_df_union.toPandas()"
   ]
  },
  {
   "cell_type": "code",
   "execution_count": null,
   "metadata": {},
   "outputs": [],
   "source": [
    "s3_path = 's3://budt758b-manav94/project/cleaned_df.csv'\n",
    "bytes_to_write = spark_df_union.toPandas().to_csv(None).encode()\n",
    "fs = s3fs.S3FileSystem(key=key, secret=secret_key)\n",
    "with fs.open(s3_path, 'wb') as f:\n",
    "    f.write(bytes_to_write)"
   ]
  }
 ],
 "metadata": {
  "kernelspec": {
   "display_name": "conda_python3",
   "language": "python",
   "name": "conda_python3"
  },
  "language_info": {
   "codemirror_mode": {
    "name": "ipython",
    "version": 3
   },
   "file_extension": ".py",
   "mimetype": "text/x-python",
   "name": "python",
   "nbconvert_exporter": "python",
   "pygments_lexer": "ipython3",
   "version": "3.6.5"
  }
 },
 "nbformat": 4,
 "nbformat_minor": 2
}
