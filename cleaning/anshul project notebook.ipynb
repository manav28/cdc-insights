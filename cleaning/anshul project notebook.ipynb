{
 "cells": [
  {
   "cell_type": "code",
   "execution_count": 2,
   "metadata": {},
   "outputs": [
    {
     "data": {
      "text/html": [
       "\n",
       "            <div>\n",
       "                <p><b>SparkSession - in-memory</b></p>\n",
       "                \n",
       "        <div>\n",
       "            <p><b>SparkContext</b></p>\n",
       "\n",
       "            <p><a href=\"http://172.16.184.229:4040\">Spark UI</a></p>\n",
       "\n",
       "            <dl>\n",
       "              <dt>Version</dt>\n",
       "                <dd><code>v2.2.1</code></dd>\n",
       "              <dt>Master</dt>\n",
       "                <dd><code>local[*]</code></dd>\n",
       "              <dt>AppName</dt>\n",
       "                <dd><code>pyspark-shell</code></dd>\n",
       "            </dl>\n",
       "        </div>\n",
       "        \n",
       "            </div>\n",
       "        "
      ],
      "text/plain": [
       "<pyspark.sql.session.SparkSession at 0x7f3c01f90978>"
      ]
     },
     "execution_count": 2,
     "metadata": {},
     "output_type": "execute_result"
    }
   ],
   "source": [
    "import os\n",
    "import boto3\n",
    "\n",
    "from pyspark import SparkContext, SparkConf\n",
    "from pyspark.sql import SparkSession\n",
    "\n",
    "import sagemaker\n",
    "from sagemaker import get_execution_role\n",
    "import sagemaker_pyspark\n",
    "from pyspark.sql.functions import *\n",
    "\n",
    "role = get_execution_role()\n",
    "\n",
    "# Configure Spark to use the SageMaker Spark dependency jars\n",
    "jars = sagemaker_pyspark.classpath_jars()\n",
    "\n",
    "classpath = \":\".join(sagemaker_pyspark.classpath_jars())\n",
    "\n",
    "# See the SageMaker Spark Github to learn how to connect to EMR from a notebook instance\n",
    "spark = SparkSession.builder.config(\"spark.driver.extraClassPath\", classpath)\\\n",
    "    .master(\"local[*]\").getOrCreate()\n",
    "    \n",
    "spark"
   ]
  },
  {
   "cell_type": "code",
   "execution_count": 3,
   "metadata": {},
   "outputs": [],
   "source": [
    "import os\n",
    "import pandas as pd\n",
    "import numpy as np\n",
    "from pyspark import SparkConf, SparkContext\n",
    "from pyspark.sql import SparkSession, SQLContext\n",
    "from pyspark.sql.types import *\n",
    "import pyspark.sql.functions as fn\n",
    "from pyspark.sql.functions import col, udf"
   ]
  },
  {
   "cell_type": "code",
   "execution_count": 4,
   "metadata": {
    "scrolled": true
   },
   "outputs": [],
   "source": [
    "cdc2 = spark.read.csv('output.csv', header = True)"
   ]
  },
  {
   "cell_type": "code",
   "execution_count": null,
   "metadata": {},
   "outputs": [],
   "source": [
    "cdc2 = spark.read.csv('s3://console.aws.amazon.com/s3/buckets/mrinal-ml-sagemaker/Project/output.csv', header = True)"
   ]
  },
  {
   "cell_type": "code",
   "execution_count": null,
   "metadata": {},
   "outputs": [],
   "source": [
    "cdc2 = spark.read.csv('output.csv', header = True)"
   ]
  },
  {
   "cell_type": "code",
   "execution_count": 5,
   "metadata": {},
   "outputs": [
    {
     "name": "stdout",
     "output_type": "stream",
     "text": [
      "root\n",
      " |-- resident_status: string (nullable = true)\n",
      " |-- education_1989_revision: string (nullable = true)\n",
      " |-- education_2003_revision: string (nullable = true)\n",
      " |-- education_reporting_flag: string (nullable = true)\n",
      " |-- month_of_death: string (nullable = true)\n",
      " |-- sex: string (nullable = true)\n",
      " |-- detail_age_type: string (nullable = true)\n",
      " |-- detail_age: string (nullable = true)\n",
      " |-- age_substitution_flag: string (nullable = true)\n",
      " |-- age_recode_52: string (nullable = true)\n",
      " |-- age_recode_27: string (nullable = true)\n",
      " |-- age_recode_12: string (nullable = true)\n",
      " |-- infant_age_recode_22: string (nullable = true)\n",
      " |-- place_of_death_and_decedents_status: string (nullable = true)\n",
      " |-- marital_status: string (nullable = true)\n",
      " |-- day_of_week_of_death: string (nullable = true)\n",
      " |-- current_data_year: string (nullable = true)\n",
      " |-- injury_at_work: string (nullable = true)\n",
      " |-- manner_of_death: string (nullable = true)\n",
      " |-- method_of_disposition: string (nullable = true)\n",
      " |-- autopsy: string (nullable = true)\n",
      " |-- activity_code: string (nullable = true)\n",
      " |-- place_of_injury_for_causes_w00_y34_except_y06_and_y07_: string (nullable = true)\n",
      " |-- icd_code_10th_revision: string (nullable = true)\n",
      " |-- 358_cause_recode: string (nullable = true)\n",
      " |-- 113_cause_recode: string (nullable = true)\n",
      " |-- 130_infant_cause_recode: string (nullable = true)\n",
      " |-- 39_cause_recode: string (nullable = true)\n",
      " |-- number_of_entity_axis_conditions: string (nullable = true)\n",
      " |-- entity_condition_1: string (nullable = true)\n",
      " |-- entity_condition_2: string (nullable = true)\n",
      " |-- entity_condition_3: string (nullable = true)\n",
      " |-- entity_condition_4: string (nullable = true)\n",
      " |-- entity_condition_5: string (nullable = true)\n",
      " |-- entity_condition_6: string (nullable = true)\n",
      " |-- entity_condition_7: string (nullable = true)\n",
      " |-- entity_condition_8: string (nullable = true)\n",
      " |-- entity_condition_9: string (nullable = true)\n",
      " |-- entity_condition_10: string (nullable = true)\n",
      " |-- entity_condition_11: string (nullable = true)\n",
      " |-- entity_condition_12: string (nullable = true)\n",
      " |-- entity_condition_13: string (nullable = true)\n",
      " |-- entity_condition_14: string (nullable = true)\n",
      " |-- entity_condition_15: string (nullable = true)\n",
      " |-- entity_condition_16: string (nullable = true)\n",
      " |-- entity_condition_17: string (nullable = true)\n",
      " |-- entity_condition_18: string (nullable = true)\n",
      " |-- entity_condition_19: string (nullable = true)\n",
      " |-- entity_condition_20: string (nullable = true)\n",
      " |-- number_of_record_axis_conditions: string (nullable = true)\n",
      " |-- record_condition_1: string (nullable = true)\n",
      " |-- record_condition_2: string (nullable = true)\n",
      " |-- record_condition_3: string (nullable = true)\n",
      " |-- record_condition_4: string (nullable = true)\n",
      " |-- record_condition_5: string (nullable = true)\n",
      " |-- record_condition_6: string (nullable = true)\n",
      " |-- record_condition_7: string (nullable = true)\n",
      " |-- record_condition_8: string (nullable = true)\n",
      " |-- record_condition_9: string (nullable = true)\n",
      " |-- record_condition_10: string (nullable = true)\n",
      " |-- record_condition_11: string (nullable = true)\n",
      " |-- record_condition_12: string (nullable = true)\n",
      " |-- record_condition_13: string (nullable = true)\n",
      " |-- record_condition_14: string (nullable = true)\n",
      " |-- record_condition_15: string (nullable = true)\n",
      " |-- record_condition_16: string (nullable = true)\n",
      " |-- record_condition_17: string (nullable = true)\n",
      " |-- record_condition_18: string (nullable = true)\n",
      " |-- record_condition_19: string (nullable = true)\n",
      " |-- record_condition_20: string (nullable = true)\n",
      " |-- race: string (nullable = true)\n",
      " |-- bridged_race_flag: string (nullable = true)\n",
      " |-- race_imputation_flag: string (nullable = true)\n",
      " |-- race_recode_3: string (nullable = true)\n",
      " |-- race_recode_5: string (nullable = true)\n",
      " |-- hispanic_origin: string (nullable = true)\n",
      " |-- hispanic_originrace_recode: string (nullable = true)\n",
      "\n"
     ]
    }
   ],
   "source": [
    "cdc2.printSchema()\n"
   ]
  },
  {
   "cell_type": "code",
   "execution_count": null,
   "metadata": {},
   "outputs": [],
   "source": []
  },
  {
   "cell_type": "code",
   "execution_count": null,
   "metadata": {},
   "outputs": [],
   "source": [
    "cdc2.printSchema()"
   ]
  },
  {
   "cell_type": "code",
   "execution_count": 6,
   "metadata": {},
   "outputs": [],
   "source": [
    "cdc2 = cdc2.drop('detail_age_type','detail_age', 'age_substitution_flag','age_recode_27', 'age_recode_12', 'infant_age_recode_22', 'icd_code_10th_revision')"
   ]
  },
  {
   "cell_type": "code",
   "execution_count": 7,
   "metadata": {},
   "outputs": [],
   "source": [
    "cdc2 = cdc2.drop('detail_age_type','detail_age', 'age_substitution_flag','age_recode_27', 'age_recode_12', 'infant_age_recode_22', 'icd_code_10th_revision')"
   ]
  },
  {
   "cell_type": "code",
   "execution_count": 8,
   "metadata": {},
   "outputs": [],
   "source": [
    "cdc2 = cdc2.drop('record_condition_20' , 'entity_condition_20', 'entity_condition_19', 'entity_condition_18', 'entity_condition_17', 'record_condition_19', 'record_condition_18', 'record_condition_16', 'record_condition_17','record_condition_15','record_condition_14','record_condition_13','record_condition_12','record_condition_11','record_condition_10','record_condition_9','record_condition_8','record_condition_7' , 'record_condition_6', 'record_condition_5', 'entity_condition_16', 'entity_condition_15','entity_condition_14', 'entity_condition_13', 'entity_condition_12', 'entity_condition_11', 'entity_condition_10', 'entity_condition_9','entity_condition_8', 'entity_condition_7', 'entity_condition_6', 'entity_condition_5')"
   ]
  },
  {
   "cell_type": "code",
   "execution_count": 9,
   "metadata": {},
   "outputs": [
    {
     "name": "stdout",
     "output_type": "stream",
     "text": [
      "root\n",
      " |-- resident_status: string (nullable = true)\n",
      " |-- education_1989_revision: string (nullable = true)\n",
      " |-- education_2003_revision: string (nullable = true)\n",
      " |-- education_reporting_flag: string (nullable = true)\n",
      " |-- month_of_death: string (nullable = true)\n",
      " |-- sex: string (nullable = true)\n",
      " |-- age_recode_52: string (nullable = true)\n",
      " |-- place_of_death_and_decedents_status: string (nullable = true)\n",
      " |-- marital_status: string (nullable = true)\n",
      " |-- day_of_week_of_death: string (nullable = true)\n",
      " |-- current_data_year: string (nullable = true)\n",
      " |-- injury_at_work: string (nullable = true)\n",
      " |-- manner_of_death: string (nullable = true)\n",
      " |-- method_of_disposition: string (nullable = true)\n",
      " |-- autopsy: string (nullable = true)\n",
      " |-- activity_code: string (nullable = true)\n",
      " |-- place_of_injury_for_causes_w00_y34_except_y06_and_y07_: string (nullable = true)\n",
      " |-- 358_cause_recode: string (nullable = true)\n",
      " |-- 113_cause_recode: string (nullable = true)\n",
      " |-- 130_infant_cause_recode: string (nullable = true)\n",
      " |-- 39_cause_recode: string (nullable = true)\n",
      " |-- number_of_entity_axis_conditions: string (nullable = true)\n",
      " |-- entity_condition_1: string (nullable = true)\n",
      " |-- entity_condition_2: string (nullable = true)\n",
      " |-- entity_condition_3: string (nullable = true)\n",
      " |-- entity_condition_4: string (nullable = true)\n",
      " |-- number_of_record_axis_conditions: string (nullable = true)\n",
      " |-- record_condition_1: string (nullable = true)\n",
      " |-- record_condition_2: string (nullable = true)\n",
      " |-- record_condition_3: string (nullable = true)\n",
      " |-- record_condition_4: string (nullable = true)\n",
      " |-- race: string (nullable = true)\n",
      " |-- bridged_race_flag: string (nullable = true)\n",
      " |-- race_imputation_flag: string (nullable = true)\n",
      " |-- race_recode_3: string (nullable = true)\n",
      " |-- race_recode_5: string (nullable = true)\n",
      " |-- hispanic_origin: string (nullable = true)\n",
      " |-- hispanic_originrace_recode: string (nullable = true)\n",
      "\n"
     ]
    }
   ],
   "source": [
    "cdc2.printSchema()"
   ]
  },
  {
   "cell_type": "code",
   "execution_count": 10,
   "metadata": {},
   "outputs": [
    {
     "ename": "NameError",
     "evalue": "name 'cdc' is not defined",
     "output_type": "error",
     "traceback": [
      "\u001b[0;31m---------------------------------------------------------------------------\u001b[0m",
      "\u001b[0;31mNameError\u001b[0m                                 Traceback (most recent call last)",
      "\u001b[0;32m<ipython-input-10-1c13c960c7f5>\u001b[0m in \u001b[0;36m<module>\u001b[0;34m()\u001b[0m\n\u001b[1;32m      1\u001b[0m \u001b[0;34m\u001b[0m\u001b[0m\n\u001b[0;32m----> 2\u001b[0;31m \u001b[0mcdc\u001b[0m \u001b[0;34m=\u001b[0m \u001b[0mcdc\u001b[0m\u001b[0;34m.\u001b[0m\u001b[0mfillna\u001b[0m\u001b[0;34m(\u001b[0m\u001b[0;34m{\u001b[0m\u001b[0;34m'place_of_injury_for_causes_w00_y34_except_y06_and_y07_'\u001b[0m \u001b[0;34m:\u001b[0m \u001b[0;34m'10'\u001b[0m\u001b[0;34m}\u001b[0m\u001b[0;34m)\u001b[0m\u001b[0;34m\u001b[0m\u001b[0m\n\u001b[0m\u001b[1;32m      3\u001b[0m \u001b[0mcdc\u001b[0m \u001b[0;34m=\u001b[0m \u001b[0mcdc\u001b[0m\u001b[0;34m.\u001b[0m\u001b[0mfillna\u001b[0m\u001b[0;34m(\u001b[0m\u001b[0;34m{\u001b[0m\u001b[0;34m'130_infant_cause_recode'\u001b[0m \u001b[0;34m:\u001b[0m \u001b[0;34m'000'\u001b[0m\u001b[0;34m}\u001b[0m\u001b[0;34m)\u001b[0m\u001b[0;34m\u001b[0m\u001b[0m\n\u001b[1;32m      4\u001b[0m \u001b[0mcdc\u001b[0m \u001b[0;34m=\u001b[0m \u001b[0mcdc\u001b[0m\u001b[0;34m.\u001b[0m\u001b[0mfillna\u001b[0m\u001b[0;34m(\u001b[0m\u001b[0;34m{\u001b[0m\u001b[0;34m'activity_code'\u001b[0m \u001b[0;34m:\u001b[0m \u001b[0;34m'10'\u001b[0m\u001b[0;34m}\u001b[0m\u001b[0;34m)\u001b[0m\u001b[0;34m\u001b[0m\u001b[0m\n\u001b[1;32m      5\u001b[0m \u001b[0mcdc\u001b[0m \u001b[0;34m=\u001b[0m \u001b[0mcdc\u001b[0m\u001b[0;34m.\u001b[0m\u001b[0mfillna\u001b[0m\u001b[0;34m(\u001b[0m\u001b[0;34m{\u001b[0m\u001b[0;34m'manner_of_death'\u001b[0m \u001b[0;34m:\u001b[0m \u001b[0;34m'8'\u001b[0m\u001b[0;34m}\u001b[0m\u001b[0;34m)\u001b[0m\u001b[0;34m\u001b[0m\u001b[0m\n",
      "\u001b[0;31mNameError\u001b[0m: name 'cdc' is not defined"
     ]
    }
   ],
   "source": [
    "\n",
    "cdc = cdc.fillna({'place_of_injury_for_causes_w00_y34_except_y06_and_y07_' : '10'})\n",
    "cdc = cdc.fillna({'130_infant_cause_recode' : '000'})\n",
    "cdc = cdc.fillna({'activity_code' : '10'})\n",
    "cdc = cdc.fillna({'manner_of_death' : '8'})\n",
    "cdc = cdc.fillna({'Place_of_death_and_decedents_status': '7'})"
   ]
  },
  {
   "cell_type": "code",
   "execution_count": 11,
   "metadata": {},
   "outputs": [],
   "source": [
    "\n",
    "cdc2 = cdc2.fillna({'place_of_injury_for_causes_w00_y34_except_y06_and_y07_' : '10'})\n",
    "cdc2 = cdc2.fillna({'130_infant_cause_recode' : '000'})\n",
    "cdc2 = cdc2.fillna({'activity_code' : '10'})\n",
    "cdc2 = cdc2.fillna({'manner_of_death' : '8'})\n",
    "cdc2 = cdc2.fillna({'Place_of_death_and_decedents_status': '7'})"
   ]
  },
  {
   "cell_type": "code",
   "execution_count": 12,
   "metadata": {},
   "outputs": [],
   "source": [
    "cdc2 = cdc2.withColumn('method_of_disposition', regexp_replace('method_of_disposition', 'R' , 'O'))\n",
    "cdc2 = cdc2.withColumn('method_of_disposition', regexp_replace('method_of_disposition', 'E' , 'O'))\n",
    "cdc2 = cdc2.withColumn('method_of_disposition', regexp_replace('method_of_disposition', 'D' , 'O'))\n",
    "cdc2 = cdc2.withColumn('method_of_disposition', regexp_replace('method_of_disposition', 'U' , 'O'))\n",
    "cdc2 = cdc2.withColumn('Place_of_death_and_decedents_status', regexp_replace('Place_of_death_and_decedents_status', '9' , '7'))"
   ]
  },
  {
   "cell_type": "code",
   "execution_count": 13,
   "metadata": {},
   "outputs": [],
   "source": [
    "cdc2 = cdc2.withColumn('Place_of_death_and_decedents_status', \n",
    "                   when(cdc2['Place_of_death_and_decedents_status']== 9 , 7).otherwise(cdc2['Place_of_death_and_decedents_status']))"
   ]
  },
  {
   "cell_type": "code",
   "execution_count": 14,
   "metadata": {},
   "outputs": [
    {
     "name": "stdout",
     "output_type": "stream",
     "text": [
      "+-----------------------------------+\n",
      "|Place_of_death_and_decedents_status|\n",
      "+-----------------------------------+\n",
      "|                                  7|\n",
      "|                                  3|\n",
      "|                                  5|\n",
      "|                                  6|\n",
      "|                                  1|\n",
      "|                                  4|\n",
      "|                                  2|\n",
      "+-----------------------------------+\n",
      "\n"
     ]
    }
   ],
   "source": [
    "cdc2.select('Place_of_death_and_decedents_status').distinct().show()"
   ]
  },
  {
   "cell_type": "code",
   "execution_count": 15,
   "metadata": {},
   "outputs": [
    {
     "name": "stdout",
     "output_type": "stream",
     "text": [
      "+------------------------------------------------------+\n",
      "|place_of_injury_for_causes_w00_y34_except_y06_and_y07_|\n",
      "+------------------------------------------------------+\n",
      "|                                                     7|\n",
      "|                                                     3|\n",
      "|                                                     8|\n",
      "|                                                     0|\n",
      "|                                                     5|\n",
      "|                                                     6|\n",
      "|                                                     9|\n",
      "|                                                     1|\n",
      "|                                                    10|\n",
      "|                                                     4|\n",
      "|                                                     2|\n",
      "+------------------------------------------------------+\n",
      "\n"
     ]
    }
   ],
   "source": [
    "cdc2.select('place_of_injury_for_causes_w00_y34_except_y06_and_y07_').distinct().show()"
   ]
  },
  {
   "cell_type": "code",
   "execution_count": 16,
   "metadata": {},
   "outputs": [],
   "source": [
    "cdc2 = cdc2.withColumn('education_1989_revision', regexp_replace('education_1989_revision', '00' , '1'))\n",
    "cdc2 = cdc2.withColumn('education_1989_revision', regexp_replace('education_1989_revision', '01' , '1'))\n",
    "cdc2 = cdc2.withColumn('education_1989_revision', regexp_replace('education_1989_revision', '02' , '1'))\n",
    "cdc2 = cdc2.withColumn('education_1989_revision', regexp_replace('education_1989_revision', '03' , '1'))\n",
    "cdc2 = cdc2.withColumn('education_1989_revision', regexp_replace('education_1989_revision', '04' , '1'))\n",
    "cdc2 = cdc2.withColumn('education_1989_revision', regexp_replace('education_1989_revision', '05' , '1'))\n",
    "cdc2 = cdc2.withColumn('education_1989_revision', regexp_replace('education_1989_revision', '06' , '1'))\n",
    "cdc2 = cdc2.withColumn('education_1989_revision', regexp_replace('education_1989_revision', '07' , '1'))\n",
    "cdc2 = cdc2.withColumn('education_1989_revision', regexp_replace('education_1989_revision', '08' , '1'))\n",
    "\n",
    "cdc2 = cdc2.withColumn('education_1989_revision', regexp_replace('education_1989_revision', '09' , '2'))\n",
    "cdc2 = cdc2.withColumn('education_1989_revision', regexp_replace('education_1989_revision', '10' , '2'))\n",
    "cdc2 = cdc2.withColumn('education_1989_revision', regexp_replace('education_1989_revision', '11' , '2'))\n",
    "cdc2 = cdc2.withColumn('education_1989_revision', regexp_replace('education_1989_revision', '12' , '3'))\n",
    "cdc2 = cdc2.withColumn('education_1989_revision', regexp_replace('education_1989_revision', '13' , '4'))\n",
    "cdc2 = cdc2.withColumn('education_1989_revision', regexp_replace('education_1989_revision', '14' , '4'))\n",
    "cdc2 = cdc2.withColumn('education_1989_revision', regexp_replace('education_1989_revision', '15' , '5'))\n",
    "cdc2 = cdc2.withColumn('education_1989_revision', regexp_replace('education_1989_revision', '16' , '6'))\n",
    "cdc2 = cdc2.withColumn('education_1989_revision', regexp_replace('education_1989_revision', '17' , '7'))\n",
    "cdc2 = cdc2.withColumn('education_1989_revision', regexp_replace('education_1989_revision', '99' , '9'))"
   ]
  },
  {
   "cell_type": "code",
   "execution_count": 17,
   "metadata": {},
   "outputs": [],
   "source": [
    "cdc2 = cdc2.withColumn(\"education_2003_revision\", coalesce(cdc2.education_2003_revision,cdc2.education_1989_revision))"
   ]
  },
  {
   "cell_type": "code",
   "execution_count": 18,
   "metadata": {},
   "outputs": [],
   "source": [
    "cdc2 = cdc2.filter(cdc2.education_2003_revision.isNotNull())"
   ]
  },
  {
   "cell_type": "code",
   "execution_count": 19,
   "metadata": {},
   "outputs": [
    {
     "name": "stdout",
     "output_type": "stream",
     "text": [
      "+-----------------------+--------+\n",
      "|education_2003_revision|   count|\n",
      "+-----------------------+--------+\n",
      "|                      3|11329932|\n",
      "|                      1| 3805467|\n",
      "|                      4| 3293354|\n",
      "|                      2| 3226815|\n",
      "|                      6| 2480719|\n",
      "|                      5| 1144604|\n",
      "|                      7| 1106055|\n",
      "|                      9| 1024952|\n",
      "|                      8|  308775|\n",
      "+-----------------------+--------+\n",
      "\n"
     ]
    }
   ],
   "source": [
    "cdc2.groupBy('education_2003_revision').count().orderBy('count', ascending=False).show()"
   ]
  },
  {
   "cell_type": "code",
   "execution_count": 20,
   "metadata": {},
   "outputs": [],
   "source": [
    "cdc2 = cdc2.drop('education_1989_revision', 'education_reporting_flag','bridged_race_flag', 'race_imputation_flag', \n",
    "               'hispanic_origin','entity_condition_1','entity_condition_2','entity_condition_3','entity_condition_4',\n",
    "              'record_condition_1','record_condition_2','record_condition_3','record_condition_4')"
   ]
  },
  {
   "cell_type": "code",
   "execution_count": 21,
   "metadata": {},
   "outputs": [
    {
     "name": "stdout",
     "output_type": "stream",
     "text": [
      "root\n",
      " |-- resident_status: string (nullable = true)\n",
      " |-- education_2003_revision: string (nullable = true)\n",
      " |-- month_of_death: string (nullable = true)\n",
      " |-- sex: string (nullable = true)\n",
      " |-- age_recode_52: string (nullable = true)\n",
      " |-- Place_of_death_and_decedents_status: string (nullable = false)\n",
      " |-- marital_status: string (nullable = true)\n",
      " |-- day_of_week_of_death: string (nullable = true)\n",
      " |-- current_data_year: string (nullable = true)\n",
      " |-- injury_at_work: string (nullable = true)\n",
      " |-- manner_of_death: string (nullable = false)\n",
      " |-- method_of_disposition: string (nullable = true)\n",
      " |-- autopsy: string (nullable = true)\n",
      " |-- activity_code: string (nullable = false)\n",
      " |-- place_of_injury_for_causes_w00_y34_except_y06_and_y07_: string (nullable = false)\n",
      " |-- 358_cause_recode: string (nullable = true)\n",
      " |-- 113_cause_recode: string (nullable = true)\n",
      " |-- 130_infant_cause_recode: string (nullable = false)\n",
      " |-- 39_cause_recode: string (nullable = true)\n",
      " |-- number_of_entity_axis_conditions: string (nullable = true)\n",
      " |-- number_of_record_axis_conditions: string (nullable = true)\n",
      " |-- race: string (nullable = true)\n",
      " |-- race_recode_3: string (nullable = true)\n",
      " |-- race_recode_5: string (nullable = true)\n",
      " |-- hispanic_originrace_recode: string (nullable = true)\n",
      "\n"
     ]
    }
   ],
   "source": [
    "cdc2.printSchema()"
   ]
  },
  {
   "cell_type": "code",
   "execution_count": 22,
   "metadata": {},
   "outputs": [
    {
     "ename": "SyntaxError",
     "evalue": "invalid token (<ipython-input-22-c6471fcfcbfc>, line 1)",
     "output_type": "error",
     "traceback": [
      "\u001b[0;36m  File \u001b[0;32m\"<ipython-input-22-c6471fcfcbfc>\"\u001b[0;36m, line \u001b[0;32m1\u001b[0m\n\u001b[0;31m    cdc2.groupBy('358_cause_recode').where(358_cause_recode==132).count().orderBy('count', ascending=False).show()\u001b[0m\n\u001b[0m                                              ^\u001b[0m\n\u001b[0;31mSyntaxError\u001b[0m\u001b[0;31m:\u001b[0m invalid token\n"
     ]
    }
   ],
   "source": [
    "cdc2.groupBy('358_cause_recode').where(358_cause_recode==132).count().orderBy('count', ascending=False).show()"
   ]
  },
  {
   "cell_type": "code",
   "execution_count": 23,
   "metadata": {},
   "outputs": [
    {
     "ename": "AttributeError",
     "evalue": "'DataFrame' object has no attribute 'withcolumn'",
     "output_type": "error",
     "traceback": [
      "\u001b[0;31m---------------------------------------------------------------------------\u001b[0m",
      "\u001b[0;31mAttributeError\u001b[0m                            Traceback (most recent call last)",
      "\u001b[0;32m<ipython-input-23-14bac789ff12>\u001b[0m in \u001b[0;36m<module>\u001b[0;34m()\u001b[0m\n\u001b[0;32m----> 1\u001b[0;31m \u001b[0mcdc3\u001b[0m\u001b[0;34m=\u001b[0m \u001b[0mcdc2\u001b[0m\u001b[0;34m.\u001b[0m\u001b[0mwithcolumn\u001b[0m\u001b[0;34m(\u001b[0m\u001b[0;34m'358_cause_recode'\u001b[0m\u001b[0;34m)\u001b[0m\u001b[0;34m.\u001b[0m\u001b[0mwhen\u001b[0m\u001b[0;34m(\u001b[0m\u001b[0mcdc2\u001b[0m\u001b[0;34m[\u001b[0m\u001b[0;34m'358_cause_recode'\u001b[0m\u001b[0;34m]\u001b[0m\u001b[0;34m==\u001b[0m \u001b[0;34m'407'\u001b[0m\u001b[0;34m)\u001b[0m\u001b[0;34m.\u001b[0m\u001b[0mcount\u001b[0m\u001b[0;34m(\u001b[0m\u001b[0;34m)\u001b[0m\u001b[0;34m.\u001b[0m\u001b[0morderBy\u001b[0m\u001b[0;34m(\u001b[0m\u001b[0;34m'count'\u001b[0m\u001b[0;34m,\u001b[0m \u001b[0mascending\u001b[0m\u001b[0;34m=\u001b[0m\u001b[0;32mFalse\u001b[0m\u001b[0;34m)\u001b[0m\u001b[0;34m.\u001b[0m\u001b[0mshow\u001b[0m\u001b[0;34m(\u001b[0m\u001b[0;34m)\u001b[0m\u001b[0;34m\u001b[0m\u001b[0m\n\u001b[0m",
      "\u001b[0;32m~/anaconda3/envs/python3/lib/python3.6/site-packages/pyspark/sql/dataframe.py\u001b[0m in \u001b[0;36m__getattr__\u001b[0;34m(self, name)\u001b[0m\n\u001b[1;32m   1018\u001b[0m         \u001b[0;32mif\u001b[0m \u001b[0mname\u001b[0m \u001b[0;32mnot\u001b[0m \u001b[0;32min\u001b[0m \u001b[0mself\u001b[0m\u001b[0;34m.\u001b[0m\u001b[0mcolumns\u001b[0m\u001b[0;34m:\u001b[0m\u001b[0;34m\u001b[0m\u001b[0m\n\u001b[1;32m   1019\u001b[0m             raise AttributeError(\n\u001b[0;32m-> 1020\u001b[0;31m                 \"'%s' object has no attribute '%s'\" % (self.__class__.__name__, name))\n\u001b[0m\u001b[1;32m   1021\u001b[0m         \u001b[0mjc\u001b[0m \u001b[0;34m=\u001b[0m \u001b[0mself\u001b[0m\u001b[0;34m.\u001b[0m\u001b[0m_jdf\u001b[0m\u001b[0;34m.\u001b[0m\u001b[0mapply\u001b[0m\u001b[0;34m(\u001b[0m\u001b[0mname\u001b[0m\u001b[0;34m)\u001b[0m\u001b[0;34m\u001b[0m\u001b[0m\n\u001b[1;32m   1022\u001b[0m         \u001b[0;32mreturn\u001b[0m \u001b[0mColumn\u001b[0m\u001b[0;34m(\u001b[0m\u001b[0mjc\u001b[0m\u001b[0;34m)\u001b[0m\u001b[0;34m\u001b[0m\u001b[0m\n",
      "\u001b[0;31mAttributeError\u001b[0m: 'DataFrame' object has no attribute 'withcolumn'"
     ]
    }
   ],
   "source": [
    "cdc3= cdc2.withcolumn('358_cause_recode').when(cdc2['358_cause_recode']== '407').count().orderBy('count', ascending=False).show()"
   ]
  },
  {
   "cell_type": "code",
   "execution_count": 24,
   "metadata": {},
   "outputs": [
    {
     "name": "stdout",
     "output_type": "stream",
     "text": [
      "+----------------+-------+\n",
      "|358_cause_recode|  count|\n",
      "+----------------+-------+\n",
      "|             215|2212520|\n",
      "|             093|1733447|\n",
      "|             211|1392415|\n",
      "|             267|1367934|\n",
      "|             175|1164777|\n",
      "|             189| 921265|\n",
      "|             159| 807571|\n",
      "|             238| 755369|\n",
      "|             214| 657654|\n",
      "|             230| 607764|\n",
      "|             257| 541840|\n",
      "|             327| 494823|\n",
      "|             228| 489941|\n",
      "|             081| 468606|\n",
      "|             104| 455641|\n",
      "|             125| 439283|\n",
      "|             088| 405728|\n",
      "|             023| 399667|\n",
      "|             207| 376585|\n",
      "|             420| 349322|\n",
      "+----------------+-------+\n",
      "only showing top 20 rows\n",
      "\n"
     ]
    }
   ],
   "source": [
    "cdc2.groupBy('358_cause_recode').count().orderBy('count', ascending=False).show()"
   ]
  },
  {
   "cell_type": "code",
   "execution_count": 27,
   "metadata": {},
   "outputs": [],
   "source": [
    "with open('2005_codes.json', 'r') as f_open:\n",
    "    code_maps_2005 = json.load(f_open)\n"
   ]
  },
  {
   "cell_type": "code",
   "execution_count": 26,
   "metadata": {},
   "outputs": [],
   "source": [
    "import json "
   ]
  },
  {
   "cell_type": "code",
   "execution_count": 28,
   "metadata": {},
   "outputs": [
    {
     "data": {
      "text/plain": [
       "{'resident_status': {'1': 'RESIDENTS',\n",
       "  '2': 'INTRASTATE NONRESIDENTS',\n",
       "  '3': 'INTERSTATE NONRESIDENTS',\n",
       "  '4': 'FOREIGN RESIDENTS'},\n",
       " 'education_1989_revision': {'00': 'No formal education',\n",
       "  '01-08': 'Years of elementary school',\n",
       "  '09': '1 year of high school',\n",
       "  '10': '2 years of high school',\n",
       "  '11': '3 years of high school',\n",
       "  '12': '4 years of high school',\n",
       "  '13': '1 year of college',\n",
       "  '14': '2 years of college',\n",
       "  '15': '3 years of college',\n",
       "  '16': '4 years of college',\n",
       "  '17': '5 or more years of college',\n",
       "  '99': 'Not stated'},\n",
       " 'education_2003_revision': {'1': '8th grade or less',\n",
       "  '2': '9 - 12th grade, no diploma',\n",
       "  '3': 'high school graduate or GED completed',\n",
       "  '4': 'some college credit, but no degree',\n",
       "  '5': 'Associate degree',\n",
       "  '6': 'Bachelor’s degree',\n",
       "  '7': 'Master’s degree',\n",
       "  '8': 'Doctorate or professional degree',\n",
       "  '9': 'Unknown'},\n",
       " 'education_reporting_flag': {'0': '1989 revision of education item on certificate',\n",
       "  '1': '2003 revision of education item on certificate',\n",
       "  '2': 'no education item on certificate'},\n",
       " 'month_of_death': {'01': 'January',\n",
       "  '02': 'February',\n",
       "  '03': 'March',\n",
       "  '04': 'April',\n",
       "  '05': 'May',\n",
       "  '06': 'June',\n",
       "  '07': 'July',\n",
       "  '08': 'August',\n",
       "  '09': 'September',\n",
       "  '10': 'October',\n",
       "  '11': 'November',\n",
       "  '12': 'December'},\n",
       " 'sex': {'M': 'Male', 'F': 'Female'},\n",
       " 'age_substitution_flag': {'Blank': 'Calculated age is not substituted for reported age',\n",
       "  '1': 'Calculated age is substituted for reported age'},\n",
       " 'age_recode_52': {'01': 'Under 1 hour (includes not stated hours and minutes)',\n",
       "  '02': '1 - 23 hours',\n",
       "  '03': '1 day (includes not stated days)',\n",
       "  '04': '2 days',\n",
       "  '05': '3 days',\n",
       "  '06': '4 days',\n",
       "  '07': '5 days',\n",
       "  '08': '6 days',\n",
       "  '09': '7 - 13 days (includes not stated weeks)',\n",
       "  '10': '14 - 20 days',\n",
       "  '11': '21 - 27 days',\n",
       "  '12': '1 month (includes not stated months)',\n",
       "  '13': '2 months',\n",
       "  '14': '3 months',\n",
       "  '15': '4 months',\n",
       "  '16': '5 months',\n",
       "  '17': '6 months',\n",
       "  '18': '7 months',\n",
       "  '19': '8 months',\n",
       "  '20': '9 months',\n",
       "  '21': '10 months',\n",
       "  '22': '11 months',\n",
       "  '23': '1 year',\n",
       "  '24': '2 years',\n",
       "  '25': '3 years',\n",
       "  '26': '4 years',\n",
       "  '27': '5 - 9 years',\n",
       "  '28': '10 - 14 years',\n",
       "  '29': '15 - 19 years',\n",
       "  '30': '20 - 24 years',\n",
       "  '31': '25 - 29 years',\n",
       "  '32': '30 - 34 years',\n",
       "  '33': '35 - 39 years',\n",
       "  '34': '40 - 44 years',\n",
       "  '35': '45 - 49 years',\n",
       "  '36': '50 - 54 years',\n",
       "  '37': '55 - 59 years',\n",
       "  '38': '60 - 64 years',\n",
       "  '39': '65 - 69 years',\n",
       "  '40': '70 - 74 years',\n",
       "  '41': '75 - 79 years',\n",
       "  '42': '80 - 84 years',\n",
       "  '43': '85 - 89 years',\n",
       "  '44': '90 - 94 years',\n",
       "  '45': '95 - 99 years',\n",
       "  '46': '100 - 104 years',\n",
       "  '47': '105 - 109 years',\n",
       "  '48': '110 - 114 years',\n",
       "  '49': '115 - 119 years',\n",
       "  '50': '120 - 124 years',\n",
       "  '51': '125 years and over',\n",
       "  '52': 'Age not stated'},\n",
       " 'age_recode_27': {'01': 'Under 1 month (includes not stated weeks, days, hours, and',\n",
       "  '02': '1 month - 11 months (includes not stated months)',\n",
       "  '03': '1 years',\n",
       "  '04': '2 years',\n",
       "  '05': '3 years',\n",
       "  '06': '4 years',\n",
       "  '07': '5 - 9 years',\n",
       "  '08': '10 - 14 years',\n",
       "  '09': '15 - 19 years',\n",
       "  '10': '20 - 24 years',\n",
       "  '11': '25 - 29 years',\n",
       "  '12': '30 - 34 years',\n",
       "  '13': '35 - 39 years',\n",
       "  '14': '40 - 44 years',\n",
       "  '15': '45 - 49 years',\n",
       "  '16': '50 - 54 years',\n",
       "  '17': '55 - 59 years',\n",
       "  '18': '60 - 64 years',\n",
       "  '19': '65 - 69 years',\n",
       "  '20': '70 - 74 years',\n",
       "  '21': '75 - 79 years',\n",
       "  '22': '80 - 84 years',\n",
       "  '23': '85 - 89 years',\n",
       "  '24': '90 - 94 years',\n",
       "  '25': '95 - 99 years',\n",
       "  '26': '100 years and over',\n",
       "  '27': 'Age not stated'},\n",
       " 'age_recode_12': {'01': 'Under 1 year (includes not stated infant ages)',\n",
       "  '02': '1 - 4 years',\n",
       "  '03': '5 - 14 years',\n",
       "  '04': '15 - 24 years',\n",
       "  '05': '25 - 34 years',\n",
       "  '06': '35 - 44 years',\n",
       "  '07': '45 - 54 years',\n",
       "  '08': '55 - 64 years',\n",
       "  '09': '65 - 74 years',\n",
       "  '10': '75 - 84 years',\n",
       "  '11': '85 years and over',\n",
       "  '12': 'Age not stated'},\n",
       " 'infant_age_recode_22': {'Blank': 'Age 1 year and over or not stated',\n",
       "  '01': 'Under 1 hour (includes not stated hours and minutes)',\n",
       "  '02': '1 - 23 hours',\n",
       "  '03': '1 day (includes not stated days)',\n",
       "  '04': '2 days',\n",
       "  '05': '3 days',\n",
       "  '06': '4 days',\n",
       "  '07': '5 days',\n",
       "  '08': '6 days',\n",
       "  '09': '7-13 days (includes not stated weeks)',\n",
       "  '10': '14 - 20 days',\n",
       "  '11': '21 - 27 days',\n",
       "  '12': '1 month (includes not stated months)',\n",
       "  '13': '2 months',\n",
       "  '14': '3 months',\n",
       "  '15': '4 months',\n",
       "  '16': '5 months',\n",
       "  '17': '6 months',\n",
       "  '18': '7 months',\n",
       "  '19': '8 months',\n",
       "  '20': '9 months',\n",
       "  '21': '10 months',\n",
       "  '22': '11 months'},\n",
       " 'place_of_death_and_decedents_status': {'1': 'Hospital, clinic or Medical Center',\n",
       "  '2': 'Hospital, Clinic or Medical Center',\n",
       "  '3': 'Hospital, Clinic or Medical Center',\n",
       "  '4': 'Decedent’s home',\n",
       "  '5': 'Hospice facility',\n",
       "  '6': 'Nursing home/long term care',\n",
       "  '7': 'Other',\n",
       "  '9': 'Place of death unknown'},\n",
       " 'marital_status': {'S': 'Never married, single',\n",
       "  'M': 'Married',\n",
       "  'W': 'Widowed',\n",
       "  'D': 'Divorced',\n",
       "  'U': 'Marital Status unknown'},\n",
       " 'day_of_week_of_death': {'1': 'Sunday',\n",
       "  '2': 'Monday',\n",
       "  '3': 'Tuesday',\n",
       "  '4': 'Wednesday',\n",
       "  '5': 'Thursday',\n",
       "  '6': 'Friday',\n",
       "  '7': 'Saturday',\n",
       "  '9': 'Unknown'},\n",
       " 'current_data_year': {'2005': '2005'},\n",
       " 'injury_at_work': {'Y': 'Yes', 'N': 'No', 'U': 'Unknown'},\n",
       " 'manner_of_death': {'1': 'Accident',\n",
       "  '2': 'Suicide',\n",
       "  '3': 'Homicide',\n",
       "  '4': 'Pending investigation',\n",
       "  '5': 'Could not determine',\n",
       "  '6': 'Self-Inflicted',\n",
       "  '7': 'Natural',\n",
       "  'Blank': 'Not specified'},\n",
       " 'method_of_disposition': {'B': 'Burial',\n",
       "  'C': 'Cremation',\n",
       "  'O': 'Other',\n",
       "  'U': 'Unknown'},\n",
       " 'autopsy': {'Y': 'Yes', 'N': 'No', 'U': 'Unknown'},\n",
       " 'activity_code': {'0': 'While engaged in sports activity',\n",
       "  '1': 'While engaged in leisure activity',\n",
       "  '2': 'While working for income',\n",
       "  '3': 'While engaged in other types of work',\n",
       "  '4': 'While resting, sleeping, eating (vital activities)',\n",
       "  '8': 'While engaged in other specified activities',\n",
       "  '9': 'During unspecified activity',\n",
       "  'Blank': 'Not applicable'},\n",
       " 'place_of_injury_for_causes_w00_y34_except_y06_and_y07_': {'0': 'Home',\n",
       "  '1': 'Residential institution',\n",
       "  '2': 'School, other institution and public administrative',\n",
       "  '3': 'Sports and athletics area',\n",
       "  '4': 'Street and highway',\n",
       "  '5': 'Trade and service area',\n",
       "  '6': 'Industrial and construction area',\n",
       "  '7': 'Farm',\n",
       "  '8': 'Other Specified Places',\n",
       "  '9': 'Unspecified place',\n",
       "  'Blank': 'Causes other than W00-Y34, except Y06.- and Y07.-'},\n",
       " 'icd_code_10th_revision': {'Icd Code (10Th Revision)': nan},\n",
       " '358_cause_recode': {'001': 'I. Certain infectious and parasitic diseases (A00-B99)',\n",
       "  '002': 'Intestinal infectious diseases (A00-A09)',\n",
       "  '003': 'Cholera (A00)',\n",
       "  '004': 'Other intestinal infectious diseases (A01-A08)',\n",
       "  '005': 'Typhoid fever (A01.0)',\n",
       "  '006': 'Paratyphoid fevers and other salmonella infections (A01.1-A01.4,A02)',\n",
       "  '007': 'Shigellosis (A03)',\n",
       "  '008': 'Other bacterial food-borne intoxications (A05)',\n",
       "  '009': 'Amebiasis (A06)',\n",
       "  '010': 'Intestinal infections due to other specified organisms (A04,A07-A08)',\n",
       "  '011': 'Diarrhea and gastroenteritis of infectious origin (A09)',\n",
       "  '012': 'Tuberculosis (A16-A19)',\n",
       "  '013': 'Respiratory tuberculosis (A16)',\n",
       "  '014': 'Other tuberculosis (A17-A19)',\n",
       "  '015': 'Zoonotic and other bacterial diseases (A20-A49)',\n",
       "  '016': 'Plague (A20)',\n",
       "  '017': 'Brucellosis (A23)',\n",
       "  '018': 'Tetanus (A33-A35)',\n",
       "  '019': 'Diptheria (A36)',\n",
       "  '020': 'Whooping cough (A37)',\n",
       "  '021': 'Scarlet fever and erysipelas (A38,A46)',\n",
       "  '022': 'Meningococcal infection (A39)',\n",
       "  '023': 'Septicemia (A40-A41)',\n",
       "  '024': 'Other zoonotic and bacterial diseases (A21-A22,A24-A32,A42-A44, A48-A49)',\n",
       "  '025': 'Infections with a predominately sexual mode of transmission (A50-A64)',\n",
       "  '026': 'Syphilis (A50-A53)',\n",
       "  '027': 'Cardiovascular syphilis (A52.0)',\n",
       "  '028': 'Neurosyphilis (A52.1-A52.3)',\n",
       "  '029': 'Other and unspecified syphilis (A50-A51,A52.7-A52.9,A53)',\n",
       "  '030': 'Gonococcal infection (A54)',\n",
       "  '031': 'Other infections with a predominately sexual mode of transmission (A55-A64)',\n",
       "  '032': 'Other infections caused by spirochetes, chlamydia or rickettsia (A65-A79)',\n",
       "  '033': 'Lyme disease (A69.2)',\n",
       "  '034': 'Typhus fever (A75)',\n",
       "  '035': 'All other infections caused by spirochetes, chlamydia or rickettsia (A65-A68,A69.0-A69.1,A69.8-A69.9,A70-A74,A77-A79)',\n",
       "  '036': 'Viral diseases (A80-B34)',\n",
       "  '037': 'Acute poliomyelitis (A80)',\n",
       "  '038': 'Rabies (A82)',\n",
       "  '039': 'Arthropod-borne viral encephalitis (A83-A84,A85.2)',\n",
       "  '040': 'Yellow fever (A95)',\n",
       "  '041': 'Other and unspecified arthropod-borne viral and hemorrhagic fevers (A90-A94,A96-A99)',\n",
       "  '042': 'Herpesviral (herpes simplex) infections (B00)',\n",
       "  '043': 'Zoster (herpes zoster) (B02)',\n",
       "  '044': 'Smallpox (B03)',\n",
       "  '045': 'Measles (B05)',\n",
       "  '046': 'Rubella (German measles) (B06)',\n",
       "  '047': 'Viral hepatitis (B15-B19)',\n",
       "  '048': 'Human immunodeficiency virus (HIV) disease (B20-B24)',\n",
       "  '049': 'Human immunodeficiency virus (HIV) disease resulting in infectious and parasitic diseases (B20)',\n",
       "  '050': 'Human immunodeficiency virus (HIV) disease resulting in malignant neoplasms (B21)',\n",
       "  '051': 'Human immunodeficiency virus (HIV) disease resulting in other specified diseases (B22)',\n",
       "  '052': 'Human immunodeficiency virus (HIV) disease resulting in other conditions (B23)',\n",
       "  '053': 'Unspecified human immunodeficiency virus (HIV) disease (B24)',\n",
       "  '054': 'All other and unspecified viral diseases (A81,A85.0-A85.1,A85.8, A86-A89,B01,B04,B07-B09,B25-B34)',\n",
       "  '055': 'Other and unspecified infectious and parasitic diseases and their sequelae (B35-B99)',\n",
       "  '056': 'Mycoses (B35-B49)',\n",
       "  '057': 'Protozoal diseases (B50-B64)',\n",
       "  '058': 'Malaria (B50-B54)',\n",
       "  '059': 'Leishmaniasis (B55)',\n",
       "  '060': 'Trypanosomiasis (B56-B57)',\n",
       "  '061': 'Pneumocystosis (B59)',\n",
       "  '062': 'Other and unspecified protozoal diseases (B58,B60-B64)',\n",
       "  '063': 'Helminthiases (B65-B83)',\n",
       "  '064': 'Schistosomiasis (bilharziasis) (B65)',\n",
       "  '065': 'Other and unspecified helminthiases (B66-B83)',\n",
       "  '066': 'Sequelae of tuberculosis (B90)',\n",
       "  '067': 'Sequelae of poliomyelitis (B91)',\n",
       "  '068': 'All other and unspecified infectious and parasitic diseases and their sequelae (B85-B89,B92-B99)',\n",
       "  '069': 'II. Neoplasms (C00-D48)',\n",
       "  '070': 'Malignant neoplasms (C00-C97)',\n",
       "  '071': 'Malignant neoplasms of lip, oral cavity and pharynx (C00-C14)',\n",
       "  '072': 'Of lip (C00)',\n",
       "  '073': 'Of tongue (C01-C02)',\n",
       "  '074': 'Of pharynx (C10-C13,C14.0)',\n",
       "  '075': 'Of other and unspecified sites within the lip, oral cavity and pharynx (C03-C09,C14.2-C14.8)',\n",
       "  '076': 'Malignant neoplasms of digestive organs (C15-C26)',\n",
       "  '077': 'Of esophagus (C15)',\n",
       "  '078': 'Of stomach (C16)',\n",
       "  '079': 'Of small intestine (C17)',\n",
       "  '080': 'Of colon, rectum and anus (C18-C21)',\n",
       "  '081': 'Colon (C18)',\n",
       "  '082': 'Rectosigmoid junction and rectum (C19-C20)',\n",
       "  '083': 'Anus and anus canal (C21)',\n",
       "  '084': 'Of liver and intrahepatic bile ducts (C22)',\n",
       "  '085': 'Liver (C22.0,C22.2-C22.9)',\n",
       "  '086': 'Intrahepatic bile duct carcinoma (C22.1)',\n",
       "  '087': 'Of gallbladder and extrahepatic bile ducts (C23-C24)',\n",
       "  '088': 'Of pancreas (C25)',\n",
       "  '089': 'Of other and ill-defined digestive organs (C26)',\n",
       "  '090': 'Malignant neoplasms of respiratory and intrathoracic organs (C30-C39)',\n",
       "  '091': 'Of nasal cavity, middle ear and accessory sinuses (C30-C31)',\n",
       "  '092': 'Of larynx (C32)',\n",
       "  '093': 'Of trachea, bronchus and lung (C33-C34)',\n",
       "  '094': 'Of thymus, heart, mediastinum and pleura (C37-C38)',\n",
       "  '095': 'Of other and ill-defined sites in respiratory system and intrathoracic organs (C39)',\n",
       "  '096': 'Malignant neoplasms of bone and articular cartilage (C40-C41)',\n",
       "  '097': 'Melanoma and other malignant neoplasms of skin (C43-C44)',\n",
       "  '098': 'Malignant melanoma of skin (C43)',\n",
       "  '099': 'Other malignant neoplasms of skin (C44)',\n",
       "  '100': 'Malignant neoplasms of mesothelial and soft tissue (C45-C49)',\n",
       "  '101': 'Mesothelioma (C45)',\n",
       "  '102': 'Kaposi=s sarcoma (C46)',\n",
       "  '103': 'Of other mesothelial and soft tissue (C47-C49)',\n",
       "  '104': 'Malignant neoplasm of breast (C50)',\n",
       "  '105': 'Malignant neoplasms of female genital organs (C51-C58)',\n",
       "  '106': 'Of vulva and vagina (C51-C52)',\n",
       "  '107': 'Of cervix uteri (C53)',\n",
       "  '108': 'Of corpus uteri and uterus, part unspecified (C54-C55)',\n",
       "  '109': 'Of ovary (C56)',\n",
       "  '110': 'Of other and unspecified female genital organs (C57)',\n",
       "  '111': 'Of placenta (C58)',\n",
       "  '112': 'Malignant neoplasms of male genital organs (C60-C63)',\n",
       "  '113': 'Of prostate (C61)',\n",
       "  '114': 'Of testis (C62)',\n",
       "  '115': 'Of penis and other and unspecified male genital organs (C60,C63)',\n",
       "  '116': 'Malignant neoplasms of urinary tract (C64-C68)',\n",
       "  '117': 'Of kidney and renal pelvis (C64-C65)',\n",
       "  '118': 'Of bladder (C67)',\n",
       "  '119': 'Of other and unspecified sites within the urinary tract (C66,C68)',\n",
       "  '120': 'Malignant neoplasm of eye and adnexa (C69)',\n",
       "  '121': 'Malignant neoplasms of meninges, brain and other parts of central nervous system (C70-C72)',\n",
       "  '122': 'Of brain (C71)',\n",
       "  '123': 'Of other parts of central nervous system (C70,C72)',\n",
       "  '124': 'Malignant neoplasms of thyroid and other endocrine glands (C73-C75)',\n",
       "  '125': 'Other malignant neoplasms of other and unspecified sites (C76-C80,C97)',\n",
       "  '126': 'Malignant neoplasms of lymphoid, hematopoietic and related tissue (C81-C96)',\n",
       "  '127': 'Hodgkin=s disease (C81)',\n",
       "  '128': 'Of other lymphoid, hematopoietic and related tissue (C82-C85,C96)',\n",
       "  '129': 'Non-Hodgkin=s lymphoma (C82-C85)',\n",
       "  '130': 'Of other and unspecified lymphoid, hematopoietic and related tissue (C96)',\n",
       "  '131': 'Malignant immunoproliferative diseases (C88)',\n",
       "  '132': 'Multiple myeloma and malignant plasma cell neoplasms (C90)',\n",
       "  '133': 'Leukemia (C91-C95)',\n",
       "  '134': 'Lymphoid leukemia (C91)',\n",
       "  '135': 'Myeloid leukemia (C92)',\n",
       "  '136': 'Monocytic leukemia (C93)',\n",
       "  '137': 'Other and unspecified leukemia (C94-C95)',\n",
       "  '138': 'In situ neoplasms (D00-D09)',\n",
       "  '139': 'Carcinoma in situ of breast and genitourinary system (D05-D07)',\n",
       "  '140': 'Carcinoma in situ of other and unspecified sites (D00-D04,D09)',\n",
       "  '141': 'Benign neoplasms (D10-D36)',\n",
       "  '142': 'Of female genital organs (D25-D28)',\n",
       "  '143': 'Of eye, brain and other parts of central nervous system (D31-D33)',\n",
       "  '144': 'Of other and unspecified sites (D10-D24,D29-D30,D34-D36)',\n",
       "  '145': 'Neoplasms of uncertain or unknown behavior of specified sites (D37-D47)',\n",
       "  '146': 'Neoplasms of uncertain or unknown behavior of unspecified sites (D48)',\n",
       "  '147': 'III. Diseases of the blood and blood-forming organs and certain disorders involving the immune mechanism (D50-D89)',\n",
       "  '148': 'Anemias (D50-D64)',\n",
       "  '149': 'Nutritional anemias (D50-D53)',\n",
       "  '150': 'Hemolytic anemias (D55-D59)',\n",
       "  '151': 'Aplastic anemias (D60-D61)',\n",
       "  '152': 'Acute posthemorrhagic and other anemias (D62,D64)',\n",
       "  '153': 'Coagulation defects, purpura and other hemorrhagic conditions (D65-D69)',\n",
       "  '154': 'Other diseases of blood and blood-forming organs (D70-D76)',\n",
       "  '155': 'Certain disorders involving the immune mechanism (D80-D89)',\n",
       "  '156': 'IV. Endocrine, nutritional and metabolic diseases (E00-E88)',\n",
       "  '157': 'Endocrine diseases (E00-E34)',\n",
       "  '158': 'Disorders of thyroid gland (E00-E07)',\n",
       "  '159': 'Diabetes mellitus (E10-E14)',\n",
       "  '160': 'Disorders of pituitary gland (E22-E23)',\n",
       "  '161': 'Disorders of adrenal glands (E24-E27)',\n",
       "  '162': 'Diseases of thymus (E32)',\n",
       "  '163': 'Other endocrine diseases (E15-E21,E28-E31,E34)',\n",
       "  '164': 'Nutritional diseases (E40-E68)',\n",
       "  '165': 'Malnutrition (E40-E46)',\n",
       "  '166': 'Nutritional marasmus (E41)',\n",
       "  '167': 'Other and unspecified malnutrition (E40,E42-E46)',\n",
       "  '168': 'Other nutritional deficiences (E50-E64)',\n",
       "  '169': 'Obesity and other hyperalimentation (E65-E68)',\n",
       "  '170': 'Metabolic disorders (E70-E88)',\n",
       "  '171': 'Cystic fibrosis (E84)',\n",
       "  '172': 'Volume depletion, disorders of fluid, electrolyte and acid-base balance (E86-E87)',\n",
       "  '173': 'Other metabolic disorders (E70-E83,E85,E88)',\n",
       "  '174': 'V. Mental and behavioral disorders (F01-F99)',\n",
       "  '175': 'Organic dementia (F01,F03)',\n",
       "  '176': 'Other and unspecified organic mental disorders (F04-F09)',\n",
       "  '177': 'Mental and behavioral disorders due to psychoactive substance use (F10-F19)',\n",
       "  '178': 'Mental and behavioral disorders due to use of alcohol (F10)',\n",
       "  '179': 'Mental and behavioral disorders due to other psychoactive substance use (F11-F19)',\n",
       "  '180': 'Schizophrenia, schizotypal and delusional disorders (F20-F29)',\n",
       "  '181': 'Mood (affective) disorders (F30-F39)',\n",
       "  '182': 'Neurotic, stress-related and somatoform disorders (F40-F48)',\n",
       "  '183': 'Mental retardation (F70-F79)',\n",
       "  '184': 'Other and unspecified mental and behavioral disorders (F50-F69,F80-F99)',\n",
       "  '185': 'VI. Diseases of the nervous system (G00-G98)',\n",
       "  '186': 'Meningitis (G00,G03)',\n",
       "  '187': 'Other inflammatory diseases of central nervous system (G04-G09)',\n",
       "  '188': 'Parkinson=s disease (G20-G21)',\n",
       "  '189': 'Alzheimer=s disease (G30)',\n",
       "  '190': 'Multiple sclerosis (G35)',\n",
       "  '191': 'Epilepsy (G40-G41)',\n",
       "  '192': 'Transient cerebral ischemic attacks and related syndromes (G45)',\n",
       "  '193': 'Infantile cerebral palsy (G80)',\n",
       "  '194': 'All other diseases of nervous system (G10-G12,G23-G25,G31,G36-G37,G43-G44,G47-G72,G81-G98)',\n",
       "  '195': 'VII. Diseases of the eye and adnexa (H00-H57)',\n",
       "  '196': 'VIII. Diseases of the ear and mastoid process (H60-H93)',\n",
       "  '197': 'IX. Diseases of the circulatory system (I00-I99)',\n",
       "  '198': 'Acute rheumatic fever and chronic rheumatic heart diseases (I00-I09)',\n",
       "  '199': 'Acute rheumatic fever (I00-I02)',\n",
       "  '200': 'Chronic rheumatic heart diseases (I05-I09)',\n",
       "  '201': 'Rheumatic mitral valve diseases (I05)',\n",
       "  '202': 'Rheumatic aortic valve diseases (I06)',\n",
       "  '203': 'Disorders of both mitral and aortic valves (I08.0)',\n",
       "  '204': 'Other chronic rheumatic heart diseases (I07,I08.1-I08.9,I09)',\n",
       "  '205': 'Hypertensive diseases (I10-I13)',\n",
       "  '206': 'Essential (primary) hypertension (I10)',\n",
       "  '207': 'Hypertensive heart disease (I11)',\n",
       "  '208': 'Hypertensive renal disease (I12)',\n",
       "  '209': 'Hypertensive heart and renal disease (I13)',\n",
       "  '210': 'Ischemic heart diseases (I20-I25)',\n",
       "  '211': 'Acute myocardial infarction (I21-I22)',\n",
       "  '212': 'Other acute ischemic heart diseases (I24)',\n",
       "  '213': 'Other forms of chronic ischemic heart diseases (I20,I25)',\n",
       "  '214': 'Atherosclerotic cardiovascular disease, so described (I25.0)',\n",
       "  '215': 'All other forms of chronic ischemic heart disease (I20,I25.1-I25.9)',\n",
       "  '216': 'Other heart diseases (I26-I51)',\n",
       "  '217': 'Pulmonary heart disease and diseases of pulmonary circulation (I26-I28)',\n",
       "  '218': 'Pulmonary embolism (I26)',\n",
       "  '219': 'Other pulmonary heart disease and diseases of pulmonary circulation (I27-I28)',\n",
       "  '220': 'Other non-pulmonary forms of heart disease (I30-I51)',\n",
       "  '221': 'Acute and subacute endocarditis (I33)',\n",
       "  '222': 'Diseases of pericardium and acute myocarditis (I30-I31,I40)',\n",
       "  '223': 'Other diseases of endocardium (I34-I38)',\n",
       "  '224': 'Nonrheumatic mitral valve disorders (I34)',\n",
       "  '225': 'Nonrheumatic aortic valve disorders (I35)',\n",
       "  '226': 'All other diseases of endocardium (I36-I38)',\n",
       "  '227': 'Cardiomyopathy (I42)',\n",
       "  '228': 'Conduction disorders and cardiac dysrhythmias (I44-I49)',\n",
       "  '229': 'Heart failure (I50)',\n",
       "  '230': 'Congestive heart failure (I50.0)',\n",
       "  '231': 'Other and unspecified heart failure (I50.1-I50.9)',\n",
       "  '232': 'Myocarditis, unspecified and myocardial degeneration (I51.4-I51.5)',\n",
       "  '233': 'All other and ill-defined forms of heart disease (I50.0-I51.3, I51.6-I51.9)',\n",
       "  '234': 'Cerebrovascular diseases (I60-I69)',\n",
       "  '235': 'Subarachnoid hemorrhage (I60)',\n",
       "  '236': 'Intracerebral and other intracranial hemorrhage (I61-I62)',\n",
       "  '237': 'Cerebral infarction (I63)',\n",
       "  '238': 'Stroke, not specified as hemorrhage or infarction (I64)',\n",
       "  '239': 'Other cerebrovascular diseases and their sequelae (I67,I69)',\n",
       "  '240': 'Diseases of arteries, arterioles and capillaries (I70-I78)',\n",
       "  '241': 'Atherosclerosis (I70)',\n",
       "  '242': 'Aortic aneurysm and dissection (I71)',\n",
       "  '243': 'Other diseases of arteries, arterioles and capillaries (I70-I78)',\n",
       "  '244': 'Other disorders of circulatory system (I80-I99)',\n",
       "  '245': 'Phlebitis, thrombophlebitis, venous embolism and thrombosis (I80-I82)',\n",
       "  '246': 'All other and unspecified disorders of circulatory system (I83-I99)',\n",
       "  '247': 'X. Diseases of the respiratory system (J00-J98)',\n",
       "  '248': 'Acute upper respiratory infections (J00-J06)',\n",
       "  '249': 'Acute pharyngitis and tonsillitis (J02-J03)',\n",
       "  '250': 'Acute laryngitis and tracheitis ((J04)',\n",
       "  '251': 'Other and unspecified acute upper respiratory infections (J00-J01,J05-J06)',\n",
       "  '252': 'Other diseases of the respiratory system (J10-J98)',\n",
       "  '253': 'Influenza (J10-J11)',\n",
       "  '254': 'Pneumonia(J12-J18)',\n",
       "  '255': 'Viral pneumonia, not elsewhere classified (J12)',\n",
       "  '256': 'Bacterial pneumonia (J13-J15)',\n",
       "  '257': 'Pneumonia due to other or unspecified organisms (J16,J18)',\n",
       "  '258': 'Other acute lower respiratory infections (J20-J22)',\n",
       "  '259': 'Acute bronchitis and bronchiolitis(J20-J21)',\n",
       "  '260': 'Unspecified acute lower respiratory infection (J22)',\n",
       "  '261': 'Other diseases of upper respiratory tract (J30-J39)',\n",
       "  '262': 'Chronic lower respiratory diseases (J40-J47)',\n",
       "  '263': 'Bronchitis, chronic and unspecified, emphysema and asthma (J40-J46)',\n",
       "  '264': 'Bronchitis, not specified as acute or chronic (J40)',\n",
       "  '265': 'Chronic bronchitis (J41-J42)',\n",
       "  '266': 'Emphysema (J43)',\n",
       "  '267': 'Other chronic obstructive pulmonary disease (J44)',\n",
       "  '268': 'Asthma (J45-J46)',\n",
       "  '269': 'Bronchiectasis (J47)',\n",
       "  '270': 'Lung diseases due to external agents (J60-J70)',\n",
       "  '271': 'Pneumoconioses and chemical effects (J60-J66,J68)',\n",
       "  '272': 'Pneumonitis due to solids and liquids (J69)',\n",
       "  '273': 'Pneumonitis due to food and vomit (J69.0)',\n",
       "  '274': 'Other pneumonitis due to solids and liquids (J69.1-J69.8)',\n",
       "  '275': 'Other lung diseases due to external agents (J67,J70)',\n",
       "  '276': 'Suppurative and necrotic conditions of lower respiratory tract (J85-J86)',\n",
       "  '277': 'Pleural effusion and plaque (J90, J92)',\n",
       "  '278': 'All other diseases of respiratory system (J80-J84,J93-J98)',\n",
       "  '279': 'XI.  Diseases of the digestive system (K00-K92)',\n",
       "  '280': 'Diseases of oral cavity, salivary glands and jaws (K00-K14)',\n",
       "  '281': 'Diseases of other parts of digestive system (K20-K92)',\n",
       "  '282': 'Diseases of esophagus (K20-K22)',\n",
       "  '283': 'Peptic ulcer (K25-K28)',\n",
       "  '284': 'Gastric ulcer(K25)',\n",
       "  '285': 'Duodenal ulcer(K26)',\n",
       "  '286': 'Peptic ulcer, site unspecified (K27)',\n",
       "  '287': 'Gastrojejunal ulcer (K28)',\n",
       "  '288': 'Gastritis and duodenitis (K29)',\n",
       "  '289': 'Dyspepsia and other diseases of stomach and duodenum (K30-K31)',\n",
       "  '290': 'Diseases of appendix (K35-K38)',\n",
       "  '291': 'Hernia (K40-K46)',\n",
       "  '292': 'Crohn=s disease and ulcerative colitis (K50-K51)',\n",
       "  '293': 'Vascular disorders and obstruction of intestine without hernia (K55-K56)',\n",
       "  '294': 'Diverticular disease of intestine (K57)',\n",
       "  '295': 'Other diseases of intestines and peritoneum (K52,K58-K63)',\n",
       "  '296': 'Diseases of peritoneum (K65-K66)',\n",
       "  '297': 'Diseases of liver (K70-K76)',\n",
       "  '298': 'Alcoholic liver disease (K70)',\n",
       "  '299': 'Chronic hepatitis, not elsewhere classified (K73)',\n",
       "  '300': 'Fibrosis and cirrhosis of liver (K74)',\n",
       "  '301': 'Other diseases of liver (K71-K72,K75-K76)',\n",
       "  '302': 'Cholelithiasis and other disorders of gallbladder (K80-K82)',\n",
       "  '303': 'Disorders of biliary tract and pancreas (K83-K86)',\n",
       "  '304': 'Pancreatitis (K85,K86.0-K86.1)',\n",
       "  '305': 'Other disorders of biliary tract and pancreas (K83,K86.2-K86.9)',\n",
       "  '306': 'All other diseases of digestive system (K90-K92)',\n",
       "  '307': 'XII.  Diseases of the skin and subcutaneous tissue (L00-L98)',\n",
       "  '308': 'Infections of skin and subcutaneous tissue (L00-L08)',\n",
       "  '309': 'Other and unspecified diseases of skin and sub-cutaneous tissue (L10-L98)',\n",
       "  '310': 'XIII. Diseases of the musculoskeletal system and connective tissue (M00-M99)',\n",
       "  '311': 'Rheumatoid arthritis and related inflammatory polyarthropathies (M05-M08)',\n",
       "  '312': 'Systemic lupus erythematosus (M32)',\n",
       "  '313': 'Other arthropathies and related disorders (M00,M02,M10-M31,M33-M35)',\n",
       "  '314': 'Dorsopathies (M40-M54)',\n",
       "  '315': 'Soft tissue disorders (M60-M79)',\n",
       "  '316': 'Osteopathies, chondropathies and other disorders of musculoskeletal system and connective tissue (M80-M99)',\n",
       "  '317': 'Osteoporosis (M80-M81)',\n",
       "  '318': 'Other osteopathies, chondropathies and disorders of musculoskeletal system and connective tissue (M83-M99)',\n",
       "  '319': 'XIV.  Diseases of the genitourinary system (N00-N98)',\n",
       "  '320': 'Diseases of urinary system (N00-N39)',\n",
       "  '321': 'Glomerular and renal tubulo-interstitial diseases (N00-N15)',\n",
       "  '322': 'Glomerular diseases (N00-N07)',\n",
       "  '323': 'Acute and rapidly progressive nephritic syndrome (N00-N01)',\n",
       "  '324': 'Nephrotic syndrome (N04)',\n",
       "  '325': 'Other and unspecified glomerular diseases (N02-N03,N05-N07)',\n",
       "  '326': 'Renal tubulo-interstitial diseases (N10-N15)',\n",
       "  '327': 'Renal failure (N17-N19)',\n",
       "  '328': 'Urolithiasis (N20-N23)',\n",
       "  '329': 'Other and unspecified disorders of kidney (N25-N27)',\n",
       "  '330': 'Urinary tract infection, site not specified (N39.0)',\n",
       "  '331': 'Other diseases of urinary system (N28-N36,N39.1-N39.9)',\n",
       "  '332': 'Diseases of male genital organs (N40-N50)',\n",
       "  '333': 'Hyperplasia of prostate (N40)',\n",
       "  '334': 'Other diseases of male genital organs (N41-N50)',\n",
       "  '335': 'Disorders of breast (N60-N64)',\n",
       "  '336': 'Disorders of female genital organs (N70-N98)',\n",
       "  '337': 'Inflammatory diseases of female pelvic organs (N70-N76)',\n",
       "  '338': 'Noninflammatory disorders of female genital tract (N80-N98)',\n",
       "  '339': 'XV.  Pregnancy, childbirth and the puerperium (O00-O99)',\n",
       "  '340': 'Pregnancy with abortive outcome (O00-O07)',\n",
       "  '341': 'Ectopic pregnancy (O00)',\n",
       "  '342': 'Spontaneous abortion (O03)',\n",
       "  '343': 'Medical abortion (O04)',\n",
       "  '344': 'Other abortion (O05)',\n",
       "  '345': 'Other and unspecified pregnancy with abortive outcome (O01-O02,O06-O07)',\n",
       "  '346': 'Other direct obstetric deaths (O10-O92)',\n",
       "  '347': 'Eclampsia and pre-eclampsia (O11,O13-O16)',\n",
       "  '348': 'Hemorrhage of pregnancy and childbirth and placenta previa (O20,O44-O46,O67,072)',\n",
       "  '349': 'Complications predominately related to the puerperium (O85-O92)',\n",
       "  '350': 'Obstetric embolism (O88)',\n",
       "  '351': 'Other complications predominately related to the puerperium (O85-O87,O89-O92)',\n",
       "  '352': 'All other direct obstetric causes (O10,O12,O21-O43,O47-O66,O68-O71, O73-O75)',\n",
       "  '353': 'Obstetric death of unspecified cause (O95)',\n",
       "  '354': 'Other deaths related to pregnancy, childbirth and the puerperium (O96-O97)',\n",
       "  '355': 'Indirect obstetric deaths (O98-O99)',\n",
       "  '356': 'XVI.  Certain conditions originating in the perinatal period (P00-P96)',\n",
       "  '357': 'Newborn affected by maternal factors and by complications of pregnancy, labor and delivery (P00-P04)',\n",
       "  '358': 'Disorders related to short gestation and low birth weight, not elsewhere classified (P07)',\n",
       "  '359': 'Birth trauma (P10-P15)',\n",
       "  '360': 'Intrauterine hypoxia and birth asphyxia (P20-P21)',\n",
       "  '361': 'Respiratory distress of newborn (P22)',\n",
       "  '362': 'Other respiratory conditions originating in the perinatal period (P23-P28)',\n",
       "  '363': 'Infections specific to the perinatal period (P35-P39)',\n",
       "  '364': 'Other and unspecified conditions originating in the perinatal period (P05,P08,P29,P50-P96)',\n",
       "  '365': 'XVII. Congenital malformations, deformations and chromosomal abnormalities (Q00-Q99)',\n",
       "  '366': 'Anencephaly and similar malformations (Q00)',\n",
       "  '367': 'Spina bifida (Q05)',\n",
       "  '368': 'All other congenital malformations of nervous system (Q01-Q04,Q06-Q07)',\n",
       "  '369': 'Congenital malformations of heart (Q20-Q24)',\n",
       "  '370': 'Other congenital malformations of circulatory system (Q25-Q28)',\n",
       "  '371': 'Congenital malformations of respiratory system (Q30-Q34)',\n",
       "  '372': 'Other congenital malformations and deformations (Q10-Q18,Q35-Q89)',\n",
       "  '373': 'Down=s syndrome (Q90)',\n",
       "  '374': 'All other chromosomal abnormalities, not elsewhere classified (Q91-Q99)',\n",
       "  '375': 'XVIII.  Symptoms, signs and abnormal clinical and laboratory findings, not elsewhere classified (R00-R99)',\n",
       "  '376': 'Senility (R54)',\n",
       "  '377': 'Ill-defined and unknown causes of mortality (R95-R99)',\n",
       "  '378': 'Sudden infant death syndrome (R95)',\n",
       "  '379': 'Other ill-defined and unknown causes of mortality (R96-R99)',\n",
       "  '380': 'All other symptoms, signs and abnormal clinical and laboratory findings, not elsewhere classified (R00-R53,R55-R94)',\n",
       "  '381': 'XX.  External causes of mortality (*U01-*U03,V01-Y89)',\n",
       "  '382': 'Accidents (unintentional injuries) (V01-X59,Y85-Y86)',\n",
       "  '383': 'Transport accidents (V01-V99, Y85)',\n",
       "  '384': 'Railway accidents (V05,V15,V80.6,V81.2-V81.9,V80.3-V80.5, V81.0-V81.1,V82.0-V82.1,V83-V86,V87.0-V87.8,V88.0-V88.8,V89.0, V89.2)',\n",
       "  '385': 'Motor vehicle accidents (V02-V04,V09.0,V09.2,V12-V14,V19.0-V19.2, V19.4-V19.6,V20-V79,V80.3-V80.5,V81.0-V81.1,V82.0-V82.1,V83-V86, V87.0-V87.8,V88.0-V88.8,V89.0,V89.2)',\n",
       "  '386': 'Pedestrian involved in collision with motor vehicle (V02-V04)',\n",
       "  '387': 'Pedalcyclist involved in collision with motor vehicle (V12-V14,V19.0,V19.2-V19.4-V19.6)',\n",
       "  '388': 'Motorcyclist involved in any accident except collision with railway train (V20-V24,V26-V34,V36-V39)',\n",
       "  '389': 'Motor vehicle accident involving collision with railway train (V25,V35,V45,V55,V65,V75,V81.0-V81.1,V87.6,V88.6)',\n",
       "  '390': 'Motorcyclist involved in collision with railway train (V25,V35)',\n",
       "  '391': 'Other motor vehicle accident involving collision with railway train (V45,V55,V65,V75,V81.0-V81.1,V87.6,V88.6)',\n",
       "  '392': 'Occupant of motor vehicle involved in collision with other (non- motorized) road vehicle, streetcar, animal or pedestrian (V40-V41,V46-V47,V50-V51,V56-V57,V60-V61,V66-V67,V70-V71, V76-V77)',\n",
       "  '393': 'Occupant of car, pickup truck or van involved in collision with other motor vehicle (V42-V44,V49,V52-V54,V59)',\n",
       "  '394': 'Occupant of heavy transport vehicle or bus involved in collision with other motor vehicle (V62-V64,V69,V72-V74,V79)',\n",
       "  '395': 'Occupant of motor vehicle involved in non-collision accident (V48,V58,V68,V78)',\n",
       "  '396': 'Occupant of special-use motor vehicle involved in any accident (V83-V86)',\n",
       "  '397': 'Other and unspecified motor vehicle accidents (V09.0,V09.2,V80.3-V80.5,V82.0-V82.1,V87.0-V87.5,V87.7-V87.8, V88.0-V88.5,V88.7-V88.8,V89.0,V89.2)',\n",
       "  '398': 'Streetcar accidents (V82.2-V82.9)',\n",
       "  '399': 'Other and unspecified land transport accidents (V01,V06,V09.1,V09.3,V09.9,V10-V11,V16-V18,V19.3,V19.8-V19.9, V80.0-V80.2,V80.7-V80.9,V87.9,V88.9,V89.1,V89.3,V89.9)',\n",
       "  '400': 'Water transport accidents (V90-V94)',\n",
       "  '401': 'Air and space transport accidents (V95-V97)',\n",
       "  '402': 'Other and unspecified transport accidents and their sequelae (V98-V99,Y85)',\n",
       "  '403': 'Falls (W00-W19)',\n",
       "  '404': 'Fall on same level (W00-W09,W18)',\n",
       "  '405': 'Fall from one level to another (W10-W17)',\n",
       "  '406': 'Unspecified fall (W19)',\n",
       "  '407': 'Accidental discharge of firearms (W32-W34)',\n",
       "  '408': 'Accidental explosion (W39-W40)',\n",
       "  '409': 'Accidental drowning and submersion (W65-W74)',\n",
       "  '410': 'Accidental inhalation and ingestion of food or other objects causing obstruction of respiratory tract (W78-W80)',\n",
       "  '411': 'Other accidental and unspecified threats to breathing (W75-W77,W81-W84)',\n",
       "  '412': 'Accidental exposure to electrical current (W85-W87)',\n",
       "  '413': 'Accidental exposure to radiation (W88-W91)',\n",
       "  '414': 'Accidental exposure to smoke, fire and flames (X00-X09)',\n",
       "  '415': 'Accidental contact with heat and hot substances (X10-X19)',\n",
       "  '416': 'Lightning (X33)',\n",
       "  '417': 'Earthquake, volcanic eruption, avalanche, landslide and other earth movements (X34-X36)',\n",
       "  '418': 'Cataclysmic storm and flood (X37-X38)',\n",
       "  '419': 'Accidental poisoning and exposure to noxious substances (X40-X49)',\n",
       "  '420': 'Accidental poisoning by and exposure to drugs and other biological substances (X40-X44)',\n",
       "  '421': 'Accidental poisoning by and exposure to other and unspecified solid or liquids substances (X45-X46,X48-X49)',\n",
       "  '422': 'Accidental poisoning by and exposure to other gases and vapors (X47)',\n",
       "  '423': 'All other and unspecified accidents (W20-W31,W35-W38,W41-W64,W92-W99,X20-X32,X39,X50-X59,Y86)',\n",
       "  '424': 'Intentional self-harm (suicide) (*U03,X60-X84,Y87.0)',\n",
       "  '425': 'Intentional self-poisoning (suicide) by and exposure to drugs and other biological substances (X60-X64)',\n",
       "  '426': 'Intentional self-poisoning (suicide) by and exposure to other and unspecified solid or liquid substances and their vapors (X65-X66,X68-X69)',\n",
       "  '427': 'Intentional self-poisoning (suicide) by and exposure to other gases and vapors (X67)',\n",
       "  '428': 'Intentional self-harm (suicide) by hanging, strangulation and suffocation (X70)',\n",
       "  '429': 'Intentional self-harm (suicide) by discharge of firearms (X72-X74)',\n",
       "  '430': 'Intentional self-harm (suicide) by jumping from a high place (X80)',\n",
       "  '431': 'Intentional self-harm (suicide) by all other and unspecified means and their sequelae (*U03,X71,X75-X79,X81-X84,X87.0)',\n",
       "  '432': 'Assault (homicide) (*U01-*U02,X85-Y09,X87.1)',\n",
       "  '433': 'Assault (homicide) by drugs, biological substances and other and unspecified noxious substances (*U01.6-*U01.7,X85-X90)',\n",
       "  '434': 'Assault (homicide) by hanging, strangulation and suffocation (X91)',\n",
       "  '435': 'Assault (homicide) by discharge of firearms (*U01.4,X93-X95)',\n",
       "  '436': 'Assault (homicide) by sharp object (X99)',\n",
       "  '437': 'Assault (homicide) by blunt object (Y00)',\n",
       "  '438': 'Assault (homicide) by bodily force (Y04)',\n",
       "  '439': 'Sexual assault (homicide) by bodily force (Y05)',\n",
       "  '440': 'Neglect, abandonment and other maltreatment syndromes (Y06-Y07)',\n",
       "  '441': 'Assault (homicide) by all other and unspecified means and their sequelae (*U01.0-*U01.3,*U01.5,*U01.8-*U01.9,*U02,X92,X96-X98, Y01-Y03,Y08-Y09,Y87.1)',\n",
       "  '442': 'Event of undetermined intent (Y10-Y34,Y87.2,Y89.9)',\n",
       "  '443': 'Poisoning by and exposure to drugs and biological substances, undetermined intent (Y10-Y14)',\n",
       "  '444': 'Poisoning by and exposure to other and unspecified solid or liquid substance undetermined intent (Y15-Y16,Y18-Y19)',\n",
       "  '445': 'Poisoning by and exposure to other gases and vapors, undetermined intent (Y17)',\n",
       "  '446': 'Discharge of firearms, undetermined intent (Y22-Y24)',\n",
       "  '447': 'Falling, jumping or pushed from a high place, undetermined intent (Y30)',\n",
       "  '448': 'All other and unspecified events of undetermined intent and their sequelae (Y20-Y21,Y25-Y29,Y31-Y34,Y87.2,Y89.9)',\n",
       "  '449': 'Legal intervention (Y35,Y89.0)',\n",
       "  '450': 'Legal intervention (Y35.5)',\n",
       "  '451': 'Other legal intervention and their sequelae (Y35.0-Y35.4,Y35.6-Y35.7,Y89.0)',\n",
       "  '452': 'Operations of war and their sequelae (Y36,Y89.1)',\n",
       "  '453': 'Complications of medical and surgical care (Y40-Y84,Y88)',\n",
       "  '454': 'Drugs, medicaments and biological substances causing adverse effects in therapeutic use and their sequelae (Y40-Y59,Y88.0)',\n",
       "  '455': 'Misadventures to patients during medical and surgical care and their sequelae (Y60-Y69,Y88.1)',\n",
       "  '456': 'Other complications of medical and surgical care and their sequelae (Y70-Y84,Y88.2-Y88.3)'},\n",
       " '113_cause_recode': {'001': 'Salmonella infections (A01-A02)',\n",
       "  '002': 'Shigellosis and amebiasis (A03,A06)',\n",
       "  '003': 'Certain other intestinal infections (A04,A07-A09)',\n",
       "  '004': 'Tuberculosis (A16-A19)',\n",
       "  '005': 'Respiratory tuberculosis (A16)',\n",
       "  '006': 'Other tuberculosis (A17-A19)',\n",
       "  '007': 'Whooping cough (A37)',\n",
       "  '008': 'Scarlet fever and erysipelas (A38,A46)',\n",
       "  '009': 'Meningococcal infection (A39)',\n",
       "  '010': 'Septicemia (A40-A41)',\n",
       "  '011': 'Syphilis (A50-A53)',\n",
       "  '012': 'Acute poliomyelitis (A80)',\n",
       "  '013': 'Arthropod-borne viral encephalitis (A83-A84,A85.2)',\n",
       "  '014': 'Measles (B05)',\n",
       "  '015': 'Viral hepatitis (B15-B19)',\n",
       "  '016': 'Human immunodeficiency virus (HIV) disease (B20-B24)',\n",
       "  '017': 'Malaria (B50-B54)',\n",
       "  '018': 'Other and unspecified infectious and parasitic diseases and their sequelae (A00,A05,A20-A36,A42-A44,A48-A49,A54-A79,A81-A82,A85.0-A85.1,A85.8, A86-B04,B06-B09,B25-B49,B55-B99)',\n",
       "  '019': 'Malignant neoplasms (C00-C97)',\n",
       "  '020': 'Malignant neoplasms of lip, oral cavity and pharynx (C00-C14)',\n",
       "  '021': 'Malignant neoplasm of esophagus (C15)',\n",
       "  '022': 'Malignant neoplasm of stomach (C16)',\n",
       "  '023': 'Malignant neoplasms of colon, rectum and anus (C18-C21)',\n",
       "  '024': 'Malignant neoplasms of liver and intrahepatic bile ducts (C22)',\n",
       "  '025': 'Malignant neoplasm of pancreas (C25)',\n",
       "  '026': 'Malignant neoplasm of larynx (C32)',\n",
       "  '027': 'Malignant neoplasms of trachea, bronchus and lung (C33-C34)',\n",
       "  '028': 'Malignant melanoma of skin (C43)',\n",
       "  '029': 'Malignant neoplasm of breast (C50)',\n",
       "  '030': 'Malignant neoplasm of cervix uteri (C53)',\n",
       "  '031': 'Malignant neoplasms of corpus uteri and uterus, part unspecified (C54-C55)',\n",
       "  '032': 'Malignant neoplasm of ovary (C56)',\n",
       "  '033': 'Malignant neoplasm of prostate (C61)',\n",
       "  '034': 'Malignant neoplasms of kidney and renal pelvis (C64-C65)',\n",
       "  '035': 'Malignant neoplasm of bladder (C67)',\n",
       "  '036': 'Malignant neoplasms of meninges, brain and other parts of central nervous system (C70-C72)',\n",
       "  '037': 'Malignant neoplasms of lymphoid, hematopoietic and related tissue (C81-C96)',\n",
       "  '038': \"Hodgkin's disease (C81)\",\n",
       "  '039': \"Non-Hodgkin's lymphoma (C82-C85)\",\n",
       "  '040': 'Leukemia (C91-C95)',\n",
       "  '041': 'Multiple myeloma and immunoproliferative neoplasms (C88,C90)',\n",
       "  '042': 'Other and unspecified malignant neoplasms of lymphoid, hematopoietic and related tissue (C96)',\n",
       "  '043': 'All other and unspecified malignant neoplasms (C17,C23-C24,C26-C31,C37-C41, C44-C49,C51-C52,C57-C60,C62-C63,C66,C68-C69,C73-C80,C97)',\n",
       "  '044': 'In situ neoplasms, benign neoplasms and neoplasms of uncertain or unknown behavior (D00-D48)',\n",
       "  '045': 'Anemias (D50-D64)',\n",
       "  '046': 'Diabetes mellitus (E10-E14)',\n",
       "  '047': 'Nutritional deficiencies (E40-E64)',\n",
       "  '048': 'Malnutrition (E40-E46)',\n",
       "  '049': 'Other nutritional deficiencies (E50-E64)',\n",
       "  '050': 'Meningitis (G00,G03)',\n",
       "  '051': \"Parkinson's disease (G20-G21)\",\n",
       "  '052': \"Alzheimer's disease (G30)\",\n",
       "  '053': 'Major cardiovascular diseases (I00-I78)',\n",
       "  '054': 'Diseases of heart (I00-I09,I11,I13,I20-I51)',\n",
       "  '055': 'Acute rheumatic fever and chronic rheumatic heart diseases (I00-I09)',\n",
       "  '056': 'Hypertensive heart disease (I11)',\n",
       "  '057': 'Hypertensive heart and renal disease (I13)',\n",
       "  '058': 'Ischemic heart diseases (I20-I25)',\n",
       "  '059': 'Acute myocardial infarction (I21-I22)',\n",
       "  '060': 'Other acute ischemic heart diseases (I24)',\n",
       "  '061': 'Other forms of chronic ischemic heart disease (I20,I25)',\n",
       "  '062': 'Atherosclerotic cardiovascular disease, so described (I25.0)',\n",
       "  '063': 'All other forms of chronic ischemic heart disease (I20,I25.1-I25.9)',\n",
       "  '064': 'Other heart diseases (I26-I51)',\n",
       "  '065': 'Acute and subacute endocarditis (I33)',\n",
       "  '066': 'Diseases of pericardium and acute myocarditis (I30-I31,I40)',\n",
       "  '067': 'Heart failure (I50)',\n",
       "  '068': 'All other forms of heart disease (I26-I28,I34-I38,I42-I49,I51)',\n",
       "  '069': 'Essential (primary) hypertension and hypertensive renal disease (I10,I12)',\n",
       "  '070': 'Cerebrovascular diseases (I60-I69)',\n",
       "  '071': 'Atherosclerosis (I70)',\n",
       "  '072': 'Other diseases of circulatory system (I71-I78)',\n",
       "  '073': 'Aortic aneurysm and dissection (I71)',\n",
       "  '074': 'Other diseases of arteries, arterioles and capillaries (I72-I78)',\n",
       "  '075': 'Other disorders of circulatory system (I80-I99)',\n",
       "  '076': 'Influenza and pneumonia (J10-J18)',\n",
       "  '077': 'Influenza (J10-J11)',\n",
       "  '078': 'Pneumonia (J12-J18)',\n",
       "  '079': 'Other acute lower respiratory infections (J20-J22)',\n",
       "  '080': 'Acute bronchitis and bronchiolitis (J20-J21)',\n",
       "  '081': 'Unspecified acute lower respiratory infection (J22)',\n",
       "  '082': 'Chronic lower respiratory diseases (J40-J47)',\n",
       "  '083': 'Bronchitis, chronic and unspecified (J40-J42)',\n",
       "  '084': 'Emphysema (J43)',\n",
       "  '085': 'Asthma (J45-J46)',\n",
       "  '086': 'Other chronic lower respiratory diseases (J44,J47)',\n",
       "  '087': 'Pneumoconioses and chemical effects (J60-J66,J68)',\n",
       "  '088': 'Pneumonitis due to solids and liquids (J69)',\n",
       "  '089': 'Other diseases of respiratory system (J00-J06,J30-J39,J67,J70-J98)',\n",
       "  '090': 'Peptic ulcer (K25-K28)',\n",
       "  '091': 'Diseases of appendix (K35-K38)',\n",
       "  '092': 'Hernia (K40-K46)',\n",
       "  '093': 'Chronic liver disease and cirrhosis (K70,K73-K74)',\n",
       "  '094': 'Alcoholic liver disease (K70)',\n",
       "  '095': 'Other chronic liver disease and cirrhosis (K73-K74)',\n",
       "  '096': 'Cholelithiasis and other disorders of gallbladder (K80-K82)',\n",
       "  '097': 'Nephritis, nephrotic syndrome and nephrosis (N00-N07,N17-N19,N25-N27)',\n",
       "  '098': 'Acute and rapidly progressive nephritic and nephrotic syndrome (N00-N01,N04)',\n",
       "  '099': 'Chronic glomerulonephritis, nephritis and nephropathy not specified as acute or chronic, and renal sclerosis unspecified (N02-N03,N05-N07,N26)',\n",
       "  '100': 'Renal failure (N17-N19)',\n",
       "  '101': 'Other disorders of kidney (N25,N27)',\n",
       "  '102': 'Infections of kidney (N10-N12,N13.6,N15.1)',\n",
       "  '103': 'Hyperplasia of prostate (N40)',\n",
       "  '104': 'Inflammatory diseases of female pelvic organs (N70-N76)',\n",
       "  '105': 'Pregnancy, childbirth and the puerperium (O00-O99)',\n",
       "  '106': 'Pregnancy with abortive outcome (O00-O07)',\n",
       "  '107': 'Other complications of pregnancy, childbirth and the puerperium (O10-O99)',\n",
       "  '108': 'Certain conditions originating in the perinatal period (P00-P96)',\n",
       "  '109': 'Congenital malformations, deformations and chromosomal abnormalities (Q00-Q99)',\n",
       "  '110': 'Symptoms, signs and abnormal clinical and laboratory findings, not elsewhere classified (R00-R99)',\n",
       "  '111': 'All other diseases (Residual) (D65-E07,E15-E34,E65-F99,G04-G12,G23-G25,G31-H93, K00-K22,K29-K31,K50-K66,K71-K72,K75-K76,K83-M99, N13.0-N13.5,N13.7-N13.9, N14,N15.0,N15.8-N15.9,N20-N23,N28-N39,N41-N64,N80-N98)',\n",
       "  '112': 'Accidents (unintentional injuries) (V01-X59,Y85-Y86)',\n",
       "  '113': 'Transport accidents (V01-V99,Y85)',\n",
       "  '114': 'Motor vehicle accidents (V02-V04,V09.0,V09.2,V12-V14,V19.0-V19.2, V19.4-V19.6,V20-V79,V80.3-V80.5,V81.0-V81.1,V82.0-V82.1,V83-V86, V87.0-V87.8,V88.0-V88.8,V89.0,V89.2)',\n",
       "  '115': 'Other land transport accidents (V01,V05-V06,V09.1,V09.3-V09.9, V10-V11, V15-V18,V19.3,V19.8-V19.9,V80.0-V80.2,V80.6-V80.9,V81.2-V81.9, V82.2-V82.9,V87.9,V88.9,V89.1,V89.3,V89.9)',\n",
       "  '116': 'Water, air and space, and other and unspecified transport accidents and their sequelae (V90-V99,Y85)',\n",
       "  '117': 'Nontransport accidents (W00-X59,Y86)',\n",
       "  '118': 'Falls (W00-W19)',\n",
       "  '119': 'Accidental discharge of firearms (W32-W34)',\n",
       "  '120': 'Accidental drowning and submersion (W65-W74)',\n",
       "  '121': 'Accidental exposure to smoke, fire and flames (X00-X09)',\n",
       "  '122': 'Accidental poisoning and exposure to noxious substances (X40-X49)',\n",
       "  '123': 'Other and unspecified nontransport accidents and their sequelae (W20-W31,W35-W64,W75-W99,X10-X39,X50-X59,Y86)',\n",
       "  '124': 'Intentional self-harm (suicide) (*U03,X60-X84,Y87.0)',\n",
       "  '125': 'Intentional self-harm (suicide) by discharge of firearms (X72-X74)',\n",
       "  '126': 'Intentional self-harm (suicide) by other and unspecified means and their sequelae (*U03,X60-X71,X75-X84,Y87.0)',\n",
       "  '127': 'Assault (homicide) (*U01-*U02,X85-Y09,Y87.1)',\n",
       "  '128': 'Assault (homicide) by discharge of firearms (*U01.4,X93-X95)',\n",
       "  '129': 'Assault (homicide) by other and unspecified means and their sequelae (*U01.0-*U01.3,*U01.5-*U01.9,*U02,X85-X92,X96-Y09,Y87.1)',\n",
       "  '130': 'Legal intervention (Y35,Y89.0)',\n",
       "  '131': 'Events of undetermined intent (Y10-Y34,Y87.2,Y89.9)',\n",
       "  '132': 'Discharge of firearms, undetermined intent (Y22-Y24)',\n",
       "  '133': 'Other and unspecified events of undetermined intent and their sequelae (Y10-Y21,Y25-Y34,Y87.2,Y89.9)',\n",
       "  '134': 'Operations of war and their sequelae (Y36,Y89.1)',\n",
       "  '135': 'Complications of medical and surgical care (Y40-Y84,Y88)'},\n",
       " '130_infant_cause_recode': {'001': 'Certain infectious and parasitic diseases (A00-B99)',\n",
       "  '002': 'Certain intestinal infectious diseases (A00-A08)',\n",
       "  '003': 'Diarrhea and gastroenteritis of infectious origin (A09)',\n",
       "  '004': 'Tuberculosis (A16-A19)',\n",
       "  '005': 'Tetanus (A33,A35)',\n",
       "  '006': 'Diphtheria (A36)',\n",
       "  '007': 'Whooping cough (A37)',\n",
       "  '008': 'Meningococcal infection (A39)',\n",
       "  '009': 'Septicemia (A40-A41)',\n",
       "  '010': 'Congenital syphilis (A50)',\n",
       "  '011': 'Gonococcal infection (A54)',\n",
       "  '012': 'Viral diseases (A80-B34)',\n",
       "  '013': 'Acute poliomyelitis (A80)',\n",
       "  '014': 'Varicella (chickenpox) (B01)',\n",
       "  '015': 'Measles (B05)',\n",
       "  '016': 'Human immunodeficiency virus (HIV) disease (B20-B24)',\n",
       "  '017': 'Mumps (B26)',\n",
       "  '018': 'Other and unspecified viral diseases (A81-B00,B02-B04,B06-B19,B25,B27-B34)',\n",
       "  '019': 'Candidiasis (B37)',\n",
       "  '020': 'Malaria (B50-B54)',\n",
       "  '021': 'Pneumocystosis (B59)',\n",
       "  '022': 'All other and unspecified infectious and parasitic diseases (A20-A32,A38,A42-A49,A51-A53,A55-A79,B35-B36,B38-B49,B55-B58,B60-B99)',\n",
       "  '023': 'Neoplasms (C00-D48)',\n",
       "  '024': 'Malignant neoplasms (C00-C97)',\n",
       "  '025': \"Hodgkin's disease and non-Hodgkin's lymphomas (C81-C85)\",\n",
       "  '026': 'Leukemia (C91-C95)',\n",
       "  '027': 'Other and unspecified malignant neoplasms (C00-C80,C88,C90,C96-C97)',\n",
       "  '028': 'In situ neoplasms, benign neoplasms and neoplasms of uncertain or unknown behavior (D00-D48)',\n",
       "  '029': 'Diseases of the blood and blood-forming organs and certain disorders involving the immune mechanism (D50-D89)',\n",
       "  '030': 'Anemias (D50-D64)',\n",
       "  '031': 'Hemorrhagic conditions and other diseases of blood and blood-forming organs (D65-D76)',\n",
       "  '032': 'Certain disorders involving the immune mechanism (D80-D89)',\n",
       "  '033': 'Endocrine, nutritional and metabolic diseases (E00-E88)',\n",
       "  '034': 'Short stature, not elsewhere classified (E34.3)',\n",
       "  '035': 'Nutritional deficiencies (E40-E64)',\n",
       "  '036': 'Cystic fibrosis (E84)',\n",
       "  '037': 'Volume depletion, disorders of fluid, electrolyte and acid-base balance (E86-E87)',\n",
       "  '038': 'All other endocrine, nutritional and metabolic diseases (E00-E32,E34.0-E34.2,E34.4-E34.9,E65-E83,E85,E88)',\n",
       "  '039': 'Diseases of the nervous system (G00-G98)',\n",
       "  '040': 'Meningitis (G00,G03)',\n",
       "  '041': 'Infantile spinal muscular atrophy, type I (Werdnig-Hoffman) (G12.0)',\n",
       "  '042': 'Infantile cerebral palsy (G80)',\n",
       "  '043': 'Anoxic brain damage, not elsewhere classified (G93.1)',\n",
       "  '044': 'Other diseases of nervous system (G04,G06-G11,G12.1-G12.9,G20-G72,G81-G92,G93.0,G93.2-G93.9,G95-G98)',\n",
       "  '045': 'Diseases of the ear and mastoid process (H60-H93)',\n",
       "  '046': 'Diseases of the circulatory system (I00-I99)',\n",
       "  '047': 'Pulmonary heart disease and diseases of pulmonary circulation (I26-I28)',\n",
       "  '048': 'Pericarditis, endocarditis and myocarditis (I30,I33,I40)',\n",
       "  '049': 'Cardiomyopathy (I42)',\n",
       "  '050': 'Cardiac arrest (I46)',\n",
       "  '051': 'Cerebrovascular diseases (I60-I69)',\n",
       "  '052': 'All other diseases of circulatory system (I00-I25,I31,I34-I38,I44-I45,I47-I51, I70-I99)',\n",
       "  '053': 'Diseases of the respiratory system (J00-J98)',\n",
       "  '054': 'Acute upper respiratory infections (J00-J06)',\n",
       "  '055': 'Influenza and pneumonia (J10-J18)',\n",
       "  '056': 'Influenza (J10-J11)',\n",
       "  '057': 'Pneumonia (J12-J18)',\n",
       "  '058': 'Acute bronchitis and acute bronchiolitis (J20-J21)',\n",
       "  '059': 'Bronchitis, chronic and unspecified (J40-J42)',\n",
       "  '060': 'Asthma (J45-J46)',\n",
       "  '061': 'Pneumonitis due to solids and liquids (J69)',\n",
       "  '062': 'Other and unspecified diseases of respiratory system (J22,J30-J39,J43-J44,J47-J68,J70-J98)',\n",
       "  '063': 'Diseases of the digestive system (K00-K92)',\n",
       "  '064': 'Gastritis, duodenitis, and noninfective enteritis and colitis (K29,K50-K55)',\n",
       "  '065': 'Hernia of abdominal cavity and intestinal obstruction without hernia (K40-K46,K56)',\n",
       "  '066': 'All other and unspecified diseases of digestive system (K00-K28,K30-K38,K57-K92)',\n",
       "  '067': 'Diseases of the genitourinary system (N00-N95)',\n",
       "  '068': 'Renal failure and other disorders of kidney (N17-N19,N25,N27)',\n",
       "  '069': 'Other and unspecified diseases of genitourinary system (N00-N15,N20-N23,N26,N28-N95)',\n",
       "  '070': 'Certain conditions originating in the perinatal period (P00-P96)',\n",
       "  '071': 'Newborn affected by maternal factors and by complications of pregnancy, labor and delivery (P00-P04)',\n",
       "  '072': 'Newborn affected by maternal hypertensive disorders (P00.0)',\n",
       "  '073': 'Newborn affected by other maternal conditions which may be unrelated to present pregnancy (P00.1-P00.9)',\n",
       "  '074': 'Newborn affected by maternal complications of pregnancy (P01)',\n",
       "  '075': 'Newborn affected by incompetent cervix (P01.0)',\n",
       "  '076': 'Newborn affected by premature rupture of membranes (P01.1)',\n",
       "  '077': 'Newborn affected by multiple pregnancy (P01.5)',\n",
       "  '078': 'Newborn affected by other maternal complications of pregnancy (P01.2-P01.4,P01.6-P01.9)',\n",
       "  '079': 'Newborn affected by complications of placenta, cord and membranes (P02)',\n",
       "  '080': 'Newborn affected by complications involving placenta (P02.0-P02.3)',\n",
       "  '081': 'Newborn affected by complications involving cord (P02.4-P02.6)',\n",
       "  '082': 'Newborn affected by chorioamnionitis (P02.7)',\n",
       "  '083': 'Newborn affected by other and unspecified abnormalities of membranes (P02.8-P02.9)',\n",
       "  '084': 'Newborn affected by other complications of labor and delivery (P03)',\n",
       "  '085': 'Newborn affected by noxious influences transmitted via placenta or breast milk (P04)',\n",
       "  '086': 'Disorders related to length of gestation and fetal malnutrition (P05-P08)',\n",
       "  '087': 'Slow fetal growth and fetal malnutrition (P05)',\n",
       "  '088': 'Disorders related to short gestation and low birthweight, not elsewhere classified (P07)',\n",
       "  '089': 'Extremely low birthweight or extreme immaturity (P07.0,P07.2)',\n",
       "  '090': 'Other low birthweight or preterm (P07.1,P07.3)',\n",
       "  '091': 'Disorders related to long gestation and high birthweight (P08)',\n",
       "  '092': 'Birth trauma (P10-P15)',\n",
       "  '093': 'Intrauterine hypoxia and birth asphyxia (P20-P21)',\n",
       "  '094': 'Intrauterine hypoxia (P20)',\n",
       "  '095': 'Birth asphyxia (P21)',\n",
       "  '096': 'Respiratory distress of newborn (P22)',\n",
       "  '097': 'Other respiratory conditions originating in the perinatal period (P23-P28)',\n",
       "  '098': 'Congenital pneumonia (P23)',\n",
       "  '099': 'Neonatal aspiration syndromes (P24)',\n",
       "  '100': 'Interstitial emphysema and related conditions originating in the perinatal period (P25)',\n",
       "  '101': 'Pulmonary hemorrhage originating in the perinatal period (P26)',\n",
       "  '102': 'Chronic respiratory disease originating in the perinatal period (P27)',\n",
       "  '103': 'Atelectasis (P28.0-P28.1)',\n",
       "  '104': 'All other respiratory conditions originating in the perinatal period (P28.2-P28.9)',\n",
       "  '105': 'Infections specific to the perinatal period (P35-P39)',\n",
       "  '106': 'Bacterial sepsis of newborn (P36)',\n",
       "  '107': 'Omphalitis of newborn with or without mild hemorrhage (P38)',\n",
       "  '108': 'All other infections specific to the perinatal period (P35,P37,P39)',\n",
       "  '109': 'Hemorrhagic and hematological disorders of newborn (P50-P61)',\n",
       "  '110': 'Neonatal hemorrhage (P50-P52,P54)',\n",
       "  '111': 'Hemorrhagic disease of newborn (P53)',\n",
       "  '112': 'Hemolytic disease of newborn due to isoimmunization and other perinatal jaundice (P55-P59)',\n",
       "  '113': 'Hematological disorders (P60-P61)',\n",
       "  '114': 'Syndrome of infant of a diabetic mother and neonatal diabetes mellitus (P70.0-P70.2)',\n",
       "  '115': 'Necrotizing enterocolitis of newborn (P77)',\n",
       "  '116': 'Hydrops fetalis not due to hemolytic disease (P83.2)',\n",
       "  '117': 'Other perinatal conditions (P29,P70.3-P70.9,P71-P76,P78-P81,P83.0-P83.1, P83.3-P83.9,P90-P96)',\n",
       "  '118': 'Congenital malformations, deformations and chromosomal abnormalities (Q00-Q99)',\n",
       "  '119': 'Anencephaly and similar malformations (Q00)',\n",
       "  '120': 'Congenital hydrocephalus (Q03)',\n",
       "  '121': 'Spina bifida (Q05)',\n",
       "  '122': 'Other congenital malformations of nervous system (Q01-Q02,Q04,Q06-Q07)',\n",
       "  '123': 'Congenital malformations of heart (Q20-Q24)',\n",
       "  '124': 'Other congenital malformations of circulatory system (Q25-Q28)',\n",
       "  '125': 'Congenital malformations of respiratory system (Q30-Q34)',\n",
       "  '126': 'Congenital malformations of digestive system (Q35-Q45)',\n",
       "  '127': 'Congenital malformations of genitourinary system (Q50-Q64)',\n",
       "  '128': 'Congenital malformations and deformations of musculoskeletal system, limbs and integument (Q65-Q85)',\n",
       "  '129': \"Down's syndrome (Q90)\",\n",
       "  '130': \"Edward's syndrome (Q91.0-Q91.3)\",\n",
       "  '131': \"Patau's syndrome (Q91.4-Q91.7)\",\n",
       "  '132': 'Other congenital malformations and deformations (Q10-Q18,Q86-Q89)',\n",
       "  '133': 'Other chromosomal abnormalities, not elsewhere classified (Q92-Q99)',\n",
       "  '134': 'Symptoms, signs and abnormal clinical and laboratory findings, not elsewhere classified (R00-R99)',\n",
       "  '135': 'Sudden infant death syndrome (R95)',\n",
       "  '136': 'Other symptoms, signs and abnormal clinical and laboratory findings, not elsewhere classified (R00-R53,R55-R94,R96-R99)',\n",
       "  '137': 'All other diseases (Residual) (F01-F99,H00-H57,L00-M99)',\n",
       "  '138': 'External causes of mortality (*U01,V01-Y84)',\n",
       "  '139': 'Accidents (unintentional injuries) (V01-X59)',\n",
       "  '140': 'Transport accidents (V01-V99)',\n",
       "  '141': 'Motor vehicle accidents(V02-V04,V09.0,V09.2,V12-V14,V19.0-V19.2, V19.4-V19.6,V20-V79,V80.3-V80.5,V81.0-V81.1,V82.0-V82.1,V83-V86, V87.0-V87.8,V88.0-V88.8,V89.0,V89.2)',\n",
       "  '142': 'Other and unspecified transport accidents (V01,V05-V06,V09.1,V09.3-V09.9,V10-V11,V15-V18,V19.3, V19.8-V19.9,V80.0-V80.2,V80.6-V80.9,V81.2-V81.9,V82.2-V82.9, V87.9,V88.9,V89.1,V89.3,V89.9,V90-V99)',\n",
       "  '143': 'Falls (W00-W19)',\n",
       "  '144': 'Accidental discharge of firearms (W32-W34)',\n",
       "  '145': 'Accidental drowning and submersion (W65-W74)',\n",
       "  '146': 'Accidental suffocation and strangulation in bed (W75)',\n",
       "  '147': 'Other accidental suffocation and strangulation (W76-W77,W81-W84)',\n",
       "  '148': 'Accidental inhalation and ingestion of food or other objects causing obstruction of respiratory tract (W78-W80)',\n",
       "  '149': 'Accidents caused by exposure to smoke, fire and flames (X00-X09)',\n",
       "  '150': 'Accidental poisoning and exposure to noxious substances (X40-X49)',\n",
       "  '151': 'Other and unspecified accidents (W20-W31,W35-W64,W85-W99,X10-X39,X50-X59)',\n",
       "  '152': 'Assault (homicide) (*U01,X85-Y09)',\n",
       "  '153': 'Assault (homicide) by hanging, strangulation and suffocation (X91)',\n",
       "  '154': 'Assault (homicide) by discharge of firearms (*U01.4,X93-X95)',\n",
       "  '155': 'Neglect, abandonment and other maltreatment syndromes (Y06-Y07)',\n",
       "  '156': 'Assault (homicide) by other and unspecified means (*U01.0-*U01.3,*U01.5-*U01.9,X85-X90,X92,X96-X99,Y00-Y05,Y08-Y09)',\n",
       "  '157': 'Complications of medical and surgical care (Y40-Y84)',\n",
       "  '158': 'Other external causes (Y10-Y36),'},\n",
       " '39_cause_recode': {'001': 'Tuberculosis (A16-A19)',\n",
       "  '002': 'Syphilis (A50-A53)',\n",
       "  '003': 'Human immunodeficiency virus (HIV) disease (B20-B24)',\n",
       "  '004': 'Malignant neoplasms (C00-C97)',\n",
       "  '005': 'Malignant neoplasm of stomach (C16)',\n",
       "  '006': 'Malignant neoplasms of colon, rectum and anus (C18-C21)',\n",
       "  '007': 'Malignant neoplasm of pancreas (C25)',\n",
       "  '008': 'Malignant neoplasms of trachea, bronchus and lung (C33-C34)',\n",
       "  '009': 'Malignant neoplasm of breast (C50)',\n",
       "  '010': 'Malignant neoplasms of cervix uteri, corpus uteri and ovary (C53-C56)',\n",
       "  '011': 'Malignant neoplasm of prostate (C61)',\n",
       "  '012': 'Malignant neoplasms of urinary tract (C64-C68)',\n",
       "  '013': \"Non-Hodgkin's lymphoma (C82-C85)\",\n",
       "  '014': 'Leukemia (C91-C95)',\n",
       "  '015': 'Other malignant neoplasms (C00-C15,C17,C22-C24,C26-C32,C37-C49,C51-C52, C57-C60,C62-C63,C69-C81,C88,C90,C96-C97)',\n",
       "  '016': 'Diabetes mellitus (E10-E14)',\n",
       "  '017': \"Alzheimer's disease (G30)\",\n",
       "  '018': 'Major cardiovascular diseases (I00-I78)',\n",
       "  '019': 'Diseases of heart (I00-I09,I11,I13,I20-I51)',\n",
       "  '020': 'Hypertensive heart disease with or without renal disease (I11,I13)',\n",
       "  '021': 'Ischemic heart diseases (I20-I25)',\n",
       "  '022': 'Other diseases of heart (I00-I09,I26-I51)',\n",
       "  '023': 'Essential (primary) hypertension and hypertensive renal disease (I10,I12)',\n",
       "  '024': 'Cerebrovascular diseases (I60-I69)',\n",
       "  '025': 'Atherosclerosis (I70)',\n",
       "  '026': 'Other diseases of circulatory system (I71-I78)',\n",
       "  '027': 'Influenza and pneumonia (J10-J18)',\n",
       "  '028': 'Chronic lower respiratory diseases (J40-J47)',\n",
       "  '029': 'Peptic ulcer (K25-K28)',\n",
       "  '030': 'Chronic liver disease and cirrhosis (K70,K73-K74)',\n",
       "  '031': 'Nephritis, nephrotic syndrome, and nephrosis (N00-N07,N17-N19,N25-N27)',\n",
       "  '032': 'Pregnancy, childbirth and the puerperium (O00-O99)',\n",
       "  '033': 'Certain conditions originating in the perinatal period (P00-P96)',\n",
       "  '034': 'Congenital malformations, deformations and chromosomal abnormalities (Q00-Q99)',\n",
       "  '035': 'Sudden infant death syndrome (R95)',\n",
       "  '036': 'Symptoms, signs and abnormal clinical and laboratory findings, not elsewhere classified (excluding Sudden infant death syndrome) (R00-R94,R96-R99)',\n",
       "  '037': 'All other diseases (Residual) (A00-A09,A20-A49,A54-B19,B25-B99,D00-E07, E15-G25,G31-H93,I80-J06,J20-J39,J60-K22,K29-K66,K71-K72, K75-M99,N10-N15,N20-N23,N28-N98)',\n",
       "  '038': 'Motor vehicle accidents (V02-V04,V09.0,V12-V14,V19.0-V19.2,V19.4-V19.6, V20-V79,V80.3-V80.5,V81.0-V81.1,V82.0-V82.1,V83-V86,V87.0-V87.8, V88.0-V88.8,V89.0,V89.2)',\n",
       "  '039': 'All other and unspecified accidents and adverse effects (V01,V05-V06,V09.1,V09.3-V09.9,V10-V11,V15-V18,V19.3,V19.8-V19.9, V80.0-V80.2,V80.6-V80.9,V81.2-V81.9,V82.2-V82.9,V87.9,V88.9,V89.1, V89.3,V89.9,V90-X59,Y40-Y86,Y88)',\n",
       "  '040': 'Intentional self-harm (suicide) (*U03,X60-X84,Y87.0)',\n",
       "  '041': 'Assault (homicide) (*U01-*U02,X85-Y09,Y87.1)',\n",
       "  '042': 'All other external causes (Y10-Y36,Y87.2,Y89)'},\n",
       " 'race': {'01': 'White',\n",
       "  '02': 'Black',\n",
       "  '03': 'American Indian (includes Aleuts and Eskimos)',\n",
       "  '04': 'Chinese',\n",
       "  '05': 'Japanese',\n",
       "  '06': 'Hawaiian (includes Part-Hawaiian)',\n",
       "  '07': 'Filipino',\n",
       "  '18': 'Asian Indian',\n",
       "  '28': 'Korean',\n",
       "  '38': 'Samoan',\n",
       "  '48': 'Vietnamese',\n",
       "  '58': 'Guamanian',\n",
       "  '68': 'Other Asian or Pacific Islander in areas reporting codes 18-58',\n",
       "  '78': 'Combined other Asian or Pacific Islander, includes codes 18-68',\n",
       "  '00': 'Other races',\n",
       "  '08': 'Other Asian or Pacific Islander'},\n",
       " 'bridged_race_flag': {'Blank': 'Race is not bridged', '1': 'Race is bridged'},\n",
       " 'race_imputation_flag': {'Blank': 'Race is not imputed',\n",
       "  '1': 'Unknown race is imputed',\n",
       "  '2': 'All other races is imputed'},\n",
       " 'race_recode_3': {'1': 'White',\n",
       "  '2': 'Races other than White or Black',\n",
       "  '3': 'Black'},\n",
       " 'race_recode_5': {'0': 'Other (Puerto Rico only)',\n",
       "  '1': 'White',\n",
       "  '2': 'Black',\n",
       "  '3': 'American Indian',\n",
       "  '4': 'Asian or Pacific Islander'},\n",
       " 'hispanic_origin': {'100-199': 'Non – Hispanic',\n",
       "  '200-209': 'Spaniard',\n",
       "  '210-219': 'Mexican',\n",
       "  '260-269': 'Puerto Rican',\n",
       "  '270-274': 'Cuban',\n",
       "  '275-279': 'Dominican',\n",
       "  '220': 'Central and South American',\n",
       "  '221-230': 'Central American',\n",
       "  '231-249': 'South American',\n",
       "  '250-259': 'Latin American',\n",
       "  '280-299': 'Other Hispanic',\n",
       "  '996-999': 'Unknown'},\n",
       " 'hispanic_originrace_recode': {'1': 'Mexican',\n",
       "  '2': 'Puerto Rican',\n",
       "  '3': 'Cuban',\n",
       "  '4': 'Central or South American',\n",
       "  '5': 'Other or unknown Hispanic',\n",
       "  '6': 'Non - Hispanic white',\n",
       "  '7': 'Non - Hispanic black',\n",
       "  '8': 'Non - Hispanic other races',\n",
       "  '9': 'Hispanic origin unknown'},\n",
       " 'detail_age_type': {'1': 'Years',\n",
       "  '2': 'Months',\n",
       "  '4': 'Days',\n",
       "  '5': 'Hours',\n",
       "  '6': 'Minutes',\n",
       "  '9': nan}}"
      ]
     },
     "execution_count": 28,
     "metadata": {},
     "output_type": "execute_result"
    }
   ],
   "source": [
    "code_maps_2005"
   ]
  },
  {
   "cell_type": "code",
   "execution_count": 29,
   "metadata": {},
   "outputs": [],
   "source": [
    "with open('2005_codes.json', 'r') as f_open:\n",
    "    code_maps_2005 = json.load(f_open)"
   ]
  },
  {
   "cell_type": "code",
   "execution_count": 30,
   "metadata": {},
   "outputs": [
    {
     "ename": "TypeError",
     "evalue": "'Column' object is not callable",
     "output_type": "error",
     "traceback": [
      "\u001b[0;31m---------------------------------------------------------------------------\u001b[0m",
      "\u001b[0;31mTypeError\u001b[0m                                 Traceback (most recent call last)",
      "\u001b[0;32m<ipython-input-30-514f470f9b08>\u001b[0m in \u001b[0;36m<module>\u001b[0;34m()\u001b[0m\n\u001b[1;32m      1\u001b[0m cdc2['358_cause_recode'] = cdc2['358_cause_recode'].apply(\n\u001b[0;32m----> 2\u001b[0;31m     lambda x: code_maps_2005[\"358_cause_recode\"][str(x)])\n\u001b[0m",
      "\u001b[0;31mTypeError\u001b[0m: 'Column' object is not callable"
     ]
    }
   ],
   "source": [
    "cdc2['358_cause_recode'] = cdc2['358_cause_recode'].apply(\n",
    "    lambda x: code_maps_2005[\"358_cause_recode\"][str(x)])"
   ]
  },
  {
   "cell_type": "code",
   "execution_count": 31,
   "metadata": {},
   "outputs": [
    {
     "name": "stdout",
     "output_type": "stream",
     "text": [
      "+--------------+---+-------+\n",
      "|month_of_death|sex|  count|\n",
      "+--------------+---+-------+\n",
      "|            12|  M|1237273|\n",
      "|            02|  M|1147291|\n",
      "|            01|  M|1269199|\n",
      "|            09|  M|1081367|\n",
      "|            10|  M|1147902|\n",
      "|            04|  M|1145743|\n",
      "|            06|  M|1087923|\n",
      "|            08|  M|1107852|\n",
      "|            07|  M|1116795|\n",
      "|            11|  M|1142803|\n",
      "|            05|  M|1144327|\n",
      "|            03|  M|1231322|\n",
      "|            11|  F|1142673|\n",
      "|            07|  F|1088399|\n",
      "|            12|  F|1242317|\n",
      "|            02|  F|1177388|\n",
      "|            09|  F|1065444|\n",
      "|            06|  F|1066368|\n",
      "|            10|  F|1144472|\n",
      "|            03|  F|1262972|\n",
      "+--------------+---+-------+\n",
      "only showing top 20 rows\n",
      "\n"
     ]
    }
   ],
   "source": [
    "cdc2.groupBy('month_of_death','sex').count().orderBy('sex', ascending=False).show()"
   ]
  },
  {
   "cell_type": "code",
   "execution_count": null,
   "metadata": {},
   "outputs": [],
   "source": []
  },
  {
   "cell_type": "code",
   "execution_count": null,
   "metadata": {},
   "outputs": [],
   "source": []
  },
  {
   "cell_type": "code",
   "execution_count": 32,
   "metadata": {},
   "outputs": [
    {
     "name": "stdout",
     "output_type": "stream",
     "text": [
      "+---------------+--------+\n",
      "|manner_of_death|   count|\n",
      "+---------------+--------+\n",
      "|              7|19914162|\n",
      "|              8| 5656790|\n",
      "|              1| 1350268|\n",
      "|              2|  423361|\n",
      "|              3|  200528|\n",
      "|              5|  119756|\n",
      "|              4|   55808|\n",
      "+---------------+--------+\n",
      "\n"
     ]
    }
   ],
   "source": [
    "cdc2.groupBy('manner_of_death').count().orderBy('count', ascending=False).show()"
   ]
  },
  {
   "cell_type": "code",
   "execution_count": null,
   "metadata": {},
   "outputs": [],
   "source": []
  },
  {
   "cell_type": "code",
   "execution_count": null,
   "metadata": {},
   "outputs": [],
   "source": []
  },
  {
   "cell_type": "code",
   "execution_count": null,
   "metadata": {},
   "outputs": [],
   "source": []
  },
  {
   "cell_type": "code",
   "execution_count": null,
   "metadata": {},
   "outputs": [],
   "source": [
    "plt.hist(cdc2.manner_of_death & 50,  facecolor='g', alpha=0.75)\n",
    "plt.show"
   ]
  },
  {
   "cell_type": "code",
   "execution_count": null,
   "metadata": {},
   "outputs": [],
   "source": [
    "plt.figure()\n",
    "plt.title('manner of death vs age vs sex', fontsize=18)\n",
    "_ = plt.hist(cdc2.manner_of_death,20, alpha=0.9, label='M+F')\n",
    "_ = plt.hist(cdc2[cdc2.sex == 'M'].age_recode_52.tolist(), 20, alpha=0.5, label='M')\n",
    "_ = plt.hist(cdc2[cdc2.sex == 'F'].age_recode_52.tolist(), 20, alpha=0.5, label='F')\n",
    "_ = plt.legend()"
   ]
  },
  {
   "cell_type": "code",
   "execution_count": 33,
   "metadata": {},
   "outputs": [
    {
     "name": "stdout",
     "output_type": "stream",
     "text": [
      "+-----------------+----------+\n",
      "|current_data_year|count(sex)|\n",
      "+-----------------+----------+\n",
      "|             2012|   2547864|\n",
      "|             2014|   2631171|\n",
      "|             2013|   2601452|\n",
      "|             2005|   2452506|\n",
      "|             2009|   2441219|\n",
      "|             2006|   2430725|\n",
      "|             2011|   2519842|\n",
      "|             2008|   2476811|\n",
      "|             2007|   2428343|\n",
      "|             2015|   2718198|\n",
      "|             2010|   2472542|\n",
      "+-----------------+----------+\n",
      "\n"
     ]
    },
    {
     "data": {
      "text/plain": [
       "None"
      ]
     },
     "metadata": {},
     "output_type": "display_data"
    }
   ],
   "source": [
    "display(cdc2.select(\"sex\",\"current_data_year\").groupBy(\"current_data_year\").agg(count(\"sex\")).show())"
   ]
  },
  {
   "cell_type": "code",
   "execution_count": 34,
   "metadata": {},
   "outputs": [
    {
     "name": "stdout",
     "output_type": "stream",
     "text": [
      "+-----------------------------------+-------+\n",
      "|Place_of_death_and_decedents_status|  count|\n",
      "+-----------------------------------+-------+\n",
      "|                                  1|9172308|\n",
      "|                                  4|7504084|\n",
      "|                                  6|5782818|\n",
      "|                                  2|1904155|\n",
      "|                                  7|1888985|\n",
      "|                                  5|1287142|\n",
      "|                                  3| 181181|\n",
      "+-----------------------------------+-------+\n",
      "\n"
     ]
    }
   ],
   "source": [
    "cdc2.groupBy('Place_of_death_and_decedents_status').count().orderBy('count', ascending=False).show()"
   ]
  },
  {
   "cell_type": "code",
   "execution_count": null,
   "metadata": {},
   "outputs": [],
   "source": [
    "\n",
    "sqlctx =SQLContext(sc)"
   ]
  },
  {
   "cell_type": "code",
   "execution_count": null,
   "metadata": {},
   "outputs": [],
   "source": [
    "from pyspark import SparkConf, SparkContext\n",
    "from pyspark.sql import SQLContext\n",
    "\n",
    "conf = SparkConf().setAppName(\"project big data\")\n",
    "sc = SparkContext(conf=conf)\n",
    "sqlCtx = SQLContext(sc)"
   ]
  },
  {
   "cell_type": "code",
   "execution_count": null,
   "metadata": {},
   "outputs": [],
   "source": [
    "from pyspark.sql import Row\n",
    "\n",
    "cdc2.registerTempTable(\"largeTable\")\n",
    "display(sqlContext.sql(\"select * from largeTable\"))"
   ]
  },
  {
   "cell_type": "code",
   "execution_count": 35,
   "metadata": {},
   "outputs": [],
   "source": [
    "from pyspark import SparkConf, SparkContext\n",
    "from pyspark.sql import SparkSession, SQLContext\n",
    "from pyspark.sql.types import *\n",
    "import pyspark.sql.functions as fn\n",
    "from pyspark.sql.functions import col, udf\n"
   ]
  },
  {
   "cell_type": "code",
   "execution_count": 36,
   "metadata": {},
   "outputs": [
    {
     "ename": "AttributeError",
     "evalue": "type object 'SQLContext' has no attribute '_jsc'",
     "output_type": "error",
     "traceback": [
      "\u001b[0;31m---------------------------------------------------------------------------\u001b[0m",
      "\u001b[0;31mAttributeError\u001b[0m                            Traceback (most recent call last)",
      "\u001b[0;32m<ipython-input-36-f320abbef9b9>\u001b[0m in \u001b[0;36m<module>\u001b[0;34m()\u001b[0m\n\u001b[1;32m      1\u001b[0m \u001b[0;32mfrom\u001b[0m \u001b[0mpyspark\u001b[0m\u001b[0;34m.\u001b[0m\u001b[0msql\u001b[0m \u001b[0;32mimport\u001b[0m \u001b[0mSQLContext\u001b[0m \u001b[0;32mas\u001b[0m \u001b[0msc\u001b[0m\u001b[0;34m\u001b[0m\u001b[0m\n\u001b[1;32m      2\u001b[0m \u001b[0;32mfrom\u001b[0m \u001b[0mpyspark\u001b[0m\u001b[0;34m.\u001b[0m\u001b[0msql\u001b[0m \u001b[0;32mimport\u001b[0m \u001b[0mRow\u001b[0m\u001b[0;34m\u001b[0m\u001b[0m\n\u001b[0;32m----> 3\u001b[0;31m \u001b[0msqlContext\u001b[0m \u001b[0;34m=\u001b[0m \u001b[0mSQLContext\u001b[0m\u001b[0;34m(\u001b[0m\u001b[0msc\u001b[0m\u001b[0;34m)\u001b[0m\u001b[0;34m\u001b[0m\u001b[0m\n\u001b[0m\u001b[1;32m      4\u001b[0m \u001b[0mcdc2\u001b[0m\u001b[0;34m.\u001b[0m\u001b[0mregisterTempTable\u001b[0m\u001b[0;34m(\u001b[0m\u001b[0;34m\"largeTable\"\u001b[0m\u001b[0;34m)\u001b[0m\u001b[0;34m\u001b[0m\u001b[0m\n\u001b[1;32m      5\u001b[0m \u001b[0mdisplay\u001b[0m\u001b[0;34m(\u001b[0m\u001b[0msqlContext\u001b[0m\u001b[0;34m.\u001b[0m\u001b[0msql\u001b[0m\u001b[0;34m(\u001b[0m\u001b[0;34m\"select * from largeTable\"\u001b[0m\u001b[0;34m)\u001b[0m\u001b[0;34m)\u001b[0m\u001b[0;34m\u001b[0m\u001b[0m\n",
      "\u001b[0;32m~/anaconda3/envs/python3/lib/python3.6/site-packages/pyspark/sql/context.py\u001b[0m in \u001b[0;36m__init__\u001b[0;34m(self, sparkContext, sparkSession, jsqlContext)\u001b[0m\n\u001b[1;32m     71\u001b[0m         \"\"\"\n\u001b[1;32m     72\u001b[0m         \u001b[0mself\u001b[0m\u001b[0;34m.\u001b[0m\u001b[0m_sc\u001b[0m \u001b[0;34m=\u001b[0m \u001b[0msparkContext\u001b[0m\u001b[0;34m\u001b[0m\u001b[0m\n\u001b[0;32m---> 73\u001b[0;31m         \u001b[0mself\u001b[0m\u001b[0;34m.\u001b[0m\u001b[0m_jsc\u001b[0m \u001b[0;34m=\u001b[0m \u001b[0mself\u001b[0m\u001b[0;34m.\u001b[0m\u001b[0m_sc\u001b[0m\u001b[0;34m.\u001b[0m\u001b[0m_jsc\u001b[0m\u001b[0;34m\u001b[0m\u001b[0m\n\u001b[0m\u001b[1;32m     74\u001b[0m         \u001b[0mself\u001b[0m\u001b[0;34m.\u001b[0m\u001b[0m_jvm\u001b[0m \u001b[0;34m=\u001b[0m \u001b[0mself\u001b[0m\u001b[0;34m.\u001b[0m\u001b[0m_sc\u001b[0m\u001b[0;34m.\u001b[0m\u001b[0m_jvm\u001b[0m\u001b[0;34m\u001b[0m\u001b[0m\n\u001b[1;32m     75\u001b[0m         \u001b[0;32mif\u001b[0m \u001b[0msparkSession\u001b[0m \u001b[0;32mis\u001b[0m \u001b[0;32mNone\u001b[0m\u001b[0;34m:\u001b[0m\u001b[0;34m\u001b[0m\u001b[0m\n",
      "\u001b[0;31mAttributeError\u001b[0m: type object 'SQLContext' has no attribute '_jsc'"
     ]
    }
   ],
   "source": [
    "from pyspark.sql import SQLContext as sc\n",
    "from pyspark.sql import Row\n",
    "sqlContext = SQLContext(sc)\n",
    "cdc2.registerTempTable(\"largeTable\")\n",
    "display(sqlContext.sql(\"select * from largeTable\"))"
   ]
  },
  {
   "cell_type": "code",
   "execution_count": null,
   "metadata": {},
   "outputs": [],
   "source": [
    "cdc2.registerTempTable(\"largeTable\")"
   ]
  },
  {
   "cell_type": "code",
   "execution_count": null,
   "metadata": {},
   "outputs": [],
   "source": [
    "largeTable"
   ]
  },
  {
   "cell_type": "code",
   "execution_count": null,
   "metadata": {},
   "outputs": [],
   "source": []
  },
  {
   "cell_type": "code",
   "execution_count": null,
   "metadata": {},
   "outputs": [],
   "source": [
    "from pyspark.sql import Row\n",
    "\n",
    "cdc2.registerTempTable(\"largeTable\")\n",
    "sqlContext.sql()"
   ]
  },
  {
   "cell_type": "code",
   "execution_count": null,
   "metadata": {},
   "outputs": [],
   "source": [
    "from pyspark.sql import SQLContext\n",
    "sqlContext = SQLContext(sc)"
   ]
  },
  {
   "cell_type": "code",
   "execution_count": null,
   "metadata": {},
   "outputs": [],
   "source": [
    "cdc2.registerTempTable(\"largeTable\")\n",
    " MAGIC %sql Select * from largeTable"
   ]
  },
  {
   "cell_type": "code",
   "execution_count": null,
   "metadata": {},
   "outputs": [],
   "source": [
    "import sparkmagic as MAGIC"
   ]
  },
  {
   "cell_type": "code",
   "execution_count": null,
   "metadata": {},
   "outputs": [],
   "source": [
    "cdc2.groupBy('358_cause_recode').count().orderBy('count', ascending=False).show()"
   ]
  },
  {
   "cell_type": "code",
   "execution_count": null,
   "metadata": {},
   "outputs": [],
   "source": [
    "cdc2.filter(cdc2.358_cause_recode == 1).count()"
   ]
  },
  {
   "cell_type": "code",
   "execution_count": 37,
   "metadata": {},
   "outputs": [],
   "source": [
    "cdc = cdc2"
   ]
  },
  {
   "cell_type": "code",
   "execution_count": 38,
   "metadata": {},
   "outputs": [
    {
     "name": "stdout",
     "output_type": "stream",
     "text": [
      "root\n",
      " |-- resident_status: string (nullable = true)\n",
      " |-- education_2003_revision: string (nullable = true)\n",
      " |-- month_of_death: string (nullable = true)\n",
      " |-- sex: string (nullable = true)\n",
      " |-- age_recode_52: string (nullable = true)\n",
      " |-- Place_of_death_and_decedents_status: string (nullable = false)\n",
      " |-- marital_status: string (nullable = true)\n",
      " |-- day_of_week_of_death: string (nullable = true)\n",
      " |-- current_data_year: string (nullable = true)\n",
      " |-- injury_at_work: string (nullable = true)\n",
      " |-- manner_of_death: string (nullable = false)\n",
      " |-- method_of_disposition: string (nullable = true)\n",
      " |-- autopsy: string (nullable = true)\n",
      " |-- activity_code: string (nullable = false)\n",
      " |-- place_of_injury_for_causes_w00_y34_except_y06_and_y07_: string (nullable = false)\n",
      " |-- 358_cause_recode: string (nullable = true)\n",
      " |-- 113_cause_recode: string (nullable = true)\n",
      " |-- 130_infant_cause_recode: string (nullable = false)\n",
      " |-- 39_cause_recode: string (nullable = true)\n",
      " |-- number_of_entity_axis_conditions: string (nullable = true)\n",
      " |-- number_of_record_axis_conditions: string (nullable = true)\n",
      " |-- race: string (nullable = true)\n",
      " |-- race_recode_3: string (nullable = true)\n",
      " |-- race_recode_5: string (nullable = true)\n",
      " |-- hispanic_originrace_recode: string (nullable = true)\n",
      "\n"
     ]
    }
   ],
   "source": [
    "cdc.printSchema()"
   ]
  },
  {
   "cell_type": "code",
   "execution_count": 39,
   "metadata": {},
   "outputs": [
    {
     "name": "stdout",
     "output_type": "stream",
     "text": [
      "+---------------+---+------+\n",
      "|manner_of_death|sex| count|\n",
      "+---------------+---+------+\n",
      "|              1|  M|872090|\n",
      "|              1|  F|478178|\n",
      "+---------------+---+------+\n",
      "\n"
     ]
    }
   ],
   "source": [
    "cdc.where(cdc.manner_of_death == 1).groupby('manner_of_death','sex').count().show()"
   ]
  },
  {
   "cell_type": "code",
   "execution_count": 40,
   "metadata": {},
   "outputs": [
    {
     "name": "stdout",
     "output_type": "stream",
     "text": [
      "+---------------+---+------+\n",
      "|manner_of_death|sex| count|\n",
      "+---------------+---+------+\n",
      "|              2|  F| 91819|\n",
      "|              2|  M|331542|\n",
      "+---------------+---+------+\n",
      "\n"
     ]
    }
   ],
   "source": [
    "cdc.where(cdc.manner_of_death == 2).groupby('manner_of_death','sex').count().show()"
   ]
  },
  {
   "cell_type": "code",
   "execution_count": 43,
   "metadata": {},
   "outputs": [
    {
     "name": "stdout",
     "output_type": "stream",
     "text": [
      "+---------------+-------+\n",
      "|manner_of_death|  count|\n",
      "+---------------+-------+\n",
      "|              7|9711177|\n",
      "|              8|2678946|\n",
      "|              1| 872090|\n",
      "|              2| 331542|\n",
      "|              3| 158757|\n",
      "|              5|  72076|\n",
      "|              4|  35209|\n",
      "+---------------+-------+\n",
      "\n"
     ]
    }
   ],
   "source": [
    "cdc.where(cdc.sex == 'M').groupby('manner_of_death').count().orderBy('count',ascending=False).show()"
   ]
  },
  {
   "cell_type": "code",
   "execution_count": 52,
   "metadata": {},
   "outputs": [
    {
     "name": "stdout",
     "output_type": "stream",
     "text": [
      "+-------------+---+------+\n",
      "|race_recode_3|sex| count|\n",
      "+-------------+---+------+\n",
      "|            1|  M|299948|\n",
      "|            3|  M| 19859|\n",
      "|            2|  M| 11735|\n",
      "+-------------+---+------+\n",
      "\n"
     ]
    }
   ],
   "source": [
    "cdc.where((cdc.manner_of_death==2) & (cdc.sex=='M')).groupby('race_recode_3','sex').count().orderBy('count',ascending=False).show()"
   ]
  },
  {
   "cell_type": "code",
   "execution_count": 53,
   "metadata": {},
   "outputs": [
    {
     "name": "stdout",
     "output_type": "stream",
     "text": [
      "+-------------+---+-----+\n",
      "|race_recode_3|sex|count|\n",
      "+-------------+---+-----+\n",
      "|            1|  F|82652|\n",
      "|            2|  F| 4682|\n",
      "|            3|  F| 4485|\n",
      "+-------------+---+-----+\n",
      "\n"
     ]
    }
   ],
   "source": [
    "cdc.where((cdc.manner_of_death==2) & (cdc.sex=='F')).groupby('race_recode_3','sex').count().orderBy('count',ascending=False).show()"
   ]
  },
  {
   "cell_type": "code",
   "execution_count": 54,
   "metadata": {},
   "outputs": [
    {
     "name": "stdout",
     "output_type": "stream",
     "text": [
      "+-------------+---+-----+\n",
      "|race_recode_3|sex|count|\n",
      "+-------------+---+-----+\n",
      "|            3|  M|81232|\n",
      "|            1|  M|72238|\n",
      "|            2|  M| 5287|\n",
      "+-------------+---+-----+\n",
      "\n"
     ]
    }
   ],
   "source": [
    "cdc.where((cdc.manner_of_death==3) & (cdc.sex=='M')).groupby('race_recode_3','sex').count().orderBy('count',ascending=False).show()"
   ]
  },
  {
   "cell_type": "code",
   "execution_count": 67,
   "metadata": {},
   "outputs": [
    {
     "name": "stdout",
     "output_type": "stream",
     "text": [
      "+-----------------+------+\n",
      "|current_data_year| count|\n",
      "+-----------------+------+\n",
      "|             2005|379968|\n",
      "|             2006|361042|\n",
      "|             2007|343807|\n",
      "|             2008|343078|\n",
      "|             2009|325767|\n",
      "|             2010|318397|\n",
      "|             2011|312899|\n",
      "|             2012|309038|\n",
      "|             2013|307286|\n",
      "|             2014|300958|\n",
      "|             2015|302695|\n",
      "+-----------------+------+\n",
      "\n"
     ]
    }
   ],
   "source": [
    "#deaths due to heart disease, decreasing trend\n",
    "cdc.where((cdc.death_cause== 215)| (cdc.death_cause==211)).groupby('current_data_year').count().orderBy('current_data_year',ascending=True).show()"
   ]
  },
  {
   "cell_type": "code",
   "execution_count": 69,
   "metadata": {},
   "outputs": [
    {
     "ename": "AnalysisException",
     "evalue": "\"cannot resolve '`current_data_year`' given input columns: [age_recode_52, count];;\\n'Sort ['current_data_year ASC NULLS FIRST], true\\n+- Aggregate [age_recode_52#21], [age_recode_52#21, count(1) AS count#2977L]\\n   +- Filter ((cast(death_cause#2609 as int) = 215) || (cast(death_cause#2609 as int) = 211))\\n      +- Project [resident_status#12, education_2003_revision#1757, month_of_death#16, sex#17, age_recode_52#21, Place_of_death_and_decedents_status#943, marital_status#26, day_of_week_of_death#27, current_data_year#28, injury_at_work#29, manner_of_death#624, method_of_disposition#863, autopsy#32, activity_code#545, place_of_injury_for_causes_w00_y34_except_y06_and_y07_#387, 358_cause_recode#36 AS death_cause#2609, 113_cause_recode#37, 130_infant_cause_recode#466, 39_cause_recode#39, number_of_entity_axis_conditions#40, number_of_record_axis_conditions#61, race#82, race_recode_3#85, race_recode_5#86, hispanic_originrace_recode#88]\\n         +- Project [resident_status#12, education_2003_revision#1757, month_of_death#16, sex#17, age_recode_52#21, Place_of_death_and_decedents_status#943, marital_status#26, day_of_week_of_death#27, current_data_year#28, injury_at_work#29, manner_of_death#624, method_of_disposition#863, autopsy#32, activity_code#545, place_of_injury_for_causes_w00_y34_except_y06_and_y07_#387, 358_cause_recode#36, 113_cause_recode#37, 130_infant_cause_recode#466, 39_cause_recode#39, number_of_entity_axis_conditions#40, number_of_record_axis_conditions#61, race#82, race_recode_3#85, race_recode_5#86, hispanic_originrace_recode#88]\\n            +- Filter isnotnull(education_2003_revision#1757)\\n               +- Project [resident_status#12, education_1989_revision#1717, coalesce(education_2003_revision#14, education_1989_revision#1717) AS education_2003_revision#1757, education_reporting_flag#15, month_of_death#16, sex#17, age_recode_52#21, Place_of_death_and_decedents_status#943, marital_status#26, day_of_week_of_death#27, current_data_year#28, injury_at_work#29, manner_of_death#624, method_of_disposition#863, autopsy#32, activity_code#545, place_of_injury_for_causes_w00_y34_except_y06_and_y07_#387, 358_cause_recode#36, 113_cause_recode#37, 130_infant_cause_recode#466, 39_cause_recode#39, number_of_entity_axis_conditions#40, entity_condition_1#41, entity_condition_2#42, ... 14 more fields]\\n                  +- Project [resident_status#12, regexp_replace(education_1989_revision#1677, 99, 9) AS education_1989_revision#1717, education_2003_revision#14, education_reporting_flag#15, month_of_death#16, sex#17, age_recode_52#21, Place_of_death_and_decedents_status#943, marital_status#26, day_of_week_of_death#27, current_data_year#28, injury_at_work#29, manner_of_death#624, method_of_disposition#863, autopsy#32, activity_code#545, place_of_injury_for_causes_w00_y34_except_y06_and_y07_#387, 358_cause_recode#36, 113_cause_recode#37, 130_infant_cause_recode#466, 39_cause_recode#39, number_of_entity_axis_conditions#40, entity_condition_1#41, entity_condition_2#42, ... 14 more fields]\\n                     +- Project [resident_status#12, regexp_replace(education_1989_revision#1637, 17, 7) AS education_1989_revision#1677, education_2003_revision#14, education_reporting_flag#15, month_of_death#16, sex#17, age_recode_52#21, Place_of_death_and_decedents_status#943, marital_status#26, day_of_week_of_death#27, current_data_year#28, injury_at_work#29, manner_of_death#624, method_of_disposition#863, autopsy#32, activity_code#545, place_of_injury_for_causes_w00_y34_except_y06_and_y07_#387, 358_cause_recode#36, 113_cause_recode#37, 130_infant_cause_recode#466, 39_cause_recode#39, number_of_entity_axis_conditions#40, entity_condition_1#41, entity_condition_2#42, ... 14 more fields]\\n                        +- Project [resident_status#12, regexp_replace(education_1989_revision#1597, 16, 6) AS education_1989_revision#1637, education_2003_revision#14, education_reporting_flag#15, month_of_death#16, sex#17, age_recode_52#21, Place_of_death_and_decedents_status#943, marital_status#26, day_of_week_of_death#27, current_data_year#28, injury_at_work#29, manner_of_death#624, method_of_disposition#863, autopsy#32, activity_code#545, place_of_injury_for_causes_w00_y34_except_y06_and_y07_#387, 358_cause_recode#36, 113_cause_recode#37, 130_infant_cause_recode#466, 39_cause_recode#39, number_of_entity_axis_conditions#40, entity_condition_1#41, entity_condition_2#42, ... 14 more fields]\\n                           +- Project [resident_status#12, regexp_replace(education_1989_revision#1557, 15, 5) AS education_1989_revision#1597, education_2003_revision#14, education_reporting_flag#15, month_of_death#16, sex#17, age_recode_52#21, Place_of_death_and_decedents_status#943, marital_status#26, day_of_week_of_death#27, current_data_year#28, injury_at_work#29, manner_of_death#624, method_of_disposition#863, autopsy#32, activity_code#545, place_of_injury_for_causes_w00_y34_except_y06_and_y07_#387, 358_cause_recode#36, 113_cause_recode#37, 130_infant_cause_recode#466, 39_cause_recode#39, number_of_entity_axis_conditions#40, entity_condition_1#41, entity_condition_2#42, ... 14 more fields]\\n                              +- Project [resident_status#12, regexp_replace(education_1989_revision#1517, 14, 4) AS education_1989_revision#1557, education_2003_revision#14, education_reporting_flag#15, month_of_death#16, sex#17, age_recode_52#21, Place_of_death_and_decedents_status#943, marital_status#26, day_of_week_of_death#27, current_data_year#28, injury_at_work#29, manner_of_death#624, method_of_disposition#863, autopsy#32, activity_code#545, place_of_injury_for_causes_w00_y34_except_y06_and_y07_#387, 358_cause_recode#36, 113_cause_recode#37, 130_infant_cause_recode#466, 39_cause_recode#39, number_of_entity_axis_conditions#40, entity_condition_1#41, entity_condition_2#42, ... 14 more fields]\\n                                 +- Project [resident_status#12, regexp_replace(education_1989_revision#1477, 13, 4) AS education_1989_revision#1517, education_2003_revision#14, education_reporting_flag#15, month_of_death#16, sex#17, age_recode_52#21, Place_of_death_and_decedents_status#943, marital_status#26, day_of_week_of_death#27, current_data_year#28, injury_at_work#29, manner_of_death#624, method_of_disposition#863, autopsy#32, activity_code#545, place_of_injury_for_causes_w00_y34_except_y06_and_y07_#387, 358_cause_recode#36, 113_cause_recode#37, 130_infant_cause_recode#466, 39_cause_recode#39, number_of_entity_axis_conditions#40, entity_condition_1#41, entity_condition_2#42, ... 14 more fields]\\n                                    +- Project [resident_status#12, regexp_replace(education_1989_revision#1437, 12, 3) AS education_1989_revision#1477, education_2003_revision#14, education_reporting_flag#15, month_of_death#16, sex#17, age_recode_52#21, Place_of_death_and_decedents_status#943, marital_status#26, day_of_week_of_death#27, current_data_year#28, injury_at_work#29, manner_of_death#624, method_of_disposition#863, autopsy#32, activity_code#545, place_of_injury_for_causes_w00_y34_except_y06_and_y07_#387, 358_cause_recode#36, 113_cause_recode#37, 130_infant_cause_recode#466, 39_cause_recode#39, number_of_entity_axis_conditions#40, entity_condition_1#41, entity_condition_2#42, ... 14 more fields]\\n                                       +- Project [resident_status#12, regexp_replace(education_1989_revision#1397, 11, 2) AS education_1989_revision#1437, education_2003_revision#14, education_reporting_flag#15, month_of_death#16, sex#17, age_recode_52#21, Place_of_death_and_decedents_status#943, marital_status#26, day_of_week_of_death#27, current_data_year#28, injury_at_work#29, manner_of_death#624, method_of_disposition#863, autopsy#32, activity_code#545, place_of_injury_for_causes_w00_y34_except_y06_and_y07_#387, 358_cause_recode#36, 113_cause_recode#37, 130_infant_cause_recode#466, 39_cause_recode#39, number_of_entity_axis_conditions#40, entity_condition_1#41, entity_condition_2#42, ... 14 more fields]\\n                                          +- Project [resident_status#12, regexp_replace(education_1989_revision#1357, 10, 2) AS education_1989_revision#1397, education_2003_revision#14, education_reporting_flag#15, month_of_death#16, sex#17, age_recode_52#21, Place_of_death_and_decedents_status#943, marital_status#26, day_of_week_of_death#27, current_data_year#28, injury_at_work#29, manner_of_death#624, method_of_disposition#863, autopsy#32, activity_code#545, place_of_injury_for_causes_w00_y34_except_y06_and_y07_#387, 358_cause_recode#36, 113_cause_recode#37, 130_infant_cause_recode#466, 39_cause_recode#39, number_of_entity_axis_conditions#40, entity_condition_1#41, entity_condition_2#42, ... 14 more fields]\\n                                             +- Project [resident_status#12, regexp_replace(education_1989_revision#1317, 09, 2) AS education_1989_revision#1357, education_2003_revision#14, education_reporting_flag#15, month_of_death#16, sex#17, age_recode_52#21, Place_of_death_and_decedents_status#943, marital_status#26, day_of_week_of_death#27, current_data_year#28, injury_at_work#29, manner_of_death#624, method_of_disposition#863, autopsy#32, activity_code#545, place_of_injury_for_causes_w00_y34_except_y06_and_y07_#387, 358_cause_recode#36, 113_cause_recode#37, 130_infant_cause_recode#466, 39_cause_recode#39, number_of_entity_axis_conditions#40, entity_condition_1#41, entity_condition_2#42, ... 14 more fields]\\n                                                +- Project [resident_status#12, regexp_replace(education_1989_revision#1277, 08, 1) AS education_1989_revision#1317, education_2003_revision#14, education_reporting_flag#15, month_of_death#16, sex#17, age_recode_52#21, Place_of_death_and_decedents_status#943, marital_status#26, day_of_week_of_death#27, current_data_year#28, injury_at_work#29, manner_of_death#624, method_of_disposition#863, autopsy#32, activity_code#545, place_of_injury_for_causes_w00_y34_except_y06_and_y07_#387, 358_cause_recode#36, 113_cause_recode#37, 130_infant_cause_recode#466, 39_cause_recode#39, number_of_entity_axis_conditions#40, entity_condition_1#41, entity_condition_2#42, ... 14 more fields]\\n                                                   +- Project [resident_status#12, regexp_replace(education_1989_revision#1237, 07, 1) AS education_1989_revision#1277, education_2003_revision#14, education_reporting_flag#15, month_of_death#16, sex#17, age_recode_52#21, Place_of_death_and_decedents_status#943, marital_status#26, day_of_week_of_death#27, current_data_year#28, injury_at_work#29, manner_of_death#624, method_of_disposition#863, autopsy#32, activity_code#545, place_of_injury_for_causes_w00_y34_except_y06_and_y07_#387, 358_cause_recode#36, 113_cause_recode#37, 130_infant_cause_recode#466, 39_cause_recode#39, number_of_entity_axis_conditions#40, entity_condition_1#41, entity_condition_2#42, ... 14 more fields]\\n                                                      +- Project [resident_status#12, regexp_replace(education_1989_revision#1197, 06, 1) AS education_1989_revision#1237, education_2003_revision#14, education_reporting_flag#15, month_of_death#16, sex#17, age_recode_52#21, Place_of_death_and_decedents_status#943, marital_status#26, day_of_week_of_death#27, current_data_year#28, injury_at_work#29, manner_of_death#624, method_of_disposition#863, autopsy#32, activity_code#545, place_of_injury_for_causes_w00_y34_except_y06_and_y07_#387, 358_cause_recode#36, 113_cause_recode#37, 130_infant_cause_recode#466, 39_cause_recode#39, number_of_entity_axis_conditions#40, entity_condition_1#41, entity_condition_2#42, ... 14 more fields]\\n                                                         +- Project [resident_status#12, regexp_replace(education_1989_revision#1157, 05, 1) AS education_1989_revision#1197, education_2003_revision#14, education_reporting_flag#15, month_of_death#16, sex#17, age_recode_52#21, Place_of_death_and_decedents_status#943, marital_status#26, day_of_week_of_death#27, current_data_year#28, injury_at_work#29, manner_of_death#624, method_of_disposition#863, autopsy#32, activity_code#545, place_of_injury_for_causes_w00_y34_except_y06_and_y07_#387, 358_cause_recode#36, 113_cause_recode#37, 130_infant_cause_recode#466, 39_cause_recode#39, number_of_entity_axis_conditions#40, entity_condition_1#41, entity_condition_2#42, ... 14 more fields]\\n                                                            +- Project [resident_status#12, regexp_replace(education_1989_revision#1117, 04, 1) AS education_1989_revision#1157, education_2003_revision#14, education_reporting_flag#15, month_of_death#16, sex#17, age_recode_52#21, Place_of_death_and_decedents_status#943, marital_status#26, day_of_week_of_death#27, current_data_year#28, injury_at_work#29, manner_of_death#624, method_of_disposition#863, autopsy#32, activity_code#545, place_of_injury_for_causes_w00_y34_except_y06_and_y07_#387, 358_cause_recode#36, 113_cause_recode#37, 130_infant_cause_recode#466, 39_cause_recode#39, number_of_entity_axis_conditions#40, entity_condition_1#41, entity_condition_2#42, ... 14 more fields]\\n                                                               +- Project [resident_status#12, regexp_replace(education_1989_revision#1077, 03, 1) AS education_1989_revision#1117, education_2003_revision#14, education_reporting_flag#15, month_of_death#16, sex#17, age_recode_52#21, Place_of_death_and_decedents_status#943, marital_status#26, day_of_week_of_death#27, current_data_year#28, injury_at_work#29, manner_of_death#624, method_of_disposition#863, autopsy#32, activity_code#545, place_of_injury_for_causes_w00_y34_except_y06_and_y07_#387, 358_cause_recode#36, 113_cause_recode#37, 130_infant_cause_recode#466, 39_cause_recode#39, number_of_entity_axis_conditions#40, entity_condition_1#41, entity_condition_2#42, ... 14 more fields]\\n                                                                  +- Project [resident_status#12, regexp_replace(education_1989_revision#1037, 02, 1) AS education_1989_revision#1077, education_2003_revision#14, education_reporting_flag#15, month_of_death#16, sex#17, age_recode_52#21, Place_of_death_and_decedents_status#943, marital_status#26, day_of_week_of_death#27, current_data_year#28, injury_at_work#29, manner_of_death#624, method_of_disposition#863, autopsy#32, activity_code#545, place_of_injury_for_causes_w00_y34_except_y06_and_y07_#387, 358_cause_recode#36, 113_cause_recode#37, 130_infant_cause_recode#466, 39_cause_recode#39, number_of_entity_axis_conditions#40, entity_condition_1#41, entity_condition_2#42, ... 14 more fields]\\n                                                                     +- Project [resident_status#12, regexp_replace(education_1989_revision#997, 01, 1) AS education_1989_revision#1037, education_2003_revision#14, education_reporting_flag#15, month_of_death#16, sex#17, age_recode_52#21, Place_of_death_and_decedents_status#943, marital_status#26, day_of_week_of_death#27, current_data_year#28, injury_at_work#29, manner_of_death#624, method_of_disposition#863, autopsy#32, activity_code#545, place_of_injury_for_causes_w00_y34_except_y06_and_y07_#387, 358_cause_recode#36, 113_cause_recode#37, 130_infant_cause_recode#466, 39_cause_recode#39, number_of_entity_axis_conditions#40, entity_condition_1#41, entity_condition_2#42, ... 14 more fields]\\n                                                                        +- Project [resident_status#12, regexp_replace(education_1989_revision#13, 00, 1) AS education_1989_revision#997, education_2003_revision#14, education_reporting_flag#15, month_of_death#16, sex#17, age_recode_52#21, Place_of_death_and_decedents_status#943, marital_status#26, day_of_week_of_death#27, current_data_year#28, injury_at_work#29, manner_of_death#624, method_of_disposition#863, autopsy#32, activity_code#545, place_of_injury_for_causes_w00_y34_except_y06_and_y07_#387, 358_cause_recode#36, 113_cause_recode#37, 130_infant_cause_recode#466, 39_cause_recode#39, number_of_entity_axis_conditions#40, entity_condition_1#41, entity_condition_2#42, ... 14 more fields]\\n                                                                           +- Project [resident_status#12, education_1989_revision#13, education_2003_revision#14, education_reporting_flag#15, month_of_death#16, sex#17, age_recode_52#21, CASE WHEN (cast(Place_of_death_and_decedents_status#903 as int) = 9) THEN cast(7 as string) ELSE Place_of_death_and_decedents_status#903 END AS Place_of_death_and_decedents_status#943, marital_status#26, day_of_week_of_death#27, current_data_year#28, injury_at_work#29, manner_of_death#624, method_of_disposition#863, autopsy#32, activity_code#545, place_of_injury_for_causes_w00_y34_except_y06_and_y07_#387, 358_cause_recode#36, 113_cause_recode#37, 130_infant_cause_recode#466, 39_cause_recode#39, number_of_entity_axis_conditions#40, entity_condition_1#41, entity_condition_2#42, ... 14 more fields]\\n                                                                              +- Project [resident_status#12, education_1989_revision#13, education_2003_revision#14, education_reporting_flag#15, month_of_death#16, sex#17, age_recode_52#21, regexp_replace(Place_of_death_and_decedents_status#703, 9, 7) AS Place_of_death_and_decedents_status#903, marital_status#26, day_of_week_of_death#27, current_data_year#28, injury_at_work#29, manner_of_death#624, method_of_disposition#863, autopsy#32, activity_code#545, place_of_injury_for_causes_w00_y34_except_y06_and_y07_#387, 358_cause_recode#36, 113_cause_recode#37, 130_infant_cause_recode#466, 39_cause_recode#39, number_of_entity_axis_conditions#40, entity_condition_1#41, entity_condition_2#42, ... 14 more fields]\\n                                                                                 +- Project [resident_status#12, education_1989_revision#13, education_2003_revision#14, education_reporting_flag#15, month_of_death#16, sex#17, age_recode_52#21, place_of_death_and_decedents_status#703, marital_status#26, day_of_week_of_death#27, current_data_year#28, injury_at_work#29, manner_of_death#624, regexp_replace(method_of_disposition#823, U, O) AS method_of_disposition#863, autopsy#32, activity_code#545, place_of_injury_for_causes_w00_y34_except_y06_and_y07_#387, 358_cause_recode#36, 113_cause_recode#37, 130_infant_cause_recode#466, 39_cause_recode#39, number_of_entity_axis_conditions#40, entity_condition_1#41, entity_condition_2#42, ... 14 more fields]\\n                                                                                    +- Project [resident_status#12, education_1989_revision#13, education_2003_revision#14, education_reporting_flag#15, month_of_death#16, sex#17, age_recode_52#21, place_of_death_and_decedents_status#703, marital_status#26, day_of_week_of_death#27, current_data_year#28, injury_at_work#29, manner_of_death#624, regexp_replace(method_of_disposition#783, D, O) AS method_of_disposition#823, autopsy#32, activity_code#545, place_of_injury_for_causes_w00_y34_except_y06_and_y07_#387, 358_cause_recode#36, 113_cause_recode#37, 130_infant_cause_recode#466, 39_cause_recode#39, number_of_entity_axis_conditions#40, entity_condition_1#41, entity_condition_2#42, ... 14 more fields]\\n                                                                                       +- Project [resident_status#12, education_1989_revision#13, education_2003_revision#14, education_reporting_flag#15, month_of_death#16, sex#17, age_recode_52#21, place_of_death_and_decedents_status#703, marital_status#26, day_of_week_of_death#27, current_data_year#28, injury_at_work#29, manner_of_death#624, regexp_replace(method_of_disposition#743, E, O) AS method_of_disposition#783, autopsy#32, activity_code#545, place_of_injury_for_causes_w00_y34_except_y06_and_y07_#387, 358_cause_recode#36, 113_cause_recode#37, 130_infant_cause_recode#466, 39_cause_recode#39, number_of_entity_axis_conditions#40, entity_condition_1#41, entity_condition_2#42, ... 14 more fields]\\n                                                                                          +- Project [resident_status#12, education_1989_revision#13, education_2003_revision#14, education_reporting_flag#15, month_of_death#16, sex#17, age_recode_52#21, place_of_death_and_decedents_status#703, marital_status#26, day_of_week_of_death#27, current_data_year#28, injury_at_work#29, manner_of_death#624, regexp_replace(method_of_disposition#31, R, O) AS method_of_disposition#743, autopsy#32, activity_code#545, place_of_injury_for_causes_w00_y34_except_y06_and_y07_#387, 358_cause_recode#36, 113_cause_recode#37, 130_infant_cause_recode#466, 39_cause_recode#39, number_of_entity_axis_conditions#40, entity_condition_1#41, entity_condition_2#42, ... 14 more fields]\\n                                                                                             +- Project [resident_status#12, education_1989_revision#13, education_2003_revision#14, education_reporting_flag#15, month_of_death#16, sex#17, age_recode_52#21, coalesce(place_of_death_and_decedents_status#25, cast(7 as string)) AS place_of_death_and_decedents_status#703, marital_status#26, day_of_week_of_death#27, current_data_year#28, injury_at_work#29, manner_of_death#624, method_of_disposition#31, autopsy#32, activity_code#545, place_of_injury_for_causes_w00_y34_except_y06_and_y07_#387, 358_cause_recode#36, 113_cause_recode#37, 130_infant_cause_recode#466, 39_cause_recode#39, number_of_entity_axis_conditions#40, entity_condition_1#41, entity_condition_2#42, ... 14 more fields]\\n                                                                                                +- Project [resident_status#12, education_1989_revision#13, education_2003_revision#14, education_reporting_flag#15, month_of_death#16, sex#17, age_recode_52#21, place_of_death_and_decedents_status#25, marital_status#26, day_of_week_of_death#27, current_data_year#28, injury_at_work#29, coalesce(manner_of_death#30, cast(8 as string)) AS manner_of_death#624, method_of_disposition#31, autopsy#32, activity_code#545, place_of_injury_for_causes_w00_y34_except_y06_and_y07_#387, 358_cause_recode#36, 113_cause_recode#37, 130_infant_cause_recode#466, 39_cause_recode#39, number_of_entity_axis_conditions#40, entity_condition_1#41, entity_condition_2#42, ... 14 more fields]\\n                                                                                                   +- Project [resident_status#12, education_1989_revision#13, education_2003_revision#14, education_reporting_flag#15, month_of_death#16, sex#17, age_recode_52#21, place_of_death_and_decedents_status#25, marital_status#26, day_of_week_of_death#27, current_data_year#28, injury_at_work#29, manner_of_death#30, method_of_disposition#31, autopsy#32, coalesce(activity_code#33, cast(10 as string)) AS activity_code#545, place_of_injury_for_causes_w00_y34_except_y06_and_y07_#387, 358_cause_recode#36, 113_cause_recode#37, 130_infant_cause_recode#466, 39_cause_recode#39, number_of_entity_axis_conditions#40, entity_condition_1#41, entity_condition_2#42, ... 14 more fields]\\n                                                                                                      +- Project [resident_status#12, education_1989_revision#13, education_2003_revision#14, education_reporting_flag#15, month_of_death#16, sex#17, age_recode_52#21, place_of_death_and_decedents_status#25, marital_status#26, day_of_week_of_death#27, current_data_year#28, injury_at_work#29, manner_of_death#30, method_of_disposition#31, autopsy#32, activity_code#33, place_of_injury_for_causes_w00_y34_except_y06_and_y07_#387, 358_cause_recode#36, 113_cause_recode#37, coalesce(130_infant_cause_recode#38, cast(000 as string)) AS 130_infant_cause_recode#466, 39_cause_recode#39, number_of_entity_axis_conditions#40, entity_condition_1#41, entity_condition_2#42, ... 14 more fields]\\n                                                                                                         +- Project [resident_status#12, education_1989_revision#13, education_2003_revision#14, education_reporting_flag#15, month_of_death#16, sex#17, age_recode_52#21, place_of_death_and_decedents_status#25, marital_status#26, day_of_week_of_death#27, current_data_year#28, injury_at_work#29, manner_of_death#30, method_of_disposition#31, autopsy#32, activity_code#33, coalesce(place_of_injury_for_causes_w00_y34_except_y06_and_y07_#34, cast(10 as string)) AS place_of_injury_for_causes_w00_y34_except_y06_and_y07_#387, 358_cause_recode#36, 113_cause_recode#37, 130_infant_cause_recode#38, 39_cause_recode#39, number_of_entity_axis_conditions#40, entity_condition_1#41, entity_condition_2#42, ... 14 more fields]\\n                                                                                                            +- Project [resident_status#12, education_1989_revision#13, education_2003_revision#14, education_reporting_flag#15, month_of_death#16, sex#17, age_recode_52#21, place_of_death_and_decedents_status#25, marital_status#26, day_of_week_of_death#27, current_data_year#28, injury_at_work#29, manner_of_death#30, method_of_disposition#31, autopsy#32, activity_code#33, place_of_injury_for_causes_w00_y34_except_y06_and_y07_#34, 358_cause_recode#36, 113_cause_recode#37, 130_infant_cause_recode#38, 39_cause_recode#39, number_of_entity_axis_conditions#40, entity_condition_1#41, entity_condition_2#42, ... 14 more fields]\\n                                                                                                               +- Project [resident_status#12, education_1989_revision#13, education_2003_revision#14, education_reporting_flag#15, month_of_death#16, sex#17, age_recode_52#21, place_of_death_and_decedents_status#25, marital_status#26, day_of_week_of_death#27, current_data_year#28, injury_at_work#29, manner_of_death#30, method_of_disposition#31, autopsy#32, activity_code#33, place_of_injury_for_causes_w00_y34_except_y06_and_y07_#34, 358_cause_recode#36, 113_cause_recode#37, 130_infant_cause_recode#38, 39_cause_recode#39, number_of_entity_axis_conditions#40, entity_condition_1#41, entity_condition_2#42, ... 46 more fields]\\n                                                                                                                  +- Relation[resident_status#12,education_1989_revision#13,education_2003_revision#14,education_reporting_flag#15,month_of_death#16,sex#17,detail_age_type#18,detail_age#19,age_substitution_flag#20,age_recode_52#21,age_recode_27#22,age_recode_12#23,infant_age_recode_22#24,place_of_death_and_decedents_status#25,marital_status#26,day_of_week_of_death#27,current_data_year#28,injury_at_work#29,manner_of_death#30,method_of_disposition#31,autopsy#32,activity_code#33,place_of_injury_for_causes_w00_y34_except_y06_and_y07_#34,icd_code_10th_revision#35,... 53 more fields] csv\\n\"",
     "output_type": "error",
     "traceback": [
      "\u001b[0;31m---------------------------------------------------------------------------\u001b[0m",
      "\u001b[0;31mPy4JJavaError\u001b[0m                             Traceback (most recent call last)",
      "\u001b[0;32m~/anaconda3/envs/python3/lib/python3.6/site-packages/pyspark/sql/utils.py\u001b[0m in \u001b[0;36mdeco\u001b[0;34m(*a, **kw)\u001b[0m\n\u001b[1;32m     62\u001b[0m         \u001b[0;32mtry\u001b[0m\u001b[0;34m:\u001b[0m\u001b[0;34m\u001b[0m\u001b[0m\n\u001b[0;32m---> 63\u001b[0;31m             \u001b[0;32mreturn\u001b[0m \u001b[0mf\u001b[0m\u001b[0;34m(\u001b[0m\u001b[0;34m*\u001b[0m\u001b[0ma\u001b[0m\u001b[0;34m,\u001b[0m \u001b[0;34m**\u001b[0m\u001b[0mkw\u001b[0m\u001b[0;34m)\u001b[0m\u001b[0;34m\u001b[0m\u001b[0m\n\u001b[0m\u001b[1;32m     64\u001b[0m         \u001b[0;32mexcept\u001b[0m \u001b[0mpy4j\u001b[0m\u001b[0;34m.\u001b[0m\u001b[0mprotocol\u001b[0m\u001b[0;34m.\u001b[0m\u001b[0mPy4JJavaError\u001b[0m \u001b[0;32mas\u001b[0m \u001b[0me\u001b[0m\u001b[0;34m:\u001b[0m\u001b[0;34m\u001b[0m\u001b[0m\n",
      "\u001b[0;32m~/anaconda3/envs/python3/lib/python3.6/site-packages/py4j/protocol.py\u001b[0m in \u001b[0;36mget_return_value\u001b[0;34m(answer, gateway_client, target_id, name)\u001b[0m\n\u001b[1;32m    318\u001b[0m                     \u001b[0;34m\"An error occurred while calling {0}{1}{2}.\\n\"\u001b[0m\u001b[0;34m.\u001b[0m\u001b[0;34m\u001b[0m\u001b[0m\n\u001b[0;32m--> 319\u001b[0;31m                     format(target_id, \".\", name), value)\n\u001b[0m\u001b[1;32m    320\u001b[0m             \u001b[0;32melse\u001b[0m\u001b[0;34m:\u001b[0m\u001b[0;34m\u001b[0m\u001b[0m\n",
      "\u001b[0;31mPy4JJavaError\u001b[0m: An error occurred while calling o536.sort.\n: org.apache.spark.sql.AnalysisException: cannot resolve '`current_data_year`' given input columns: [age_recode_52, count];;\n'Sort ['current_data_year ASC NULLS FIRST], true\n+- Aggregate [age_recode_52#21], [age_recode_52#21, count(1) AS count#2977L]\n   +- Filter ((cast(death_cause#2609 as int) = 215) || (cast(death_cause#2609 as int) = 211))\n      +- Project [resident_status#12, education_2003_revision#1757, month_of_death#16, sex#17, age_recode_52#21, Place_of_death_and_decedents_status#943, marital_status#26, day_of_week_of_death#27, current_data_year#28, injury_at_work#29, manner_of_death#624, method_of_disposition#863, autopsy#32, activity_code#545, place_of_injury_for_causes_w00_y34_except_y06_and_y07_#387, 358_cause_recode#36 AS death_cause#2609, 113_cause_recode#37, 130_infant_cause_recode#466, 39_cause_recode#39, number_of_entity_axis_conditions#40, number_of_record_axis_conditions#61, race#82, race_recode_3#85, race_recode_5#86, hispanic_originrace_recode#88]\n         +- Project [resident_status#12, education_2003_revision#1757, month_of_death#16, sex#17, age_recode_52#21, Place_of_death_and_decedents_status#943, marital_status#26, day_of_week_of_death#27, current_data_year#28, injury_at_work#29, manner_of_death#624, method_of_disposition#863, autopsy#32, activity_code#545, place_of_injury_for_causes_w00_y34_except_y06_and_y07_#387, 358_cause_recode#36, 113_cause_recode#37, 130_infant_cause_recode#466, 39_cause_recode#39, number_of_entity_axis_conditions#40, number_of_record_axis_conditions#61, race#82, race_recode_3#85, race_recode_5#86, hispanic_originrace_recode#88]\n            +- Filter isnotnull(education_2003_revision#1757)\n               +- Project [resident_status#12, education_1989_revision#1717, coalesce(education_2003_revision#14, education_1989_revision#1717) AS education_2003_revision#1757, education_reporting_flag#15, month_of_death#16, sex#17, age_recode_52#21, Place_of_death_and_decedents_status#943, marital_status#26, day_of_week_of_death#27, current_data_year#28, injury_at_work#29, manner_of_death#624, method_of_disposition#863, autopsy#32, activity_code#545, place_of_injury_for_causes_w00_y34_except_y06_and_y07_#387, 358_cause_recode#36, 113_cause_recode#37, 130_infant_cause_recode#466, 39_cause_recode#39, number_of_entity_axis_conditions#40, entity_condition_1#41, entity_condition_2#42, ... 14 more fields]\n                  +- Project [resident_status#12, regexp_replace(education_1989_revision#1677, 99, 9) AS education_1989_revision#1717, education_2003_revision#14, education_reporting_flag#15, month_of_death#16, sex#17, age_recode_52#21, Place_of_death_and_decedents_status#943, marital_status#26, day_of_week_of_death#27, current_data_year#28, injury_at_work#29, manner_of_death#624, method_of_disposition#863, autopsy#32, activity_code#545, place_of_injury_for_causes_w00_y34_except_y06_and_y07_#387, 358_cause_recode#36, 113_cause_recode#37, 130_infant_cause_recode#466, 39_cause_recode#39, number_of_entity_axis_conditions#40, entity_condition_1#41, entity_condition_2#42, ... 14 more fields]\n                     +- Project [resident_status#12, regexp_replace(education_1989_revision#1637, 17, 7) AS education_1989_revision#1677, education_2003_revision#14, education_reporting_flag#15, month_of_death#16, sex#17, age_recode_52#21, Place_of_death_and_decedents_status#943, marital_status#26, day_of_week_of_death#27, current_data_year#28, injury_at_work#29, manner_of_death#624, method_of_disposition#863, autopsy#32, activity_code#545, place_of_injury_for_causes_w00_y34_except_y06_and_y07_#387, 358_cause_recode#36, 113_cause_recode#37, 130_infant_cause_recode#466, 39_cause_recode#39, number_of_entity_axis_conditions#40, entity_condition_1#41, entity_condition_2#42, ... 14 more fields]\n                        +- Project [resident_status#12, regexp_replace(education_1989_revision#1597, 16, 6) AS education_1989_revision#1637, education_2003_revision#14, education_reporting_flag#15, month_of_death#16, sex#17, age_recode_52#21, Place_of_death_and_decedents_status#943, marital_status#26, day_of_week_of_death#27, current_data_year#28, injury_at_work#29, manner_of_death#624, method_of_disposition#863, autopsy#32, activity_code#545, place_of_injury_for_causes_w00_y34_except_y06_and_y07_#387, 358_cause_recode#36, 113_cause_recode#37, 130_infant_cause_recode#466, 39_cause_recode#39, number_of_entity_axis_conditions#40, entity_condition_1#41, entity_condition_2#42, ... 14 more fields]\n                           +- Project [resident_status#12, regexp_replace(education_1989_revision#1557, 15, 5) AS education_1989_revision#1597, education_2003_revision#14, education_reporting_flag#15, month_of_death#16, sex#17, age_recode_52#21, Place_of_death_and_decedents_status#943, marital_status#26, day_of_week_of_death#27, current_data_year#28, injury_at_work#29, manner_of_death#624, method_of_disposition#863, autopsy#32, activity_code#545, place_of_injury_for_causes_w00_y34_except_y06_and_y07_#387, 358_cause_recode#36, 113_cause_recode#37, 130_infant_cause_recode#466, 39_cause_recode#39, number_of_entity_axis_conditions#40, entity_condition_1#41, entity_condition_2#42, ... 14 more fields]\n                              +- Project [resident_status#12, regexp_replace(education_1989_revision#1517, 14, 4) AS education_1989_revision#1557, education_2003_revision#14, education_reporting_flag#15, month_of_death#16, sex#17, age_recode_52#21, Place_of_death_and_decedents_status#943, marital_status#26, day_of_week_of_death#27, current_data_year#28, injury_at_work#29, manner_of_death#624, method_of_disposition#863, autopsy#32, activity_code#545, place_of_injury_for_causes_w00_y34_except_y06_and_y07_#387, 358_cause_recode#36, 113_cause_recode#37, 130_infant_cause_recode#466, 39_cause_recode#39, number_of_entity_axis_conditions#40, entity_condition_1#41, entity_condition_2#42, ... 14 more fields]\n                                 +- Project [resident_status#12, regexp_replace(education_1989_revision#1477, 13, 4) AS education_1989_revision#1517, education_2003_revision#14, education_reporting_flag#15, month_of_death#16, sex#17, age_recode_52#21, Place_of_death_and_decedents_status#943, marital_status#26, day_of_week_of_death#27, current_data_year#28, injury_at_work#29, manner_of_death#624, method_of_disposition#863, autopsy#32, activity_code#545, place_of_injury_for_causes_w00_y34_except_y06_and_y07_#387, 358_cause_recode#36, 113_cause_recode#37, 130_infant_cause_recode#466, 39_cause_recode#39, number_of_entity_axis_conditions#40, entity_condition_1#41, entity_condition_2#42, ... 14 more fields]\n                                    +- Project [resident_status#12, regexp_replace(education_1989_revision#1437, 12, 3) AS education_1989_revision#1477, education_2003_revision#14, education_reporting_flag#15, month_of_death#16, sex#17, age_recode_52#21, Place_of_death_and_decedents_status#943, marital_status#26, day_of_week_of_death#27, current_data_year#28, injury_at_work#29, manner_of_death#624, method_of_disposition#863, autopsy#32, activity_code#545, place_of_injury_for_causes_w00_y34_except_y06_and_y07_#387, 358_cause_recode#36, 113_cause_recode#37, 130_infant_cause_recode#466, 39_cause_recode#39, number_of_entity_axis_conditions#40, entity_condition_1#41, entity_condition_2#42, ... 14 more fields]\n                                       +- Project [resident_status#12, regexp_replace(education_1989_revision#1397, 11, 2) AS education_1989_revision#1437, education_2003_revision#14, education_reporting_flag#15, month_of_death#16, sex#17, age_recode_52#21, Place_of_death_and_decedents_status#943, marital_status#26, day_of_week_of_death#27, current_data_year#28, injury_at_work#29, manner_of_death#624, method_of_disposition#863, autopsy#32, activity_code#545, place_of_injury_for_causes_w00_y34_except_y06_and_y07_#387, 358_cause_recode#36, 113_cause_recode#37, 130_infant_cause_recode#466, 39_cause_recode#39, number_of_entity_axis_conditions#40, entity_condition_1#41, entity_condition_2#42, ... 14 more fields]\n                                          +- Project [resident_status#12, regexp_replace(education_1989_revision#1357, 10, 2) AS education_1989_revision#1397, education_2003_revision#14, education_reporting_flag#15, month_of_death#16, sex#17, age_recode_52#21, Place_of_death_and_decedents_status#943, marital_status#26, day_of_week_of_death#27, current_data_year#28, injury_at_work#29, manner_of_death#624, method_of_disposition#863, autopsy#32, activity_code#545, place_of_injury_for_causes_w00_y34_except_y06_and_y07_#387, 358_cause_recode#36, 113_cause_recode#37, 130_infant_cause_recode#466, 39_cause_recode#39, number_of_entity_axis_conditions#40, entity_condition_1#41, entity_condition_2#42, ... 14 more fields]\n                                             +- Project [resident_status#12, regexp_replace(education_1989_revision#1317, 09, 2) AS education_1989_revision#1357, education_2003_revision#14, education_reporting_flag#15, month_of_death#16, sex#17, age_recode_52#21, Place_of_death_and_decedents_status#943, marital_status#26, day_of_week_of_death#27, current_data_year#28, injury_at_work#29, manner_of_death#624, method_of_disposition#863, autopsy#32, activity_code#545, place_of_injury_for_causes_w00_y34_except_y06_and_y07_#387, 358_cause_recode#36, 113_cause_recode#37, 130_infant_cause_recode#466, 39_cause_recode#39, number_of_entity_axis_conditions#40, entity_condition_1#41, entity_condition_2#42, ... 14 more fields]\n                                                +- Project [resident_status#12, regexp_replace(education_1989_revision#1277, 08, 1) AS education_1989_revision#1317, education_2003_revision#14, education_reporting_flag#15, month_of_death#16, sex#17, age_recode_52#21, Place_of_death_and_decedents_status#943, marital_status#26, day_of_week_of_death#27, current_data_year#28, injury_at_work#29, manner_of_death#624, method_of_disposition#863, autopsy#32, activity_code#545, place_of_injury_for_causes_w00_y34_except_y06_and_y07_#387, 358_cause_recode#36, 113_cause_recode#37, 130_infant_cause_recode#466, 39_cause_recode#39, number_of_entity_axis_conditions#40, entity_condition_1#41, entity_condition_2#42, ... 14 more fields]\n                                                   +- Project [resident_status#12, regexp_replace(education_1989_revision#1237, 07, 1) AS education_1989_revision#1277, education_2003_revision#14, education_reporting_flag#15, month_of_death#16, sex#17, age_recode_52#21, Place_of_death_and_decedents_status#943, marital_status#26, day_of_week_of_death#27, current_data_year#28, injury_at_work#29, manner_of_death#624, method_of_disposition#863, autopsy#32, activity_code#545, place_of_injury_for_causes_w00_y34_except_y06_and_y07_#387, 358_cause_recode#36, 113_cause_recode#37, 130_infant_cause_recode#466, 39_cause_recode#39, number_of_entity_axis_conditions#40, entity_condition_1#41, entity_condition_2#42, ... 14 more fields]\n                                                      +- Project [resident_status#12, regexp_replace(education_1989_revision#1197, 06, 1) AS education_1989_revision#1237, education_2003_revision#14, education_reporting_flag#15, month_of_death#16, sex#17, age_recode_52#21, Place_of_death_and_decedents_status#943, marital_status#26, day_of_week_of_death#27, current_data_year#28, injury_at_work#29, manner_of_death#624, method_of_disposition#863, autopsy#32, activity_code#545, place_of_injury_for_causes_w00_y34_except_y06_and_y07_#387, 358_cause_recode#36, 113_cause_recode#37, 130_infant_cause_recode#466, 39_cause_recode#39, number_of_entity_axis_conditions#40, entity_condition_1#41, entity_condition_2#42, ... 14 more fields]\n                                                         +- Project [resident_status#12, regexp_replace(education_1989_revision#1157, 05, 1) AS education_1989_revision#1197, education_2003_revision#14, education_reporting_flag#15, month_of_death#16, sex#17, age_recode_52#21, Place_of_death_and_decedents_status#943, marital_status#26, day_of_week_of_death#27, current_data_year#28, injury_at_work#29, manner_of_death#624, method_of_disposition#863, autopsy#32, activity_code#545, place_of_injury_for_causes_w00_y34_except_y06_and_y07_#387, 358_cause_recode#36, 113_cause_recode#37, 130_infant_cause_recode#466, 39_cause_recode#39, number_of_entity_axis_conditions#40, entity_condition_1#41, entity_condition_2#42, ... 14 more fields]\n                                                            +- Project [resident_status#12, regexp_replace(education_1989_revision#1117, 04, 1) AS education_1989_revision#1157, education_2003_revision#14, education_reporting_flag#15, month_of_death#16, sex#17, age_recode_52#21, Place_of_death_and_decedents_status#943, marital_status#26, day_of_week_of_death#27, current_data_year#28, injury_at_work#29, manner_of_death#624, method_of_disposition#863, autopsy#32, activity_code#545, place_of_injury_for_causes_w00_y34_except_y06_and_y07_#387, 358_cause_recode#36, 113_cause_recode#37, 130_infant_cause_recode#466, 39_cause_recode#39, number_of_entity_axis_conditions#40, entity_condition_1#41, entity_condition_2#42, ... 14 more fields]\n                                                               +- Project [resident_status#12, regexp_replace(education_1989_revision#1077, 03, 1) AS education_1989_revision#1117, education_2003_revision#14, education_reporting_flag#15, month_of_death#16, sex#17, age_recode_52#21, Place_of_death_and_decedents_status#943, marital_status#26, day_of_week_of_death#27, current_data_year#28, injury_at_work#29, manner_of_death#624, method_of_disposition#863, autopsy#32, activity_code#545, place_of_injury_for_causes_w00_y34_except_y06_and_y07_#387, 358_cause_recode#36, 113_cause_recode#37, 130_infant_cause_recode#466, 39_cause_recode#39, number_of_entity_axis_conditions#40, entity_condition_1#41, entity_condition_2#42, ... 14 more fields]\n                                                                  +- Project [resident_status#12, regexp_replace(education_1989_revision#1037, 02, 1) AS education_1989_revision#1077, education_2003_revision#14, education_reporting_flag#15, month_of_death#16, sex#17, age_recode_52#21, Place_of_death_and_decedents_status#943, marital_status#26, day_of_week_of_death#27, current_data_year#28, injury_at_work#29, manner_of_death#624, method_of_disposition#863, autopsy#32, activity_code#545, place_of_injury_for_causes_w00_y34_except_y06_and_y07_#387, 358_cause_recode#36, 113_cause_recode#37, 130_infant_cause_recode#466, 39_cause_recode#39, number_of_entity_axis_conditions#40, entity_condition_1#41, entity_condition_2#42, ... 14 more fields]\n                                                                     +- Project [resident_status#12, regexp_replace(education_1989_revision#997, 01, 1) AS education_1989_revision#1037, education_2003_revision#14, education_reporting_flag#15, month_of_death#16, sex#17, age_recode_52#21, Place_of_death_and_decedents_status#943, marital_status#26, day_of_week_of_death#27, current_data_year#28, injury_at_work#29, manner_of_death#624, method_of_disposition#863, autopsy#32, activity_code#545, place_of_injury_for_causes_w00_y34_except_y06_and_y07_#387, 358_cause_recode#36, 113_cause_recode#37, 130_infant_cause_recode#466, 39_cause_recode#39, number_of_entity_axis_conditions#40, entity_condition_1#41, entity_condition_2#42, ... 14 more fields]\n                                                                        +- Project [resident_status#12, regexp_replace(education_1989_revision#13, 00, 1) AS education_1989_revision#997, education_2003_revision#14, education_reporting_flag#15, month_of_death#16, sex#17, age_recode_52#21, Place_of_death_and_decedents_status#943, marital_status#26, day_of_week_of_death#27, current_data_year#28, injury_at_work#29, manner_of_death#624, method_of_disposition#863, autopsy#32, activity_code#545, place_of_injury_for_causes_w00_y34_except_y06_and_y07_#387, 358_cause_recode#36, 113_cause_recode#37, 130_infant_cause_recode#466, 39_cause_recode#39, number_of_entity_axis_conditions#40, entity_condition_1#41, entity_condition_2#42, ... 14 more fields]\n                                                                           +- Project [resident_status#12, education_1989_revision#13, education_2003_revision#14, education_reporting_flag#15, month_of_death#16, sex#17, age_recode_52#21, CASE WHEN (cast(Place_of_death_and_decedents_status#903 as int) = 9) THEN cast(7 as string) ELSE Place_of_death_and_decedents_status#903 END AS Place_of_death_and_decedents_status#943, marital_status#26, day_of_week_of_death#27, current_data_year#28, injury_at_work#29, manner_of_death#624, method_of_disposition#863, autopsy#32, activity_code#545, place_of_injury_for_causes_w00_y34_except_y06_and_y07_#387, 358_cause_recode#36, 113_cause_recode#37, 130_infant_cause_recode#466, 39_cause_recode#39, number_of_entity_axis_conditions#40, entity_condition_1#41, entity_condition_2#42, ... 14 more fields]\n                                                                              +- Project [resident_status#12, education_1989_revision#13, education_2003_revision#14, education_reporting_flag#15, month_of_death#16, sex#17, age_recode_52#21, regexp_replace(Place_of_death_and_decedents_status#703, 9, 7) AS Place_of_death_and_decedents_status#903, marital_status#26, day_of_week_of_death#27, current_data_year#28, injury_at_work#29, manner_of_death#624, method_of_disposition#863, autopsy#32, activity_code#545, place_of_injury_for_causes_w00_y34_except_y06_and_y07_#387, 358_cause_recode#36, 113_cause_recode#37, 130_infant_cause_recode#466, 39_cause_recode#39, number_of_entity_axis_conditions#40, entity_condition_1#41, entity_condition_2#42, ... 14 more fields]\n                                                                                 +- Project [resident_status#12, education_1989_revision#13, education_2003_revision#14, education_reporting_flag#15, month_of_death#16, sex#17, age_recode_52#21, place_of_death_and_decedents_status#703, marital_status#26, day_of_week_of_death#27, current_data_year#28, injury_at_work#29, manner_of_death#624, regexp_replace(method_of_disposition#823, U, O) AS method_of_disposition#863, autopsy#32, activity_code#545, place_of_injury_for_causes_w00_y34_except_y06_and_y07_#387, 358_cause_recode#36, 113_cause_recode#37, 130_infant_cause_recode#466, 39_cause_recode#39, number_of_entity_axis_conditions#40, entity_condition_1#41, entity_condition_2#42, ... 14 more fields]\n                                                                                    +- Project [resident_status#12, education_1989_revision#13, education_2003_revision#14, education_reporting_flag#15, month_of_death#16, sex#17, age_recode_52#21, place_of_death_and_decedents_status#703, marital_status#26, day_of_week_of_death#27, current_data_year#28, injury_at_work#29, manner_of_death#624, regexp_replace(method_of_disposition#783, D, O) AS method_of_disposition#823, autopsy#32, activity_code#545, place_of_injury_for_causes_w00_y34_except_y06_and_y07_#387, 358_cause_recode#36, 113_cause_recode#37, 130_infant_cause_recode#466, 39_cause_recode#39, number_of_entity_axis_conditions#40, entity_condition_1#41, entity_condition_2#42, ... 14 more fields]\n                                                                                       +- Project [resident_status#12, education_1989_revision#13, education_2003_revision#14, education_reporting_flag#15, month_of_death#16, sex#17, age_recode_52#21, place_of_death_and_decedents_status#703, marital_status#26, day_of_week_of_death#27, current_data_year#28, injury_at_work#29, manner_of_death#624, regexp_replace(method_of_disposition#743, E, O) AS method_of_disposition#783, autopsy#32, activity_code#545, place_of_injury_for_causes_w00_y34_except_y06_and_y07_#387, 358_cause_recode#36, 113_cause_recode#37, 130_infant_cause_recode#466, 39_cause_recode#39, number_of_entity_axis_conditions#40, entity_condition_1#41, entity_condition_2#42, ... 14 more fields]\n                                                                                          +- Project [resident_status#12, education_1989_revision#13, education_2003_revision#14, education_reporting_flag#15, month_of_death#16, sex#17, age_recode_52#21, place_of_death_and_decedents_status#703, marital_status#26, day_of_week_of_death#27, current_data_year#28, injury_at_work#29, manner_of_death#624, regexp_replace(method_of_disposition#31, R, O) AS method_of_disposition#743, autopsy#32, activity_code#545, place_of_injury_for_causes_w00_y34_except_y06_and_y07_#387, 358_cause_recode#36, 113_cause_recode#37, 130_infant_cause_recode#466, 39_cause_recode#39, number_of_entity_axis_conditions#40, entity_condition_1#41, entity_condition_2#42, ... 14 more fields]\n                                                                                             +- Project [resident_status#12, education_1989_revision#13, education_2003_revision#14, education_reporting_flag#15, month_of_death#16, sex#17, age_recode_52#21, coalesce(place_of_death_and_decedents_status#25, cast(7 as string)) AS place_of_death_and_decedents_status#703, marital_status#26, day_of_week_of_death#27, current_data_year#28, injury_at_work#29, manner_of_death#624, method_of_disposition#31, autopsy#32, activity_code#545, place_of_injury_for_causes_w00_y34_except_y06_and_y07_#387, 358_cause_recode#36, 113_cause_recode#37, 130_infant_cause_recode#466, 39_cause_recode#39, number_of_entity_axis_conditions#40, entity_condition_1#41, entity_condition_2#42, ... 14 more fields]\n                                                                                                +- Project [resident_status#12, education_1989_revision#13, education_2003_revision#14, education_reporting_flag#15, month_of_death#16, sex#17, age_recode_52#21, place_of_death_and_decedents_status#25, marital_status#26, day_of_week_of_death#27, current_data_year#28, injury_at_work#29, coalesce(manner_of_death#30, cast(8 as string)) AS manner_of_death#624, method_of_disposition#31, autopsy#32, activity_code#545, place_of_injury_for_causes_w00_y34_except_y06_and_y07_#387, 358_cause_recode#36, 113_cause_recode#37, 130_infant_cause_recode#466, 39_cause_recode#39, number_of_entity_axis_conditions#40, entity_condition_1#41, entity_condition_2#42, ... 14 more fields]\n                                                                                                   +- Project [resident_status#12, education_1989_revision#13, education_2003_revision#14, education_reporting_flag#15, month_of_death#16, sex#17, age_recode_52#21, place_of_death_and_decedents_status#25, marital_status#26, day_of_week_of_death#27, current_data_year#28, injury_at_work#29, manner_of_death#30, method_of_disposition#31, autopsy#32, coalesce(activity_code#33, cast(10 as string)) AS activity_code#545, place_of_injury_for_causes_w00_y34_except_y06_and_y07_#387, 358_cause_recode#36, 113_cause_recode#37, 130_infant_cause_recode#466, 39_cause_recode#39, number_of_entity_axis_conditions#40, entity_condition_1#41, entity_condition_2#42, ... 14 more fields]\n                                                                                                      +- Project [resident_status#12, education_1989_revision#13, education_2003_revision#14, education_reporting_flag#15, month_of_death#16, sex#17, age_recode_52#21, place_of_death_and_decedents_status#25, marital_status#26, day_of_week_of_death#27, current_data_year#28, injury_at_work#29, manner_of_death#30, method_of_disposition#31, autopsy#32, activity_code#33, place_of_injury_for_causes_w00_y34_except_y06_and_y07_#387, 358_cause_recode#36, 113_cause_recode#37, coalesce(130_infant_cause_recode#38, cast(000 as string)) AS 130_infant_cause_recode#466, 39_cause_recode#39, number_of_entity_axis_conditions#40, entity_condition_1#41, entity_condition_2#42, ... 14 more fields]\n                                                                                                         +- Project [resident_status#12, education_1989_revision#13, education_2003_revision#14, education_reporting_flag#15, month_of_death#16, sex#17, age_recode_52#21, place_of_death_and_decedents_status#25, marital_status#26, day_of_week_of_death#27, current_data_year#28, injury_at_work#29, manner_of_death#30, method_of_disposition#31, autopsy#32, activity_code#33, coalesce(place_of_injury_for_causes_w00_y34_except_y06_and_y07_#34, cast(10 as string)) AS place_of_injury_for_causes_w00_y34_except_y06_and_y07_#387, 358_cause_recode#36, 113_cause_recode#37, 130_infant_cause_recode#38, 39_cause_recode#39, number_of_entity_axis_conditions#40, entity_condition_1#41, entity_condition_2#42, ... 14 more fields]\n                                                                                                            +- Project [resident_status#12, education_1989_revision#13, education_2003_revision#14, education_reporting_flag#15, month_of_death#16, sex#17, age_recode_52#21, place_of_death_and_decedents_status#25, marital_status#26, day_of_week_of_death#27, current_data_year#28, injury_at_work#29, manner_of_death#30, method_of_disposition#31, autopsy#32, activity_code#33, place_of_injury_for_causes_w00_y34_except_y06_and_y07_#34, 358_cause_recode#36, 113_cause_recode#37, 130_infant_cause_recode#38, 39_cause_recode#39, number_of_entity_axis_conditions#40, entity_condition_1#41, entity_condition_2#42, ... 14 more fields]\n                                                                                                               +- Project [resident_status#12, education_1989_revision#13, education_2003_revision#14, education_reporting_flag#15, month_of_death#16, sex#17, age_recode_52#21, place_of_death_and_decedents_status#25, marital_status#26, day_of_week_of_death#27, current_data_year#28, injury_at_work#29, manner_of_death#30, method_of_disposition#31, autopsy#32, activity_code#33, place_of_injury_for_causes_w00_y34_except_y06_and_y07_#34, 358_cause_recode#36, 113_cause_recode#37, 130_infant_cause_recode#38, 39_cause_recode#39, number_of_entity_axis_conditions#40, entity_condition_1#41, entity_condition_2#42, ... 46 more fields]\n                                                                                                                  +- Relation[resident_status#12,education_1989_revision#13,education_2003_revision#14,education_reporting_flag#15,month_of_death#16,sex#17,detail_age_type#18,detail_age#19,age_substitution_flag#20,age_recode_52#21,age_recode_27#22,age_recode_12#23,infant_age_recode_22#24,place_of_death_and_decedents_status#25,marital_status#26,day_of_week_of_death#27,current_data_year#28,injury_at_work#29,manner_of_death#30,method_of_disposition#31,autopsy#32,activity_code#33,place_of_injury_for_causes_w00_y34_except_y06_and_y07_#34,icd_code_10th_revision#35,... 53 more fields] csv\n\n\tat org.apache.spark.sql.catalyst.analysis.package$AnalysisErrorAt.failAnalysis(package.scala:42)\n\tat org.apache.spark.sql.catalyst.analysis.CheckAnalysis$$anonfun$checkAnalysis$1$$anonfun$apply$2.applyOrElse(CheckAnalysis.scala:88)\n\tat org.apache.spark.sql.catalyst.analysis.CheckAnalysis$$anonfun$checkAnalysis$1$$anonfun$apply$2.applyOrElse(CheckAnalysis.scala:85)\n\tat org.apache.spark.sql.catalyst.trees.TreeNode$$anonfun$transformUp$1.apply(TreeNode.scala:289)\n\tat org.apache.spark.sql.catalyst.trees.TreeNode$$anonfun$transformUp$1.apply(TreeNode.scala:289)\n\tat org.apache.spark.sql.catalyst.trees.CurrentOrigin$.withOrigin(TreeNode.scala:70)\n\tat org.apache.spark.sql.catalyst.trees.TreeNode.transformUp(TreeNode.scala:288)\n\tat org.apache.spark.sql.catalyst.trees.TreeNode$$anonfun$3.apply(TreeNode.scala:286)\n\tat org.apache.spark.sql.catalyst.trees.TreeNode$$anonfun$3.apply(TreeNode.scala:286)\n\tat org.apache.spark.sql.catalyst.trees.TreeNode$$anonfun$4.apply(TreeNode.scala:306)\n\tat org.apache.spark.sql.catalyst.trees.TreeNode.mapProductIterator(TreeNode.scala:187)\n\tat org.apache.spark.sql.catalyst.trees.TreeNode.mapChildren(TreeNode.scala:304)\n\tat org.apache.spark.sql.catalyst.trees.TreeNode.transformUp(TreeNode.scala:286)\n\tat org.apache.spark.sql.catalyst.plans.QueryPlan$$anonfun$transformExpressionsUp$1.apply(QueryPlan.scala:268)\n\tat org.apache.spark.sql.catalyst.plans.QueryPlan$$anonfun$transformExpressionsUp$1.apply(QueryPlan.scala:268)\n\tat org.apache.spark.sql.catalyst.plans.QueryPlan.transformExpression$1(QueryPlan.scala:279)\n\tat org.apache.spark.sql.catalyst.plans.QueryPlan.org$apache$spark$sql$catalyst$plans$QueryPlan$$recursiveTransform$1(QueryPlan.scala:289)\n\tat org.apache.spark.sql.catalyst.plans.QueryPlan$$anonfun$org$apache$spark$sql$catalyst$plans$QueryPlan$$recursiveTransform$1$1.apply(QueryPlan.scala:293)\n\tat scala.collection.TraversableLike$$anonfun$map$1.apply(TraversableLike.scala:234)\n\tat scala.collection.TraversableLike$$anonfun$map$1.apply(TraversableLike.scala:234)\n\tat scala.collection.mutable.ResizableArray$class.foreach(ResizableArray.scala:59)\n\tat scala.collection.mutable.ArrayBuffer.foreach(ArrayBuffer.scala:48)\n\tat scala.collection.TraversableLike$class.map(TraversableLike.scala:234)\n\tat scala.collection.AbstractTraversable.map(Traversable.scala:104)\n\tat org.apache.spark.sql.catalyst.plans.QueryPlan.org$apache$spark$sql$catalyst$plans$QueryPlan$$recursiveTransform$1(QueryPlan.scala:293)\n\tat org.apache.spark.sql.catalyst.plans.QueryPlan$$anonfun$6.apply(QueryPlan.scala:298)\n\tat org.apache.spark.sql.catalyst.trees.TreeNode.mapProductIterator(TreeNode.scala:187)\n\tat org.apache.spark.sql.catalyst.plans.QueryPlan.mapExpressions(QueryPlan.scala:298)\n\tat org.apache.spark.sql.catalyst.plans.QueryPlan.transformExpressionsUp(QueryPlan.scala:268)\n\tat org.apache.spark.sql.catalyst.analysis.CheckAnalysis$$anonfun$checkAnalysis$1.apply(CheckAnalysis.scala:85)\n\tat org.apache.spark.sql.catalyst.analysis.CheckAnalysis$$anonfun$checkAnalysis$1.apply(CheckAnalysis.scala:78)\n\tat org.apache.spark.sql.catalyst.trees.TreeNode.foreachUp(TreeNode.scala:127)\n\tat org.apache.spark.sql.catalyst.analysis.CheckAnalysis$class.checkAnalysis(CheckAnalysis.scala:78)\n\tat org.apache.spark.sql.catalyst.analysis.Analyzer.checkAnalysis(Analyzer.scala:91)\n\tat org.apache.spark.sql.execution.QueryExecution.assertAnalyzed(QueryExecution.scala:52)\n\tat org.apache.spark.sql.Dataset.<init>(Dataset.scala:165)\n\tat org.apache.spark.sql.Dataset.<init>(Dataset.scala:171)\n\tat org.apache.spark.sql.Dataset$.apply(Dataset.scala:62)\n\tat org.apache.spark.sql.Dataset.withTypedPlan(Dataset.scala:2889)\n\tat org.apache.spark.sql.Dataset.sortInternal(Dataset.scala:2877)\n\tat org.apache.spark.sql.Dataset.sort(Dataset.scala:1041)\n\tat sun.reflect.GeneratedMethodAccessor62.invoke(Unknown Source)\n\tat sun.reflect.DelegatingMethodAccessorImpl.invoke(DelegatingMethodAccessorImpl.java:43)\n\tat java.lang.reflect.Method.invoke(Method.java:498)\n\tat py4j.reflection.MethodInvoker.invoke(MethodInvoker.java:244)\n\tat py4j.reflection.ReflectionEngine.invoke(ReflectionEngine.java:357)\n\tat py4j.Gateway.invoke(Gateway.java:280)\n\tat py4j.commands.AbstractCommand.invokeMethod(AbstractCommand.java:132)\n\tat py4j.commands.CallCommand.execute(CallCommand.java:79)\n\tat py4j.GatewayConnection.run(GatewayConnection.java:214)\n\tat java.lang.Thread.run(Thread.java:745)\n",
      "\nDuring handling of the above exception, another exception occurred:\n",
      "\u001b[0;31mAnalysisException\u001b[0m                         Traceback (most recent call last)",
      "\u001b[0;32m<ipython-input-69-c5f7db5485d8>\u001b[0m in \u001b[0;36m<module>\u001b[0;34m()\u001b[0m\n\u001b[0;32m----> 1\u001b[0;31m \u001b[0mcdc\u001b[0m\u001b[0;34m.\u001b[0m\u001b[0mwhere\u001b[0m\u001b[0;34m(\u001b[0m\u001b[0;34m(\u001b[0m\u001b[0mcdc\u001b[0m\u001b[0;34m.\u001b[0m\u001b[0mdeath_cause\u001b[0m\u001b[0;34m==\u001b[0m \u001b[0;36m215\u001b[0m\u001b[0;34m)\u001b[0m\u001b[0;34m|\u001b[0m \u001b[0;34m(\u001b[0m\u001b[0mcdc\u001b[0m\u001b[0;34m.\u001b[0m\u001b[0mdeath_cause\u001b[0m\u001b[0;34m==\u001b[0m\u001b[0;36m211\u001b[0m\u001b[0;34m)\u001b[0m\u001b[0;34m)\u001b[0m\u001b[0;34m.\u001b[0m\u001b[0mgroupby\u001b[0m\u001b[0;34m(\u001b[0m\u001b[0;34m'age_recode_52'\u001b[0m\u001b[0;34m)\u001b[0m\u001b[0;34m.\u001b[0m\u001b[0mcount\u001b[0m\u001b[0;34m(\u001b[0m\u001b[0;34m)\u001b[0m\u001b[0;34m.\u001b[0m\u001b[0morderBy\u001b[0m\u001b[0;34m(\u001b[0m\u001b[0;34m'current_data_year'\u001b[0m\u001b[0;34m,\u001b[0m\u001b[0mascending\u001b[0m\u001b[0;34m=\u001b[0m\u001b[0;32mTrue\u001b[0m\u001b[0;34m)\u001b[0m\u001b[0;34m.\u001b[0m\u001b[0mshow\u001b[0m\u001b[0;34m(\u001b[0m\u001b[0;34m)\u001b[0m\u001b[0;34m\u001b[0m\u001b[0m\n\u001b[0m",
      "\u001b[0;32m~/anaconda3/envs/python3/lib/python3.6/site-packages/pyspark/sql/dataframe.py\u001b[0m in \u001b[0;36msort\u001b[0;34m(self, *cols, **kwargs)\u001b[0m\n\u001b[1;32m    873\u001b[0m         \u001b[0;34m[\u001b[0m\u001b[0mRow\u001b[0m\u001b[0;34m(\u001b[0m\u001b[0mage\u001b[0m\u001b[0;34m=\u001b[0m\u001b[0;36m5\u001b[0m\u001b[0;34m,\u001b[0m \u001b[0mname\u001b[0m\u001b[0;34m=\u001b[0m\u001b[0;34mu'Bob'\u001b[0m\u001b[0;34m)\u001b[0m\u001b[0;34m,\u001b[0m \u001b[0mRow\u001b[0m\u001b[0;34m(\u001b[0m\u001b[0mage\u001b[0m\u001b[0;34m=\u001b[0m\u001b[0;36m2\u001b[0m\u001b[0;34m,\u001b[0m \u001b[0mname\u001b[0m\u001b[0;34m=\u001b[0m\u001b[0;34mu'Alice'\u001b[0m\u001b[0;34m)\u001b[0m\u001b[0;34m]\u001b[0m\u001b[0;34m\u001b[0m\u001b[0m\n\u001b[1;32m    874\u001b[0m         \"\"\"\n\u001b[0;32m--> 875\u001b[0;31m         \u001b[0mjdf\u001b[0m \u001b[0;34m=\u001b[0m \u001b[0mself\u001b[0m\u001b[0;34m.\u001b[0m\u001b[0m_jdf\u001b[0m\u001b[0;34m.\u001b[0m\u001b[0msort\u001b[0m\u001b[0;34m(\u001b[0m\u001b[0mself\u001b[0m\u001b[0;34m.\u001b[0m\u001b[0m_sort_cols\u001b[0m\u001b[0;34m(\u001b[0m\u001b[0mcols\u001b[0m\u001b[0;34m,\u001b[0m \u001b[0mkwargs\u001b[0m\u001b[0;34m)\u001b[0m\u001b[0;34m)\u001b[0m\u001b[0;34m\u001b[0m\u001b[0m\n\u001b[0m\u001b[1;32m    876\u001b[0m         \u001b[0;32mreturn\u001b[0m \u001b[0mDataFrame\u001b[0m\u001b[0;34m(\u001b[0m\u001b[0mjdf\u001b[0m\u001b[0;34m,\u001b[0m \u001b[0mself\u001b[0m\u001b[0;34m.\u001b[0m\u001b[0msql_ctx\u001b[0m\u001b[0;34m)\u001b[0m\u001b[0;34m\u001b[0m\u001b[0m\n\u001b[1;32m    877\u001b[0m \u001b[0;34m\u001b[0m\u001b[0m\n",
      "\u001b[0;32m~/anaconda3/envs/python3/lib/python3.6/site-packages/py4j/java_gateway.py\u001b[0m in \u001b[0;36m__call__\u001b[0;34m(self, *args)\u001b[0m\n\u001b[1;32m   1131\u001b[0m         \u001b[0manswer\u001b[0m \u001b[0;34m=\u001b[0m \u001b[0mself\u001b[0m\u001b[0;34m.\u001b[0m\u001b[0mgateway_client\u001b[0m\u001b[0;34m.\u001b[0m\u001b[0msend_command\u001b[0m\u001b[0;34m(\u001b[0m\u001b[0mcommand\u001b[0m\u001b[0;34m)\u001b[0m\u001b[0;34m\u001b[0m\u001b[0m\n\u001b[1;32m   1132\u001b[0m         return_value = get_return_value(\n\u001b[0;32m-> 1133\u001b[0;31m             answer, self.gateway_client, self.target_id, self.name)\n\u001b[0m\u001b[1;32m   1134\u001b[0m \u001b[0;34m\u001b[0m\u001b[0m\n\u001b[1;32m   1135\u001b[0m         \u001b[0;32mfor\u001b[0m \u001b[0mtemp_arg\u001b[0m \u001b[0;32min\u001b[0m \u001b[0mtemp_args\u001b[0m\u001b[0;34m:\u001b[0m\u001b[0;34m\u001b[0m\u001b[0m\n",
      "\u001b[0;32m~/anaconda3/envs/python3/lib/python3.6/site-packages/pyspark/sql/utils.py\u001b[0m in \u001b[0;36mdeco\u001b[0;34m(*a, **kw)\u001b[0m\n\u001b[1;32m     67\u001b[0m                                              e.java_exception.getStackTrace()))\n\u001b[1;32m     68\u001b[0m             \u001b[0;32mif\u001b[0m \u001b[0ms\u001b[0m\u001b[0;34m.\u001b[0m\u001b[0mstartswith\u001b[0m\u001b[0;34m(\u001b[0m\u001b[0;34m'org.apache.spark.sql.AnalysisException: '\u001b[0m\u001b[0;34m)\u001b[0m\u001b[0;34m:\u001b[0m\u001b[0;34m\u001b[0m\u001b[0m\n\u001b[0;32m---> 69\u001b[0;31m                 \u001b[0;32mraise\u001b[0m \u001b[0mAnalysisException\u001b[0m\u001b[0;34m(\u001b[0m\u001b[0ms\u001b[0m\u001b[0;34m.\u001b[0m\u001b[0msplit\u001b[0m\u001b[0;34m(\u001b[0m\u001b[0;34m': '\u001b[0m\u001b[0;34m,\u001b[0m \u001b[0;36m1\u001b[0m\u001b[0;34m)\u001b[0m\u001b[0;34m[\u001b[0m\u001b[0;36m1\u001b[0m\u001b[0;34m]\u001b[0m\u001b[0;34m,\u001b[0m \u001b[0mstackTrace\u001b[0m\u001b[0;34m)\u001b[0m\u001b[0;34m\u001b[0m\u001b[0m\n\u001b[0m\u001b[1;32m     70\u001b[0m             \u001b[0;32mif\u001b[0m \u001b[0ms\u001b[0m\u001b[0;34m.\u001b[0m\u001b[0mstartswith\u001b[0m\u001b[0;34m(\u001b[0m\u001b[0;34m'org.apache.spark.sql.catalyst.analysis'\u001b[0m\u001b[0;34m)\u001b[0m\u001b[0;34m:\u001b[0m\u001b[0;34m\u001b[0m\u001b[0m\n\u001b[1;32m     71\u001b[0m                 \u001b[0;32mraise\u001b[0m \u001b[0mAnalysisException\u001b[0m\u001b[0;34m(\u001b[0m\u001b[0ms\u001b[0m\u001b[0;34m.\u001b[0m\u001b[0msplit\u001b[0m\u001b[0;34m(\u001b[0m\u001b[0;34m': '\u001b[0m\u001b[0;34m,\u001b[0m \u001b[0;36m1\u001b[0m\u001b[0;34m)\u001b[0m\u001b[0;34m[\u001b[0m\u001b[0;36m1\u001b[0m\u001b[0;34m]\u001b[0m\u001b[0;34m,\u001b[0m \u001b[0mstackTrace\u001b[0m\u001b[0;34m)\u001b[0m\u001b[0;34m\u001b[0m\u001b[0m\n",
      "\u001b[0;31mAnalysisException\u001b[0m: \"cannot resolve '`current_data_year`' given input columns: [age_recode_52, count];;\\n'Sort ['current_data_year ASC NULLS FIRST], true\\n+- Aggregate [age_recode_52#21], [age_recode_52#21, count(1) AS count#2977L]\\n   +- Filter ((cast(death_cause#2609 as int) = 215) || (cast(death_cause#2609 as int) = 211))\\n      +- Project [resident_status#12, education_2003_revision#1757, month_of_death#16, sex#17, age_recode_52#21, Place_of_death_and_decedents_status#943, marital_status#26, day_of_week_of_death#27, current_data_year#28, injury_at_work#29, manner_of_death#624, method_of_disposition#863, autopsy#32, activity_code#545, place_of_injury_for_causes_w00_y34_except_y06_and_y07_#387, 358_cause_recode#36 AS death_cause#2609, 113_cause_recode#37, 130_infant_cause_recode#466, 39_cause_recode#39, number_of_entity_axis_conditions#40, number_of_record_axis_conditions#61, race#82, race_recode_3#85, race_recode_5#86, hispanic_originrace_recode#88]\\n         +- Project [resident_status#12, education_2003_revision#1757, month_of_death#16, sex#17, age_recode_52#21, Place_of_death_and_decedents_status#943, marital_status#26, day_of_week_of_death#27, current_data_year#28, injury_at_work#29, manner_of_death#624, method_of_disposition#863, autopsy#32, activity_code#545, place_of_injury_for_causes_w00_y34_except_y06_and_y07_#387, 358_cause_recode#36, 113_cause_recode#37, 130_infant_cause_recode#466, 39_cause_recode#39, number_of_entity_axis_conditions#40, number_of_record_axis_conditions#61, race#82, race_recode_3#85, race_recode_5#86, hispanic_originrace_recode#88]\\n            +- Filter isnotnull(education_2003_revision#1757)\\n               +- Project [resident_status#12, education_1989_revision#1717, coalesce(education_2003_revision#14, education_1989_revision#1717) AS education_2003_revision#1757, education_reporting_flag#15, month_of_death#16, sex#17, age_recode_52#21, Place_of_death_and_decedents_status#943, marital_status#26, day_of_week_of_death#27, current_data_year#28, injury_at_work#29, manner_of_death#624, method_of_disposition#863, autopsy#32, activity_code#545, place_of_injury_for_causes_w00_y34_except_y06_and_y07_#387, 358_cause_recode#36, 113_cause_recode#37, 130_infant_cause_recode#466, 39_cause_recode#39, number_of_entity_axis_conditions#40, entity_condition_1#41, entity_condition_2#42, ... 14 more fields]\\n                  +- Project [resident_status#12, regexp_replace(education_1989_revision#1677, 99, 9) AS education_1989_revision#1717, education_2003_revision#14, education_reporting_flag#15, month_of_death#16, sex#17, age_recode_52#21, Place_of_death_and_decedents_status#943, marital_status#26, day_of_week_of_death#27, current_data_year#28, injury_at_work#29, manner_of_death#624, method_of_disposition#863, autopsy#32, activity_code#545, place_of_injury_for_causes_w00_y34_except_y06_and_y07_#387, 358_cause_recode#36, 113_cause_recode#37, 130_infant_cause_recode#466, 39_cause_recode#39, number_of_entity_axis_conditions#40, entity_condition_1#41, entity_condition_2#42, ... 14 more fields]\\n                     +- Project [resident_status#12, regexp_replace(education_1989_revision#1637, 17, 7) AS education_1989_revision#1677, education_2003_revision#14, education_reporting_flag#15, month_of_death#16, sex#17, age_recode_52#21, Place_of_death_and_decedents_status#943, marital_status#26, day_of_week_of_death#27, current_data_year#28, injury_at_work#29, manner_of_death#624, method_of_disposition#863, autopsy#32, activity_code#545, place_of_injury_for_causes_w00_y34_except_y06_and_y07_#387, 358_cause_recode#36, 113_cause_recode#37, 130_infant_cause_recode#466, 39_cause_recode#39, number_of_entity_axis_conditions#40, entity_condition_1#41, entity_condition_2#42, ... 14 more fields]\\n                        +- Project [resident_status#12, regexp_replace(education_1989_revision#1597, 16, 6) AS education_1989_revision#1637, education_2003_revision#14, education_reporting_flag#15, month_of_death#16, sex#17, age_recode_52#21, Place_of_death_and_decedents_status#943, marital_status#26, day_of_week_of_death#27, current_data_year#28, injury_at_work#29, manner_of_death#624, method_of_disposition#863, autopsy#32, activity_code#545, place_of_injury_for_causes_w00_y34_except_y06_and_y07_#387, 358_cause_recode#36, 113_cause_recode#37, 130_infant_cause_recode#466, 39_cause_recode#39, number_of_entity_axis_conditions#40, entity_condition_1#41, entity_condition_2#42, ... 14 more fields]\\n                           +- Project [resident_status#12, regexp_replace(education_1989_revision#1557, 15, 5) AS education_1989_revision#1597, education_2003_revision#14, education_reporting_flag#15, month_of_death#16, sex#17, age_recode_52#21, Place_of_death_and_decedents_status#943, marital_status#26, day_of_week_of_death#27, current_data_year#28, injury_at_work#29, manner_of_death#624, method_of_disposition#863, autopsy#32, activity_code#545, place_of_injury_for_causes_w00_y34_except_y06_and_y07_#387, 358_cause_recode#36, 113_cause_recode#37, 130_infant_cause_recode#466, 39_cause_recode#39, number_of_entity_axis_conditions#40, entity_condition_1#41, entity_condition_2#42, ... 14 more fields]\\n                              +- Project [resident_status#12, regexp_replace(education_1989_revision#1517, 14, 4) AS education_1989_revision#1557, education_2003_revision#14, education_reporting_flag#15, month_of_death#16, sex#17, age_recode_52#21, Place_of_death_and_decedents_status#943, marital_status#26, day_of_week_of_death#27, current_data_year#28, injury_at_work#29, manner_of_death#624, method_of_disposition#863, autopsy#32, activity_code#545, place_of_injury_for_causes_w00_y34_except_y06_and_y07_#387, 358_cause_recode#36, 113_cause_recode#37, 130_infant_cause_recode#466, 39_cause_recode#39, number_of_entity_axis_conditions#40, entity_condition_1#41, entity_condition_2#42, ... 14 more fields]\\n                                 +- Project [resident_status#12, regexp_replace(education_1989_revision#1477, 13, 4) AS education_1989_revision#1517, education_2003_revision#14, education_reporting_flag#15, month_of_death#16, sex#17, age_recode_52#21, Place_of_death_and_decedents_status#943, marital_status#26, day_of_week_of_death#27, current_data_year#28, injury_at_work#29, manner_of_death#624, method_of_disposition#863, autopsy#32, activity_code#545, place_of_injury_for_causes_w00_y34_except_y06_and_y07_#387, 358_cause_recode#36, 113_cause_recode#37, 130_infant_cause_recode#466, 39_cause_recode#39, number_of_entity_axis_conditions#40, entity_condition_1#41, entity_condition_2#42, ... 14 more fields]\\n                                    +- Project [resident_status#12, regexp_replace(education_1989_revision#1437, 12, 3) AS education_1989_revision#1477, education_2003_revision#14, education_reporting_flag#15, month_of_death#16, sex#17, age_recode_52#21, Place_of_death_and_decedents_status#943, marital_status#26, day_of_week_of_death#27, current_data_year#28, injury_at_work#29, manner_of_death#624, method_of_disposition#863, autopsy#32, activity_code#545, place_of_injury_for_causes_w00_y34_except_y06_and_y07_#387, 358_cause_recode#36, 113_cause_recode#37, 130_infant_cause_recode#466, 39_cause_recode#39, number_of_entity_axis_conditions#40, entity_condition_1#41, entity_condition_2#42, ... 14 more fields]\\n                                       +- Project [resident_status#12, regexp_replace(education_1989_revision#1397, 11, 2) AS education_1989_revision#1437, education_2003_revision#14, education_reporting_flag#15, month_of_death#16, sex#17, age_recode_52#21, Place_of_death_and_decedents_status#943, marital_status#26, day_of_week_of_death#27, current_data_year#28, injury_at_work#29, manner_of_death#624, method_of_disposition#863, autopsy#32, activity_code#545, place_of_injury_for_causes_w00_y34_except_y06_and_y07_#387, 358_cause_recode#36, 113_cause_recode#37, 130_infant_cause_recode#466, 39_cause_recode#39, number_of_entity_axis_conditions#40, entity_condition_1#41, entity_condition_2#42, ... 14 more fields]\\n                                          +- Project [resident_status#12, regexp_replace(education_1989_revision#1357, 10, 2) AS education_1989_revision#1397, education_2003_revision#14, education_reporting_flag#15, month_of_death#16, sex#17, age_recode_52#21, Place_of_death_and_decedents_status#943, marital_status#26, day_of_week_of_death#27, current_data_year#28, injury_at_work#29, manner_of_death#624, method_of_disposition#863, autopsy#32, activity_code#545, place_of_injury_for_causes_w00_y34_except_y06_and_y07_#387, 358_cause_recode#36, 113_cause_recode#37, 130_infant_cause_recode#466, 39_cause_recode#39, number_of_entity_axis_conditions#40, entity_condition_1#41, entity_condition_2#42, ... 14 more fields]\\n                                             +- Project [resident_status#12, regexp_replace(education_1989_revision#1317, 09, 2) AS education_1989_revision#1357, education_2003_revision#14, education_reporting_flag#15, month_of_death#16, sex#17, age_recode_52#21, Place_of_death_and_decedents_status#943, marital_status#26, day_of_week_of_death#27, current_data_year#28, injury_at_work#29, manner_of_death#624, method_of_disposition#863, autopsy#32, activity_code#545, place_of_injury_for_causes_w00_y34_except_y06_and_y07_#387, 358_cause_recode#36, 113_cause_recode#37, 130_infant_cause_recode#466, 39_cause_recode#39, number_of_entity_axis_conditions#40, entity_condition_1#41, entity_condition_2#42, ... 14 more fields]\\n                                                +- Project [resident_status#12, regexp_replace(education_1989_revision#1277, 08, 1) AS education_1989_revision#1317, education_2003_revision#14, education_reporting_flag#15, month_of_death#16, sex#17, age_recode_52#21, Place_of_death_and_decedents_status#943, marital_status#26, day_of_week_of_death#27, current_data_year#28, injury_at_work#29, manner_of_death#624, method_of_disposition#863, autopsy#32, activity_code#545, place_of_injury_for_causes_w00_y34_except_y06_and_y07_#387, 358_cause_recode#36, 113_cause_recode#37, 130_infant_cause_recode#466, 39_cause_recode#39, number_of_entity_axis_conditions#40, entity_condition_1#41, entity_condition_2#42, ... 14 more fields]\\n                                                   +- Project [resident_status#12, regexp_replace(education_1989_revision#1237, 07, 1) AS education_1989_revision#1277, education_2003_revision#14, education_reporting_flag#15, month_of_death#16, sex#17, age_recode_52#21, Place_of_death_and_decedents_status#943, marital_status#26, day_of_week_of_death#27, current_data_year#28, injury_at_work#29, manner_of_death#624, method_of_disposition#863, autopsy#32, activity_code#545, place_of_injury_for_causes_w00_y34_except_y06_and_y07_#387, 358_cause_recode#36, 113_cause_recode#37, 130_infant_cause_recode#466, 39_cause_recode#39, number_of_entity_axis_conditions#40, entity_condition_1#41, entity_condition_2#42, ... 14 more fields]\\n                                                      +- Project [resident_status#12, regexp_replace(education_1989_revision#1197, 06, 1) AS education_1989_revision#1237, education_2003_revision#14, education_reporting_flag#15, month_of_death#16, sex#17, age_recode_52#21, Place_of_death_and_decedents_status#943, marital_status#26, day_of_week_of_death#27, current_data_year#28, injury_at_work#29, manner_of_death#624, method_of_disposition#863, autopsy#32, activity_code#545, place_of_injury_for_causes_w00_y34_except_y06_and_y07_#387, 358_cause_recode#36, 113_cause_recode#37, 130_infant_cause_recode#466, 39_cause_recode#39, number_of_entity_axis_conditions#40, entity_condition_1#41, entity_condition_2#42, ... 14 more fields]\\n                                                         +- Project [resident_status#12, regexp_replace(education_1989_revision#1157, 05, 1) AS education_1989_revision#1197, education_2003_revision#14, education_reporting_flag#15, month_of_death#16, sex#17, age_recode_52#21, Place_of_death_and_decedents_status#943, marital_status#26, day_of_week_of_death#27, current_data_year#28, injury_at_work#29, manner_of_death#624, method_of_disposition#863, autopsy#32, activity_code#545, place_of_injury_for_causes_w00_y34_except_y06_and_y07_#387, 358_cause_recode#36, 113_cause_recode#37, 130_infant_cause_recode#466, 39_cause_recode#39, number_of_entity_axis_conditions#40, entity_condition_1#41, entity_condition_2#42, ... 14 more fields]\\n                                                            +- Project [resident_status#12, regexp_replace(education_1989_revision#1117, 04, 1) AS education_1989_revision#1157, education_2003_revision#14, education_reporting_flag#15, month_of_death#16, sex#17, age_recode_52#21, Place_of_death_and_decedents_status#943, marital_status#26, day_of_week_of_death#27, current_data_year#28, injury_at_work#29, manner_of_death#624, method_of_disposition#863, autopsy#32, activity_code#545, place_of_injury_for_causes_w00_y34_except_y06_and_y07_#387, 358_cause_recode#36, 113_cause_recode#37, 130_infant_cause_recode#466, 39_cause_recode#39, number_of_entity_axis_conditions#40, entity_condition_1#41, entity_condition_2#42, ... 14 more fields]\\n                                                               +- Project [resident_status#12, regexp_replace(education_1989_revision#1077, 03, 1) AS education_1989_revision#1117, education_2003_revision#14, education_reporting_flag#15, month_of_death#16, sex#17, age_recode_52#21, Place_of_death_and_decedents_status#943, marital_status#26, day_of_week_of_death#27, current_data_year#28, injury_at_work#29, manner_of_death#624, method_of_disposition#863, autopsy#32, activity_code#545, place_of_injury_for_causes_w00_y34_except_y06_and_y07_#387, 358_cause_recode#36, 113_cause_recode#37, 130_infant_cause_recode#466, 39_cause_recode#39, number_of_entity_axis_conditions#40, entity_condition_1#41, entity_condition_2#42, ... 14 more fields]\\n                                                                  +- Project [resident_status#12, regexp_replace(education_1989_revision#1037, 02, 1) AS education_1989_revision#1077, education_2003_revision#14, education_reporting_flag#15, month_of_death#16, sex#17, age_recode_52#21, Place_of_death_and_decedents_status#943, marital_status#26, day_of_week_of_death#27, current_data_year#28, injury_at_work#29, manner_of_death#624, method_of_disposition#863, autopsy#32, activity_code#545, place_of_injury_for_causes_w00_y34_except_y06_and_y07_#387, 358_cause_recode#36, 113_cause_recode#37, 130_infant_cause_recode#466, 39_cause_recode#39, number_of_entity_axis_conditions#40, entity_condition_1#41, entity_condition_2#42, ... 14 more fields]\\n                                                                     +- Project [resident_status#12, regexp_replace(education_1989_revision#997, 01, 1) AS education_1989_revision#1037, education_2003_revision#14, education_reporting_flag#15, month_of_death#16, sex#17, age_recode_52#21, Place_of_death_and_decedents_status#943, marital_status#26, day_of_week_of_death#27, current_data_year#28, injury_at_work#29, manner_of_death#624, method_of_disposition#863, autopsy#32, activity_code#545, place_of_injury_for_causes_w00_y34_except_y06_and_y07_#387, 358_cause_recode#36, 113_cause_recode#37, 130_infant_cause_recode#466, 39_cause_recode#39, number_of_entity_axis_conditions#40, entity_condition_1#41, entity_condition_2#42, ... 14 more fields]\\n                                                                        +- Project [resident_status#12, regexp_replace(education_1989_revision#13, 00, 1) AS education_1989_revision#997, education_2003_revision#14, education_reporting_flag#15, month_of_death#16, sex#17, age_recode_52#21, Place_of_death_and_decedents_status#943, marital_status#26, day_of_week_of_death#27, current_data_year#28, injury_at_work#29, manner_of_death#624, method_of_disposition#863, autopsy#32, activity_code#545, place_of_injury_for_causes_w00_y34_except_y06_and_y07_#387, 358_cause_recode#36, 113_cause_recode#37, 130_infant_cause_recode#466, 39_cause_recode#39, number_of_entity_axis_conditions#40, entity_condition_1#41, entity_condition_2#42, ... 14 more fields]\\n                                                                           +- Project [resident_status#12, education_1989_revision#13, education_2003_revision#14, education_reporting_flag#15, month_of_death#16, sex#17, age_recode_52#21, CASE WHEN (cast(Place_of_death_and_decedents_status#903 as int) = 9) THEN cast(7 as string) ELSE Place_of_death_and_decedents_status#903 END AS Place_of_death_and_decedents_status#943, marital_status#26, day_of_week_of_death#27, current_data_year#28, injury_at_work#29, manner_of_death#624, method_of_disposition#863, autopsy#32, activity_code#545, place_of_injury_for_causes_w00_y34_except_y06_and_y07_#387, 358_cause_recode#36, 113_cause_recode#37, 130_infant_cause_recode#466, 39_cause_recode#39, number_of_entity_axis_conditions#40, entity_condition_1#41, entity_condition_2#42, ... 14 more fields]\\n                                                                              +- Project [resident_status#12, education_1989_revision#13, education_2003_revision#14, education_reporting_flag#15, month_of_death#16, sex#17, age_recode_52#21, regexp_replace(Place_of_death_and_decedents_status#703, 9, 7) AS Place_of_death_and_decedents_status#903, marital_status#26, day_of_week_of_death#27, current_data_year#28, injury_at_work#29, manner_of_death#624, method_of_disposition#863, autopsy#32, activity_code#545, place_of_injury_for_causes_w00_y34_except_y06_and_y07_#387, 358_cause_recode#36, 113_cause_recode#37, 130_infant_cause_recode#466, 39_cause_recode#39, number_of_entity_axis_conditions#40, entity_condition_1#41, entity_condition_2#42, ... 14 more fields]\\n                                                                                 +- Project [resident_status#12, education_1989_revision#13, education_2003_revision#14, education_reporting_flag#15, month_of_death#16, sex#17, age_recode_52#21, place_of_death_and_decedents_status#703, marital_status#26, day_of_week_of_death#27, current_data_year#28, injury_at_work#29, manner_of_death#624, regexp_replace(method_of_disposition#823, U, O) AS method_of_disposition#863, autopsy#32, activity_code#545, place_of_injury_for_causes_w00_y34_except_y06_and_y07_#387, 358_cause_recode#36, 113_cause_recode#37, 130_infant_cause_recode#466, 39_cause_recode#39, number_of_entity_axis_conditions#40, entity_condition_1#41, entity_condition_2#42, ... 14 more fields]\\n                                                                                    +- Project [resident_status#12, education_1989_revision#13, education_2003_revision#14, education_reporting_flag#15, month_of_death#16, sex#17, age_recode_52#21, place_of_death_and_decedents_status#703, marital_status#26, day_of_week_of_death#27, current_data_year#28, injury_at_work#29, manner_of_death#624, regexp_replace(method_of_disposition#783, D, O) AS method_of_disposition#823, autopsy#32, activity_code#545, place_of_injury_for_causes_w00_y34_except_y06_and_y07_#387, 358_cause_recode#36, 113_cause_recode#37, 130_infant_cause_recode#466, 39_cause_recode#39, number_of_entity_axis_conditions#40, entity_condition_1#41, entity_condition_2#42, ... 14 more fields]\\n                                                                                       +- Project [resident_status#12, education_1989_revision#13, education_2003_revision#14, education_reporting_flag#15, month_of_death#16, sex#17, age_recode_52#21, place_of_death_and_decedents_status#703, marital_status#26, day_of_week_of_death#27, current_data_year#28, injury_at_work#29, manner_of_death#624, regexp_replace(method_of_disposition#743, E, O) AS method_of_disposition#783, autopsy#32, activity_code#545, place_of_injury_for_causes_w00_y34_except_y06_and_y07_#387, 358_cause_recode#36, 113_cause_recode#37, 130_infant_cause_recode#466, 39_cause_recode#39, number_of_entity_axis_conditions#40, entity_condition_1#41, entity_condition_2#42, ... 14 more fields]\\n                                                                                          +- Project [resident_status#12, education_1989_revision#13, education_2003_revision#14, education_reporting_flag#15, month_of_death#16, sex#17, age_recode_52#21, place_of_death_and_decedents_status#703, marital_status#26, day_of_week_of_death#27, current_data_year#28, injury_at_work#29, manner_of_death#624, regexp_replace(method_of_disposition#31, R, O) AS method_of_disposition#743, autopsy#32, activity_code#545, place_of_injury_for_causes_w00_y34_except_y06_and_y07_#387, 358_cause_recode#36, 113_cause_recode#37, 130_infant_cause_recode#466, 39_cause_recode#39, number_of_entity_axis_conditions#40, entity_condition_1#41, entity_condition_2#42, ... 14 more fields]\\n                                                                                             +- Project [resident_status#12, education_1989_revision#13, education_2003_revision#14, education_reporting_flag#15, month_of_death#16, sex#17, age_recode_52#21, coalesce(place_of_death_and_decedents_status#25, cast(7 as string)) AS place_of_death_and_decedents_status#703, marital_status#26, day_of_week_of_death#27, current_data_year#28, injury_at_work#29, manner_of_death#624, method_of_disposition#31, autopsy#32, activity_code#545, place_of_injury_for_causes_w00_y34_except_y06_and_y07_#387, 358_cause_recode#36, 113_cause_recode#37, 130_infant_cause_recode#466, 39_cause_recode#39, number_of_entity_axis_conditions#40, entity_condition_1#41, entity_condition_2#42, ... 14 more fields]\\n                                                                                                +- Project [resident_status#12, education_1989_revision#13, education_2003_revision#14, education_reporting_flag#15, month_of_death#16, sex#17, age_recode_52#21, place_of_death_and_decedents_status#25, marital_status#26, day_of_week_of_death#27, current_data_year#28, injury_at_work#29, coalesce(manner_of_death#30, cast(8 as string)) AS manner_of_death#624, method_of_disposition#31, autopsy#32, activity_code#545, place_of_injury_for_causes_w00_y34_except_y06_and_y07_#387, 358_cause_recode#36, 113_cause_recode#37, 130_infant_cause_recode#466, 39_cause_recode#39, number_of_entity_axis_conditions#40, entity_condition_1#41, entity_condition_2#42, ... 14 more fields]\\n                                                                                                   +- Project [resident_status#12, education_1989_revision#13, education_2003_revision#14, education_reporting_flag#15, month_of_death#16, sex#17, age_recode_52#21, place_of_death_and_decedents_status#25, marital_status#26, day_of_week_of_death#27, current_data_year#28, injury_at_work#29, manner_of_death#30, method_of_disposition#31, autopsy#32, coalesce(activity_code#33, cast(10 as string)) AS activity_code#545, place_of_injury_for_causes_w00_y34_except_y06_and_y07_#387, 358_cause_recode#36, 113_cause_recode#37, 130_infant_cause_recode#466, 39_cause_recode#39, number_of_entity_axis_conditions#40, entity_condition_1#41, entity_condition_2#42, ... 14 more fields]\\n                                                                                                      +- Project [resident_status#12, education_1989_revision#13, education_2003_revision#14, education_reporting_flag#15, month_of_death#16, sex#17, age_recode_52#21, place_of_death_and_decedents_status#25, marital_status#26, day_of_week_of_death#27, current_data_year#28, injury_at_work#29, manner_of_death#30, method_of_disposition#31, autopsy#32, activity_code#33, place_of_injury_for_causes_w00_y34_except_y06_and_y07_#387, 358_cause_recode#36, 113_cause_recode#37, coalesce(130_infant_cause_recode#38, cast(000 as string)) AS 130_infant_cause_recode#466, 39_cause_recode#39, number_of_entity_axis_conditions#40, entity_condition_1#41, entity_condition_2#42, ... 14 more fields]\\n                                                                                                         +- Project [resident_status#12, education_1989_revision#13, education_2003_revision#14, education_reporting_flag#15, month_of_death#16, sex#17, age_recode_52#21, place_of_death_and_decedents_status#25, marital_status#26, day_of_week_of_death#27, current_data_year#28, injury_at_work#29, manner_of_death#30, method_of_disposition#31, autopsy#32, activity_code#33, coalesce(place_of_injury_for_causes_w00_y34_except_y06_and_y07_#34, cast(10 as string)) AS place_of_injury_for_causes_w00_y34_except_y06_and_y07_#387, 358_cause_recode#36, 113_cause_recode#37, 130_infant_cause_recode#38, 39_cause_recode#39, number_of_entity_axis_conditions#40, entity_condition_1#41, entity_condition_2#42, ... 14 more fields]\\n                                                                                                            +- Project [resident_status#12, education_1989_revision#13, education_2003_revision#14, education_reporting_flag#15, month_of_death#16, sex#17, age_recode_52#21, place_of_death_and_decedents_status#25, marital_status#26, day_of_week_of_death#27, current_data_year#28, injury_at_work#29, manner_of_death#30, method_of_disposition#31, autopsy#32, activity_code#33, place_of_injury_for_causes_w00_y34_except_y06_and_y07_#34, 358_cause_recode#36, 113_cause_recode#37, 130_infant_cause_recode#38, 39_cause_recode#39, number_of_entity_axis_conditions#40, entity_condition_1#41, entity_condition_2#42, ... 14 more fields]\\n                                                                                                               +- Project [resident_status#12, education_1989_revision#13, education_2003_revision#14, education_reporting_flag#15, month_of_death#16, sex#17, age_recode_52#21, place_of_death_and_decedents_status#25, marital_status#26, day_of_week_of_death#27, current_data_year#28, injury_at_work#29, manner_of_death#30, method_of_disposition#31, autopsy#32, activity_code#33, place_of_injury_for_causes_w00_y34_except_y06_and_y07_#34, 358_cause_recode#36, 113_cause_recode#37, 130_infant_cause_recode#38, 39_cause_recode#39, number_of_entity_axis_conditions#40, entity_condition_1#41, entity_condition_2#42, ... 46 more fields]\\n                                                                                                                  +- Relation[resident_status#12,education_1989_revision#13,education_2003_revision#14,education_reporting_flag#15,month_of_death#16,sex#17,detail_age_type#18,detail_age#19,age_substitution_flag#20,age_recode_52#21,age_recode_27#22,age_recode_12#23,infant_age_recode_22#24,place_of_death_and_decedents_status#25,marital_status#26,day_of_week_of_death#27,current_data_year#28,injury_at_work#29,manner_of_death#30,method_of_disposition#31,autopsy#32,activity_code#33,place_of_injury_for_causes_w00_y34_except_y06_and_y07_#34,icd_code_10th_revision#35,... 53 more fields] csv\\n\""
     ]
    }
   ],
   "source": [
    "cdc.where((cdc.death_cause== 215)| (cdc.death_cause==211)).groupby('current_data_year','age_recode_52').count().orderBy('c',ascending=True).show()"
   ]
  },
  {
   "cell_type": "code",
   "execution_count": 55,
   "metadata": {},
   "outputs": [],
   "source": [
    "cdc = cdc.withColumnRenamed('358_cause_recode', 'death_cause')"
   ]
  },
  {
   "cell_type": "code",
   "execution_count": 62,
   "metadata": {},
   "outputs": [
    {
     "name": "stdout",
     "output_type": "stream",
     "text": [
      "+-----------+\n",
      "|death_cause|\n",
      "+-----------+\n",
      "|        296|\n",
      "|        125|\n",
      "|        451|\n",
      "|        124|\n",
      "|        447|\n",
      "|        169|\n",
      "|        334|\n",
      "|        030|\n",
      "|        448|\n",
      "|        088|\n",
      "|        282|\n",
      "|        232|\n",
      "|        155|\n",
      "|        132|\n",
      "|        154|\n",
      "|        317|\n",
      "|        428|\n",
      "|        388|\n",
      "|        101|\n",
      "|        009|\n",
      "+-----------+\n",
      "only showing top 20 rows\n",
      "\n"
     ]
    }
   ],
   "source": [
    "cdc.select('death_cause').distinct().show()"
   ]
  },
  {
   "cell_type": "code",
   "execution_count": 71,
   "metadata": {},
   "outputs": [
    {
     "name": "stdout",
     "output_type": "stream",
     "text": [
      "+-------------+------+\n",
      "|age_recode_52| count|\n",
      "+-------------+------+\n",
      "|           43|646646|\n",
      "|           42|574964|\n",
      "|           44|492527|\n",
      "|           41|426542|\n",
      "|           40|321185|\n",
      "|           39|264313|\n",
      "|           38|221769|\n",
      "|           45|202944|\n",
      "|           37|169510|\n",
      "|           36|116590|\n",
      "|           35| 67072|\n",
      "|           46| 41248|\n",
      "|           34| 32358|\n",
      "|           33| 13489|\n",
      "|           32|  5896|\n",
      "|           47|  3560|\n",
      "|           31|  2468|\n",
      "|           30|   961|\n",
      "|           29|   279|\n",
      "|           48|   134|\n",
      "+-------------+------+\n",
      "only showing top 20 rows\n",
      "\n"
     ]
    }
   ],
   "source": [
    "cdc.where((cdc.death_cause== 215)| (cdc.death_cause==211)).groupby('age_recode_52').count().orderBy('count',ascending=False).show()"
   ]
  },
  {
   "cell_type": "code",
   "execution_count": 79,
   "metadata": {},
   "outputs": [
    {
     "ename": "SyntaxError",
     "evalue": "unexpected EOF while parsing (<ipython-input-79-226135a8e498>, line 1)",
     "output_type": "error",
     "traceback": [
      "\u001b[0;36m  File \u001b[0;32m\"<ipython-input-79-226135a8e498>\"\u001b[0;36m, line \u001b[0;32m1\u001b[0m\n\u001b[0;31m    cdc.where(((cdc.death_cause== 215)| (cdc.death_cause==211)) & (cdc.age_recode_52 ==30).groupby('current_data_year').count().orderBy('count',ascending=False).show()\u001b[0m\n\u001b[0m                                                                                                                                                                       ^\u001b[0m\n\u001b[0;31mSyntaxError\u001b[0m\u001b[0;31m:\u001b[0m unexpected EOF while parsing\n"
     ]
    }
   ],
   "source": [
    "cdc.where(((cdc.death_cause== 215)| (cdc.death_cause==211)) & (cdc.age_recode_52 ==30).groupby('current_data_year').count().orderBy('count',ascending=False).show()"
   ]
  },
  {
   "cell_type": "code",
   "execution_count": 83,
   "metadata": {},
   "outputs": [
    {
     "name": "stdout",
     "output_type": "stream",
     "text": [
      "+-----------------+-----+\n",
      "|current_data_year|count|\n",
      "+-----------------+-----+\n",
      "|             2005|  107|\n",
      "|             2006|   78|\n",
      "|             2007|   98|\n",
      "|             2008|   99|\n",
      "|             2009|   70|\n",
      "|             2010|   79|\n",
      "|             2011|   90|\n",
      "|             2012|   96|\n",
      "|             2013|   93|\n",
      "|             2014|   71|\n",
      "|             2015|   80|\n",
      "+-----------------+-----+\n",
      "\n"
     ]
    }
   ],
   "source": [
    "cdc.where(((cdc.death_cause== 215)| (cdc.death_cause==211)) & (cdc.age_recode_52 ==30)).groupby('current_data_year').count().orderBy('current_data_year',ascending=True).show()"
   ]
  },
  {
   "cell_type": "code",
   "execution_count": 84,
   "metadata": {},
   "outputs": [
    {
     "name": "stdout",
     "output_type": "stream",
     "text": [
      "+-----------------+-----+\n",
      "|current_data_year|count|\n",
      "+-----------------+-----+\n",
      "|             2005| 3881|\n",
      "|             2006| 3742|\n",
      "|             2007| 3365|\n",
      "|             2008| 3202|\n",
      "|             2009| 2879|\n",
      "|             2010| 2706|\n",
      "|             2011| 2686|\n",
      "|             2012| 2610|\n",
      "|             2013| 2553|\n",
      "|             2014| 2396|\n",
      "|             2015| 2338|\n",
      "+-----------------+-----+\n",
      "\n"
     ]
    }
   ],
   "source": [
    "cdc.where(((cdc.death_cause== 215)| (cdc.death_cause==211)) & (cdc.age_recode_52 ==34)).groupby('current_data_year').count().orderBy('current_data_year',ascending=True).show()"
   ]
  },
  {
   "cell_type": "code",
   "execution_count": 85,
   "metadata": {},
   "outputs": [
    {
     "name": "stdout",
     "output_type": "stream",
     "text": [
      "+-----------------+------+\n",
      "|current_data_year| count|\n",
      "+-----------------+------+\n",
      "|             2005|270671|\n",
      "|             2006|265551|\n",
      "|             2007|269086|\n",
      "|             2008|282411|\n",
      "|             2009|279803|\n",
      "|             2010|281490|\n",
      "|             2011|285837|\n",
      "|             2012|287577|\n",
      "|             2013|292131|\n",
      "|             2014|290276|\n",
      "|             2015|296548|\n",
      "+-----------------+------+\n",
      "\n"
     ]
    }
   ],
   "source": [
    "#increasing breathing/lung problem deaths\n",
    "cdc.where((cdc.death_cause== 267)| (cdc.death_cause=='093')).groupby('current_data_year').count().orderBy('current_data_year',ascending=True).show()"
   ]
  },
  {
   "cell_type": "code",
   "execution_count": 86,
   "metadata": {},
   "outputs": [
    {
     "name": "stdout",
     "output_type": "stream",
     "text": [
      "+-------------+------+\n",
      "|age_recode_52| count|\n",
      "+-------------+------+\n",
      "|           41|506677|\n",
      "|           42|490341|\n",
      "|           40|465131|\n",
      "|           39|391883|\n",
      "|           43|357255|\n",
      "|           38|289686|\n",
      "|           37|194360|\n",
      "|           44|167217|\n",
      "|           36|113931|\n",
      "|           35| 49923|\n",
      "|           45| 45603|\n",
      "|           34| 16012|\n",
      "|           46|  5837|\n",
      "|           33|  4427|\n",
      "|           32|  1470|\n",
      "|           31|   581|\n",
      "|           47|   356|\n",
      "|           30|   258|\n",
      "|           29|   124|\n",
      "|           52|    66|\n",
      "+-------------+------+\n",
      "only showing top 20 rows\n",
      "\n"
     ]
    }
   ],
   "source": [
    "cdc.where((cdc.death_cause== 267)| (cdc.death_cause=='093')).groupby('age_recode_52').count().orderBy('count',ascending=False).show()"
   ]
  },
  {
   "cell_type": "code",
   "execution_count": 92,
   "metadata": {},
   "outputs": [
    {
     "ename": "SyntaxError",
     "evalue": "unexpected EOF while parsing (<ipython-input-92-85daa141482b>, line 1)",
     "output_type": "error",
     "traceback": [
      "\u001b[0;36m  File \u001b[0;32m\"<ipython-input-92-85daa141482b>\"\u001b[0;36m, line \u001b[0;32m1\u001b[0m\n\u001b[0;31m    cdc.where((cdc.death_cause== 267)| (cdc.death_cause== '093') & ((cdc.age_recode_52 ==34)|(cdc.age_recode_52 ==30)|(cdc.age_recode_52 ==31)|(cdc.age_recode_52 ==33)|(cdc.age_recode_52 ==32)).groupby('current_data_year').count().orderBy('current_data_year',ascending=True).show()\u001b[0m\n\u001b[0m                                                                                                                                                                                                                                                                                         ^\u001b[0m\n\u001b[0;31mSyntaxError\u001b[0m\u001b[0;31m:\u001b[0m unexpected EOF while parsing\n"
     ]
    }
   ],
   "source": [
    "cdc.where((cdc.death_cause== 267)| (cdc.death_cause== '093') & ((cdc.age_recode_52 ==34)|(cdc.age_recode_52 ==30)|(cdc.age_recode_52 ==31)|(cdc.age_recode_52 ==33)|(cdc.age_recode_52 ==32)).groupby('current_data_year').count().orderBy('current_data_year',ascending=True).show()"
   ]
  },
  {
   "cell_type": "code",
   "execution_count": 93,
   "metadata": {},
   "outputs": [
    {
     "name": "stdout",
     "output_type": "stream",
     "text": [
      "+-----------------+-----+\n",
      "|current_data_year|count|\n",
      "+-----------------+-----+\n",
      "|             2005| 2928|\n",
      "|             2006| 2613|\n",
      "|             2007| 2450|\n",
      "|             2008| 2250|\n",
      "|             2009| 2101|\n",
      "|             2010| 1924|\n",
      "|             2011| 1829|\n",
      "|             2012| 1766|\n",
      "|             2013| 1702|\n",
      "|             2014| 1665|\n",
      "|             2015| 1520|\n",
      "+-----------------+-----+\n",
      "\n"
     ]
    }
   ],
   "source": [
    "#year wise, breathing/lung diseases, age 20-45\n",
    "cdc.where(((cdc.death_cause== 267)| (cdc.death_cause== '093') )& ((cdc.age_recode_52 ==34)|(cdc.age_recode_52 ==30)|(cdc.age_recode_52 ==31)|(cdc.age_recode_52 ==33)|(cdc.age_recode_52 ==32))).groupby('current_data_year').count().orderBy('current_data_year',ascending=True).show()"
   ]
  },
  {
   "cell_type": "code",
   "execution_count": 94,
   "metadata": {},
   "outputs": [
    {
     "name": "stdout",
     "output_type": "stream",
     "text": [
      "+-----------------+-----+\n",
      "|current_data_year|count|\n",
      "+-----------------+-----+\n",
      "|             2005| 2209|\n",
      "|             2006| 1903|\n",
      "|             2007| 1812|\n",
      "|             2008| 1594|\n",
      "|             2009| 1448|\n",
      "|             2010| 1278|\n",
      "|             2011| 1297|\n",
      "|             2012| 1200|\n",
      "|             2013| 1157|\n",
      "|             2014| 1106|\n",
      "|             2015| 1008|\n",
      "+-----------------+-----+\n",
      "\n"
     ]
    }
   ],
   "source": [
    "#year wise,  early 40s age\n",
    "cdc.where(((cdc.death_cause== 267)| (cdc.death_cause== '093') )& ((cdc.age_recode_52 ==34))).groupby('current_data_year').count().orderBy('current_data_year',ascending=True).show()"
   ]
  },
  {
   "cell_type": "code",
   "execution_count": 95,
   "metadata": {},
   "outputs": [
    {
     "name": "stdout",
     "output_type": "stream",
     "text": [
      "+-------------+------+\n",
      "|age_recode_52| count|\n",
      "+-------------+------+\n",
      "|           41|506677|\n",
      "|           42|490341|\n",
      "|           40|465131|\n",
      "|           39|391883|\n",
      "|           43|357255|\n",
      "|           38|289686|\n",
      "|           37|194360|\n",
      "|           44|167217|\n",
      "|           36|113931|\n",
      "|           35| 49923|\n",
      "|           45| 45603|\n",
      "|           34| 16012|\n",
      "|           46|  5837|\n",
      "|           33|  4427|\n",
      "|           32|  1470|\n",
      "|           31|   581|\n",
      "|           47|   356|\n",
      "|           30|   258|\n",
      "|           29|   124|\n",
      "|           52|    66|\n",
      "+-------------+------+\n",
      "only showing top 20 rows\n",
      "\n"
     ]
    }
   ],
   "source": [
    "#age wise distribution for breathing/lung problems\n",
    "cdc.where((cdc.death_cause== 267)| (cdc.death_cause=='093')).groupby('age_recode_52').count().orderBy('count',ascending=False).show()"
   ]
  },
  {
   "cell_type": "code",
   "execution_count": 96,
   "metadata": {},
   "outputs": [
    {
     "name": "stdout",
     "output_type": "stream",
     "text": [
      "+-----------------+-----+\n",
      "|current_data_year|count|\n",
      "+-----------------+-----+\n",
      "|             2005|15534|\n",
      "|             2006|15478|\n",
      "|             2007|15580|\n",
      "|             2008|15888|\n",
      "|             2009|16134|\n",
      "|             2010|15535|\n",
      "|             2011|15203|\n",
      "|             2012|14722|\n",
      "|             2013|14177|\n",
      "|             2014|13216|\n",
      "|             2015|12387|\n",
      "+-----------------+-----+\n",
      "\n"
     ]
    }
   ],
   "source": [
    "#deaths due to breathing/lung problems in middle age\n",
    "cdc.where(((cdc.death_cause== 267)| (cdc.death_cause== '093') )& ((cdc.age_recode_52 ==35)|(cdc.age_recode_52 ==36))).groupby('current_data_year').count().orderBy('current_data_year',ascending=True).show()"
   ]
  },
  {
   "cell_type": "code",
   "execution_count": 97,
   "metadata": {},
   "outputs": [
    {
     "name": "stdout",
     "output_type": "stream",
     "text": [
      "+-----------------+-----+\n",
      "|current_data_year|count|\n",
      "+-----------------+-----+\n",
      "|             2005|30426|\n",
      "|             2006|30612|\n",
      "|             2007|30964|\n",
      "|             2008|31335|\n",
      "|             2009|31073|\n",
      "|             2010|31382|\n",
      "|             2011|31961|\n",
      "|             2012|33158|\n",
      "|             2013|33208|\n",
      "|             2014|33184|\n",
      "|             2015|35856|\n",
      "+-----------------+-----+\n",
      "\n"
     ]
    }
   ],
   "source": [
    "#gun deaths year wise\n",
    "cdc.where((cdc.death_cause== 407)| (cdc.death_cause== 429)|(cdc.death_cause==435)|(cdc.death_cause==446) ).groupby('current_data_year').count().orderBy('current_data_year',ascending=True).show()"
   ]
  },
  {
   "cell_type": "code",
   "execution_count": 98,
   "metadata": {},
   "outputs": [
    {
     "name": "stdout",
     "output_type": "stream",
     "text": [
      "+-------------+-----+\n",
      "|age_recode_52|count|\n",
      "+-------------+-----+\n",
      "|           30|44822|\n",
      "|           31|38016|\n",
      "|           32|31021|\n",
      "|           36|28438|\n",
      "|           35|28170|\n",
      "|           33|27119|\n",
      "|           34|26895|\n",
      "|           29|26360|\n",
      "|           37|24483|\n",
      "|           38|18791|\n",
      "|           39|14502|\n",
      "|           40|12049|\n",
      "|           41|10686|\n",
      "|           42| 9115|\n",
      "|           43| 5671|\n",
      "|           28| 2774|\n",
      "|           44| 2063|\n",
      "|           27|  776|\n",
      "|           45|  362|\n",
      "|           25|  239|\n",
      "+-------------+-----+\n",
      "only showing top 20 rows\n",
      "\n"
     ]
    }
   ],
   "source": [
    "#age wise distribution due to gundeaths\n",
    "cdc.where((cdc.death_cause== 407)| (cdc.death_cause== 429)|(cdc.death_cause==435)|(cdc.death_cause==446) ).groupby('age_recode_52').count().orderBy('count',ascending=False).show()"
   ]
  },
  {
   "cell_type": "code",
   "execution_count": 100,
   "metadata": {},
   "outputs": [
    {
     "name": "stdout",
     "output_type": "stream",
     "text": [
      "+-----------+------+\n",
      "|death_cause| count|\n",
      "+-----------+------+\n",
      "|        215|102876|\n",
      "|        159| 75507|\n",
      "|        093| 75255|\n",
      "|        211| 72242|\n",
      "|        104| 66158|\n",
      "|        175| 65174|\n",
      "|        238| 51556|\n",
      "|        327| 48234|\n",
      "|        189| 43663|\n",
      "|        207| 40438|\n",
      "|        214| 39733|\n",
      "|        267| 38302|\n",
      "|        023| 37545|\n",
      "|        230| 32148|\n",
      "|        081| 32051|\n",
      "|        228| 30292|\n",
      "|        257| 27523|\n",
      "|        088| 25514|\n",
      "|        125| 23593|\n",
      "|        236| 21273|\n",
      "+-----------+------+\n",
      "only showing top 20 rows\n",
      "\n"
     ]
    }
   ],
   "source": [
    "#death reasons for black women, diabetes and breast cancer are more prominent than white women\n",
    "cdc.where((cdc.race_recode_3==3)& (cdc.sex=='F')).groupby('death_cause').count().orderBy('count',ascending=False).show()"
   ]
  },
  {
   "cell_type": "code",
   "execution_count": 101,
   "metadata": {},
   "outputs": [
    {
     "name": "stdout",
     "output_type": "stream",
     "text": [
      "+-----------------+-----+\n",
      "|current_data_year|count|\n",
      "+-----------------+-----+\n",
      "|             2005| 7255|\n",
      "|             2006| 7046|\n",
      "|             2007| 6969|\n",
      "|             2008| 6613|\n",
      "|             2009| 6476|\n",
      "|             2010| 6490|\n",
      "|             2011| 6854|\n",
      "|             2012| 6843|\n",
      "|             2013| 7011|\n",
      "|             2014| 6987|\n",
      "|             2015| 6963|\n",
      "+-----------------+-----+\n",
      "\n"
     ]
    }
   ],
   "source": [
    "#trend for diabetes deaths for black women\n",
    "cdc.where((cdc.race_recode_3==3)& (cdc.sex=='F') & (cdc.death_cause==159)).groupby('current_data_year').count().orderBy('current_data_year',ascending=True).show()"
   ]
  },
  {
   "cell_type": "code",
   "execution_count": 104,
   "metadata": {},
   "outputs": [
    {
     "name": "stdout",
     "output_type": "stream",
     "text": [
      "+-----------+------+\n",
      "|death_cause| count|\n",
      "+-----------+------+\n",
      "|        215|908273|\n",
      "|        175|717872|\n",
      "|        093|678984|\n",
      "|        267|671492|\n",
      "|        189|590448|\n",
      "|        211|537624|\n",
      "|        238|401899|\n",
      "|        104|372307|\n",
      "|        230|316915|\n",
      "|        159|300936|\n",
      "|        257|253884|\n",
      "|        228|235299|\n",
      "|        214|226827|\n",
      "|        327|194444|\n",
      "|        081|192684|\n",
      "|        125|178031|\n",
      "|        023|172331|\n",
      "|        088|168772|\n",
      "|        207|148830|\n",
      "|        239|142800|\n",
      "+-----------+------+\n",
      "only showing top 20 rows\n",
      "\n"
     ]
    }
   ],
   "source": [
    "#death causes for white females\n",
    "cdc.where((cdc.sex=='F') & (cdc.race_recode_3==1)).groupby('death_cause').count().orderBy('count',ascending=False).show()"
   ]
  },
  {
   "cell_type": "code",
   "execution_count": 105,
   "metadata": {},
   "outputs": [
    {
     "name": "stdout",
     "output_type": "stream",
     "text": [
      "+-----------------+-----+\n",
      "|current_data_year|count|\n",
      "+-----------------+-----+\n",
      "|             2005|41170|\n",
      "|             2006|40866|\n",
      "|             2007|40647|\n",
      "|             2008|40639|\n",
      "|             2009|40716|\n",
      "|             2010|41037|\n",
      "|             2011|40967|\n",
      "|             2012|41206|\n",
      "|             2013|40906|\n",
      "|             2014|41262|\n",
      "|             2015|41566|\n",
      "+-----------------+-----+\n",
      "\n"
     ]
    }
   ],
   "source": [
    "#year wise distribution for breast cancer deaths\n",
    "cdc.where((cdc.sex=='F') & (cdc.death_cause==104)).groupby('current_data_year').count().orderBy('current_data_year',ascending=True).show()"
   ]
  },
  {
   "cell_type": "code",
   "execution_count": 106,
   "metadata": {},
   "outputs": [
    {
     "name": "stdout",
     "output_type": "stream",
     "text": [
      "+-------------+-----+\n",
      "|age_recode_52|count|\n",
      "+-------------+-----+\n",
      "|           38|51082|\n",
      "|           39|49395|\n",
      "|           42|47214|\n",
      "|           37|46897|\n",
      "|           41|46390|\n",
      "|           40|46030|\n",
      "|           43|39893|\n",
      "|           36|37807|\n",
      "|           35|25611|\n",
      "|           44|23619|\n",
      "|           34|15505|\n",
      "|           45| 8302|\n",
      "|           33| 7678|\n",
      "|           32| 3059|\n",
      "|           46| 1441|\n",
      "|           31|  808|\n",
      "|           47|  118|\n",
      "|           30|  112|\n",
      "|           52|   10|\n",
      "|           29|    4|\n",
      "+-------------+-----+\n",
      "only showing top 20 rows\n",
      "\n"
     ]
    }
   ],
   "source": [
    "#age distribution for breast cancer deaths\n",
    "cdc.where((cdc.sex=='F') & (cdc.death_cause==104)).groupby('age_recode_52').count().orderBy('count',ascending=False).show()"
   ]
  },
  {
   "cell_type": "code",
   "execution_count": 111,
   "metadata": {},
   "outputs": [
    {
     "name": "stdout",
     "output_type": "stream",
     "text": [
      "+-----------------+-----+\n",
      "|current_data_year|count|\n",
      "+-----------------+-----+\n",
      "|             2005| 5159|\n",
      "|             2006| 5004|\n",
      "|             2007| 4702|\n",
      "|             2008| 4656|\n",
      "|             2009| 4681|\n",
      "|             2010| 4377|\n",
      "|             2011| 4226|\n",
      "|             2012| 4321|\n",
      "|             2013| 4101|\n",
      "|             2014| 3992|\n",
      "|             2015| 3855|\n",
      "+-----------------+-----+\n",
      "\n"
     ]
    }
   ],
   "source": [
    "#breast cancer death trend in middle aged women\n",
    "cdc.where((cdc.death_cause==104) & ((cdc.age_recode_52==33)|(cdc.age_recode_52==34)|(cdc.age_recode_52==35))).groupby('current_data_year').count().orderBy('current_data_year',ascending=True).show()\n"
   ]
  },
  {
   "cell_type": "code",
   "execution_count": 113,
   "metadata": {},
   "outputs": [
    {
     "name": "stdout",
     "output_type": "stream",
     "text": [
      "+-----------------+-----+\n",
      "|current_data_year|count|\n",
      "+-----------------+-----+\n",
      "|             2005|30274|\n",
      "|             2006|34896|\n",
      "|             2007|36474|\n",
      "|             2008|37028|\n",
      "|             2009|37521|\n",
      "|             2010|38850|\n",
      "|             2011|41901|\n",
      "|             2012|42054|\n",
      "|             2013|44509|\n",
      "|             2014|47599|\n",
      "|             2015|53096|\n",
      "+-----------------+-----+\n",
      "\n"
     ]
    }
   ],
   "source": [
    "#all drugs related deaths combined(includes suicide, accident and medicinal overdose)\n",
    "cdc.where((cdc.death_cause==420) | (cdc.death_cause==433) | (cdc.death_cause==425) | (cdc.death_cause==443) | (cdc.death_cause==454)).groupby('current_data_year').count().orderBy('current_data_year',ascending=True).show()\n"
   ]
  },
  {
   "cell_type": "code",
   "execution_count": 114,
   "metadata": {},
   "outputs": [
    {
     "name": "stdout",
     "output_type": "stream",
     "text": [
      "+-----------------+-----+\n",
      "|current_data_year|count|\n",
      "+-----------------+-----+\n",
      "|             2005|  344|\n",
      "|             2006|  349|\n",
      "|             2007|  351|\n",
      "|             2008|  432|\n",
      "|             2009|  407|\n",
      "|             2010|  427|\n",
      "|             2011|  414|\n",
      "|             2012|  408|\n",
      "|             2013|  385|\n",
      "|             2014|  384|\n",
      "|             2015|  455|\n",
      "+-----------------+-----+\n",
      "\n"
     ]
    }
   ],
   "source": [
    "#medicine/drugs(therapeutic use) trend\n",
    "cdc.where((cdc.death_cause==454)).groupby('current_data_year').count().orderBy('current_data_year',ascending=True).show()\n"
   ]
  },
  {
   "cell_type": "code",
   "execution_count": 115,
   "metadata": {},
   "outputs": [
    {
     "name": "stdout",
     "output_type": "stream",
     "text": [
      "+-----------------+-----+\n",
      "|current_data_year|count|\n",
      "+-----------------+-----+\n",
      "|             2005|25594|\n",
      "|             2006|29862|\n",
      "|             2007|31256|\n",
      "|             2008|31461|\n",
      "|             2009|31974|\n",
      "|             2010|33038|\n",
      "|             2011|36068|\n",
      "|             2012|36066|\n",
      "|             2013|38585|\n",
      "|             2014|41667|\n",
      "|             2015|47314|\n",
      "+-----------------+-----+\n",
      "\n"
     ]
    }
   ],
   "source": [
    "#Drug overdose deaths increasing\n",
    "cdc.where((cdc.death_cause==420) | (cdc.death_cause==443)).groupby('current_data_year').count().orderBy('current_data_year',ascending=True).show()\n"
   ]
  },
  {
   "cell_type": "code",
   "execution_count": 56,
   "metadata": {},
   "outputs": [
    {
     "name": "stdout",
     "output_type": "stream",
     "text": [
      "root\n",
      " |-- resident_status: string (nullable = true)\n",
      " |-- education_2003_revision: string (nullable = true)\n",
      " |-- month_of_death: string (nullable = true)\n",
      " |-- sex: string (nullable = true)\n",
      " |-- age_recode_52: string (nullable = true)\n",
      " |-- Place_of_death_and_decedents_status: string (nullable = false)\n",
      " |-- marital_status: string (nullable = true)\n",
      " |-- day_of_week_of_death: string (nullable = true)\n",
      " |-- current_data_year: string (nullable = true)\n",
      " |-- injury_at_work: string (nullable = true)\n",
      " |-- manner_of_death: string (nullable = false)\n",
      " |-- method_of_disposition: string (nullable = true)\n",
      " |-- autopsy: string (nullable = true)\n",
      " |-- activity_code: string (nullable = false)\n",
      " |-- place_of_injury_for_causes_w00_y34_except_y06_and_y07_: string (nullable = false)\n",
      " |-- death_cause: string (nullable = true)\n",
      " |-- 113_cause_recode: string (nullable = true)\n",
      " |-- 130_infant_cause_recode: string (nullable = false)\n",
      " |-- 39_cause_recode: string (nullable = true)\n",
      " |-- number_of_entity_axis_conditions: string (nullable = true)\n",
      " |-- number_of_record_axis_conditions: string (nullable = true)\n",
      " |-- race: string (nullable = true)\n",
      " |-- race_recode_3: string (nullable = true)\n",
      " |-- race_recode_5: string (nullable = true)\n",
      " |-- hispanic_originrace_recode: string (nullable = true)\n",
      "\n"
     ]
    }
   ],
   "source": [
    "cdc.printSchema()"
   ]
  },
  {
   "cell_type": "code",
   "execution_count": null,
   "metadata": {},
   "outputs": [],
   "source": [
    "cdc2.groupBy('358_cause_recode', 'sex').count().orderBy('count', ascending=False).show()"
   ]
  },
  {
   "cell_type": "code",
   "execution_count": null,
   "metadata": {},
   "outputs": [],
   "source": [
    "from pyspark.sql.functions import lit"
   ]
  },
  {
   "cell_type": "code",
   "execution_count": null,
   "metadata": {},
   "outputs": [],
   "source": []
  },
  {
   "cell_type": "code",
   "execution_count": null,
   "metadata": {},
   "outputs": [],
   "source": [
    "cdc2.groupBy('358_cause_recode'= 215, 'sex').count().orderBy('count', ascending=False).show()"
   ]
  },
  {
   "cell_type": "code",
   "execution_count": null,
   "metadata": {},
   "outputs": [],
   "source": [
    "cdc2.groupBy('358_cause_recode', 'sex').count().orderBy('count', ascending=False).show().filter(\"358_cause_recode\" = 407)"
   ]
  },
  {
   "cell_type": "code",
   "execution_count": null,
   "metadata": {},
   "outputs": [],
   "source": [
    "cdc2 = cdc2.selectExpr(\"358_cause_recode as death_cause\")\n",
    "cdc2.show()\n",
    "cdc2.printSchema()"
   ]
  },
  {
   "cell_type": "code",
   "execution_count": null,
   "metadata": {},
   "outputs": [],
   "source": []
  },
  {
   "cell_type": "raw",
   "metadata": {},
   "source": []
  },
  {
   "cell_type": "code",
   "execution_count": null,
   "metadata": {},
   "outputs": [],
   "source": []
  },
  {
   "cell_type": "code",
   "execution_count": null,
   "metadata": {},
   "outputs": [],
   "source": []
  },
  {
   "cell_type": "code",
   "execution_count": null,
   "metadata": {
    "scrolled": true
   },
   "outputs": [],
   "source": [
    "abc = abc.withColumnRenamed(cdc,'358_cause_recode', 'death_cause').collect()"
   ]
  },
  {
   "cell_type": "code",
   "execution_count": null,
   "metadata": {},
   "outputs": [],
   "source": []
  },
  {
   "cell_type": "code",
   "execution_count": null,
   "metadata": {},
   "outputs": [],
   "source": []
  }
 ],
 "metadata": {
  "kernelspec": {
   "display_name": "conda_python3",
   "language": "python",
   "name": "conda_python3"
  },
  "language_info": {
   "codemirror_mode": {
    "name": "ipython",
    "version": 3
   },
   "file_extension": ".py",
   "mimetype": "text/x-python",
   "name": "python",
   "nbconvert_exporter": "python",
   "pygments_lexer": "ipython3",
   "version": "3.6.5"
  }
 },
 "nbformat": 4,
 "nbformat_minor": 2
}
