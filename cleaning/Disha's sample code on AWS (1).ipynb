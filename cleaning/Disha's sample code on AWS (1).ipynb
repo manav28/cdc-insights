{
 "cells": [
  {
   "cell_type": "code",
   "execution_count": 61,
   "metadata": {},
   "outputs": [
    {
     "data": {
      "text/html": [
       "\n",
       "            <div>\n",
       "                <p><b>SparkSession - in-memory</b></p>\n",
       "                \n",
       "        <div>\n",
       "            <p><b>SparkContext</b></p>\n",
       "\n",
       "            <p><a href=\"http://172.16.112.213:4040\">Spark UI</a></p>\n",
       "\n",
       "            <dl>\n",
       "              <dt>Version</dt>\n",
       "                <dd><code>v2.2.1</code></dd>\n",
       "              <dt>Master</dt>\n",
       "                <dd><code>local[*]</code></dd>\n",
       "              <dt>AppName</dt>\n",
       "                <dd><code>pyspark-shell</code></dd>\n",
       "            </dl>\n",
       "        </div>\n",
       "        \n",
       "            </div>\n",
       "        "
      ],
      "text/plain": [
       "<pyspark.sql.session.SparkSession at 0x7f77739d7f60>"
      ]
     },
     "execution_count": 61,
     "metadata": {},
     "output_type": "execute_result"
    }
   ],
   "source": [
    "import os\n",
    "import boto3\n",
    "\n",
    "from pyspark import SparkContext, SparkConf\n",
    "from pyspark.sql import SparkSession\n",
    "\n",
    "import sagemaker\n",
    "from sagemaker import get_execution_role\n",
    "import sagemaker_pyspark\n",
    "from pyspark.sql.functions import *\n",
    "\n",
    "role = get_execution_role()\n",
    "\n",
    "# Configure Spark to use the SageMaker Spark dependency jars\n",
    "jars = sagemaker_pyspark.classpath_jars()\n",
    "\n",
    "classpath = \":\".join(sagemaker_pyspark.classpath_jars())\n",
    "\n",
    "# See the SageMaker Spark Github to learn how to connect to EMR from a notebook instance\n",
    "spark = SparkSession.builder.config(\"spark.driver.extraClassPath\", classpath)\\\n",
    "    .master(\"local[*]\").getOrCreate()\n",
    "    \n",
    "spark"
   ]
  },
  {
   "cell_type": "code",
   "execution_count": 2,
   "metadata": {},
   "outputs": [],
   "source": [
    "import os\n",
    "import pandas as pd\n",
    "import numpy as np\n",
    "from pyspark import SparkConf, SparkContext\n",
    "from pyspark.sql import SparkSession, SQLContext\n",
    "from pyspark.sql.types import *\n",
    "import pyspark.sql.functions as fn\n",
    "from pyspark.sql.functions import col, udf\n"
   ]
  },
  {
   "cell_type": "code",
   "execution_count": 86,
   "metadata": {},
   "outputs": [],
   "source": [
    "cdc = spark.read.csv('output.csv', header = True)"
   ]
  },
  {
   "cell_type": "code",
   "execution_count": 87,
   "metadata": {},
   "outputs": [],
   "source": [
    "cdc = cdc.drop('detail_age_type','detail_age', 'age_substitution_flag','age_recode_27', 'age_recode_12', 'infant_age_recode_22', 'icd_code_10th_revision')"
   ]
  },
  {
   "cell_type": "code",
   "execution_count": 88,
   "metadata": {},
   "outputs": [],
   "source": [
    "cdc = cdc.drop('record_condition_20' , 'entity_condition_20', 'entity_condition_19', 'entity_condition_18', 'entity_condition_17', 'record_condition_19', 'record_condition_18', 'record_condition_16', 'record_condition_17','record_condition_15','record_condition_14','record_condition_13','record_condition_12','record_condition_11','record_condition_10','record_condition_9','record_condition_8','record_condition_7' , 'record_condition_6', 'record_condition_5', 'entity_condition_16', 'entity_condition_15','entity_condition_14', 'entity_condition_13', 'entity_condition_12', 'entity_condition_11', 'entity_condition_10', 'entity_condition_9','entity_condition_8', 'entity_condition_7', 'entity_condition_6', 'entity_condition_5')"
   ]
  },
  {
   "cell_type": "code",
   "execution_count": 89,
   "metadata": {},
   "outputs": [
    {
     "name": "stdout",
     "output_type": "stream",
     "text": [
      "root\n",
      " |-- resident_status: string (nullable = true)\n",
      " |-- education_1989_revision: string (nullable = true)\n",
      " |-- education_2003_revision: string (nullable = true)\n",
      " |-- education_reporting_flag: string (nullable = true)\n",
      " |-- month_of_death: string (nullable = true)\n",
      " |-- sex: string (nullable = true)\n",
      " |-- age_recode_52: string (nullable = true)\n",
      " |-- place_of_death_and_decedents_status: string (nullable = true)\n",
      " |-- marital_status: string (nullable = true)\n",
      " |-- day_of_week_of_death: string (nullable = true)\n",
      " |-- current_data_year: string (nullable = true)\n",
      " |-- injury_at_work: string (nullable = true)\n",
      " |-- manner_of_death: string (nullable = true)\n",
      " |-- method_of_disposition: string (nullable = true)\n",
      " |-- autopsy: string (nullable = true)\n",
      " |-- activity_code: string (nullable = true)\n",
      " |-- place_of_injury_for_causes_w00_y34_except_y06_and_y07_: string (nullable = true)\n",
      " |-- 358_cause_recode: string (nullable = true)\n",
      " |-- 113_cause_recode: string (nullable = true)\n",
      " |-- 130_infant_cause_recode: string (nullable = true)\n",
      " |-- 39_cause_recode: string (nullable = true)\n",
      " |-- number_of_entity_axis_conditions: string (nullable = true)\n",
      " |-- entity_condition_1: string (nullable = true)\n",
      " |-- entity_condition_2: string (nullable = true)\n",
      " |-- entity_condition_3: string (nullable = true)\n",
      " |-- entity_condition_4: string (nullable = true)\n",
      " |-- number_of_record_axis_conditions: string (nullable = true)\n",
      " |-- record_condition_1: string (nullable = true)\n",
      " |-- record_condition_2: string (nullable = true)\n",
      " |-- record_condition_3: string (nullable = true)\n",
      " |-- record_condition_4: string (nullable = true)\n",
      " |-- race: string (nullable = true)\n",
      " |-- bridged_race_flag: string (nullable = true)\n",
      " |-- race_imputation_flag: string (nullable = true)\n",
      " |-- race_recode_3: string (nullable = true)\n",
      " |-- race_recode_5: string (nullable = true)\n",
      " |-- hispanic_origin: string (nullable = true)\n",
      " |-- hispanic_originrace_recode: string (nullable = true)\n",
      "\n"
     ]
    }
   ],
   "source": [
    "cdc.printSchema()"
   ]
  },
  {
   "cell_type": "code",
   "execution_count": 90,
   "metadata": {},
   "outputs": [],
   "source": [
    "cdc = cdc.fillna({'place_of_injury_for_causes_w00_y34_except_y06_and_y07_' : '10'})\n",
    "cdc = cdc.fillna({'130_infant_cause_recode' : '000'})\n",
    "cdc = cdc.fillna({'activity_code' : '10'})\n",
    "cdc = cdc.fillna({'manner_of_death' : '8'})\n",
    "cdc = cdc.fillna({'Place_of_death_and_decedents_status': '7'})"
   ]
  },
  {
   "cell_type": "code",
   "execution_count": 91,
   "metadata": {},
   "outputs": [],
   "source": [
    "cdc = cdc.withColumn('method_of_disposition', regexp_replace('method_of_disposition', 'R' , 'O'))\n",
    "cdc = cdc.withColumn('method_of_disposition', regexp_replace('method_of_disposition', 'E' , 'O'))\n",
    "cdc = cdc.withColumn('method_of_disposition', regexp_replace('method_of_disposition', 'D' , 'O'))\n",
    "cdc = cdc.withColumn('method_of_disposition', regexp_replace('method_of_disposition', 'U' , 'O'))\n",
    "cdc = cdc.withColumn('Place_of_death_and_decedents_status', regexp_replace('Place_of_death_and_decedents_status', '9' , '7'))"
   ]
  },
  {
   "cell_type": "code",
   "execution_count": 92,
   "metadata": {},
   "outputs": [],
   "source": [
    "#cdc = cdc.withColumn('Place_of_death_and_decedents_status', \n",
    " #                    when(cdc['Place_of_death_and_decedents_status']== 9 , 7).otherwise(cdc['Place_of_death_and_decedents_status']))"
   ]
  },
  {
   "cell_type": "code",
   "execution_count": 93,
   "metadata": {},
   "outputs": [
    {
     "name": "stdout",
     "output_type": "stream",
     "text": [
      "+-----------------------------------+\n",
      "|Place_of_death_and_decedents_status|\n",
      "+-----------------------------------+\n",
      "|                                  7|\n",
      "|                                  3|\n",
      "|                                  5|\n",
      "|                                  6|\n",
      "|                                  1|\n",
      "|                                  4|\n",
      "|                                  2|\n",
      "+-----------------------------------+\n",
      "\n"
     ]
    }
   ],
   "source": [
    "#cdc.select('Place_of_death_and_decedents_status').distinct().show()"
   ]
  },
  {
   "cell_type": "code",
   "execution_count": 94,
   "metadata": {},
   "outputs": [
    {
     "name": "stdout",
     "output_type": "stream",
     "text": [
      "+------------------------------------------------------+\n",
      "|place_of_injury_for_causes_w00_y34_except_y06_and_y07_|\n",
      "+------------------------------------------------------+\n",
      "|                                                     7|\n",
      "|                                                     3|\n",
      "|                                                     8|\n",
      "|                                                     0|\n",
      "|                                                     5|\n",
      "|                                                     6|\n",
      "|                                                     9|\n",
      "|                                                     1|\n",
      "|                                                    10|\n",
      "|                                                     4|\n",
      "|                                                     2|\n",
      "+------------------------------------------------------+\n",
      "\n"
     ]
    }
   ],
   "source": [
    "#cdc.select('place_of_injury_for_causes_w00_y34_except_y06_and_y07_').distinct().show()\n"
   ]
  },
  {
   "cell_type": "code",
   "execution_count": 78,
   "metadata": {},
   "outputs": [
    {
     "name": "stdout",
     "output_type": "stream",
     "text": [
      "+-----------------------+\n",
      "|education_1989_revision|\n",
      "+-----------------------+\n",
      "|                     07|\n",
      "|                     15|\n",
      "|                     11|\n",
      "|                     01|\n",
      "|                     16|\n",
      "|                     99|\n",
      "|                   null|\n",
      "|                     00|\n",
      "|                     17|\n",
      "|                     09|\n",
      "|                     05|\n",
      "|                     08|\n",
      "|                     03|\n",
      "|                     02|\n",
      "|                     06|\n",
      "|                     10|\n",
      "|                     12|\n",
      "|                     04|\n",
      "|                     13|\n",
      "|                     14|\n",
      "+-----------------------+\n",
      "\n"
     ]
    }
   ],
   "source": [
    "#cdc.select(\"education_1989_revision\").distinct().show()"
   ]
  },
  {
   "cell_type": "code",
   "execution_count": 95,
   "metadata": {},
   "outputs": [],
   "source": [
    "cdc = cdc.withColumn('education_1989_revision', regexp_replace('education_1989_revision', '00' , '1'))\n",
    "cdc = cdc.withColumn('education_1989_revision', regexp_replace('education_1989_revision', '01' , '1'))\n",
    "cdc = cdc.withColumn('education_1989_revision', regexp_replace('education_1989_revision', '02' , '1'))\n",
    "cdc = cdc.withColumn('education_1989_revision', regexp_replace('education_1989_revision', '03' , '1'))\n",
    "cdc = cdc.withColumn('education_1989_revision', regexp_replace('education_1989_revision', '04' , '1'))\n",
    "cdc = cdc.withColumn('education_1989_revision', regexp_replace('education_1989_revision', '05' , '1'))\n",
    "cdc = cdc.withColumn('education_1989_revision', regexp_replace('education_1989_revision', '06' , '1'))\n",
    "cdc = cdc.withColumn('education_1989_revision', regexp_replace('education_1989_revision', '07' , '1'))\n",
    "cdc = cdc.withColumn('education_1989_revision', regexp_replace('education_1989_revision', '08' , '1'))\n",
    "\n",
    "cdc = cdc.withColumn('education_1989_revision', regexp_replace('education_1989_revision', '09' , '2'))\n",
    "cdc = cdc.withColumn('education_1989_revision', regexp_replace('education_1989_revision', '10' , '2'))\n",
    "cdc = cdc.withColumn('education_1989_revision', regexp_replace('education_1989_revision', '11' , '2'))\n",
    "cdc = cdc.withColumn('education_1989_revision', regexp_replace('education_1989_revision', '12' , '3'))\n",
    "cdc = cdc.withColumn('education_1989_revision', regexp_replace('education_1989_revision', '13' , '4'))\n",
    "cdc = cdc.withColumn('education_1989_revision', regexp_replace('education_1989_revision', '14' , '4'))\n",
    "cdc = cdc.withColumn('education_1989_revision', regexp_replace('education_1989_revision', '15' , '5'))\n",
    "cdc = cdc.withColumn('education_1989_revision', regexp_replace('education_1989_revision', '16' , '6'))\n",
    "cdc = cdc.withColumn('education_1989_revision', regexp_replace('education_1989_revision', '17' , '7'))\n",
    "cdc = cdc.withColumn('education_1989_revision', regexp_replace('education_1989_revision', '99' , '9'))\n",
    "\n"
   ]
  },
  {
   "cell_type": "code",
   "execution_count": 110,
   "metadata": {},
   "outputs": [],
   "source": [
    "cdc = cdc.withColumn(\"education_2003_revision\", coalesce(cdc.education_2003_revision,cdc.education_1989_revision))"
   ]
  },
  {
   "cell_type": "code",
   "execution_count": 112,
   "metadata": {},
   "outputs": [],
   "source": [
    "cdc = cdc.filter(cdc.education_2003_revision.isNotNull())"
   ]
  },
  {
   "cell_type": "code",
   "execution_count": 115,
   "metadata": {},
   "outputs": [
    {
     "name": "stdout",
     "output_type": "stream",
     "text": [
      "+-----------------------+--------+\n",
      "|education_2003_revision|   count|\n",
      "+-----------------------+--------+\n",
      "|                      3|11329932|\n",
      "|                      1| 3805467|\n",
      "|                      4| 3293354|\n",
      "|                      2| 3226815|\n",
      "|                      6| 2480719|\n",
      "|                      5| 1144604|\n",
      "|                      7| 1106055|\n",
      "|                      9| 1024952|\n",
      "|                      8|  308775|\n",
      "+-----------------------+--------+\n",
      "\n"
     ]
    }
   ],
   "source": [
    "#cdc.groupBy('education_2003_revision').count().orderBy('count', ascending=False).show()"
   ]
  },
  {
   "cell_type": "code",
   "execution_count": 130,
   "metadata": {},
   "outputs": [],
   "source": [
    "#cdc.printSchema()\n"
   ]
  },
  {
   "cell_type": "code",
   "execution_count": 121,
   "metadata": {},
   "outputs": [],
   "source": [
    "cdc = cdc.drop('education_1989_revision', 'education_reporting_flag','bridged_race_flag', 'race_imputation_flag', \n",
    "               'hispanic_origin','entity_condition_1','entity_condition_2','entity_condition_3','entity_condition_4',\n",
    "              'record_condition_1','record_condition_2','record_condition_3','record_condition_4')"
   ]
  },
  {
   "cell_type": "code",
   "execution_count": 125,
   "metadata": {},
   "outputs": [
    {
     "name": "stdout",
     "output_type": "stream",
     "text": [
      "+--------------------------------+-------+\n",
      "|number_of_entity_axis_conditions|  count|\n",
      "+--------------------------------+-------+\n",
      "|                              02|6573555|\n",
      "|                              01|6244732|\n",
      "|                              03|5982777|\n",
      "|                              04|4038981|\n",
      "|                              05|2323316|\n",
      "|                              06|1262052|\n",
      "|                              07| 653445|\n",
      "|                              08| 326345|\n",
      "|                              09| 164497|\n",
      "|                              10|  80073|\n",
      "|                              11|  38912|\n",
      "|                              12|  18717|\n",
      "|                              13|   7641|\n",
      "|                              14|   4935|\n",
      "|                              15|    507|\n",
      "|                              16|    118|\n",
      "|                              17|     43|\n",
      "|                              18|     19|\n",
      "|                              19|      7|\n",
      "|                              20|      1|\n",
      "+--------------------------------+-------+\n",
      "\n"
     ]
    }
   ],
   "source": [
    "#cdc.select('entity_condition_2').limit(1).show()\n",
    "#cdc.where(col(\"sex\").isNull()).show()\n",
    "#cdc.groupBy('number_of_entity_axis_conditions').count().orderBy('count', ascending=False).show()\n",
    "#cdc.select(\"education_1989_revision\").distinct().show()"
   ]
  },
  {
   "cell_type": "code",
   "execution_count": 126,
   "metadata": {},
   "outputs": [],
   "source": [
    "from sagemaker_pyspark.algorithms import XGBoostSageMakerEstimator"
   ]
  },
  {
   "cell_type": "code",
   "execution_count": null,
   "metadata": {},
   "outputs": [],
   "source": []
  },
  {
   "cell_type": "code",
   "execution_count": null,
   "metadata": {},
   "outputs": [],
   "source": []
  },
  {
   "cell_type": "code",
   "execution_count": null,
   "metadata": {},
   "outputs": [],
   "source": []
  },
  {
   "cell_type": "code",
   "execution_count": null,
   "metadata": {},
   "outputs": [],
   "source": []
  },
  {
   "cell_type": "code",
   "execution_count": null,
   "metadata": {},
   "outputs": [],
   "source": []
  }
 ],
 "metadata": {
  "kernelspec": {
   "display_name": "conda_python3",
   "language": "python",
   "name": "conda_python3"
  },
  "language_info": {
   "codemirror_mode": {
    "name": "ipython",
    "version": 3
   },
   "file_extension": ".py",
   "mimetype": "text/x-python",
   "name": "python",
   "nbconvert_exporter": "python",
   "pygments_lexer": "ipython3",
   "version": "3.6.5"
  }
 },
 "nbformat": 4,
 "nbformat_minor": 2
}
