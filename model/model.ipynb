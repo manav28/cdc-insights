{
 "cells": [
  {
   "cell_type": "code",
   "execution_count": 1,
   "metadata": {},
   "outputs": [
    {
     "data": {
      "text/html": [
       "\n",
       "            <div>\n",
       "                <p><b>SparkSession - in-memory</b></p>\n",
       "                \n",
       "        <div>\n",
       "            <p><b>SparkContext</b></p>\n",
       "\n",
       "            <p><a href=\"http://172.16.168.179:4040\">Spark UI</a></p>\n",
       "\n",
       "            <dl>\n",
       "              <dt>Version</dt>\n",
       "                <dd><code>v2.2.1</code></dd>\n",
       "              <dt>Master</dt>\n",
       "                <dd><code>local[*]</code></dd>\n",
       "              <dt>AppName</dt>\n",
       "                <dd><code>pyspark-shell</code></dd>\n",
       "            </dl>\n",
       "        </div>\n",
       "        \n",
       "            </div>\n",
       "        "
      ],
      "text/plain": [
       "<pyspark.sql.session.SparkSession at 0x7f2b413b9eb8>"
      ]
     },
     "execution_count": 1,
     "metadata": {},
     "output_type": "execute_result"
    }
   ],
   "source": [
    "import os\n",
    "import boto3\n",
    "\n",
    "from pyspark import SparkContext, SparkConf\n",
    "from pyspark.sql import SparkSession\n",
    "\n",
    "import sagemaker\n",
    "from sagemaker import get_execution_role\n",
    "import sagemaker_pyspark\n",
    "from pyspark.sql.functions import *\n",
    "\n",
    "role = get_execution_role()\n",
    "\n",
    "# Configure Spark to use the SageMaker Spark dependency jars\n",
    "jars = sagemaker_pyspark.classpath_jars()\n",
    "\n",
    "classpath = \":\".join(sagemaker_pyspark.classpath_jars())\n",
    "\n",
    "# See the SageMaker Spark Github to learn how to connect to EMR from a notebook instance\n",
    "spark = SparkSession.builder.config(\"spark.driver.extraClassPath\", classpath)\\\n",
    "    .master(\"local[*]\").getOrCreate()\n",
    "    \n",
    "spark"
   ]
  },
  {
   "cell_type": "code",
   "execution_count": 60,
   "metadata": {},
   "outputs": [],
   "source": [
    "import os\n",
    "import pandas as pd\n",
    "import numpy as np\n",
    "from pyspark import SparkConf, SparkContext\n",
    "from pyspark.sql import SparkSession, SQLContext\n",
    "from pyspark.sql.types import *\n",
    "import pyspark.sql.functions as fn\n",
    "from pyspark.sql.functions import col, udf\n",
    "from pyspark.ml import Pipeline\n",
    "from pyspark.ml.feature import OneHotEncoder, StringIndexer, VectorAssembler\n",
    "from pyspark.ml.classification import LogisticRegression\n",
    "from pyspark.ml.evaluation import BinaryClassificationEvaluator"
   ]
  },
  {
   "cell_type": "code",
   "execution_count": 3,
   "metadata": {},
   "outputs": [],
   "source": [
    "cdc = spark.read.csv('output.csv', header = True)"
   ]
  },
  {
   "cell_type": "code",
   "execution_count": 4,
   "metadata": {},
   "outputs": [],
   "source": [
    "cdc = cdc.drop('detail_age_type','detail_age', 'age_substitution_flag','age_recode_27', 'age_recode_12', 'infant_age_recode_22', 'icd_code_10th_revision')"
   ]
  },
  {
   "cell_type": "code",
   "execution_count": 5,
   "metadata": {},
   "outputs": [],
   "source": [
    "cdc = cdc.drop('record_condition_20' , 'entity_condition_20', 'entity_condition_19', 'entity_condition_18', 'entity_condition_17', 'record_condition_19', 'record_condition_18', 'record_condition_16', 'record_condition_17','record_condition_15','record_condition_14','record_condition_13','record_condition_12','record_condition_11','record_condition_10','record_condition_9','record_condition_8','record_condition_7' , 'record_condition_6', 'record_condition_5', 'entity_condition_16', 'entity_condition_15','entity_condition_14', 'entity_condition_13', 'entity_condition_12', 'entity_condition_11', 'entity_condition_10', 'entity_condition_9','entity_condition_8', 'entity_condition_7', 'entity_condition_6', 'entity_condition_5')"
   ]
  },
  {
   "cell_type": "code",
   "execution_count": 6,
   "metadata": {},
   "outputs": [
    {
     "name": "stdout",
     "output_type": "stream",
     "text": [
      "root\n",
      " |-- resident_status: string (nullable = true)\n",
      " |-- education_1989_revision: string (nullable = true)\n",
      " |-- education_2003_revision: string (nullable = true)\n",
      " |-- education_reporting_flag: string (nullable = true)\n",
      " |-- month_of_death: string (nullable = true)\n",
      " |-- sex: string (nullable = true)\n",
      " |-- age_recode_52: string (nullable = true)\n",
      " |-- place_of_death_and_decedents_status: string (nullable = true)\n",
      " |-- marital_status: string (nullable = true)\n",
      " |-- day_of_week_of_death: string (nullable = true)\n",
      " |-- current_data_year: string (nullable = true)\n",
      " |-- injury_at_work: string (nullable = true)\n",
      " |-- manner_of_death: string (nullable = true)\n",
      " |-- method_of_disposition: string (nullable = true)\n",
      " |-- autopsy: string (nullable = true)\n",
      " |-- activity_code: string (nullable = true)\n",
      " |-- place_of_injury_for_causes_w00_y34_except_y06_and_y07_: string (nullable = true)\n",
      " |-- 358_cause_recode: string (nullable = true)\n",
      " |-- 113_cause_recode: string (nullable = true)\n",
      " |-- 130_infant_cause_recode: string (nullable = true)\n",
      " |-- 39_cause_recode: string (nullable = true)\n",
      " |-- number_of_entity_axis_conditions: string (nullable = true)\n",
      " |-- entity_condition_1: string (nullable = true)\n",
      " |-- entity_condition_2: string (nullable = true)\n",
      " |-- entity_condition_3: string (nullable = true)\n",
      " |-- entity_condition_4: string (nullable = true)\n",
      " |-- number_of_record_axis_conditions: string (nullable = true)\n",
      " |-- record_condition_1: string (nullable = true)\n",
      " |-- record_condition_2: string (nullable = true)\n",
      " |-- record_condition_3: string (nullable = true)\n",
      " |-- record_condition_4: string (nullable = true)\n",
      " |-- race: string (nullable = true)\n",
      " |-- bridged_race_flag: string (nullable = true)\n",
      " |-- race_imputation_flag: string (nullable = true)\n",
      " |-- race_recode_3: string (nullable = true)\n",
      " |-- race_recode_5: string (nullable = true)\n",
      " |-- hispanic_origin: string (nullable = true)\n",
      " |-- hispanic_originrace_recode: string (nullable = true)\n",
      "\n"
     ]
    }
   ],
   "source": [
    "cdc.printSchema()"
   ]
  },
  {
   "cell_type": "code",
   "execution_count": 7,
   "metadata": {},
   "outputs": [],
   "source": [
    "cdc = cdc.fillna({'place_of_injury_for_causes_w00_y34_except_y06_and_y07_' : '10'})\n",
    "cdc = cdc.fillna({'130_infant_cause_recode' : '000'})\n",
    "cdc = cdc.fillna({'activity_code' : '10'})\n",
    "cdc = cdc.fillna({'manner_of_death' : '8'})\n",
    "cdc = cdc.fillna({'Place_of_death_and_decedents_status': '7'})"
   ]
  },
  {
   "cell_type": "code",
   "execution_count": 8,
   "metadata": {},
   "outputs": [],
   "source": [
    "cdc = cdc.withColumn('method_of_disposition', regexp_replace('method_of_disposition', 'R' , 'O'))\n",
    "cdc = cdc.withColumn('method_of_disposition', regexp_replace('method_of_disposition', 'E' , 'O'))\n",
    "cdc = cdc.withColumn('method_of_disposition', regexp_replace('method_of_disposition', 'D' , 'O'))\n",
    "cdc = cdc.withColumn('method_of_disposition', regexp_replace('method_of_disposition', 'U' , 'O'))\n",
    "cdc = cdc.withColumn('Place_of_death_and_decedents_status', regexp_replace('Place_of_death_and_decedents_status', '9' , '7'))"
   ]
  },
  {
   "cell_type": "code",
   "execution_count": 9,
   "metadata": {},
   "outputs": [],
   "source": [
    "#cdc = cdc.withColumn('Place_of_death_and_decedents_status', \n",
    " #                    when(cdc['Place_of_death_and_decedents_status']== 9 , 7).otherwise(cdc['Place_of_death_and_decedents_status']))"
   ]
  },
  {
   "cell_type": "code",
   "execution_count": 10,
   "metadata": {},
   "outputs": [],
   "source": [
    "#cdc.select('Place_of_death_and_decedents_status').distinct().show()"
   ]
  },
  {
   "cell_type": "code",
   "execution_count": 11,
   "metadata": {},
   "outputs": [],
   "source": [
    "#cdc.select('place_of_injury_for_causes_w00_y34_except_y06_and_y07_').distinct().show()\n"
   ]
  },
  {
   "cell_type": "code",
   "execution_count": 12,
   "metadata": {},
   "outputs": [],
   "source": [
    "#cdc.select(\"education_1989_revision\").distinct().show()"
   ]
  },
  {
   "cell_type": "code",
   "execution_count": 13,
   "metadata": {},
   "outputs": [],
   "source": [
    "cdc = cdc.withColumn('education_1989_revision', regexp_replace('education_1989_revision', '00' , '1'))\n",
    "cdc = cdc.withColumn('education_1989_revision', regexp_replace('education_1989_revision', '01' , '1'))\n",
    "cdc = cdc.withColumn('education_1989_revision', regexp_replace('education_1989_revision', '02' , '1'))\n",
    "cdc = cdc.withColumn('education_1989_revision', regexp_replace('education_1989_revision', '03' , '1'))\n",
    "cdc = cdc.withColumn('education_1989_revision', regexp_replace('education_1989_revision', '04' , '1'))\n",
    "cdc = cdc.withColumn('education_1989_revision', regexp_replace('education_1989_revision', '05' , '1'))\n",
    "cdc = cdc.withColumn('education_1989_revision', regexp_replace('education_1989_revision', '06' , '1'))\n",
    "cdc = cdc.withColumn('education_1989_revision', regexp_replace('education_1989_revision', '07' , '1'))\n",
    "cdc = cdc.withColumn('education_1989_revision', regexp_replace('education_1989_revision', '08' , '1'))\n",
    "\n",
    "cdc = cdc.withColumn('education_1989_revision', regexp_replace('education_1989_revision', '09' , '2'))\n",
    "cdc = cdc.withColumn('education_1989_revision', regexp_replace('education_1989_revision', '10' , '2'))\n",
    "cdc = cdc.withColumn('education_1989_revision', regexp_replace('education_1989_revision', '11' , '2'))\n",
    "cdc = cdc.withColumn('education_1989_revision', regexp_replace('education_1989_revision', '12' , '3'))\n",
    "cdc = cdc.withColumn('education_1989_revision', regexp_replace('education_1989_revision', '13' , '4'))\n",
    "cdc = cdc.withColumn('education_1989_revision', regexp_replace('education_1989_revision', '14' , '4'))\n",
    "cdc = cdc.withColumn('education_1989_revision', regexp_replace('education_1989_revision', '15' , '5'))\n",
    "cdc = cdc.withColumn('education_1989_revision', regexp_replace('education_1989_revision', '16' , '6'))\n",
    "cdc = cdc.withColumn('education_1989_revision', regexp_replace('education_1989_revision', '17' , '7'))\n",
    "cdc = cdc.withColumn('education_1989_revision', regexp_replace('education_1989_revision', '99' , '9'))"
   ]
  },
  {
   "cell_type": "code",
   "execution_count": 14,
   "metadata": {},
   "outputs": [],
   "source": [
    "cdc = cdc.withColumn(\"education_2003_revision\", coalesce(cdc.education_2003_revision,cdc.education_1989_revision))"
   ]
  },
  {
   "cell_type": "code",
   "execution_count": 15,
   "metadata": {},
   "outputs": [],
   "source": [
    "cdc = cdc.filter(cdc.education_2003_revision.isNotNull())"
   ]
  },
  {
   "cell_type": "code",
   "execution_count": 16,
   "metadata": {},
   "outputs": [],
   "source": [
    "#cdc.groupBy('education_2003_revision').count().orderBy('count', ascending=False).show()"
   ]
  },
  {
   "cell_type": "code",
   "execution_count": 17,
   "metadata": {},
   "outputs": [],
   "source": [
    "#cdc.printSchema()\n"
   ]
  },
  {
   "cell_type": "code",
   "execution_count": 18,
   "metadata": {},
   "outputs": [],
   "source": [
    "cdc = cdc.drop('education_1989_revision', 'education_reporting_flag','bridged_race_flag', 'race_imputation_flag', \n",
    "               'hispanic_origin','entity_condition_1','entity_condition_2','entity_condition_3','entity_condition_4',\n",
    "              'record_condition_1','record_condition_2','record_condition_3','record_condition_4')"
   ]
  },
  {
   "cell_type": "code",
   "execution_count": 19,
   "metadata": {},
   "outputs": [],
   "source": [
    "cdc = cdc.withColumn('number_of_entity_axis_conditions', cdc['number_of_entity_axis_conditions'].cast(DoubleType()))\n",
    "cdc = cdc.withColumn('number_of_record_axis_conditions', cdc['number_of_record_axis_conditions'].cast(DoubleType()))"
   ]
  },
  {
   "cell_type": "code",
   "execution_count": 43,
   "metadata": {},
   "outputs": [],
   "source": [
    "cdc = cdc.filter(cdc.method_of_disposition != 'O')"
   ]
  },
  {
   "cell_type": "markdown",
   "metadata": {},
   "source": [
    "### Building prediction model"
   ]
  },
  {
   "cell_type": "code",
   "execution_count": 45,
   "metadata": {},
   "outputs": [],
   "source": [
    "cols = cdc.columns\n",
    "categorical_cols = cols.copy()\n",
    "categorical_cols.remove('number_of_entity_axis_conditions')\n",
    "categorical_cols.remove('number_of_record_axis_conditions')\n",
    "categorical_cols.remove('method_of_disposition')"
   ]
  },
  {
   "cell_type": "code",
   "execution_count": 46,
   "metadata": {},
   "outputs": [
    {
     "data": {
      "text/plain": [
       "['resident_status',\n",
       " 'education_2003_revision',\n",
       " 'month_of_death',\n",
       " 'sex',\n",
       " 'age_recode_52',\n",
       " 'Place_of_death_and_decedents_status',\n",
       " 'marital_status',\n",
       " 'day_of_week_of_death',\n",
       " 'current_data_year',\n",
       " 'injury_at_work',\n",
       " 'manner_of_death',\n",
       " 'autopsy',\n",
       " 'activity_code',\n",
       " 'place_of_injury_for_causes_w00_y34_except_y06_and_y07_',\n",
       " '358_cause_recode',\n",
       " '113_cause_recode',\n",
       " '130_infant_cause_recode',\n",
       " '39_cause_recode',\n",
       " 'race',\n",
       " 'race_recode_3',\n",
       " 'race_recode_5',\n",
       " 'hispanic_originrace_recode']"
      ]
     },
     "execution_count": 46,
     "metadata": {},
     "output_type": "execute_result"
    }
   ],
   "source": [
    "categorical_cols"
   ]
  },
  {
   "cell_type": "code",
   "execution_count": 47,
   "metadata": {},
   "outputs": [],
   "source": [
    "stages = []\n",
    "for col in categorical_cols:\n",
    "    string_indexer = StringIndexer(inputCol=col, outputCol=col + \"Index\")\n",
    "    encoder = OneHotEncoder(inputCol=col + \"Index\", outputCol=col + \"classVec\")\n",
    "    \n",
    "    stages += [string_indexer, encoder]"
   ]
  },
  {
   "cell_type": "code",
   "execution_count": 48,
   "metadata": {},
   "outputs": [],
   "source": [
    "label_string_index = StringIndexer(inputCol=\"method_of_disposition\", outputCol=\"label\")\n",
    "stages += [label_string_index]"
   ]
  },
  {
   "cell_type": "code",
   "execution_count": 49,
   "metadata": {},
   "outputs": [],
   "source": [
    "numeric_cols = ['number_of_entity_axis_conditions', 'number_of_record_axis_conditions']\n",
    "assemblerInputs = [c + \"classVec\" for c in categorical_cols] + numeric_cols\n",
    "assembler = VectorAssembler(inputCols=assemblerInputs, outputCol=\"features\")\n",
    "stages += [assembler]"
   ]
  },
  {
   "cell_type": "code",
   "execution_count": 50,
   "metadata": {},
   "outputs": [],
   "source": [
    "partialPipeline = Pipeline().setStages(stages)\n",
    "pipelineModel = partialPipeline.fit(cdc)\n",
    "preppedDataDF = pipelineModel.transform(cdc)"
   ]
  },
  {
   "cell_type": "code",
   "execution_count": 51,
   "metadata": {},
   "outputs": [],
   "source": [
    "lrModel = LogisticRegression().fit(preppedDataDF)"
   ]
  },
  {
   "cell_type": "code",
   "execution_count": 52,
   "metadata": {},
   "outputs": [
    {
     "data": {
      "text/plain": [
       "LogisticRegression_42ca9a8439510cbd247f"
      ]
     },
     "metadata": {},
     "output_type": "display_data"
    },
    {
     "data": {
      "text/plain": [
       "DataFrame[resident_status: string, education_2003_revision: string, month_of_death: string, sex: string, age_recode_52: string, Place_of_death_and_decedents_status: string, marital_status: string, day_of_week_of_death: string, current_data_year: string, injury_at_work: string, manner_of_death: string, method_of_disposition: string, autopsy: string, activity_code: string, place_of_injury_for_causes_w00_y34_except_y06_and_y07_: string, 358_cause_recode: string, 113_cause_recode: string, 130_infant_cause_recode: string, 39_cause_recode: string, number_of_entity_axis_conditions: double, number_of_record_axis_conditions: double, race: string, race_recode_3: string, race_recode_5: string, hispanic_originrace_recode: string, resident_statusIndex: double, resident_statusclassVec: vector, education_2003_revisionIndex: double, education_2003_revisionclassVec: vector, month_of_deathIndex: double, month_of_deathclassVec: vector, sexIndex: double, sexclassVec: vector, age_recode_52Index: double, age_recode_52classVec: vector, Place_of_death_and_decedents_statusIndex: double, Place_of_death_and_decedents_statusclassVec: vector, marital_statusIndex: double, marital_statusclassVec: vector, day_of_week_of_deathIndex: double, day_of_week_of_deathclassVec: vector, current_data_yearIndex: double, current_data_yearclassVec: vector, injury_at_workIndex: double, injury_at_workclassVec: vector, manner_of_deathIndex: double, manner_of_deathclassVec: vector, autopsyIndex: double, autopsyclassVec: vector, activity_codeIndex: double, activity_codeclassVec: vector, place_of_injury_for_causes_w00_y34_except_y06_and_y07_Index: double, place_of_injury_for_causes_w00_y34_except_y06_and_y07_classVec: vector, 358_cause_recodeIndex: double, 358_cause_recodeclassVec: vector, 113_cause_recodeIndex: double, 113_cause_recodeclassVec: vector, 130_infant_cause_recodeIndex: double, 130_infant_cause_recodeclassVec: vector, 39_cause_recodeIndex: double, 39_cause_recodeclassVec: vector, raceIndex: double, raceclassVec: vector, race_recode_3Index: double, race_recode_3classVec: vector, race_recode_5Index: double, race_recode_5classVec: vector, hispanic_originrace_recodeIndex: double, hispanic_originrace_recodeclassVec: vector, label: double, features: vector]"
      ]
     },
     "metadata": {},
     "output_type": "display_data"
    },
    {
     "data": {
      "text/plain": [
       "'ROC'"
      ]
     },
     "metadata": {},
     "output_type": "display_data"
    }
   ],
   "source": [
    "display(lrModel, preppedDataDF, \"ROC\")"
   ]
  },
  {
   "cell_type": "code",
   "execution_count": 53,
   "metadata": {},
   "outputs": [
    {
     "data": {
      "text/plain": [
       "DataFrame[label: double, features: vector, resident_status: string, education_2003_revision: string, month_of_death: string, sex: string, age_recode_52: string, Place_of_death_and_decedents_status: string, marital_status: string, day_of_week_of_death: string, current_data_year: string, injury_at_work: string, manner_of_death: string, method_of_disposition: string, autopsy: string, activity_code: string, place_of_injury_for_causes_w00_y34_except_y06_and_y07_: string, 358_cause_recode: string, 113_cause_recode: string, 130_infant_cause_recode: string, 39_cause_recode: string, number_of_entity_axis_conditions: double, number_of_record_axis_conditions: double, race: string, race_recode_3: string, race_recode_5: string, hispanic_originrace_recode: string]"
      ]
     },
     "metadata": {},
     "output_type": "display_data"
    }
   ],
   "source": [
    "selectedcols = [\"label\", \"features\"] + cols\n",
    "dataset = preppedDataDF.select(selectedcols)\n",
    "display(dataset)"
   ]
  },
  {
   "cell_type": "code",
   "execution_count": 54,
   "metadata": {},
   "outputs": [],
   "source": [
    "(trainingData, testData) = dataset.randomSplit([0.7, 0.3], seed=100)"
   ]
  },
  {
   "cell_type": "code",
   "execution_count": 55,
   "metadata": {},
   "outputs": [],
   "source": [
    "lr = LogisticRegression(labelCol=\"label\", featuresCol=\"features\", maxIter=10)"
   ]
  },
  {
   "cell_type": "code",
   "execution_count": 56,
   "metadata": {},
   "outputs": [],
   "source": [
    "lrModel = lr.fit(trainingData)"
   ]
  },
  {
   "cell_type": "code",
   "execution_count": 57,
   "metadata": {},
   "outputs": [],
   "source": [
    "predictions = lrModel.transform(testData)"
   ]
  },
  {
   "cell_type": "code",
   "execution_count": 59,
   "metadata": {},
   "outputs": [
    {
     "name": "stdout",
     "output_type": "stream",
     "text": [
      "+-----+----------+--------------------+\n",
      "|label|prediction|         probability|\n",
      "+-----+----------+--------------------+\n",
      "|  0.0|       0.0|[0.67957164662236...|\n",
      "|  0.0|       0.0|[0.79846153815456...|\n",
      "|  0.0|       0.0|[0.64433925705476...|\n",
      "|  0.0|       0.0|[0.68394603112795...|\n",
      "|  0.0|       0.0|[0.57817610983773...|\n",
      "|  0.0|       0.0|[0.77178165921019...|\n",
      "|  0.0|       0.0|[0.62977576937925...|\n",
      "|  0.0|       0.0|[0.76398302577695...|\n",
      "|  0.0|       0.0|[0.67848321650588...|\n",
      "|  0.0|       0.0|[0.68490593304098...|\n",
      "|  0.0|       0.0|[0.62599127192123...|\n",
      "|  0.0|       0.0|[0.86648160293934...|\n",
      "|  0.0|       0.0|[0.57080531891056...|\n",
      "|  0.0|       0.0|[0.69794662955588...|\n",
      "|  0.0|       0.0|[0.71991159023037...|\n",
      "|  0.0|       0.0|[0.69481376375091...|\n",
      "|  0.0|       0.0|[0.62761785391637...|\n",
      "|  0.0|       0.0|[0.67737025083674...|\n",
      "|  0.0|       0.0|[0.69620002244455...|\n",
      "|  0.0|       0.0|[0.86348551518537...|\n",
      "+-----+----------+--------------------+\n",
      "only showing top 20 rows\n",
      "\n"
     ]
    }
   ],
   "source": [
    "predictions.select(\"label\", \"prediction\", \"probability\").show()"
   ]
  },
  {
   "cell_type": "code",
   "execution_count": 61,
   "metadata": {},
   "outputs": [
    {
     "data": {
      "text/plain": [
       "0.6818197121020741"
      ]
     },
     "execution_count": 61,
     "metadata": {},
     "output_type": "execute_result"
    }
   ],
   "source": [
    "evaluator = BinaryClassificationEvaluator(rawPredictionCol=\"rawPrediction\")\n",
    "evaluator.evaluate(predictions)"
   ]
  },
  {
   "cell_type": "code",
   "execution_count": 62,
   "metadata": {},
   "outputs": [
    {
     "data": {
      "text/plain": [
       "'areaUnderROC'"
      ]
     },
     "execution_count": 62,
     "metadata": {},
     "output_type": "execute_result"
    }
   ],
   "source": [
    "evaluator.getMetricName()"
   ]
  },
  {
   "cell_type": "code",
   "execution_count": 64,
   "metadata": {},
   "outputs": [],
   "source": [
    "tp = predictions[(predictions.label == 1) & (predictions.prediction == 1)].count()\n",
    "tn = predictions[(predictions.label == 0) & (predictions.prediction == 0)].count()\n",
    "fp = predictions[(predictions.label == 0) & (predictions.prediction == 1)].count()\n",
    "fn = predictions[(predictions.label == 1) & (predictions.prediction == 0)].count()"
   ]
  },
  {
   "cell_type": "code",
   "execution_count": 67,
   "metadata": {},
   "outputs": [
    {
     "data": {
      "text/plain": [
       "63.83987205636665"
      ]
     },
     "execution_count": 67,
     "metadata": {},
     "output_type": "execute_result"
    }
   ],
   "source": [
    "accuracy = (tp + tn) * 100 / (tp + tn + fp + fn)\n",
    "accuracy"
   ]
  },
  {
   "cell_type": "code",
   "execution_count": 68,
   "metadata": {},
   "outputs": [
    {
     "data": {
      "text/plain": [
       "0.6175657058859233"
      ]
     },
     "execution_count": 68,
     "metadata": {},
     "output_type": "execute_result"
    }
   ],
   "source": [
    "precision = tp / (tp + fp)\n",
    "precision"
   ]
  },
  {
   "cell_type": "code",
   "execution_count": 69,
   "metadata": {},
   "outputs": [
    {
     "data": {
      "text/plain": [
       "0.4969072444187992"
      ]
     },
     "execution_count": 69,
     "metadata": {},
     "output_type": "execute_result"
    }
   ],
   "source": [
    "recall = tp / (tp + fn)\n",
    "recall"
   ]
  },
  {
   "cell_type": "code",
   "execution_count": 71,
   "metadata": {},
   "outputs": [
    {
     "data": {
      "text/plain": [
       "0.5507049284155684"
      ]
     },
     "execution_count": 71,
     "metadata": {},
     "output_type": "execute_result"
    }
   ],
   "source": [
    "f1_score = 2 * precision * recall / (precision + recall)\n",
    "f1_score"
   ]
  },
  {
   "cell_type": "code",
   "execution_count": 72,
   "metadata": {},
   "outputs": [],
   "source": [
    "lrModel.save('logistic_model.model')"
   ]
  },
  {
   "cell_type": "code",
   "execution_count": null,
   "metadata": {},
   "outputs": [],
   "source": []
  }
 ],
 "metadata": {
  "kernelspec": {
   "display_name": "conda_python3",
   "language": "python",
   "name": "conda_python3"
  },
  "language_info": {
   "codemirror_mode": {
    "name": "ipython",
    "version": 3
   },
   "file_extension": ".py",
   "mimetype": "text/x-python",
   "name": "python",
   "nbconvert_exporter": "python",
   "pygments_lexer": "ipython3",
   "version": "3.6.5"
  }
 },
 "nbformat": 4,
 "nbformat_minor": 2
}
