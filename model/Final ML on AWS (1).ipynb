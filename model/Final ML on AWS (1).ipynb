{
 "cells": [
  {
   "cell_type": "code",
   "execution_count": 1,
   "metadata": {},
   "outputs": [
    {
     "data": {
      "text/html": [
       "\n",
       "            <div>\n",
       "                <p><b>SparkSession - in-memory</b></p>\n",
       "                \n",
       "        <div>\n",
       "            <p><b>SparkContext</b></p>\n",
       "\n",
       "            <p><a href=\"http://172.16.112.213:4040\">Spark UI</a></p>\n",
       "\n",
       "            <dl>\n",
       "              <dt>Version</dt>\n",
       "                <dd><code>v2.2.1</code></dd>\n",
       "              <dt>Master</dt>\n",
       "                <dd><code>local[*]</code></dd>\n",
       "              <dt>AppName</dt>\n",
       "                <dd><code>pyspark-shell</code></dd>\n",
       "            </dl>\n",
       "        </div>\n",
       "        \n",
       "            </div>\n",
       "        "
      ],
      "text/plain": [
       "<pyspark.sql.session.SparkSession at 0x7ffaa1bef320>"
      ]
     },
     "execution_count": 1,
     "metadata": {},
     "output_type": "execute_result"
    }
   ],
   "source": [
    "import os\n",
    "import boto3\n",
    "\n",
    "from pyspark import SparkContext, SparkConf\n",
    "from pyspark.sql import SparkSession\n",
    "\n",
    "import sagemaker\n",
    "from sagemaker import get_execution_role\n",
    "import sagemaker_pyspark\n",
    "from pyspark.sql.functions import *\n",
    "                                                                        \n",
    "role = get_execution_role()\n",
    "\n",
    "# Configure Spark to use the SageMaker Spark dependency jars\n",
    "jars = sagemaker_pyspark.classpath_jars()\n",
    "\n",
    "\n",
    "classpath = \":\".join(sagemaker_pyspark.classpath_jars())\n",
    "\n",
    "# See the SageMaker Spark Github to learn how to connect to EMR from a notebook instance\n",
    "spark = SparkSession.builder.config(\"spark.driver.extraClassPath\", classpath)\\\n",
    "    .master(\"local[*]\").getOrCreate()\n",
    "    \n",
    "spark"
   ]
  },
  {
   "cell_type": "code",
   "execution_count": 2,
   "metadata": {},
   "outputs": [],
   "source": [
    "bucket = 'mrinal-ml-sagemaker'\n",
    "import os\n",
    "import pandas as pd\n",
    "import numpy as np\n",
    "from pyspark import SparkConf, SparkContext\n",
    "from pyspark.sql import SparkSession, SQLContext\n",
    "from pyspark.sql.types import *\n",
    "import pyspark.sql.functions as fn\n",
    "from pyspark.sql.functions import col, udf\n",
    "from pyspark.sql.types import DoubleType\n",
    "from pyspark.ml.feature import StringIndexer, OneHotEncoder\n",
    "from pyspark.mllib.util import MLUtils"
   ]
  },
  {
   "cell_type": "code",
   "execution_count": 3,
   "metadata": {},
   "outputs": [],
   "source": [
    "cdc = spark.read.csv('output.csv', header = True)"
   ]
  },
  {
   "cell_type": "code",
   "execution_count": 4,
   "metadata": {},
   "outputs": [],
   "source": [
    "cdc = cdc.drop('detail_age_type','detail_age', 'age_substitution_flag','age_recode_27', 'age_recode_12', 'infant_age_recode_22', 'icd_code_10th_revision')"
   ]
  },
  {
   "cell_type": "code",
   "execution_count": 5,
   "metadata": {},
   "outputs": [],
   "source": [
    "cdc = cdc.drop('record_condition_20' , 'entity_condition_20', 'entity_condition_19', 'entity_condition_18', 'entity_condition_17', 'record_condition_19', 'record_condition_18', 'record_condition_16', 'record_condition_17','record_condition_15','record_condition_14','record_condition_13','record_condition_12','record_condition_11','record_condition_10','record_condition_9','record_condition_8','record_condition_7' , 'record_condition_6', 'record_condition_5', 'entity_condition_16', 'entity_condition_15','entity_condition_14', 'entity_condition_13', 'entity_condition_12', 'entity_condition_11', 'entity_condition_10', 'entity_condition_9','entity_condition_8', 'entity_condition_7', 'entity_condition_6', 'entity_condition_5')"
   ]
  },
  {
   "cell_type": "code",
   "execution_count": 6,
   "metadata": {},
   "outputs": [
    {
     "name": "stdout",
     "output_type": "stream",
     "text": [
      "root\n",
      " |-- resident_status: string (nullable = true)\n",
      " |-- education_1989_revision: string (nullable = true)\n",
      " |-- education_2003_revision: string (nullable = true)\n",
      " |-- education_reporting_flag: string (nullable = true)\n",
      " |-- month_of_death: string (nullable = true)\n",
      " |-- sex: string (nullable = true)\n",
      " |-- age_recode_52: string (nullable = true)\n",
      " |-- place_of_death_and_decedents_status: string (nullable = true)\n",
      " |-- marital_status: string (nullable = true)\n",
      " |-- day_of_week_of_death: string (nullable = true)\n",
      " |-- current_data_year: string (nullable = true)\n",
      " |-- injury_at_work: string (nullable = true)\n",
      " |-- manner_of_death: string (nullable = true)\n",
      " |-- method_of_disposition: string (nullable = true)\n",
      " |-- autopsy: string (nullable = true)\n",
      " |-- activity_code: string (nullable = true)\n",
      " |-- place_of_injury_for_causes_w00_y34_except_y06_and_y07_: string (nullable = true)\n",
      " |-- 358_cause_recode: string (nullable = true)\n",
      " |-- 113_cause_recode: string (nullable = true)\n",
      " |-- 130_infant_cause_recode: string (nullable = true)\n",
      " |-- 39_cause_recode: string (nullable = true)\n",
      " |-- number_of_entity_axis_conditions: string (nullable = true)\n",
      " |-- entity_condition_1: string (nullable = true)\n",
      " |-- entity_condition_2: string (nullable = true)\n",
      " |-- entity_condition_3: string (nullable = true)\n",
      " |-- entity_condition_4: string (nullable = true)\n",
      " |-- number_of_record_axis_conditions: string (nullable = true)\n",
      " |-- record_condition_1: string (nullable = true)\n",
      " |-- record_condition_2: string (nullable = true)\n",
      " |-- record_condition_3: string (nullable = true)\n",
      " |-- record_condition_4: string (nullable = true)\n",
      " |-- race: string (nullable = true)\n",
      " |-- bridged_race_flag: string (nullable = true)\n",
      " |-- race_imputation_flag: string (nullable = true)\n",
      " |-- race_recode_3: string (nullable = true)\n",
      " |-- race_recode_5: string (nullable = true)\n",
      " |-- hispanic_origin: string (nullable = true)\n",
      " |-- hispanic_originrace_recode: string (nullable = true)\n",
      "\n"
     ]
    }
   ],
   "source": [
    "cdc.printSchema()"
   ]
  },
  {
   "cell_type": "code",
   "execution_count": 7,
   "metadata": {},
   "outputs": [],
   "source": [
    "cdc = cdc.fillna({'place_of_injury_for_causes_w00_y34_except_y06_and_y07_' : '10'})\n",
    "cdc = cdc.fillna({'130_infant_cause_recode' : '000'})\n",
    "cdc = cdc.fillna({'activity_code' : '10'})\n",
    "cdc = cdc.fillna({'manner_of_death' : '8'})\n",
    "cdc = cdc.fillna({'Place_of_death_and_decedents_status': '7'})"
   ]
  },
  {
   "cell_type": "code",
   "execution_count": 8,
   "metadata": {},
   "outputs": [],
   "source": [
    "cdc = cdc.fillna({'record_condition_1': 'Other'})\n",
    "cdc = cdc.fillna({'record_condition_2': 'Other'})\n",
    "cdc = cdc.fillna({'record_condition_3': 'Other'})\n",
    "cdc = cdc.fillna({'record_condition_4': 'Other'})\n",
    "\n",
    "cdc = cdc.fillna({'entity_condition_1': 'Other'})\n",
    "cdc = cdc.fillna({'entity_condition_2': 'Other'})\n",
    "cdc = cdc.fillna({'entity_condition_3': 'Other'})\n",
    "cdc = cdc.fillna({'entity_condition_4': 'Other'})"
   ]
  },
  {
   "cell_type": "code",
   "execution_count": 9,
   "metadata": {},
   "outputs": [],
   "source": [
    "cdc = cdc.withColumn('method_of_disposition', regexp_replace('method_of_disposition', 'R' , 'O'))\n",
    "cdc = cdc.withColumn('method_of_disposition', regexp_replace('method_of_disposition', 'E' , 'O'))\n",
    "cdc = cdc.withColumn('method_of_disposition', regexp_replace('method_of_disposition', 'D' , 'O'))\n",
    "cdc = cdc.withColumn('method_of_disposition', regexp_replace('method_of_disposition', 'U' , 'O'))\n",
    "cdc = cdc.withColumn('Place_of_death_and_decedents_status', regexp_replace('Place_of_death_and_decedents_status', '9' , '7'))"
   ]
  },
  {
   "cell_type": "code",
   "execution_count": 10,
   "metadata": {},
   "outputs": [],
   "source": [
    "#cdc = cdc.withColumn('Place_of_death_and_decedents_status', \n",
    " #                    when(cdc['Place_of_death_and_decedents_status']== 9 , 7).otherwise(cdc['Place_of_death_and_decedents_status']))"
   ]
  },
  {
   "cell_type": "code",
   "execution_count": 11,
   "metadata": {},
   "outputs": [],
   "source": [
    "#cdc.groupby('record_condition_1').count().show()"
   ]
  },
  {
   "cell_type": "code",
   "execution_count": 12,
   "metadata": {},
   "outputs": [],
   "source": [
    "#cdc.select('place_of_injury_for_causes_w00_y34_except_y06_and_y07_').distinct().show()\n"
   ]
  },
  {
   "cell_type": "code",
   "execution_count": 13,
   "metadata": {},
   "outputs": [],
   "source": [
    "#cdc.select(\"education_1989_revision\").distinct().show()"
   ]
  },
  {
   "cell_type": "code",
   "execution_count": 14,
   "metadata": {},
   "outputs": [],
   "source": [
    "cdc = cdc.withColumn('education_1989_revision', regexp_replace('education_1989_revision', '00' , '1'))\n",
    "cdc = cdc.withColumn('education_1989_revision', regexp_replace('education_1989_revision', '01' , '1'))\n",
    "cdc = cdc.withColumn('education_1989_revision', regexp_replace('education_1989_revision', '02' , '1'))\n",
    "cdc = cdc.withColumn('education_1989_revision', regexp_replace('education_1989_revision', '03' , '1'))\n",
    "cdc = cdc.withColumn('education_1989_revision', regexp_replace('education_1989_revision', '04' , '1'))\n",
    "cdc = cdc.withColumn('education_1989_revision', regexp_replace('education_1989_revision', '05' , '1'))\n",
    "cdc = cdc.withColumn('education_1989_revision', regexp_replace('education_1989_revision', '06' , '1'))\n",
    "cdc = cdc.withColumn('education_1989_revision', regexp_replace('education_1989_revision', '07' , '1'))\n",
    "cdc = cdc.withColumn('education_1989_revision', regexp_replace('education_1989_revision', '08' , '1'))\n",
    "\n",
    "cdc = cdc.withColumn('education_1989_revision', regexp_replace('education_1989_revision', '09' , '2'))\n",
    "cdc = cdc.withColumn('education_1989_revision', regexp_replace('education_1989_revision', '10' , '2'))\n",
    "cdc = cdc.withColumn('education_1989_revision', regexp_replace('education_1989_revision', '11' , '2'))\n",
    "cdc = cdc.withColumn('education_1989_revision', regexp_replace('education_1989_revision', '12' , '3'))\n",
    "cdc = cdc.withColumn('education_1989_revision', regexp_replace('education_1989_revision', '13' , '4'))\n",
    "cdc = cdc.withColumn('education_1989_revision', regexp_replace('education_1989_revision', '14' , '4'))\n",
    "cdc = cdc.withColumn('education_1989_revision', regexp_replace('education_1989_revision', '15' , '5'))\n",
    "cdc = cdc.withColumn('education_1989_revision', regexp_replace('education_1989_revision', '16' , '6'))\n",
    "cdc = cdc.withColumn('education_1989_revision', regexp_replace('education_1989_revision', '17' , '7'))\n",
    "cdc = cdc.withColumn('education_1989_revision', regexp_replace('education_1989_revision', '99' , '9'))\n",
    "\n"
   ]
  },
  {
   "cell_type": "code",
   "execution_count": 15,
   "metadata": {},
   "outputs": [],
   "source": [
    "cdc = cdc.withColumn(\"education_2003_revision\", coalesce(cdc.education_2003_revision,cdc.education_1989_revision))"
   ]
  },
  {
   "cell_type": "code",
   "execution_count": 16,
   "metadata": {},
   "outputs": [],
   "source": [
    "cdc = cdc.filter(cdc.education_2003_revision.isNotNull())"
   ]
  },
  {
   "cell_type": "code",
   "execution_count": 20,
   "metadata": {},
   "outputs": [
    {
     "name": "stdout",
     "output_type": "stream",
     "text": [
      "+---------------+--------+\n",
      "|manner_of_death|   count|\n",
      "+---------------+--------+\n",
      "|              7|19914162|\n",
      "|              8| 5656790|\n",
      "|              1| 1350268|\n",
      "|              2|  423361|\n",
      "|              3|  200528|\n",
      "|              5|  119756|\n",
      "|              4|   55808|\n",
      "+---------------+--------+\n",
      "\n"
     ]
    }
   ],
   "source": [
    "cdc.groupBy('manner_of_death').count().orderBy('count', ascending=False).show()"
   ]
  },
  {
   "cell_type": "code",
   "execution_count": 18,
   "metadata": {},
   "outputs": [
    {
     "name": "stdout",
     "output_type": "stream",
     "text": [
      "root\n",
      " |-- resident_status: string (nullable = true)\n",
      " |-- education_1989_revision: string (nullable = true)\n",
      " |-- education_2003_revision: string (nullable = true)\n",
      " |-- education_reporting_flag: string (nullable = true)\n",
      " |-- month_of_death: string (nullable = true)\n",
      " |-- sex: string (nullable = true)\n",
      " |-- age_recode_52: string (nullable = true)\n",
      " |-- Place_of_death_and_decedents_status: string (nullable = false)\n",
      " |-- marital_status: string (nullable = true)\n",
      " |-- day_of_week_of_death: string (nullable = true)\n",
      " |-- current_data_year: string (nullable = true)\n",
      " |-- injury_at_work: string (nullable = true)\n",
      " |-- manner_of_death: string (nullable = false)\n",
      " |-- method_of_disposition: string (nullable = true)\n",
      " |-- autopsy: string (nullable = true)\n",
      " |-- activity_code: string (nullable = false)\n",
      " |-- place_of_injury_for_causes_w00_y34_except_y06_and_y07_: string (nullable = false)\n",
      " |-- 358_cause_recode: string (nullable = true)\n",
      " |-- 113_cause_recode: string (nullable = true)\n",
      " |-- 130_infant_cause_recode: string (nullable = false)\n",
      " |-- 39_cause_recode: string (nullable = true)\n",
      " |-- number_of_entity_axis_conditions: string (nullable = true)\n",
      " |-- entity_condition_1: string (nullable = false)\n",
      " |-- entity_condition_2: string (nullable = false)\n",
      " |-- entity_condition_3: string (nullable = false)\n",
      " |-- entity_condition_4: string (nullable = false)\n",
      " |-- number_of_record_axis_conditions: string (nullable = true)\n",
      " |-- record_condition_1: string (nullable = false)\n",
      " |-- record_condition_2: string (nullable = false)\n",
      " |-- record_condition_3: string (nullable = false)\n",
      " |-- record_condition_4: string (nullable = false)\n",
      " |-- race: string (nullable = true)\n",
      " |-- bridged_race_flag: string (nullable = true)\n",
      " |-- race_imputation_flag: string (nullable = true)\n",
      " |-- race_recode_3: string (nullable = true)\n",
      " |-- race_recode_5: string (nullable = true)\n",
      " |-- hispanic_origin: string (nullable = true)\n",
      " |-- hispanic_originrace_recode: string (nullable = true)\n",
      "\n"
     ]
    }
   ],
   "source": [
    "cdc.printSchema()"
   ]
  },
  {
   "cell_type": "code",
   "execution_count": 21,
   "metadata": {},
   "outputs": [],
   "source": [
    "cdc = cdc.drop('education_1989_revision', 'education_reporting_flag','bridged_race_flag', 'race_imputation_flag', \n",
    "               'hispanic_origin')"
   ]
  },
  {
   "cell_type": "markdown",
   "metadata": {},
   "source": [
    "## Selecting data for firearms"
   ]
  },
  {
   "cell_type": "code",
   "execution_count": 28,
   "metadata": {},
   "outputs": [],
   "source": [
    "new_cdc = cdc.filter((cdc['358_cause_recode'] == '429') | (cdc['358_cause_recode'] == '435') | (cdc['358_cause_recode'] == '446')\n",
    "                       | (cdc['358_cause_recode'] == '450') | (cdc['358_cause_recode'] == '451') | (cdc['358_cause_recode'] == '407'))\n",
    "new_cdc = new_cdc.drop('number_of_entity_axis_conditions','number_of_record_axis_conditions', '39_cause_recode',\n",
    "                      '130_infant_cause_recode','113_cause_recode',  'month_of_death','current_data_year','day_of_week_of_death')"
   ]
  },
  {
   "cell_type": "code",
   "execution_count": 30,
   "metadata": {},
   "outputs": [
    {
     "name": "stdout",
     "output_type": "stream",
     "text": [
      "+---------------+------+\n",
      "|manner_of_death| count|\n",
      "+---------------+------+\n",
      "|              2|213092|\n",
      "|              3|135714|\n",
      "|              1|  4196|\n",
      "|              5|  2745|\n",
      "|              4|  1125|\n",
      "|              7|   755|\n",
      "|              8|   621|\n",
      "+---------------+------+\n",
      "\n"
     ]
    }
   ],
   "source": [
    "new_cdc.groupBy('manner_of_death').count().orderBy('count', ascending=False).show()"
   ]
  },
  {
   "cell_type": "code",
   "execution_count": 31,
   "metadata": {},
   "outputs": [
    {
     "name": "stdout",
     "output_type": "stream",
     "text": [
      "+---------------+-----------------------+---+-------------+-----------------------------------+--------------+--------------+---------------+---------------------+-------+-------------+------------------------------------------------------+----------------+------------------+------------------+------------------+------------------+------------------+------------------+------------------+------------------+----+-------------+-------------+--------------------------+-------+\n",
      "|resident_status|education_2003_revision|sex|age_recode_52|Place_of_death_and_decedents_status|marital_status|injury_at_work|manner_of_death|method_of_disposition|autopsy|activity_code|place_of_injury_for_causes_w00_y34_except_y06_and_y07_|358_cause_recode|entity_condition_1|entity_condition_2|entity_condition_3|entity_condition_4|record_condition_1|record_condition_2|record_condition_3|record_condition_4|race|race_recode_3|race_recode_5|hispanic_originrace_recode|suicide|\n",
      "+---------------+-----------------------+---+-------------+-----------------------------------+--------------+--------------+---------------+---------------------+-------+-------------+------------------------------------------------------+----------------+------------------+------------------+------------------+------------------+------------------+------------------+------------------+------------------+----+-------------+-------------+--------------------------+-------+\n",
      "|              1|                      9|  M|           32|                                  4|             M|             N|              2|                    O|      N|            9|                                                     0|             429|            11S019|             12X74|            61S019|             Other|              S019|               X74|             Other|             Other|  03|            2|            3|                         8|      0|\n",
      "|              1|                      3|  F|           33|                                  4|             M|             N|              2|                    O|      N|            9|                                                     0|             429|            11S019|             12X74|            61T141|             Other|              S019|              T141|               X74|             Other|  01|            1|            1|                         6|      0|\n",
      "|              1|                      3|  M|           34|                                  1|             M|             N|              3|                    O|      Y|            9|                                                     8|             435|            11S019|             12X95|             Other|             Other|              S019|               X95|             Other|             Other|  02|            3|            2|                         7|      0|\n",
      "|              1|                      2|  M|           30|                                  2|             S|             U|              3|                    O|      Y|            9|                                                     9|             435|            11T091|             61X95|             Other|             Other|              T091|               X95|             Other|             Other|  01|            1|            1|                         2|      0|\n",
      "|              1|                      3|  M|           35|                                  7|             M|             N|              2|                    O|      N|            9|                                                     5|             429|            11S019|             12X74|            61T141|             Other|              S019|              T141|               X74|             Other|  01|            1|            1|                         6|      0|\n",
      "|              1|                      3|  M|           34|                                  4|             M|             N|              2|                    O|      N|            9|                                                     0|             429|            11S019|             12X74|            61T141|             Other|              S019|              T141|               X74|             Other|  03|            2|            3|                         8|      0|\n",
      "|              1|                      9|  M|           34|                                  4|             M|             N|              2|                    O|      N|            9|                                                     0|             429|            11S019|             12X74|            61T141|             Other|              S019|              T141|               X74|             Other|  03|            2|            3|                         8|      0|\n",
      "|              1|                      3|  M|           36|                                  7|             D|             N|              2|                    O|      N|            9|                                                     8|             429|            11S019|             12X74|            61S019|             Other|              S019|               X74|             Other|             Other|  01|            1|            1|                         6|      0|\n",
      "|              1|                      3|  M|           36|                                  2|             D|             N|              2|                    O|      N|            9|                                                     8|             429|            11S019|             12X74|            61T141|             Other|              S019|              T141|               X74|             Other|  03|            2|            3|                         8|      0|\n",
      "|              1|                      6|  M|           35|                                  7|             M|             N|              2|                    O|      Y|            9|                                                     9|             429|            11S019|             12X74|            61T141|             Other|              S019|              T141|               X74|             Other|  01|            1|            1|                         6|      0|\n",
      "|              1|                      3|  M|           32|                                  4|             D|             N|              2|                    O|      N|            9|                                                     0|             429|            11S019|             12X74|            61T141|             Other|              S019|              T141|               X74|             Other|  01|            1|            1|                         6|      0|\n",
      "|              1|                      2|  M|           36|                                  4|             M|             N|              2|                    O|      N|            9|                                                     0|             429|            11S019|             12X74|            61T141|             Other|              S019|              T141|               X74|             Other|  01|            1|            1|                         6|      0|\n",
      "|              2|                      4|  M|           35|                                  7|             M|             N|              2|                    O|      N|            9|                                                     0|             429|            11S019|             12X74|            61S019|             Other|              S019|               X74|             Other|             Other|  03|            2|            3|                         8|      0|\n",
      "|              1|                      2|  M|           28|                                  1|             S|             N|              3|                    O|      Y|            9|                                                     8|             435|            11S212|             12X95|            61T141|             Other|              S212|              T141|               X95|             Other|  02|            3|            2|                         7|      0|\n",
      "|              1|                      3|  M|           30|                                  2|             S|             N|              2|                    O|      N|            9|                                                     0|             429|            11S019|             12X74|            61S019|             Other|              S019|               X74|             Other|             Other|  03|            2|            3|                         8|      0|\n",
      "|              1|                      2|  M|           29|                                  7|             S|             N|              2|                    O|      N|            9|                                                     8|             429|            11S019|             12X74|            61S019|             Other|              S019|               X74|             Other|             Other|  03|            2|            3|                         8|      0|\n",
      "|              1|                      2|  M|           32|                                  7|             S|             N|              2|                    O|      N|            9|                                                     5|             429|            11S019|             12X74|            61T141|             Other|              S019|              T141|               X74|             Other|  01|            1|            1|                         6|      0|\n",
      "|              1|                      3|  F|           29|                                  4|             S|             N|              2|                    O|      N|            9|                                                     0|             429|            11S219|             12X74|            61T141|             Other|              S219|              T141|               X74|             Other|  03|            2|            3|                         8|      0|\n",
      "|              1|                      3|  M|           31|                                  7|             S|             Y|              2|                    O|      N|            9|                                                     5|             429|            11S019|             12X74|            61S019|             Other|              S019|               X74|             Other|             Other|  01|            1|            1|                         6|      0|\n",
      "|              1|                      3|  M|           31|                                  7|             S|             N|              2|                    O|      N|            9|                                                     8|             429|            11S019|             12X74|            61T141|             Other|              S019|              T141|               X74|             Other|  03|            2|            3|                         8|      0|\n",
      "+---------------+-----------------------+---+-------------+-----------------------------------+--------------+--------------+---------------+---------------------+-------+-------------+------------------------------------------------------+----------------+------------------+------------------+------------------+------------------+------------------+------------------+------------------+------------------+----+-------------+-------------+--------------------------+-------+\n",
      "only showing top 20 rows\n",
      "\n"
     ]
    }
   ],
   "source": [
    "from pyspark.sql.functions import lit\n",
    "new_cdc = new_cdc.withColumn(\"suicide\", lit(0))\n",
    "new_cdc.show()"
   ]
  },
  {
   "cell_type": "code",
   "execution_count": 33,
   "metadata": {},
   "outputs": [],
   "source": [
    "new_cdc = new_cdc.withColumn('suicide', \n",
    "                     when(new_cdc['manner_of_death']== '2' , 1).otherwise(new_cdc['suicide']))"
   ]
  },
  {
   "cell_type": "code",
   "execution_count": 34,
   "metadata": {},
   "outputs": [
    {
     "name": "stdout",
     "output_type": "stream",
     "text": [
      "+-------+------+\n",
      "|suicide| count|\n",
      "+-------+------+\n",
      "|      1|213092|\n",
      "|      0|145156|\n",
      "+-------+------+\n",
      "\n"
     ]
    }
   ],
   "source": [
    "new_cdc.groupBy('suicide').count().orderBy('count', ascending=False).show()"
   ]
  },
  {
   "cell_type": "code",
   "execution_count": 35,
   "metadata": {},
   "outputs": [],
   "source": [
    "from pyspark.ml.classification import LogisticRegression\n",
    "from pyspark.ml.feature import VectorAssembler\n",
    "from pyspark.mllib.regression import LabeledPoint\n",
    "from pyspark.ml import Pipeline\n",
    "from pyspark.ml.feature import StringIndexer, OneHotEncoder\n",
    "from pyspark.ml import Pipeline\n",
    "from pyspark.mllib.classification import LogisticRegressionWithLBFGS, LogisticRegressionModel"
   ]
  },
  {
   "cell_type": "code",
   "execution_count": 36,
   "metadata": {},
   "outputs": [],
   "source": [
    "#from pyspark.sql.types import DoubleType\n",
    "#new_cdc = new_cdc.withColumn(\"number_of_entity_axis_conditions\", new_cdc[\"number_of_entity_axis_conditions\"].cast(DoubleType()))\n",
    "#new_cdc = cdc.withColumn(\"suicide\", new_cdc[\"suicide\"].cast(StringType())"
   ]
  },
  {
   "cell_type": "code",
   "execution_count": 73,
   "metadata": {},
   "outputs": [
    {
     "name": "stdout",
     "output_type": "stream",
     "text": [
      "root\n",
      " |-- resident_status: string (nullable = true)\n",
      " |-- education_2003_revision: string (nullable = true)\n",
      " |-- sex: string (nullable = true)\n",
      " |-- age_recode_52: string (nullable = true)\n",
      " |-- Place_of_death_and_decedents_status: string (nullable = false)\n",
      " |-- marital_status: string (nullable = true)\n",
      " |-- injury_at_work: string (nullable = true)\n",
      " |-- method_of_disposition: string (nullable = true)\n",
      " |-- autopsy: string (nullable = true)\n",
      " |-- activity_code: string (nullable = false)\n",
      " |-- place_of_injury_for_causes_w00_y34_except_y06_and_y07_: string (nullable = false)\n",
      " |-- race: string (nullable = true)\n",
      " |-- race_recode_3: string (nullable = true)\n",
      " |-- race_recode_5: string (nullable = true)\n",
      " |-- hispanic_originrace_recode: string (nullable = true)\n",
      " |-- suicide: string (nullable = false)\n",
      "\n"
     ]
    }
   ],
   "source": [
    "new_cdc.printSchema()"
   ]
  },
  {
   "cell_type": "code",
   "execution_count": 51,
   "metadata": {},
   "outputs": [],
   "source": [
    "new_cdc = new_cdc.drop('manner_of_death','entity_condition_1','entity_condition_2','entity_condition_3','entity_condition_4',\n",
    "                       'record_condition_1','record_condition_2','record_condition_3','record_condition_4','358_cause_recode')"
   ]
  },
  {
   "cell_type": "code",
   "execution_count": 48,
   "metadata": {},
   "outputs": [
    {
     "data": {
      "text/plain": [
       "491"
      ]
     },
     "execution_count": 48,
     "metadata": {},
     "output_type": "execute_result"
    }
   ],
   "source": [
    "new_cdc.select('entity_condition_1').distinct().count()"
   ]
  },
  {
   "cell_type": "code",
   "execution_count": 53,
   "metadata": {},
   "outputs": [],
   "source": [
    "#new_cdc.groupby('358_cause_recode').count().orderBy('count').show()"
   ]
  },
  {
   "cell_type": "code",
   "execution_count": 54,
   "metadata": {},
   "outputs": [],
   "source": [
    "#cdc_pd = new_cdc.toPandas()"
   ]
  },
  {
   "cell_type": "code",
   "execution_count": 55,
   "metadata": {},
   "outputs": [],
   "source": [
    "#cdc_pd.info()"
   ]
  },
  {
   "cell_type": "code",
   "execution_count": 56,
   "metadata": {},
   "outputs": [],
   "source": [
    "#from xgboost import XGBClassifier\n",
    "#from sklearn.model_selection import train_test_split\n",
    "#from sklearn.metrics import accuracy_score"
   ]
  },
  {
   "cell_type": "code",
   "execution_count": 57,
   "metadata": {},
   "outputs": [],
   "source": [
    "#X = cdc_pd.drop(['358_cause_recode'], axis = 1)\n",
    "#Y = cdc_pd['358_cause_recode']"
   ]
  },
  {
   "cell_type": "code",
   "execution_count": 58,
   "metadata": {},
   "outputs": [],
   "source": [
    "#from sklearn.preprocessing import LabelEncoder\n",
    "#labelencoder = LabelEncoder()\n",
    "#x[:, 13] = labelencoder.fit_transform(x[:, 0])"
   ]
  },
  {
   "cell_type": "code",
   "execution_count": 59,
   "metadata": {},
   "outputs": [],
   "source": [
    "#X.values[:5]"
   ]
  },
  {
   "cell_type": "code",
   "execution_count": 60,
   "metadata": {},
   "outputs": [
    {
     "data": {
      "text/plain": [
       "'X.values[:,12] = labelencoder.fit_transform(X.values[:, 12])\\nX.values[:,13]= labelencoder.fit_transform(X.values[:, 13])\\nX.values[:,14]= labelencoder.fit_transform(X.values[:, 14])\\nX.values[:,15]= labelencoder.fit_transform(X.values[:, 15])\\nX.values[:,16]= labelencoder.fit_transform(X.values[:, 16])\\nX.values[:,17]= labelencoder.fit_transform(X.values[:, 17])\\nX.values[:,18]= labelencoder.fit_transform(X.values[:, 18])\\nX.values[:,19]= labelencoder.fit_transform(X.values[:, 19])'"
      ]
     },
     "execution_count": 60,
     "metadata": {},
     "output_type": "execute_result"
    }
   ],
   "source": [
    "'''X.values[:,12] = labelencoder.fit_transform(X.values[:, 12])\n",
    "X.values[:,13]= labelencoder.fit_transform(X.values[:, 13])\n",
    "X.values[:,14]= labelencoder.fit_transform(X.values[:, 14])\n",
    "X.values[:,15]= labelencoder.fit_transform(X.values[:, 15])\n",
    "X.values[:,16]= labelencoder.fit_transform(X.values[:, 16])\n",
    "X.values[:,17]= labelencoder.fit_transform(X.values[:, 17])\n",
    "X.values[:,18]= labelencoder.fit_transform(X.values[:, 18])\n",
    "X.values[:,19]= labelencoder.fit_transform(X.values[:, 19])'''"
   ]
  },
  {
   "cell_type": "code",
   "execution_count": 61,
   "metadata": {},
   "outputs": [
    {
     "data": {
      "text/plain": [
       "'X.values[:,2]= labelencoder.fit_transform(X.values[:, 2])\\nX.values[:,5]= labelencoder.fit_transform(X.values[:, 5])\\nX.values[:,6]= labelencoder.fit_transform(X.values[:, 6])\\nX.values[:,9]= labelencoder.fit_transform(X.values[:, 9])\\nX.values[:,19]= labelencoder.fit_transform(X.values[:, 19])'"
      ]
     },
     "execution_count": 61,
     "metadata": {},
     "output_type": "execute_result"
    }
   ],
   "source": [
    "'''X.values[:,2]= labelencoder.fit_transform(X.values[:, 2])\n",
    "X.values[:,5]= labelencoder.fit_transform(X.values[:, 5])\n",
    "X.values[:,6]= labelencoder.fit_transform(X.values[:, 6])\n",
    "X.values[:,9]= labelencoder.fit_transform(X.values[:, 9])\n",
    "X.values[:,19]= labelencoder.fit_transform(X.values[:, 19])'''"
   ]
  },
  {
   "cell_type": "code",
   "execution_count": 62,
   "metadata": {},
   "outputs": [],
   "source": [
    "#X.values[:,8]= labelencoder.fit_transform(X.values[:, 8])"
   ]
  },
  {
   "cell_type": "code",
   "execution_count": 63,
   "metadata": {},
   "outputs": [],
   "source": [
    "# split data into train and test sets\n",
    "#X = X.astype(float)\n",
    "#seed = 7\n",
    "#test_size = 0.33\n",
    "#X_train, X_test, y_train, y_test = train_test_split(X, Y, test_size=test_size, random_state=seed)"
   ]
  },
  {
   "cell_type": "code",
   "execution_count": 64,
   "metadata": {},
   "outputs": [],
   "source": [
    "# fit model no training data\n",
    "#model = XGBClassifier()\n",
    "#model.fit(X_train, y_train)"
   ]
  },
  {
   "cell_type": "code",
   "execution_count": 65,
   "metadata": {},
   "outputs": [],
   "source": [
    "# make predictions for test data\n",
    "#y_pred = model.predict(X_test)\n",
    "#predictions = [round(value) for value in y_pred]\n",
    "# evaluate predictions\n",
    "#accuracy = accuracy_score(y_test, predictions)\n",
    "#print(\"Accuracy: %.2f%%\" % (accuracy * 100.0))"
   ]
  },
  {
   "cell_type": "code",
   "execution_count": 66,
   "metadata": {},
   "outputs": [],
   "source": [
    "#print(model.feature_importances_)"
   ]
  },
  {
   "cell_type": "code",
   "execution_count": 67,
   "metadata": {},
   "outputs": [],
   "source": [
    "#from matplotlib import pyplot\n",
    "#pyplot.bar(range(len(model.feature_importances_)), model.feature_importances_)\n",
    "#pyplot.show()\n"
   ]
  },
  {
   "cell_type": "code",
   "execution_count": 71,
   "metadata": {},
   "outputs": [],
   "source": [
    "new_cdc = new_cdc.withColumn(\"suicide\", new_cdc[\"suicide\"].cast(StringType()))"
   ]
  },
  {
   "cell_type": "markdown",
   "metadata": {},
   "source": [
    "# Use stringindexer"
   ]
  },
  {
   "cell_type": "code",
   "execution_count": 76,
   "metadata": {},
   "outputs": [
    {
     "data": {
      "text/plain": [
       "'indexer = StringIndexer(inputCol=\"Place_of_death_and_decedents_status\", outputCol=\"Place_of_death_and_decedents_statusIndex\").fit(new_cdc)\\nnew_df = indexer.transform(new_cdc)\\nindexer = StringIndexer(inputCol=\"marital_status\", outputCol=\"marital_statusIndex\").fit(new_df)\\nnew_df = indexer.transform(new_df)\\nindexer = StringIndexer(inputCol=\"injury_at_work\", outputCol=\"injury_at_workIndex\").fit(new_df)\\nnew_df =indexer.transform(new_df)\\nindexer = StringIndexer(inputCol=\"autopsy\", outputCol=\"autopsyIndex\").fit(new_df)\\nnew_df =indexer.transform(new_df)\\nindexer = StringIndexer(inputCol=\"method_of_disposition\", outputCol=\"method_of_dispositionIndex\").fit(new_df)\\nnew_df =indexer.transform(new_df)\\nindexer = StringIndexer(inputCol=\"activity_code\", outputCol=\"activity_codeIndex\").fit(new_df)\\nnew_df = indexer.transform(new_df)\\nindexer = StringIndexer(inputCol=\"place_of_injury_for_causes_w00_y34_except_y06_and_y07_\", outputCol=\"place_of_injury_for_causes_w00_y34_except_y06_and_y07_Index\").fit(new_df)\\nnew_df = indexer.transform(new_df)\\nindexer = StringIndexer(inputCol=\"race\", outputCol=\"raceIndex\").fit(new_df)\\nnew_df =indexer.transform(new_df)\\nindexer = StringIndexer(inputCol=\"race_recode_3\", outputCol=\"race_recode_3Index\").fit(new_df)\\nnew_df =indexer.transform(new_df)'"
      ]
     },
     "execution_count": 76,
     "metadata": {},
     "output_type": "execute_result"
    }
   ],
   "source": [
    "indexer = StringIndexer(inputCol=\"resident_status\", outputCol=\"resident_statusIndex\").fit(new_dc)\n",
    "new_df = indexer.transform(new_dc)\n",
    "indexer = StringIndexer(inputCol=\"education_2003_revision\", outputCol=\"education_2003_revisionIndex\").fit(new_df)\n",
    "new_df = indexer.transform(new_df)\n",
    "indexer = StringIndexer(inputCol=\"sex\", outputCol=\"sexIndex\").fit(new_df)\n",
    "new_df =indexer.transform(new_df)\n",
    "indexer = StringIndexer(inputCol=\"age_recode_52\", outputCol=\"age_recode_52Index\").fit(new_df)\n",
    "new_df =indexer.transform(new_df)\n",
    "indexer = StringIndexer(inputCol=\"Place_of_death_and_decedents_status\", outputCol=\"Place_of_death_and_decedents_statusIndex\").fit(new_cdc)\n",
    "new_df = indexer.transform(new_cdc)\n",
    "indexer = StringIndexer(inputCol=\"marital_status\", outputCol=\"marital_statusIndex\").fit(new_df)\n",
    "new_df = indexer.transform(new_df)\n",
    "indexer = StringIndexer(inputCol=\"injury_at_work\", outputCol=\"injury_at_workIndex\").fit(new_df)\n",
    "new_df =indexer.transform(new_df)\n",
    "indexer = StringIndexer(inputCol=\"autopsy\", outputCol=\"autopsyIndex\").fit(new_df)\n",
    "new_df =indexer.transform(new_df)\n",
    "indexer = StringIndexer(inputCol=\"method_of_disposition\", outputCol=\"method_of_dispositionIndex\").fit(new_df)\n",
    "new_df =indexer.transform(new_df)\n",
    "indexer = StringIndexer(inputCol=\"activity_code\", outputCol=\"activity_codeIndex\").fit(new_df)\n",
    "new_df = indexer.transform(new_df)\n",
    "indexer = StringIndexer(inputCol=\"place_of_injury_for_causes_w00_y34_except_y06_and_y07_\", outputCol=\"place_of_injury_for_causes_w00_y34_except_y06_and_y07_Index\").fit(new_df)\n",
    "new_df = indexer.transform(new_df)\n",
    "indexer = StringIndexer(inputCol=\"race\", outputCol=\"raceIndex\").fit(new_df)\n",
    "new_df =indexer.transform(new_df)\n",
    "indexer = StringIndexer(inputCol=\"race_recode_3\", outputCol=\"race_recode_3Index\").fit(new_df)\n",
    "new_df =indexer.transform(new_df)"
   ]
  },
  {
   "cell_type": "code",
   "execution_count": 78,
   "metadata": {},
   "outputs": [],
   "source": [
    "indexer = OneHotEncoder(inputCol=\"resident_statusIndex\", outputCol=\"resident_statusVec\")\n",
    "new_df = indexer.transform(new_df)\n",
    "indexer = OneHotEncoder(inputCol=\"education_2003_revisionIndex\", outputCol=\"education_2003_revisionVec\")\n",
    "new_df = indexer.transform(new_df)\n",
    "indexer = OneHotEncoder(inputCol=\"sexIndex\", outputCol=\"sexVec\")\n",
    "new_df = indexer.transform(new_df)\n",
    "indexer = OneHotEncoder(inputCol=\"age_recode_52Index\", outputCol=\"age_recode_52Vec\")\n",
    "new_df = indexer.transform(new_df)\n",
    "indexer = OneHotEncoder(inputCol=\"Place_of_death_and_decedents_statusIndex\", outputCol=\"Place_of_death_and_decedents_statusVec\")\n",
    "new_df = indexer.transform(new_df)\n",
    "indexer = OneHotEncoder(inputCol=\"marital_statusIndex\", outputCol=\"marital_statusVec\")\n",
    "new_df = indexer.transform(new_df)\n",
    "indexer = OneHotEncoder(inputCol=\"injury_at_workIndex\", outputCol=\"injury_at_workVec\")\n",
    "new_df = indexer.transform(new_df)\n",
    "indexer = OneHotEncoder(inputCol=\"autopsyIndex\", outputCol=\"autopsyVec\")\n",
    "new_df = indexer.transform(new_df)\n",
    "indexer = OneHotEncoder(inputCol=\"method_of_dispositionIndex\", outputCol=\"method_of_dispositionVec\")\n",
    "new_df = indexer.transform(new_df)\n",
    "indexer = OneHotEncoder(inputCol=\"activity_codeIndex\", outputCol=\"activity_codeVec\")\n",
    "new_df = indexer.transform(new_df)\n",
    "indexer = OneHotEncoder(inputCol=\"place_of_injury_for_causes_w00_y34_except_y06_and_y07_Index\", outputCol=\"place_of_injury_for_causes_w00_y34_except_y06_and_y07_Vec\")\n",
    "new_df = indexer.transform(new_df)\n",
    "indexer = OneHotEncoder(inputCol=\"raceIndex\", outputCol=\"raceVec\")\n",
    "new_df =indexer.transform(new_df)\n",
    "indexer = OneHotEncoder(inputCol=\"race_recode_3Index\", outputCol=\"race_recode_3Vec\")\n",
    "new_df =indexer.transform(new_df)"
   ]
  },
  {
   "cell_type": "code",
   "execution_count": 105,
   "metadata": {},
   "outputs": [
    {
     "data": {
      "text/plain": [
       "['resident_status',\n",
       " 'education_2003_revision',\n",
       " 'sex',\n",
       " 'age_recode_52',\n",
       " 'Place_of_death_and_decedents_status',\n",
       " 'marital_status',\n",
       " 'injury_at_work',\n",
       " 'method_of_disposition',\n",
       " 'autopsy',\n",
       " 'activity_code',\n",
       " 'place_of_injury_for_causes_w00_y34_except_y06_and_y07_',\n",
       " 'race',\n",
       " 'race_recode_3',\n",
       " 'race_recode_5',\n",
       " 'hispanic_originrace_recode',\n",
       " 'suicide',\n",
       " 'Place_of_death_and_decedents_statusIndex',\n",
       " 'marital_statusIndex',\n",
       " 'injury_at_workIndex',\n",
       " 'autopsyIndex',\n",
       " 'method_of_dispositionIndex',\n",
       " 'activity_codeIndex',\n",
       " 'place_of_injury_for_causes_w00_y34_except_y06_and_y07_Index',\n",
       " 'raceIndex',\n",
       " 'race_recode_3Index',\n",
       " 'resident_statusIndex',\n",
       " 'education_2003_revisionIndex',\n",
       " 'sexIndex',\n",
       " 'age_recode_52Index',\n",
       " 'resident_statusVec',\n",
       " 'education_2003_revisionVec',\n",
       " 'sexVec',\n",
       " 'age_recode_52Vec',\n",
       " 'Place_of_death_and_decedents_statusVec',\n",
       " 'marital_statusVec',\n",
       " 'injury_at_workVec',\n",
       " 'autopsyVec',\n",
       " 'method_of_dispositionVec',\n",
       " 'activity_codeVec',\n",
       " 'place_of_injury_for_causes_w00_y34_except_y06_and_y07_Vec',\n",
       " 'raceVec',\n",
       " 'race_recode_3Vec',\n",
       " 'label',\n",
       " 'features']"
      ]
     },
     "execution_count": 105,
     "metadata": {},
     "output_type": "execute_result"
    }
   ],
   "source": [
    "new_df.columns"
   ]
  },
  {
   "cell_type": "code",
   "execution_count": 29,
   "metadata": {
    "scrolled": false
   },
   "outputs": [],
   "source": [
    "new_df1 = new_df.drop('resident_status','education_2003_revision','month_of_death','sex','age_recode_52','Place_of_death_and_decedents_status',\n",
    "                     'marital_status','day_of_week_of_death','current_data_year','injury_at_work','manner_of_death',\n",
    "                     'autopsy','activity_code','activity_code','place_of_injury_for_causes_w00_y34_except_y06_and_y07_','358_cause_recode',\n",
    "                     '113_cause_recode','130_infant_cause_recode','39_cause_recode','race','race_recode_3','race_recode_5','hispanic_originrace_recode')"
   ]
  },
  {
   "cell_type": "code",
   "execution_count": 118,
   "metadata": {},
   "outputs": [
    {
     "name": "stdout",
     "output_type": "stream",
     "text": [
      "root\n",
      " |-- resident_status: string (nullable = true)\n",
      " |-- education_2003_revision: string (nullable = true)\n",
      " |-- sex: string (nullable = true)\n",
      " |-- age_recode_52: string (nullable = true)\n",
      " |-- Place_of_death_and_decedents_status: string (nullable = false)\n",
      " |-- marital_status: string (nullable = true)\n",
      " |-- injury_at_work: string (nullable = true)\n",
      " |-- method_of_disposition: string (nullable = true)\n",
      " |-- autopsy: string (nullable = true)\n",
      " |-- activity_code: string (nullable = false)\n",
      " |-- place_of_injury_for_causes_w00_y34_except_y06_and_y07_: string (nullable = false)\n",
      " |-- race: string (nullable = true)\n",
      " |-- race_recode_3: string (nullable = true)\n",
      " |-- race_recode_5: string (nullable = true)\n",
      " |-- hispanic_originrace_recode: string (nullable = true)\n",
      " |-- suicide: integer (nullable = false)\n",
      " |-- Place_of_death_and_decedents_statusIndex: double (nullable = true)\n",
      " |-- marital_statusIndex: double (nullable = true)\n",
      " |-- injury_at_workIndex: double (nullable = true)\n",
      " |-- autopsyIndex: double (nullable = true)\n",
      " |-- method_of_dispositionIndex: double (nullable = true)\n",
      " |-- activity_codeIndex: double (nullable = true)\n",
      " |-- place_of_injury_for_causes_w00_y34_except_y06_and_y07_Index: double (nullable = true)\n",
      " |-- raceIndex: double (nullable = true)\n",
      " |-- race_recode_3Index: double (nullable = true)\n",
      " |-- resident_statusIndex: double (nullable = true)\n",
      " |-- education_2003_revisionIndex: double (nullable = true)\n",
      " |-- sexIndex: double (nullable = true)\n",
      " |-- age_recode_52Index: double (nullable = true)\n",
      " |-- resident_statusVec: vector (nullable = true)\n",
      " |-- education_2003_revisionVec: vector (nullable = true)\n",
      " |-- sexVec: vector (nullable = true)\n",
      " |-- age_recode_52Vec: vector (nullable = true)\n",
      " |-- Place_of_death_and_decedents_statusVec: vector (nullable = true)\n",
      " |-- marital_statusVec: vector (nullable = true)\n",
      " |-- injury_at_workVec: vector (nullable = true)\n",
      " |-- autopsyVec: vector (nullable = true)\n",
      " |-- method_of_dispositionVec: vector (nullable = true)\n",
      " |-- activity_codeVec: vector (nullable = true)\n",
      " |-- place_of_injury_for_causes_w00_y34_except_y06_and_y07_Vec: vector (nullable = true)\n",
      " |-- raceVec: vector (nullable = true)\n",
      " |-- race_recode_3Vec: vector (nullable = true)\n",
      " |-- label: double (nullable = true)\n",
      " |-- features: vector (nullable = true)\n",
      "\n"
     ]
    }
   ],
   "source": [
    "new_df.printSchema()"
   ]
  },
  {
   "cell_type": "code",
   "execution_count": 31,
   "metadata": {},
   "outputs": [],
   "source": [
    "new_df1 = new_df1.drop('resident_statusIndex','education_2003_revisionIndex','month_of_deathIndex','sexIndex','age_recode_52Index',\n",
    "                       'Place_of_death_and_decedents_statusIndex',\n",
    "                     'marital_statusIndex','day_of_week_of_deathIndex','current_data_yearIndex','injury_at_workIndex',\n",
    "                       'manner_of_deathIndex',\n",
    "                     'autopsyIndex','activity_codeIndex','activity_codeIndex',\n",
    "                       'place_of_injury_for_causes_w00_y34_except_y06_and_y07_Index','358_cause_recodeIndex',\n",
    "                     '113_cause_recodeIndex','130_infant_cause_recodeIndex','39_cause_recodeIndex','raceIndex',\n",
    "                       'race_recode_3Index','race_recode_5Index','hispanic_originrace_recodeIndex')"
   ]
  },
  {
   "cell_type": "code",
   "execution_count": 32,
   "metadata": {},
   "outputs": [],
   "source": [
    "#cols = new_df1.columns\n",
    "#ategorical_cols = cols.copy()\n",
    "#categorical_cols.remove('number_of_entity_axis_conditions')\n",
    "#categorical_cols.remove('number_of_record_axis_conditions')\n",
    "#categorical_cols.remove('suicide')"
   ]
  },
  {
   "cell_type": "code",
   "execution_count": 80,
   "metadata": {},
   "outputs": [],
   "source": [
    "#numeric_cols = ['number_of_entity_axis_conditions', 'number_of_record_axis_conditions']\n",
    "assemblerInputs = ['resident_statusVec',\n",
    " 'education_2003_revisionVec',\n",
    " 'sexVec',\n",
    " 'age_recode_52Vec',\n",
    " 'Place_of_death_and_decedents_statusVec',\n",
    " 'marital_statusVec',\n",
    " 'injury_at_workVec',\n",
    " 'autopsyVec',\n",
    " 'method_of_dispositionVec',\n",
    " 'activity_codeVec',\n",
    " 'place_of_injury_for_causes_w00_y34_except_y06_and_y07_Vec',\n",
    " 'raceVec',\n",
    " 'race_recode_3Vec']"
   ]
  },
  {
   "cell_type": "code",
   "execution_count": 81,
   "metadata": {},
   "outputs": [
    {
     "data": {
      "text/plain": [
       "['resident_statusVec',\n",
       " 'education_2003_revisionVec',\n",
       " 'sexVec',\n",
       " 'age_recode_52Vec',\n",
       " 'Place_of_death_and_decedents_statusVec',\n",
       " 'marital_statusVec',\n",
       " 'injury_at_workVec',\n",
       " 'autopsyVec',\n",
       " 'method_of_dispositionVec',\n",
       " 'activity_codeVec',\n",
       " 'place_of_injury_for_causes_w00_y34_except_y06_and_y07_Vec',\n",
       " 'raceVec',\n",
       " 'race_recode_3Vec']"
      ]
     },
     "execution_count": 81,
     "metadata": {},
     "output_type": "execute_result"
    }
   ],
   "source": [
    "assemblerInputs"
   ]
  },
  {
   "cell_type": "code",
   "execution_count": 35,
   "metadata": {},
   "outputs": [],
   "source": [
    "#unwanted = ['number_of_entity_axis_conditions','number_of_record_axis_conditions', '39_cause_recodeVec',\n",
    " #                     '130_infant_cause_recodeVec','113_cause_recodeVec',  'month_of_deathVec','current_data_yearVec']\n",
    "\n",
    "#assemblerInputs = [e for e in assemblerInputs if e not in unwanted]"
   ]
  },
  {
   "cell_type": "code",
   "execution_count": 84,
   "metadata": {},
   "outputs": [],
   "source": [
    "label_string_index = StringIndexer(inputCol=\"suicide\", outputCol=\"label\").fit(new_df)\n",
    "new_df = label_string_index.transform(new_df)"
   ]
  },
  {
   "cell_type": "code",
   "execution_count": 85,
   "metadata": {},
   "outputs": [],
   "source": [
    "assembler = VectorAssembler(inputCols=assemblerInputs, outputCol=\"features\")\n",
    "new_df = assembler.transform(new_df)  "
   ]
  },
  {
   "cell_type": "code",
   "execution_count": 86,
   "metadata": {},
   "outputs": [],
   "source": [
    "training, test = new_df.randomSplit([0.7, 0.3], seed = 11)\n",
    "\n",
    "# Run training algorithm to build the model\n",
    "#lrModel = LogisticRegression().fit(training)"
   ]
  },
  {
   "cell_type": "code",
   "execution_count": 92,
   "metadata": {},
   "outputs": [
    {
     "name": "stdout",
     "output_type": "stream",
     "text": [
      "Coefficients: [-0.042131078906297574,0.029149959227714243,0.006130124572996133,0.0013326199289400683,0.1961748425496155,-0.09215205622578627,-0.16255611665755132,0.13478432156231868,-0.06875327157424822,0.016703961313749377,-0.04894281345983757,-0.10979358864372828,0.1754544814271855,0.14659387087042025,0.11393806820772051,-0.10644488394501556,-0.05071589950693075,0.0600249266372091,0.004603456425884648,0.14536016406552182,-0.12583079374186365,-0.11234130686226547,-0.0823225522161746,-0.06557095292968328,-0.053932430924862385,-0.028583351563239694,-0.0006969609780372501,0.018552655327639035,-0.09219899138718816,-0.005778384125953754,-0.01859108177578447,-0.0030741326094232925,0.03862758611460665,0.02813038140897255,-0.0018946624038258999,-0.01733395994053962,-0.008096321243014265,-0.0044181237366271225,0.013727174511025078,0.005036653274217063,0.0010424721516789277,-0.015763562660550495,-0.005226405641104987,0.0003709284888385528,0.0005376522422949167,0.00015430169267307363,0.00021379389318425918,-6.04943958902537e-05,0.000275539825140514,0.0,2.282338831102872e-05,0.011367845129706847,-0.013978931407741448,-0.0063684924038915815,0.0,0.0,-0.365026441744587,0.1031127373004349,0.2899135720672138,0.1303744601400905,0.03247095509286337,0.03471512987077686,0.2666732906196963,-0.15178819200409988,-0.12962674918526848,-0.1206735431998574,-0.03687107669850246,-0.02535016575793096,0.4505276417476008,-0.5088833077669976,-0.22604199113310494,-0.004653924518181902,-0.06635314341175973,0.057238032529298134,0.007107893531292855,0.004116899255400414,0.020267077452923256,-0.0016253435796765399,0.024291560174588177,-0.2619063898593668,0.005918971463573711,0.32245389237206945,0.06096357273186292,0.03332096828938784,0.05344341201521462,0.018686242779213966,-0.03958296241441822,-0.00010733274519854974,-0.0007384385869044441,-0.39487271789751754,0.41954952806585616,-0.014665853614780403,0.036653108575201876,-0.002068971559836252,0.009319679322353646,0.008509522993944023,0.01932980283085669,-0.010062381848726924,0.003805782561735879,-0.001401560568791045,-0.012214539133815929,-0.004682652182257754,-0.39487271789751754,0.41954952806585616]\n",
      "Intercept: 0.14155836123834825\n"
     ]
    },
    {
     "data": {
      "text/plain": [
       "'#print(\"Coefficient Standard Errors: \" + str(summary.coefficientStandardErrors))\\n#print(\"T Values: \" + str(summary.tValues))\\nprint(\"P Values: \" + str(summary.pValues))\\nprint(\"Dispersion: \" + str(summary.dispersion))\\nprint(\"Null Deviance: \" + str(summary.nullDeviance))\\nprint(\"Residual Degree Of Freedom Null: \" + str(summary.residualDegreeOfFreedomNull))\\nprint(\"Deviance: \" + str(summary.deviance))\\nprint(\"Residual Degree Of Freedom: \" + str(summary.residualDegreeOfFreedom))\\nprint(\"AIC: \" + str(summary.aic))\\nprint(\"Deviance Residuals: \")\\nsummary.residuals().show()'"
      ]
     },
     "execution_count": 92,
     "metadata": {},
     "output_type": "execute_result"
    }
   ],
   "source": [
    "#from pyspark.ml.regression import GeneralizedLinearRegression\n",
    "#glr = GeneralizedLinearRegression(family=\"binomial\", link=\"logit\", maxIter=10, regParam=0.3)\n",
    "\n",
    "# Fit the model\n",
    "#model = glr.fit(training)\n",
    "\n",
    "# Print the coefficients and intercept for generalized linear regression model\n",
    "print(\"Coefficients: \" + str(model.coefficients))\n",
    "print(\"Intercept: \" + str(model.intercept))\n",
    "\n",
    "# Summarize the model over the training set and print out some metrics\n",
    "summary = model.summary\n",
    "'''#print(\"Coefficient Standard Errors: \" + str(summary.coefficientStandardErrors))\n",
    "#print(\"T Values: \" + str(summary.tValues))\n",
    "print(\"P Values: \" + str(summary.pValues))\n",
    "print(\"Dispersion: \" + str(summary.dispersion))\n",
    "print(\"Null Deviance: \" + str(summary.nullDeviance))\n",
    "print(\"Residual Degree Of Freedom Null: \" + str(summary.residualDegreeOfFreedomNull))\n",
    "print(\"Deviance: \" + str(summary.deviance))\n",
    "print(\"Residual Degree Of Freedom: \" + str(summary.residualDegreeOfFreedom))\n",
    "print(\"AIC: \" + str(summary.aic))\n",
    "print(\"Deviance Residuals: \")\n",
    "summary.residuals().show()'''"
   ]
  },
  {
   "cell_type": "code",
   "execution_count": 120,
   "metadata": {},
   "outputs": [
    {
     "data": {
      "text/plain": [
       "[{'idx': 0, 'name': 'resident_statusVec_1'},\n",
       " {'idx': 1, 'name': 'resident_statusVec_2'},\n",
       " {'idx': 2, 'name': 'resident_statusVec_3'},\n",
       " {'idx': 3, 'name': 'education_2003_revisionVec_3'},\n",
       " {'idx': 4, 'name': 'education_2003_revisionVec_2'},\n",
       " {'idx': 5, 'name': 'education_2003_revisionVec_4'},\n",
       " {'idx': 6, 'name': 'education_2003_revisionVec_6'},\n",
       " {'idx': 7, 'name': 'education_2003_revisionVec_1'},\n",
       " {'idx': 8, 'name': 'education_2003_revisionVec_5'},\n",
       " {'idx': 9, 'name': 'education_2003_revisionVec_9'},\n",
       " {'idx': 10, 'name': 'education_2003_revisionVec_7'},\n",
       " {'idx': 11, 'name': 'sexVec_M'},\n",
       " {'idx': 12, 'name': 'age_recode_52Vec_30'},\n",
       " {'idx': 13, 'name': 'age_recode_52Vec_31'},\n",
       " {'idx': 14, 'name': 'age_recode_52Vec_32'},\n",
       " {'idx': 15, 'name': 'age_recode_52Vec_36'},\n",
       " {'idx': 16, 'name': 'age_recode_52Vec_35'},\n",
       " {'idx': 17, 'name': 'age_recode_52Vec_33'},\n",
       " {'idx': 18, 'name': 'age_recode_52Vec_34'},\n",
       " {'idx': 19, 'name': 'age_recode_52Vec_29'},\n",
       " {'idx': 20, 'name': 'age_recode_52Vec_37'},\n",
       " {'idx': 21, 'name': 'age_recode_52Vec_38'},\n",
       " {'idx': 22, 'name': 'age_recode_52Vec_39'},\n",
       " {'idx': 23, 'name': 'age_recode_52Vec_40'},\n",
       " {'idx': 24, 'name': 'age_recode_52Vec_41'},\n",
       " {'idx': 25, 'name': 'age_recode_52Vec_42'},\n",
       " {'idx': 26, 'name': 'age_recode_52Vec_43'},\n",
       " {'idx': 27, 'name': 'age_recode_52Vec_28'},\n",
       " {'idx': 28, 'name': 'age_recode_52Vec_44'},\n",
       " {'idx': 29, 'name': 'age_recode_52Vec_27'},\n",
       " {'idx': 30, 'name': 'age_recode_52Vec_45'},\n",
       " {'idx': 31, 'name': 'age_recode_52Vec_25'},\n",
       " {'idx': 32, 'name': 'age_recode_52Vec_26'},\n",
       " {'idx': 33, 'name': 'age_recode_52Vec_24'},\n",
       " {'idx': 34, 'name': 'age_recode_52Vec_23'},\n",
       " {'idx': 35, 'name': 'age_recode_52Vec_52'},\n",
       " {'idx': 36, 'name': 'age_recode_52Vec_46'},\n",
       " {'idx': 37, 'name': 'age_recode_52Vec_20'},\n",
       " {'idx': 38, 'name': 'age_recode_52Vec_13'},\n",
       " {'idx': 39, 'name': 'age_recode_52Vec_17'},\n",
       " {'idx': 40, 'name': 'age_recode_52Vec_01'},\n",
       " {'idx': 41, 'name': 'age_recode_52Vec_19'},\n",
       " {'idx': 42, 'name': 'age_recode_52Vec_16'},\n",
       " {'idx': 43, 'name': 'age_recode_52Vec_14'},\n",
       " {'idx': 44, 'name': 'age_recode_52Vec_18'},\n",
       " {'idx': 45, 'name': 'age_recode_52Vec_12'},\n",
       " {'idx': 46, 'name': 'age_recode_52Vec_15'},\n",
       " {'idx': 47, 'name': 'age_recode_52Vec_22'},\n",
       " {'idx': 48, 'name': 'age_recode_52Vec_21'},\n",
       " {'idx': 49, 'name': 'age_recode_52Vec_03'},\n",
       " {'idx': 50, 'name': 'age_recode_52Vec_02'},\n",
       " {'idx': 51, 'name': 'age_recode_52Vec_47'},\n",
       " {'idx': 52, 'name': 'age_recode_52Vec_09'},\n",
       " {'idx': 53, 'name': 'age_recode_52Vec_11'},\n",
       " {'idx': 54, 'name': 'age_recode_52Vec_05'},\n",
       " {'idx': 55, 'name': 'age_recode_52Vec_04'},\n",
       " {'idx': 56, 'name': 'Place_of_death_and_decedents_statusVec_4'},\n",
       " {'idx': 57, 'name': 'Place_of_death_and_decedents_statusVec_7'},\n",
       " {'idx': 58, 'name': 'Place_of_death_and_decedents_statusVec_2'},\n",
       " {'idx': 59, 'name': 'Place_of_death_and_decedents_statusVec_1'},\n",
       " {'idx': 60, 'name': 'Place_of_death_and_decedents_statusVec_3'},\n",
       " {'idx': 61, 'name': 'Place_of_death_and_decedents_statusVec_6'},\n",
       " {'idx': 62, 'name': 'marital_statusVec_S'},\n",
       " {'idx': 63, 'name': 'marital_statusVec_M'},\n",
       " {'idx': 64, 'name': 'marital_statusVec_D'},\n",
       " {'idx': 65, 'name': 'marital_statusVec_W'},\n",
       " {'idx': 66, 'name': 'injury_at_workVec_N'},\n",
       " {'idx': 67, 'name': 'injury_at_workVec_U'},\n",
       " {'idx': 68, 'name': 'autopsyVec_Y'},\n",
       " {'idx': 69, 'name': 'autopsyVec_N'},\n",
       " {'idx': 70, 'name': 'method_of_dispositionVec_C'},\n",
       " {'idx': 71, 'name': 'method_of_dispositionVec_O'},\n",
       " {'idx': 72, 'name': 'activity_codeVec_9'},\n",
       " {'idx': 73, 'name': 'activity_codeVec_10'},\n",
       " {'idx': 74, 'name': 'activity_codeVec_8'},\n",
       " {'idx': 75, 'name': 'activity_codeVec_0'},\n",
       " {'idx': 76, 'name': 'activity_codeVec_2'},\n",
       " {'idx': 77, 'name': 'activity_codeVec_1'},\n",
       " {'idx': 78, 'name': 'activity_codeVec_4'},\n",
       " {'idx': 79,\n",
       "  'name': 'place_of_injury_for_causes_w00_y34_except_y06_and_y07_Vec_0'},\n",
       " {'idx': 80,\n",
       "  'name': 'place_of_injury_for_causes_w00_y34_except_y06_and_y07_Vec_8'},\n",
       " {'idx': 81,\n",
       "  'name': 'place_of_injury_for_causes_w00_y34_except_y06_and_y07_Vec_4'},\n",
       " {'idx': 82,\n",
       "  'name': 'place_of_injury_for_causes_w00_y34_except_y06_and_y07_Vec_9'},\n",
       " {'idx': 83,\n",
       "  'name': 'place_of_injury_for_causes_w00_y34_except_y06_and_y07_Vec_5'},\n",
       " {'idx': 84,\n",
       "  'name': 'place_of_injury_for_causes_w00_y34_except_y06_and_y07_Vec_10'},\n",
       " {'idx': 85,\n",
       "  'name': 'place_of_injury_for_causes_w00_y34_except_y06_and_y07_Vec_2'},\n",
       " {'idx': 86,\n",
       "  'name': 'place_of_injury_for_causes_w00_y34_except_y06_and_y07_Vec_7'},\n",
       " {'idx': 87,\n",
       "  'name': 'place_of_injury_for_causes_w00_y34_except_y06_and_y07_Vec_6'},\n",
       " {'idx': 88,\n",
       "  'name': 'place_of_injury_for_causes_w00_y34_except_y06_and_y07_Vec_1'},\n",
       " {'idx': 89, 'name': 'raceVec_01'},\n",
       " {'idx': 90, 'name': 'raceVec_02'},\n",
       " {'idx': 91, 'name': 'raceVec_03'},\n",
       " {'idx': 92, 'name': 'raceVec_68'},\n",
       " {'idx': 93, 'name': 'raceVec_07'},\n",
       " {'idx': 94, 'name': 'raceVec_18'},\n",
       " {'idx': 95, 'name': 'raceVec_04'},\n",
       " {'idx': 96, 'name': 'raceVec_48'},\n",
       " {'idx': 97, 'name': 'raceVec_28'},\n",
       " {'idx': 98, 'name': 'raceVec_78'},\n",
       " {'idx': 99, 'name': 'raceVec_05'},\n",
       " {'idx': 100, 'name': 'raceVec_38'},\n",
       " {'idx': 101, 'name': 'raceVec_06'},\n",
       " {'idx': 102, 'name': 'race_recode_3Vec_1'},\n",
       " {'idx': 103, 'name': 'race_recode_3Vec_3'}]"
      ]
     },
     "execution_count": 120,
     "metadata": {},
     "output_type": "execute_result"
    }
   ],
   "source": [
    "meta = [f.metadata \n",
    "    for f in new_df.schema.fields \n",
    "    if f.name == 'features'][0]\n",
    "features_name_ind = meta['ml_attr']['attrs']['binary']\n",
    "features_name_ind"
   ]
  },
  {
   "cell_type": "code",
   "execution_count": 133,
   "metadata": {},
   "outputs": [],
   "source": [
    "feature_names = []\n",
    "for i in model.featureImportances.indices:\n",
    "    feature_names.append(features_name_ind[i]['name'])"
   ]
  },
  {
   "cell_type": "code",
   "execution_count": 135,
   "metadata": {},
   "outputs": [
    {
     "data": {
      "text/plain": [
       "62"
      ]
     },
     "execution_count": 135,
     "metadata": {},
     "output_type": "execute_result"
    }
   ],
   "source": [
    "len(feature_names)"
   ]
  },
  {
   "cell_type": "code",
   "execution_count": 146,
   "metadata": {},
   "outputs": [
    {
     "data": {
      "text/html": [
       "<div>\n",
       "<style scoped>\n",
       "    .dataframe tbody tr th:only-of-type {\n",
       "        vertical-align: middle;\n",
       "    }\n",
       "\n",
       "    .dataframe tbody tr th {\n",
       "        vertical-align: top;\n",
       "    }\n",
       "\n",
       "    .dataframe thead th {\n",
       "        text-align: right;\n",
       "    }\n",
       "</style>\n",
       "<table border=\"1\" class=\"dataframe\">\n",
       "  <thead>\n",
       "    <tr style=\"text-align: right;\">\n",
       "      <th></th>\n",
       "      <th>feature_names</th>\n",
       "      <th>variable_imp</th>\n",
       "    </tr>\n",
       "  </thead>\n",
       "  <tbody>\n",
       "    <tr>\n",
       "      <th>54</th>\n",
       "      <td>raceVec_02</td>\n",
       "      <td>0.209822</td>\n",
       "    </tr>\n",
       "    <tr>\n",
       "      <th>53</th>\n",
       "      <td>raceVec_01</td>\n",
       "      <td>0.152422</td>\n",
       "    </tr>\n",
       "    <tr>\n",
       "      <th>61</th>\n",
       "      <td>race_recode_3Vec_3</td>\n",
       "      <td>0.100893</td>\n",
       "    </tr>\n",
       "    <tr>\n",
       "      <th>45</th>\n",
       "      <td>place_of_injury_for_causes_w00_y34_except_y06_...</td>\n",
       "      <td>0.096556</td>\n",
       "    </tr>\n",
       "    <tr>\n",
       "      <th>60</th>\n",
       "      <td>race_recode_3Vec_1</td>\n",
       "      <td>0.073787</td>\n",
       "    </tr>\n",
       "    <tr>\n",
       "      <th>39</th>\n",
       "      <td>autopsyVec_N</td>\n",
       "      <td>0.072708</td>\n",
       "    </tr>\n",
       "    <tr>\n",
       "      <th>47</th>\n",
       "      <td>place_of_injury_for_causes_w00_y34_except_y06_...</td>\n",
       "      <td>0.065462</td>\n",
       "    </tr>\n",
       "    <tr>\n",
       "      <th>30</th>\n",
       "      <td>Place_of_death_and_decedents_statusVec_2</td>\n",
       "      <td>0.041618</td>\n",
       "    </tr>\n",
       "    <tr>\n",
       "      <th>38</th>\n",
       "      <td>autopsyVec_Y</td>\n",
       "      <td>0.038952</td>\n",
       "    </tr>\n",
       "    <tr>\n",
       "      <th>28</th>\n",
       "      <td>Place_of_death_and_decedents_statusVec_4</td>\n",
       "      <td>0.032348</td>\n",
       "    </tr>\n",
       "    <tr>\n",
       "      <th>32</th>\n",
       "      <td>marital_statusVec_S</td>\n",
       "      <td>0.017844</td>\n",
       "    </tr>\n",
       "    <tr>\n",
       "      <th>40</th>\n",
       "      <td>method_of_dispositionVec_C</td>\n",
       "      <td>0.014326</td>\n",
       "    </tr>\n",
       "    <tr>\n",
       "      <th>43</th>\n",
       "      <td>activity_codeVec_10</td>\n",
       "      <td>0.014300</td>\n",
       "    </tr>\n",
       "    <tr>\n",
       "      <th>33</th>\n",
       "      <td>marital_statusVec_M</td>\n",
       "      <td>0.012407</td>\n",
       "    </tr>\n",
       "    <tr>\n",
       "      <th>50</th>\n",
       "      <td>place_of_injury_for_causes_w00_y34_except_y06_...</td>\n",
       "      <td>0.010375</td>\n",
       "    </tr>\n",
       "    <tr>\n",
       "      <th>17</th>\n",
       "      <td>age_recode_52Vec_29</td>\n",
       "      <td>0.007309</td>\n",
       "    </tr>\n",
       "    <tr>\n",
       "      <th>34</th>\n",
       "      <td>marital_statusVec_D</td>\n",
       "      <td>0.007132</td>\n",
       "    </tr>\n",
       "    <tr>\n",
       "      <th>42</th>\n",
       "      <td>activity_codeVec_9</td>\n",
       "      <td>0.004678</td>\n",
       "    </tr>\n",
       "    <tr>\n",
       "      <th>19</th>\n",
       "      <td>age_recode_52Vec_38</td>\n",
       "      <td>0.004227</td>\n",
       "    </tr>\n",
       "    <tr>\n",
       "      <th>3</th>\n",
       "      <td>education_2003_revisionVec_2</td>\n",
       "      <td>0.003804</td>\n",
       "    </tr>\n",
       "    <tr>\n",
       "      <th>10</th>\n",
       "      <td>sexVec_M</td>\n",
       "      <td>0.003377</td>\n",
       "    </tr>\n",
       "    <tr>\n",
       "      <th>11</th>\n",
       "      <td>age_recode_52Vec_30</td>\n",
       "      <td>0.002747</td>\n",
       "    </tr>\n",
       "    <tr>\n",
       "      <th>18</th>\n",
       "      <td>age_recode_52Vec_37</td>\n",
       "      <td>0.002582</td>\n",
       "    </tr>\n",
       "    <tr>\n",
       "      <th>5</th>\n",
       "      <td>education_2003_revisionVec_6</td>\n",
       "      <td>0.001279</td>\n",
       "    </tr>\n",
       "    <tr>\n",
       "      <th>0</th>\n",
       "      <td>resident_statusVec_1</td>\n",
       "      <td>0.001011</td>\n",
       "    </tr>\n",
       "    <tr>\n",
       "      <th>6</th>\n",
       "      <td>education_2003_revisionVec_1</td>\n",
       "      <td>0.000846</td>\n",
       "    </tr>\n",
       "    <tr>\n",
       "      <th>20</th>\n",
       "      <td>age_recode_52Vec_39</td>\n",
       "      <td>0.000818</td>\n",
       "    </tr>\n",
       "    <tr>\n",
       "      <th>29</th>\n",
       "      <td>Place_of_death_and_decedents_statusVec_7</td>\n",
       "      <td>0.000687</td>\n",
       "    </tr>\n",
       "    <tr>\n",
       "      <th>12</th>\n",
       "      <td>age_recode_52Vec_31</td>\n",
       "      <td>0.000640</td>\n",
       "    </tr>\n",
       "    <tr>\n",
       "      <th>41</th>\n",
       "      <td>method_of_dispositionVec_O</td>\n",
       "      <td>0.000627</td>\n",
       "    </tr>\n",
       "    <tr>\n",
       "      <th>...</th>\n",
       "      <td>...</td>\n",
       "      <td>...</td>\n",
       "    </tr>\n",
       "    <tr>\n",
       "      <th>21</th>\n",
       "      <td>age_recode_52Vec_40</td>\n",
       "      <td>0.000459</td>\n",
       "    </tr>\n",
       "    <tr>\n",
       "      <th>23</th>\n",
       "      <td>age_recode_52Vec_42</td>\n",
       "      <td>0.000457</td>\n",
       "    </tr>\n",
       "    <tr>\n",
       "      <th>22</th>\n",
       "      <td>age_recode_52Vec_41</td>\n",
       "      <td>0.000438</td>\n",
       "    </tr>\n",
       "    <tr>\n",
       "      <th>35</th>\n",
       "      <td>marital_statusVec_W</td>\n",
       "      <td>0.000417</td>\n",
       "    </tr>\n",
       "    <tr>\n",
       "      <th>55</th>\n",
       "      <td>raceVec_03</td>\n",
       "      <td>0.000306</td>\n",
       "    </tr>\n",
       "    <tr>\n",
       "      <th>37</th>\n",
       "      <td>injury_at_workVec_U</td>\n",
       "      <td>0.000250</td>\n",
       "    </tr>\n",
       "    <tr>\n",
       "      <th>13</th>\n",
       "      <td>age_recode_52Vec_32</td>\n",
       "      <td>0.000152</td>\n",
       "    </tr>\n",
       "    <tr>\n",
       "      <th>7</th>\n",
       "      <td>education_2003_revisionVec_5</td>\n",
       "      <td>0.000148</td>\n",
       "    </tr>\n",
       "    <tr>\n",
       "      <th>15</th>\n",
       "      <td>age_recode_52Vec_35</td>\n",
       "      <td>0.000112</td>\n",
       "    </tr>\n",
       "    <tr>\n",
       "      <th>31</th>\n",
       "      <td>Place_of_death_and_decedents_statusVec_1</td>\n",
       "      <td>0.000096</td>\n",
       "    </tr>\n",
       "    <tr>\n",
       "      <th>26</th>\n",
       "      <td>age_recode_52Vec_27</td>\n",
       "      <td>0.000079</td>\n",
       "    </tr>\n",
       "    <tr>\n",
       "      <th>14</th>\n",
       "      <td>age_recode_52Vec_36</td>\n",
       "      <td>0.000068</td>\n",
       "    </tr>\n",
       "    <tr>\n",
       "      <th>4</th>\n",
       "      <td>education_2003_revisionVec_4</td>\n",
       "      <td>0.000062</td>\n",
       "    </tr>\n",
       "    <tr>\n",
       "      <th>58</th>\n",
       "      <td>raceVec_28</td>\n",
       "      <td>0.000046</td>\n",
       "    </tr>\n",
       "    <tr>\n",
       "      <th>56</th>\n",
       "      <td>raceVec_68</td>\n",
       "      <td>0.000037</td>\n",
       "    </tr>\n",
       "    <tr>\n",
       "      <th>24</th>\n",
       "      <td>age_recode_52Vec_43</td>\n",
       "      <td>0.000027</td>\n",
       "    </tr>\n",
       "    <tr>\n",
       "      <th>2</th>\n",
       "      <td>resident_statusVec_3</td>\n",
       "      <td>0.000022</td>\n",
       "    </tr>\n",
       "    <tr>\n",
       "      <th>46</th>\n",
       "      <td>place_of_injury_for_causes_w00_y34_except_y06_...</td>\n",
       "      <td>0.000017</td>\n",
       "    </tr>\n",
       "    <tr>\n",
       "      <th>16</th>\n",
       "      <td>age_recode_52Vec_34</td>\n",
       "      <td>0.000016</td>\n",
       "    </tr>\n",
       "    <tr>\n",
       "      <th>9</th>\n",
       "      <td>education_2003_revisionVec_7</td>\n",
       "      <td>0.000015</td>\n",
       "    </tr>\n",
       "    <tr>\n",
       "      <th>8</th>\n",
       "      <td>education_2003_revisionVec_9</td>\n",
       "      <td>0.000015</td>\n",
       "    </tr>\n",
       "    <tr>\n",
       "      <th>36</th>\n",
       "      <td>injury_at_workVec_N</td>\n",
       "      <td>0.000013</td>\n",
       "    </tr>\n",
       "    <tr>\n",
       "      <th>27</th>\n",
       "      <td>age_recode_52Vec_45</td>\n",
       "      <td>0.000011</td>\n",
       "    </tr>\n",
       "    <tr>\n",
       "      <th>59</th>\n",
       "      <td>raceVec_05</td>\n",
       "      <td>0.000011</td>\n",
       "    </tr>\n",
       "    <tr>\n",
       "      <th>49</th>\n",
       "      <td>place_of_injury_for_causes_w00_y34_except_y06_...</td>\n",
       "      <td>0.000010</td>\n",
       "    </tr>\n",
       "    <tr>\n",
       "      <th>51</th>\n",
       "      <td>place_of_injury_for_causes_w00_y34_except_y06_...</td>\n",
       "      <td>0.000004</td>\n",
       "    </tr>\n",
       "    <tr>\n",
       "      <th>52</th>\n",
       "      <td>place_of_injury_for_causes_w00_y34_except_y06_...</td>\n",
       "      <td>0.000004</td>\n",
       "    </tr>\n",
       "    <tr>\n",
       "      <th>44</th>\n",
       "      <td>activity_codeVec_1</td>\n",
       "      <td>0.000003</td>\n",
       "    </tr>\n",
       "    <tr>\n",
       "      <th>25</th>\n",
       "      <td>age_recode_52Vec_28</td>\n",
       "      <td>0.000002</td>\n",
       "    </tr>\n",
       "    <tr>\n",
       "      <th>57</th>\n",
       "      <td>raceVec_18</td>\n",
       "      <td>0.000001</td>\n",
       "    </tr>\n",
       "  </tbody>\n",
       "</table>\n",
       "<p>62 rows × 2 columns</p>\n",
       "</div>"
      ],
      "text/plain": [
       "                                        feature_names  variable_imp\n",
       "54                                         raceVec_02      0.209822\n",
       "53                                         raceVec_01      0.152422\n",
       "61                                 race_recode_3Vec_3      0.100893\n",
       "45  place_of_injury_for_causes_w00_y34_except_y06_...      0.096556\n",
       "60                                 race_recode_3Vec_1      0.073787\n",
       "39                                       autopsyVec_N      0.072708\n",
       "47  place_of_injury_for_causes_w00_y34_except_y06_...      0.065462\n",
       "30           Place_of_death_and_decedents_statusVec_2      0.041618\n",
       "38                                       autopsyVec_Y      0.038952\n",
       "28           Place_of_death_and_decedents_statusVec_4      0.032348\n",
       "32                                marital_statusVec_S      0.017844\n",
       "40                         method_of_dispositionVec_C      0.014326\n",
       "43                                activity_codeVec_10      0.014300\n",
       "33                                marital_statusVec_M      0.012407\n",
       "50  place_of_injury_for_causes_w00_y34_except_y06_...      0.010375\n",
       "17                                age_recode_52Vec_29      0.007309\n",
       "34                                marital_statusVec_D      0.007132\n",
       "42                                 activity_codeVec_9      0.004678\n",
       "19                                age_recode_52Vec_38      0.004227\n",
       "3                        education_2003_revisionVec_2      0.003804\n",
       "10                                           sexVec_M      0.003377\n",
       "11                                age_recode_52Vec_30      0.002747\n",
       "18                                age_recode_52Vec_37      0.002582\n",
       "5                        education_2003_revisionVec_6      0.001279\n",
       "0                                resident_statusVec_1      0.001011\n",
       "6                        education_2003_revisionVec_1      0.000846\n",
       "20                                age_recode_52Vec_39      0.000818\n",
       "29           Place_of_death_and_decedents_statusVec_7      0.000687\n",
       "12                                age_recode_52Vec_31      0.000640\n",
       "41                         method_of_dispositionVec_O      0.000627\n",
       "..                                                ...           ...\n",
       "21                                age_recode_52Vec_40      0.000459\n",
       "23                                age_recode_52Vec_42      0.000457\n",
       "22                                age_recode_52Vec_41      0.000438\n",
       "35                                marital_statusVec_W      0.000417\n",
       "55                                         raceVec_03      0.000306\n",
       "37                                injury_at_workVec_U      0.000250\n",
       "13                                age_recode_52Vec_32      0.000152\n",
       "7                        education_2003_revisionVec_5      0.000148\n",
       "15                                age_recode_52Vec_35      0.000112\n",
       "31           Place_of_death_and_decedents_statusVec_1      0.000096\n",
       "26                                age_recode_52Vec_27      0.000079\n",
       "14                                age_recode_52Vec_36      0.000068\n",
       "4                        education_2003_revisionVec_4      0.000062\n",
       "58                                         raceVec_28      0.000046\n",
       "56                                         raceVec_68      0.000037\n",
       "24                                age_recode_52Vec_43      0.000027\n",
       "2                                resident_statusVec_3      0.000022\n",
       "46  place_of_injury_for_causes_w00_y34_except_y06_...      0.000017\n",
       "16                                age_recode_52Vec_34      0.000016\n",
       "9                        education_2003_revisionVec_7      0.000015\n",
       "8                        education_2003_revisionVec_9      0.000015\n",
       "36                                injury_at_workVec_N      0.000013\n",
       "27                                age_recode_52Vec_45      0.000011\n",
       "59                                         raceVec_05      0.000011\n",
       "49  place_of_injury_for_causes_w00_y34_except_y06_...      0.000010\n",
       "51  place_of_injury_for_causes_w00_y34_except_y06_...      0.000004\n",
       "52  place_of_injury_for_causes_w00_y34_except_y06_...      0.000004\n",
       "44                                 activity_codeVec_1      0.000003\n",
       "25                                age_recode_52Vec_28      0.000002\n",
       "57                                         raceVec_18      0.000001\n",
       "\n",
       "[62 rows x 2 columns]"
      ]
     },
     "execution_count": 146,
     "metadata": {},
     "output_type": "execute_result"
    }
   ],
   "source": [
    "df_values = [('feature_names', feature_names), ('variable_imp', model.featureImportances.values)]\n",
    "inference_df = pd.DataFrame.from_items(df_values)\n",
    "inference_df.sort_values(by = 'variable_imp', ascending= False)"
   ]
  },
  {
   "cell_type": "code",
   "execution_count": 97,
   "metadata": {},
   "outputs": [],
   "source": [
    "from pyspark.ml.classification import RandomForestClassifier\n",
    "\n",
    "rf = RandomForestClassifier(labelCol=\"label\", featuresCol=\"features\", numTrees=10)\n",
    "\n",
    "# Train model.  This also runs the indexers.\n",
    "model = rf.fit(training)\n",
    "\n",
    "# Make predictions.\n",
    "predictions = model.transform(test)\n"
   ]
  },
  {
   "cell_type": "code",
   "execution_count": 103,
   "metadata": {},
   "outputs": [
    {
     "name": "stderr",
     "output_type": "stream",
     "text": [
      "Exception ignored in: <object repr() failed>\n",
      "Traceback (most recent call last):\n",
      "  File \"/home/ec2-user/anaconda3/envs/python3/lib/python3.6/site-packages/pyspark/ml/wrapper.py\", line 105, in __del__\n",
      "    SparkContext._active_spark_context._gateway.detach(self._java_obj)\n",
      "AttributeError: 'MulticlassClassificationEvaluator' object has no attribute '_java_obj'\n"
     ]
    },
    {
     "name": "stdout",
     "output_type": "stream",
     "text": [
      "AUC= 0.793773\n"
     ]
    }
   ],
   "source": [
    "from pyspark.ml.evaluation import BinaryClassificationEvaluator\n",
    "\n",
    "#accuracy = evaluator.evaluate(predictions)\n",
    "#print(\"Test Error = %g\" % (1.0 - accuracy))\n",
    "\n",
    "evaluator = BinaryClassificationEvaluator(\n",
    "    labelCol=\"label\", rawPredictionCol=\"prediction\")\n",
    "\n",
    "auc = evaluator.evaluate(predictions)\n",
    "print(\"AUC= %g\" % (auc))\n",
    "\n",
    "#rfModel = model.stages[2]\n",
    "#print()  # summary only\n"
   ]
  },
  {
   "cell_type": "code",
   "execution_count": 110,
   "metadata": {},
   "outputs": [],
   "source": [
    "selected = predictions.select(\"label\", \"prediction\", \"probability\")"
   ]
  },
  {
   "cell_type": "code",
   "execution_count": 130,
   "metadata": {},
   "outputs": [
    {
     "data": {
      "text/plain": [
       "0.0038043378849072227"
      ]
     },
     "execution_count": 130,
     "metadata": {},
     "output_type": "execute_result"
    }
   ],
   "source": [
    "model.featureImportances[4]"
   ]
  },
  {
   "cell_type": "code",
   "execution_count": null,
   "metadata": {},
   "outputs": [],
   "source": [
    "meta = [f.metadata \n",
    "    for f in preppedDataDF.schema.fields \n",
    "    if f.name == 'features'][0]\n",
    "features_name_ind = meta['ml_attr']['attrs']['binary']\n",
    "features_name_ind"
   ]
  },
  {
   "cell_type": "code",
   "execution_count": 111,
   "metadata": {},
   "outputs": [],
   "source": [
    "tp = selected.where(selected[\"label\"] == 1).where(selected[\"prediction\"] == 1).count()\n",
    "tn = selected.where(selected[\"label\"] == 0).where(selected[\"prediction\"] == 0).count()\n",
    "fp = selected.where(selected[\"label\"] == 0).where(selected[\"prediction\"] == 1).count()\n",
    "fn = selected.where(selected[\"label\"] == 1).where(selected[\"prediction\"] == 0).count()"
   ]
  },
  {
   "cell_type": "code",
   "execution_count": 112,
   "metadata": {},
   "outputs": [
    {
     "data": {
      "text/plain": [
       "82.18496735053026"
      ]
     },
     "execution_count": 112,
     "metadata": {},
     "output_type": "execute_result"
    }
   ],
   "source": [
    "accuracy = (tp + tn) * 100 / (tp + tn + fp + fn)\n",
    "accuracy"
   ]
  },
  {
   "cell_type": "code",
   "execution_count": 113,
   "metadata": {},
   "outputs": [
    {
     "data": {
      "text/plain": [
       "0.8780351313539562"
      ]
     },
     "execution_count": 113,
     "metadata": {},
     "output_type": "execute_result"
    }
   ],
   "source": [
    "precision = tp / (tp + fp)\n",
    "precision"
   ]
  },
  {
   "cell_type": "code",
   "execution_count": 114,
   "metadata": {},
   "outputs": [
    {
     "data": {
      "text/plain": [
       "0.6484513121943379"
      ]
     },
     "execution_count": 114,
     "metadata": {},
     "output_type": "execute_result"
    }
   ],
   "source": [
    "recall = tp / (tp + fn)\n",
    "recall"
   ]
  },
  {
   "cell_type": "code",
   "execution_count": 115,
   "metadata": {},
   "outputs": [
    {
     "data": {
      "text/plain": [
       "0.7459784991679654"
      ]
     },
     "execution_count": 115,
     "metadata": {},
     "output_type": "execute_result"
    }
   ],
   "source": [
    "f1_score = 2 * precision * recall / (precision + recall)\n",
    "f1_score"
   ]
  },
  {
   "cell_type": "code",
   "execution_count": 136,
   "metadata": {},
   "outputs": [
    {
     "data": {
      "text/plain": [
       "62"
      ]
     },
     "execution_count": 136,
     "metadata": {},
     "output_type": "execute_result"
    }
   ],
   "source": [
    "len(model.featureImportances.indices)"
   ]
  },
  {
   "cell_type": "code",
   "execution_count": 106,
   "metadata": {},
   "outputs": [
    {
     "data": {
      "text/plain": [
       "SparseVector(104, {0: 0.001, 1: 0.0005, 2: 0.0, 4: 0.0038, 5: 0.0001, 6: 0.0013, 7: 0.0008, 8: 0.0001, 9: 0.0, 10: 0.0, 11: 0.0034, 12: 0.0027, 13: 0.0006, 14: 0.0002, 15: 0.0001, 16: 0.0001, 18: 0.0, 19: 0.0073, 20: 0.0026, 21: 0.0042, 22: 0.0008, 23: 0.0005, 24: 0.0004, 25: 0.0005, 26: 0.0, 27: 0.0, 29: 0.0001, 30: 0.0, 56: 0.0323, 57: 0.0007, 58: 0.0416, 59: 0.0001, 62: 0.0178, 63: 0.0124, 64: 0.0071, 65: 0.0004, 66: 0.0, 67: 0.0002, 68: 0.039, 69: 0.0727, 70: 0.0143, 71: 0.0006, 72: 0.0047, 73: 0.0143, 77: 0.0, 79: 0.0966, 80: 0.0, 81: 0.0655, 82: 0.0006, 83: 0.0, 84: 0.0104, 86: 0.0, 88: 0.0, 89: 0.1524, 90: 0.2098, 91: 0.0003, 92: 0.0, 94: 0.0, 97: 0.0, 99: 0.0, 102: 0.0738, 103: 0.1009})"
      ]
     },
     "execution_count": 106,
     "metadata": {},
     "output_type": "execute_result"
    }
   ],
   "source": [
    "model.featureImportances"
   ]
  }
 ],
 "metadata": {
  "kernelspec": {
   "display_name": "conda_python3",
   "language": "python",
   "name": "conda_python3"
  },
  "language_info": {
   "codemirror_mode": {
    "name": "ipython",
    "version": 3
   },
   "file_extension": ".py",
   "mimetype": "text/x-python",
   "name": "python",
   "nbconvert_exporter": "python",
   "pygments_lexer": "ipython3",
   "version": "3.6.5"
  }
 },
 "nbformat": 4,
 "nbformat_minor": 2
}
